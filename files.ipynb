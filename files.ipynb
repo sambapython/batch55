{
 "cells": [
  {
   "cell_type": "code",
   "execution_count": 1,
   "metadata": {},
   "outputs": [
    {
     "data": {
      "text/plain": [
       "'/home/khyaathipython/batch55'"
      ]
     },
     "execution_count": 1,
     "metadata": {},
     "output_type": "execute_result"
    }
   ],
   "source": [
    "pwd"
   ]
  },
  {
   "cell_type": "code",
   "execution_count": 2,
   "metadata": {},
   "outputs": [],
   "source": [
    "f=open(\"data.csv\",\"w\")"
   ]
  },
  {
   "cell_type": "code",
   "execution_count": 3,
   "metadata": {},
   "outputs": [
    {
     "data": {
      "text/plain": [
       "14"
      ]
     },
     "execution_count": 3,
     "metadata": {},
     "output_type": "execute_result"
    }
   ],
   "source": [
    "f.write(\"some content..\")"
   ]
  },
  {
   "cell_type": "code",
   "execution_count": 4,
   "metadata": {},
   "outputs": [],
   "source": [
    "f.close()"
   ]
  },
  {
   "cell_type": "code",
   "execution_count": 5,
   "metadata": {},
   "outputs": [
    {
     "ename": "ValueError",
     "evalue": "I/O operation on closed file.",
     "output_type": "error",
     "traceback": [
      "\u001b[0;31m---------------------------------------------------------------------------\u001b[0m",
      "\u001b[0;31mValueError\u001b[0m                                Traceback (most recent call last)",
      "\u001b[0;32m<ipython-input-5-14d2c7d9ec99>\u001b[0m in \u001b[0;36m<module>\u001b[0;34m()\u001b[0m\n\u001b[0;32m----> 1\u001b[0;31m \u001b[0mf\u001b[0m\u001b[0;34m.\u001b[0m\u001b[0mwrite\u001b[0m\u001b[0;34m(\u001b[0m\u001b[0;34m\"some more content\"\u001b[0m\u001b[0;34m)\u001b[0m\u001b[0;34m\u001b[0m\u001b[0m\n\u001b[0m",
      "\u001b[0;31mValueError\u001b[0m: I/O operation on closed file."
     ]
    }
   ],
   "source": [
    "f.write(\"some more content\")"
   ]
  },
  {
   "cell_type": "code",
   "execution_count": 6,
   "metadata": {},
   "outputs": [],
   "source": [
    "f=open(\"data.csv\",\"w\")"
   ]
  },
  {
   "cell_type": "code",
   "execution_count": 7,
   "metadata": {},
   "outputs": [
    {
     "data": {
      "text/plain": [
       "12"
      ]
     },
     "execution_count": 7,
     "metadata": {},
     "output_type": "execute_result"
    }
   ],
   "source": [
    "f.write(\"some content\")"
   ]
  },
  {
   "cell_type": "code",
   "execution_count": 8,
   "metadata": {},
   "outputs": [],
   "source": [
    "f.flush()"
   ]
  },
  {
   "cell_type": "code",
   "execution_count": 9,
   "metadata": {},
   "outputs": [
    {
     "data": {
      "text/plain": [
       "18"
      ]
     },
     "execution_count": 9,
     "metadata": {},
     "output_type": "execute_result"
    }
   ],
   "source": [
    "f.write(\"some more content\")\n",
    "f.write(\"end of the content\")"
   ]
  },
  {
   "cell_type": "code",
   "execution_count": 10,
   "metadata": {},
   "outputs": [],
   "source": [
    "f.flush()"
   ]
  },
  {
   "cell_type": "code",
   "execution_count": 12,
   "metadata": {},
   "outputs": [
    {
     "data": {
      "text/plain": [
       "13"
      ]
     },
     "execution_count": 12,
     "metadata": {},
     "output_type": "execute_result"
    }
   ],
   "source": [
    "f.write(\"\\n thank you..\")"
   ]
  },
  {
   "cell_type": "code",
   "execution_count": 13,
   "metadata": {},
   "outputs": [],
   "source": [
    "f.flush()"
   ]
  },
  {
   "cell_type": "code",
   "execution_count": 14,
   "metadata": {},
   "outputs": [],
   "source": [
    "f=open(\"data.csv\",\"a\")"
   ]
  },
  {
   "cell_type": "code",
   "execution_count": 15,
   "metadata": {},
   "outputs": [
    {
     "data": {
      "text/plain": [
       "27"
      ]
     },
     "execution_count": 15,
     "metadata": {},
     "output_type": "execute_result"
    }
   ],
   "source": [
    "f.write(\"writing data in append mode\")"
   ]
  },
  {
   "cell_type": "code",
   "execution_count": 16,
   "metadata": {},
   "outputs": [],
   "source": [
    "f.close()"
   ]
  },
  {
   "cell_type": "code",
   "execution_count": 17,
   "metadata": {},
   "outputs": [],
   "source": [
    "f=open(\"data1.csv\",\"a\")"
   ]
  },
  {
   "cell_type": "code",
   "execution_count": 18,
   "metadata": {},
   "outputs": [
    {
     "ename": "TypeError",
     "evalue": "write() argument must be str, not list",
     "output_type": "error",
     "traceback": [
      "\u001b[0;31m---------------------------------------------------------------------------\u001b[0m",
      "\u001b[0;31mTypeError\u001b[0m                                 Traceback (most recent call last)",
      "\u001b[0;32m<ipython-input-18-b062d947c083>\u001b[0m in \u001b[0;36m<module>\u001b[0;34m()\u001b[0m\n\u001b[1;32m      1\u001b[0m \u001b[0ml\u001b[0m\u001b[0;34m=\u001b[0m\u001b[0;34m[\u001b[0m\u001b[0;34m\"jay\"\u001b[0m\u001b[0;34m,\u001b[0m\u001b[0;34m\"sai\"\u001b[0m\u001b[0;34m,\u001b[0m\u001b[0;34m\"samba\"\u001b[0m\u001b[0;34m,\u001b[0m\u001b[0;34m\"vedha\"\u001b[0m\u001b[0;34m,\u001b[0m\u001b[0;34m\"dhana\"\u001b[0m\u001b[0;34m]\u001b[0m\u001b[0;34m\u001b[0m\u001b[0m\n\u001b[0;32m----> 2\u001b[0;31m \u001b[0mf\u001b[0m\u001b[0;34m.\u001b[0m\u001b[0mwrite\u001b[0m\u001b[0;34m(\u001b[0m\u001b[0ml\u001b[0m\u001b[0;34m)\u001b[0m\u001b[0;34m\u001b[0m\u001b[0m\n\u001b[0m",
      "\u001b[0;31mTypeError\u001b[0m: write() argument must be str, not list"
     ]
    }
   ],
   "source": [
    "l=[\"jay\",\"sai\",\"samba\",\"vedha\",\"dhana\"]\n",
    "f.write(l)"
   ]
  },
  {
   "cell_type": "code",
   "execution_count": 19,
   "metadata": {},
   "outputs": [],
   "source": [
    "l=[\"jay\",\"sai\",\"samba\",\"vedha\",\"dhana\"]\n",
    "f.writelines(l)"
   ]
  },
  {
   "cell_type": "code",
   "execution_count": 20,
   "metadata": {},
   "outputs": [],
   "source": [
    "f.close()"
   ]
  },
  {
   "cell_type": "code",
   "execution_count": 1,
   "metadata": {},
   "outputs": [
    {
     "ename": "TypeError",
     "evalue": "write() argument must be str, not list",
     "output_type": "error",
     "traceback": [
      "\u001b[0;31m---------------------------------------------------------------------------\u001b[0m",
      "\u001b[0;31mTypeError\u001b[0m                                 Traceback (most recent call last)",
      "\u001b[0;32m<ipython-input-1-8805708f757a>\u001b[0m in \u001b[0;36m<module>\u001b[0;34m()\u001b[0m\n\u001b[1;32m      1\u001b[0m \u001b[0mf\u001b[0m\u001b[0;34m=\u001b[0m\u001b[0mopen\u001b[0m\u001b[0;34m(\u001b[0m\u001b[0;34m\"data.csv\"\u001b[0m\u001b[0;34m,\u001b[0m\u001b[0;34m\"w\"\u001b[0m\u001b[0;34m)\u001b[0m\u001b[0;34m\u001b[0m\u001b[0m\n\u001b[1;32m      2\u001b[0m \u001b[0mdata\u001b[0m \u001b[0;34m=\u001b[0m \u001b[0;34m[\u001b[0m\u001b[0;34m{\u001b[0m\u001b[0;34m\"name\"\u001b[0m\u001b[0;34m:\u001b[0m\u001b[0;34m\"sai\"\u001b[0m\u001b[0;34m,\u001b[0m\u001b[0;34m\"id\"\u001b[0m\u001b[0;34m:\u001b[0m\u001b[0;36m1\u001b[0m\u001b[0;34m}\u001b[0m\u001b[0;34m,\u001b[0m\u001b[0;34m{\u001b[0m\u001b[0;34m\"name\"\u001b[0m\u001b[0;34m:\u001b[0m\u001b[0;34m\"samba\"\u001b[0m\u001b[0;34m,\u001b[0m\u001b[0;34m\"id\"\u001b[0m\u001b[0;34m:\u001b[0m\u001b[0;36m2\u001b[0m\u001b[0;34m}\u001b[0m\u001b[0;34m,\u001b[0m\u001b[0;34m{\u001b[0m\u001b[0;34m\"name\"\u001b[0m\u001b[0;34m:\u001b[0m\u001b[0;34m\"jay\"\u001b[0m\u001b[0;34m,\u001b[0m\u001b[0;34m\"id\"\u001b[0m\u001b[0;34m:\u001b[0m\u001b[0;36m3\u001b[0m\u001b[0;34m}\u001b[0m\u001b[0;34m]\u001b[0m\u001b[0;34m\u001b[0m\u001b[0m\n\u001b[0;32m----> 3\u001b[0;31m \u001b[0mf\u001b[0m\u001b[0;34m.\u001b[0m\u001b[0mwrite\u001b[0m\u001b[0;34m(\u001b[0m\u001b[0mdata\u001b[0m\u001b[0;34m)\u001b[0m\u001b[0;34m\u001b[0m\u001b[0m\n\u001b[0m",
      "\u001b[0;31mTypeError\u001b[0m: write() argument must be str, not list"
     ]
    }
   ],
   "source": [
    "f=open(\"data.csv\",\"w\")\n",
    "data = [{\"name\":\"sai\",\"id\":1},{\"name\":\"samba\",\"id\":2},{\"name\":\"jay\",\"id\":3}]\n",
    "f.write(data)"
   ]
  },
  {
   "cell_type": "code",
   "execution_count": 2,
   "metadata": {},
   "outputs": [
    {
     "ename": "TypeError",
     "evalue": "write() argument must be str, not dict",
     "output_type": "error",
     "traceback": [
      "\u001b[0;31m---------------------------------------------------------------------------\u001b[0m",
      "\u001b[0;31mTypeError\u001b[0m                                 Traceback (most recent call last)",
      "\u001b[0;32m<ipython-input-2-7b045337fac9>\u001b[0m in \u001b[0;36m<module>\u001b[0;34m()\u001b[0m\n\u001b[1;32m      1\u001b[0m \u001b[0mf\u001b[0m\u001b[0;34m=\u001b[0m\u001b[0mopen\u001b[0m\u001b[0;34m(\u001b[0m\u001b[0;34m\"data.csv\"\u001b[0m\u001b[0;34m,\u001b[0m\u001b[0;34m\"w\"\u001b[0m\u001b[0;34m)\u001b[0m\u001b[0;34m\u001b[0m\u001b[0m\n\u001b[1;32m      2\u001b[0m \u001b[0mdata\u001b[0m \u001b[0;34m=\u001b[0m \u001b[0;34m[\u001b[0m\u001b[0;34m{\u001b[0m\u001b[0;34m\"name\"\u001b[0m\u001b[0;34m:\u001b[0m\u001b[0;34m\"sai\"\u001b[0m\u001b[0;34m,\u001b[0m\u001b[0;34m\"id\"\u001b[0m\u001b[0;34m:\u001b[0m\u001b[0;36m1\u001b[0m\u001b[0;34m}\u001b[0m\u001b[0;34m,\u001b[0m\u001b[0;34m{\u001b[0m\u001b[0;34m\"name\"\u001b[0m\u001b[0;34m:\u001b[0m\u001b[0;34m\"samba\"\u001b[0m\u001b[0;34m,\u001b[0m\u001b[0;34m\"id\"\u001b[0m\u001b[0;34m:\u001b[0m\u001b[0;36m2\u001b[0m\u001b[0;34m}\u001b[0m\u001b[0;34m,\u001b[0m\u001b[0;34m{\u001b[0m\u001b[0;34m\"name\"\u001b[0m\u001b[0;34m:\u001b[0m\u001b[0;34m\"jay\"\u001b[0m\u001b[0;34m,\u001b[0m\u001b[0;34m\"id\"\u001b[0m\u001b[0;34m:\u001b[0m\u001b[0;36m3\u001b[0m\u001b[0;34m}\u001b[0m\u001b[0;34m]\u001b[0m\u001b[0;34m\u001b[0m\u001b[0m\n\u001b[0;32m----> 3\u001b[0;31m \u001b[0mf\u001b[0m\u001b[0;34m.\u001b[0m\u001b[0mwritelines\u001b[0m\u001b[0;34m(\u001b[0m\u001b[0mdata\u001b[0m\u001b[0;34m)\u001b[0m\u001b[0;34m\u001b[0m\u001b[0m\n\u001b[0m",
      "\u001b[0;31mTypeError\u001b[0m: write() argument must be str, not dict"
     ]
    }
   ],
   "source": [
    "f=open(\"data.csv\",\"w\")\n",
    "data = [{\"name\":\"sai\",\"id\":1},{\"name\":\"samba\",\"id\":2},{\"name\":\"jay\",\"id\":3}]\n",
    "f.writelines(data)"
   ]
  },
  {
   "cell_type": "code",
   "execution_count": 4,
   "metadata": {},
   "outputs": [],
   "source": [
    "f=open(\"data.csv\",\"w\")\n",
    "data = [{\"name\":\"sai\",\"id\":1},{\"name\":\"samba\",\"id\":2},{\"name\":\"jay\",\"id\":3}]\n",
    "data_str = str(data)\n",
    "f.write(data_str)\n",
    "f.close()"
   ]
  },
  {
   "cell_type": "code",
   "execution_count": 6,
   "metadata": {},
   "outputs": [
    {
     "name": "stdout",
     "output_type": "stream",
     "text": [
      "[{'name': 'sai', 'id': 1}, {'name': 'samba', 'id': 2}, {'name': 'jay', 'id': 3}]\n"
     ]
    }
   ],
   "source": [
    "f=open(\"data.csv\",\"r\")\n",
    "data=f.read()\n",
    "print(data)"
   ]
  },
  {
   "cell_type": "code",
   "execution_count": 7,
   "metadata": {},
   "outputs": [
    {
     "data": {
      "text/plain": [
       "str"
      ]
     },
     "execution_count": 7,
     "metadata": {},
     "output_type": "execute_result"
    }
   ],
   "source": [
    "type(data)"
   ]
  },
  {
   "cell_type": "code",
   "execution_count": 8,
   "metadata": {},
   "outputs": [
    {
     "name": "stdout",
     "output_type": "stream",
     "text": [
      "[\n"
     ]
    }
   ],
   "source": [
    "for i in data:\n",
    "    print(i)\n",
    "    break"
   ]
  },
  {
   "cell_type": "code",
   "execution_count": 13,
   "metadata": {},
   "outputs": [],
   "source": [
    "import pickle\n",
    "f=open(\"data.csv\",\"wb\")\n",
    "data = [{\"name\":\"sai\",\"id\":1},{\"name\":\"samba\",\"id\":2},{\"name\":\"jay\",\"id\":3}]\n",
    "pickle.dump(data,f)\n",
    "f.close()"
   ]
  },
  {
   "cell_type": "code",
   "execution_count": 15,
   "metadata": {},
   "outputs": [
    {
     "name": "stdout",
     "output_type": "stream",
     "text": [
      "b'\\x80\\x03]q\\x00(}q\\x01(X\\x04\\x00\\x00\\x00nameq\\x02X\\x03\\x00\\x00\\x00saiq\\x03X\\x02\\x00\\x00\\x00idq\\x04K\\x01u}q\\x05(h\\x02X\\x05\\x00\\x00\\x00sambaq\\x06h\\x04K\\x02u}q\\x07(h\\x02X\\x03\\x00\\x00\\x00jayq\\x08h\\x04K\\x03ue.'\n"
     ]
    }
   ],
   "source": [
    "f=open(\"data.csv\",\"rb\")\n",
    "data=f.read()\n",
    "print(data)"
   ]
  },
  {
   "cell_type": "code",
   "execution_count": 16,
   "metadata": {},
   "outputs": [
    {
     "name": "stdout",
     "output_type": "stream",
     "text": [
      "[{'name': 'sai', 'id': 1}, {'name': 'samba', 'id': 2}, {'name': 'jay', 'id': 3}]\n",
      "<class 'list'>\n"
     ]
    }
   ],
   "source": [
    "import pickle\n",
    "f=open(\"data.csv\",\"rb\")\n",
    "data=pickle.load(f)\n",
    "print(data)\n",
    "print(type(data))\n",
    "f.close()"
   ]
  },
  {
   "cell_type": "code",
   "execution_count": 19,
   "metadata": {},
   "outputs": [],
   "source": [
    "data = [{\"name\":\"sai\",\"id\":1},{\"name\":\"samba\",\"id\":2},{\"name\":\"jay\",\"id\":3}]\n",
    "import json\n",
    "f=open(\"data.json\",\"w\")\n",
    "json.dump(data,f)\n",
    "f.close()"
   ]
  },
  {
   "cell_type": "code",
   "execution_count": 20,
   "metadata": {},
   "outputs": [
    {
     "name": "stdout",
     "output_type": "stream",
     "text": [
      "<class 'bytes'>\n"
     ]
    }
   ],
   "source": [
    "s=b\"dfghd\"\n",
    "print(type(s))"
   ]
  },
  {
   "cell_type": "code",
   "execution_count": 21,
   "metadata": {},
   "outputs": [
    {
     "name": "stdout",
     "output_type": "stream",
     "text": [
      "<class 'str'>\n"
     ]
    }
   ],
   "source": [
    "s=u\"dfghd\"\n",
    "print(type(s))"
   ]
  },
  {
   "cell_type": "code",
   "execution_count": 22,
   "metadata": {},
   "outputs": [
    {
     "name": "stdout",
     "output_type": "stream",
     "text": [
      "<class 'str'>\n"
     ]
    }
   ],
   "source": [
    "s=\"dfghd\"\n",
    "print(type(s))"
   ]
  },
  {
   "cell_type": "code",
   "execution_count": 23,
   "metadata": {},
   "outputs": [
    {
     "name": "stdout",
     "output_type": "stream",
     "text": [
      "[{'name': 'sai', 'id': 1}, {'name': 'samba', 'id': 2}, {'name': 'jay', 'id': 3}]\n",
      "<class 'list'>\n"
     ]
    }
   ],
   "source": [
    "import json\n",
    "f=open(\"data.json\",\"r\")\n",
    "data = json.load(f)\n",
    "print(data)\n",
    "print(type(data))"
   ]
  },
  {
   "cell_type": "code",
   "execution_count": 24,
   "metadata": {},
   "outputs": [],
   "source": [
    "import yaml"
   ]
  },
  {
   "cell_type": "code",
   "execution_count": 26,
   "metadata": {},
   "outputs": [],
   "source": [
    "import yaml\n",
    "data = [{\"name\":\"sai\",\"id\":1},{\"name\":\"samba\",\"id\":2},{\"name\":\"jay\",\"id\":3}]\n",
    "f=open(\"data.yaml\",\"w\")\n",
    "yaml.dump(data,f)\n",
    "f.close()"
   ]
  },
  {
   "cell_type": "code",
   "execution_count": 27,
   "metadata": {},
   "outputs": [
    {
     "name": "stdout",
     "output_type": "stream",
     "text": [
      "[{'id': 1, 'name': 'sai'}, {'id': 2, 'name': 'samba'}, {'id': 3, 'name': 'jay'}]\n"
     ]
    }
   ],
   "source": [
    "import yaml\n",
    "f=open(\"data.yaml\")\n",
    "data=yaml.load(f)\n",
    "print(data)"
   ]
  },
  {
   "cell_type": "code",
   "execution_count": 28,
   "metadata": {},
   "outputs": [
    {
     "data": {
      "text/plain": [
       "list"
      ]
     },
     "execution_count": 28,
     "metadata": {},
     "output_type": "execute_result"
    }
   ],
   "source": [
    "type(data)"
   ]
  },
  {
   "cell_type": "code",
   "execution_count": 30,
   "metadata": {},
   "outputs": [
    {
     "name": "stdout",
     "output_type": "stream",
     "text": [
      "b'\\xff\\xd8\\xff\\xe0\\x00\\x10JFIF\\x00\\x01\\x01\\x00\\x00\\x01\\x00\\x01\\x00\\x00\\xff\\xdb\\x00C\\x00\\x05\\x03\\x04\\x04\\x04\\x03\\x05\\x04\\x04\\x04\\x05\\x05\\x05\\x06\\x07\\x0c\\x08\\x07\\x07\\x07\\x07\\x0f\\x0b\\x0b\\t\\x0c\\x11\\x0f\\x12\\x12\\x11\\x0f\\x11\\x11\\x13\\x16\\x1c\\x17\\x13\\x14\\x1a\\x15\\x11\\x11\\x18!\\x18\\x1a\\x1d\\x1d\\x1f\\x1f\\x1f\\x13\\x17\"$\"\\x1e$\\x1c\\x1e\\x1f\\x1e\\xff\\xdb\\x00C\\x01\\x05\\x05\\x05\\x07\\x06\\x07'\n"
     ]
    }
   ],
   "source": [
    "data=open(\"fun1.jpg\",\"rb\").read()\n",
    "print(data[:100])"
   ]
  },
  {
   "cell_type": "code",
   "execution_count": 31,
   "metadata": {},
   "outputs": [],
   "source": [
    "data=open(\"fun1.jpg\",\"rb\").read()\n",
    "f=open(\"fun1_copy.jpg\",\"wb\")\n",
    "for i in range(10):\n",
    "    f.write(data)\n",
    "    f.flush()\n",
    "f.close()"
   ]
  },
  {
   "cell_type": "code",
   "execution_count": 32,
   "metadata": {},
   "outputs": [],
   "source": [
    "f=open(\"fun1_copy.jpg\",\"rb\")\n",
    "data=f.read()"
   ]
  },
  {
   "cell_type": "code",
   "execution_count": 33,
   "metadata": {},
   "outputs": [
    {
     "data": {
      "text/plain": [
       "'seema'"
      ]
     },
     "execution_count": 33,
     "metadata": {},
     "output_type": "execute_result"
    }
   ],
   "source": [
    "names=[\"samba\",\"murthy\",\"nithish\",\"raja\",\"ram\",\"sandeep\",\"manoj\",\"seema\"]\n",
    "import random\n",
    "random.choice(names)"
   ]
  },
  {
   "cell_type": "code",
   "execution_count": 34,
   "metadata": {},
   "outputs": [
    {
     "data": {
      "text/plain": [
       "'ram'"
      ]
     },
     "execution_count": 34,
     "metadata": {},
     "output_type": "execute_result"
    }
   ],
   "source": [
    "names=[\"samba\",\"murthy\",\"nithish\",\"raja\",\"ram\",\"sandeep\",\"manoj\",\"seema\"]\n",
    "import random\n",
    "random.choice(names)"
   ]
  },
  {
   "cell_type": "code",
   "execution_count": 35,
   "metadata": {},
   "outputs": [
    {
     "data": {
      "text/plain": [
       "'seema'"
      ]
     },
     "execution_count": 35,
     "metadata": {},
     "output_type": "execute_result"
    }
   ],
   "source": [
    "names=[\"samba\",\"murthy\",\"nithish\",\"raja\",\"ram\",\"sandeep\",\"manoj\",\"seema\"]\n",
    "import random\n",
    "random.choice(names)"
   ]
  },
  {
   "cell_type": "code",
   "execution_count": 36,
   "metadata": {},
   "outputs": [
    {
     "data": {
      "text/plain": [
       "'raja'"
      ]
     },
     "execution_count": 36,
     "metadata": {},
     "output_type": "execute_result"
    }
   ],
   "source": [
    "names=[\"samba\",\"murthy\",\"nithish\",\"raja\",\"ram\",\"sandeep\",\"manoj\",\"seema\"]\n",
    "import random\n",
    "random.choice(names)"
   ]
  },
  {
   "cell_type": "code",
   "execution_count": 37,
   "metadata": {},
   "outputs": [
    {
     "data": {
      "text/plain": [
       "'samba'"
      ]
     },
     "execution_count": 37,
     "metadata": {},
     "output_type": "execute_result"
    }
   ],
   "source": [
    "names=[\"samba\",\"murthy\",\"nithish\",\"raja\",\"ram\",\"sandeep\",\"manoj\",\"seema\"]\n",
    "import random\n",
    "random.choice(names)"
   ]
  },
  {
   "cell_type": "code",
   "execution_count": 38,
   "metadata": {},
   "outputs": [
    {
     "name": "stdout",
     "output_type": "stream",
     "text": [
      "1,ram,80k\n"
     ]
    }
   ],
   "source": [
    "names=[\"samba\",\"murthy\",\"nithish\",\"raja\",\"ram\",\"sandeep\",\"manoj\",\"seema\"]\n",
    "salaries=[\"30k\",\"40k\",\"50k\",\"60k\",\"70k\",\"80k\",\"90k\",\"1l\",\"2l\",\"3l\"]\n",
    "row=\"%s,%s,%s\\n\"%(1,random.choice(names),random.choice(salaries))\n",
    "print(row)"
   ]
  },
  {
   "cell_type": "code",
   "execution_count": 39,
   "metadata": {},
   "outputs": [],
   "source": [
    "names=[\"samba\",\"murthy\",\"nithish\",\"raja\",\"ram\",\"sandeep\",\"manoj\",\"seema\"]\n",
    "salaries=[\"30k\",\"40k\",\"50k\",\"60k\",\"70k\",\"80k\",\"90k\",\"1l\",\"2l\",\"3l\"]\n",
    "f=open(\"data.csv\",\"w\")\n",
    "for i in range(100):\n",
    "    row=\"%s,%s,%s\\n\"%(i,random.choice(names),random.choice(salaries))\n",
    "    f.write(row)\n",
    "    f.flush()\n",
    "f.close()"
   ]
  },
  {
   "cell_type": "code",
   "execution_count": 41,
   "metadata": {},
   "outputs": [
    {
     "name": "stdout",
     "output_type": "stream",
     "text": [
      "0,ram,30k\n",
      "1,samba,80k\n",
      "2,murthy,50k\n",
      "3,nithish,70k\n",
      "4,ram,60k\n",
      "5,sandeep,70k\n",
      "6,nithish,2l\n",
      "7,seema,40k\n",
      "8,nithish,3l\n",
      "9,manoj,40k\n",
      "10,raja,40k\n",
      "11,manoj,60k\n",
      "12,sandeep,70k\n",
      "13,sandeep,80k\n",
      "14,manoj,1l\n",
      "15,ram,3l\n",
      "16,ram,40k\n",
      "17,sandeep,3l\n",
      "18,ram,40k\n",
      "19,sandeep,30k\n",
      "20,nithish,80k\n",
      "21,murthy,3l\n",
      "22,raja,50k\n",
      "23,nithish,40k\n",
      "24,ram,1l\n",
      "25,raja,50k\n",
      "26,ram,30k\n",
      "27,ram,80k\n",
      "28,murthy,40k\n",
      "29,sandeep,2l\n",
      "30,ram,1l\n",
      "31,manoj,60k\n",
      "32,manoj,3l\n",
      "33,samba,40k\n",
      "34,ram,80k\n",
      "35,ram,40k\n",
      "36,seema,2l\n",
      "37,ram,3l\n",
      "38,ram,70k\n",
      "39,raja,90k\n",
      "40,seema,50k\n",
      "41,raja,90k\n",
      "42,raja,80k\n",
      "43,nithish,80k\n",
      "44,raja,50k\n",
      "45,nithish,2l\n",
      "46,ram,50k\n",
      "47,manoj,1l\n",
      "48,nithish,2l\n",
      "49,sandeep,50k\n",
      "50,raja,70k\n",
      "51,sandeep,70k\n",
      "52,raja,60k\n",
      "53,ram,1l\n",
      "54,seema,40k\n",
      "55,raja,90k\n",
      "56,samba,1l\n",
      "57,murthy,90k\n",
      "58,manoj,1l\n",
      "59,seema,70k\n",
      "60,seema,1l\n",
      "61,manoj,30k\n",
      "62,ram,60k\n",
      "63,ram,40k\n",
      "64,murthy,80k\n",
      "65,samba,1l\n",
      "66,sandeep,70k\n",
      "67,manoj,3l\n",
      "68,murthy,90k\n",
      "69,nithish,60k\n",
      "70,ram,3l\n",
      "71,samba,90k\n",
      "72,murthy,50k\n",
      "73,raja,40k\n",
      "74,ram,40k\n",
      "75,nithish,90k\n",
      "76,murthy,60k\n",
      "77,nithish,2l\n",
      "78,manoj,80k\n",
      "79,seema,30k\n",
      "80,murthy,60k\n",
      "81,nithish,30k\n",
      "82,nithish,30k\n",
      "83,sandeep,70k\n",
      "84,ram,2l\n",
      "85,manoj,3l\n",
      "86,nithish,80k\n",
      "87,ram,40k\n",
      "88,seema,60k\n",
      "89,sandeep,50k\n",
      "90,raja,2l\n",
      "91,samba,2l\n",
      "92,murthy,1l\n",
      "93,nithish,90k\n",
      "94,seema,70k\n",
      "95,samba,30k\n",
      "96,sandeep,30k\n",
      "97,nithish,2l\n",
      "98,sandeep,3l\n",
      "99,manoj,3l\n",
      " <class 'str'>\n"
     ]
    }
   ],
   "source": [
    "f=open(\"data.csv\")\n",
    "data=f.read()\n",
    "print(data,type(data))"
   ]
  },
  {
   "cell_type": "code",
   "execution_count": 42,
   "metadata": {},
   "outputs": [
    {
     "data": {
      "text/plain": [
       "'0,ram,30k\\n1,samba,80k\\n2,murthy,50k\\n3,nithish,70k\\n4,ram,60k\\n5,sandeep,70k\\n6,nithish,2l\\n7,seema,40k\\n8,nithish,3l\\n9,manoj,40k\\n10,raja,40k\\n11,manoj,60k\\n12,sandeep,70k\\n13,sandeep,80k\\n14,manoj,1l\\n15,ram,3l\\n16,ram,40k\\n17,sandeep,3l\\n18,ram,40k\\n19,sandeep,30k\\n20,nithish,80k\\n21,murthy,3l\\n22,raja,50k\\n23,nithish,40k\\n24,ram,1l\\n25,raja,50k\\n26,ram,30k\\n27,ram,80k\\n28,murthy,40k\\n29,sandeep,2l\\n30,ram,1l\\n31,manoj,60k\\n32,manoj,3l\\n33,samba,40k\\n34,ram,80k\\n35,ram,40k\\n36,seema,2l\\n37,ram,3l\\n38,ram,70k\\n39,raja,90k\\n40,seema,50k\\n41,raja,90k\\n42,raja,80k\\n43,nithish,80k\\n44,raja,50k\\n45,nithish,2l\\n46,ram,50k\\n47,manoj,1l\\n48,nithish,2l\\n49,sandeep,50k\\n50,raja,70k\\n51,sandeep,70k\\n52,raja,60k\\n53,ram,1l\\n54,seema,40k\\n55,raja,90k\\n56,samba,1l\\n57,murthy,90k\\n58,manoj,1l\\n59,seema,70k\\n60,seema,1l\\n61,manoj,30k\\n62,ram,60k\\n63,ram,40k\\n64,murthy,80k\\n65,samba,1l\\n66,sandeep,70k\\n67,manoj,3l\\n68,murthy,90k\\n69,nithish,60k\\n70,ram,3l\\n71,samba,90k\\n72,murthy,50k\\n73,raja,40k\\n74,ram,40k\\n75,nithish,90k\\n76,murthy,60k\\n77,nithish,2l\\n78,manoj,80k\\n79,seema,30k\\n80,murthy,60k\\n81,nithish,30k\\n82,nithish,30k\\n83,sandeep,70k\\n84,ram,2l\\n85,manoj,3l\\n86,nithish,80k\\n87,ram,40k\\n88,seema,60k\\n89,sandeep,50k\\n90,raja,2l\\n91,samba,2l\\n92,murthy,1l\\n93,nithish,90k\\n94,seema,70k\\n95,samba,30k\\n96,sandeep,30k\\n97,nithish,2l\\n98,sandeep,3l\\n99,manoj,3l\\n'"
      ]
     },
     "execution_count": 42,
     "metadata": {},
     "output_type": "execute_result"
    }
   ],
   "source": [
    "data"
   ]
  },
  {
   "cell_type": "code",
   "execution_count": 43,
   "metadata": {},
   "outputs": [
    {
     "name": "stdout",
     "output_type": "stream",
     "text": [
      "['0,ram,30k\\n', '1,samba,80k\\n', '2,murthy,50k\\n', '3,nithish,70k\\n', '4,ram,60k\\n', '5,sandeep,70k\\n', '6,nithish,2l\\n', '7,seema,40k\\n', '8,nithish,3l\\n', '9,manoj,40k\\n', '10,raja,40k\\n', '11,manoj,60k\\n', '12,sandeep,70k\\n', '13,sandeep,80k\\n', '14,manoj,1l\\n', '15,ram,3l\\n', '16,ram,40k\\n', '17,sandeep,3l\\n', '18,ram,40k\\n', '19,sandeep,30k\\n', '20,nithish,80k\\n', '21,murthy,3l\\n', '22,raja,50k\\n', '23,nithish,40k\\n', '24,ram,1l\\n', '25,raja,50k\\n', '26,ram,30k\\n', '27,ram,80k\\n', '28,murthy,40k\\n', '29,sandeep,2l\\n', '30,ram,1l\\n', '31,manoj,60k\\n', '32,manoj,3l\\n', '33,samba,40k\\n', '34,ram,80k\\n', '35,ram,40k\\n', '36,seema,2l\\n', '37,ram,3l\\n', '38,ram,70k\\n', '39,raja,90k\\n', '40,seema,50k\\n', '41,raja,90k\\n', '42,raja,80k\\n', '43,nithish,80k\\n', '44,raja,50k\\n', '45,nithish,2l\\n', '46,ram,50k\\n', '47,manoj,1l\\n', '48,nithish,2l\\n', '49,sandeep,50k\\n', '50,raja,70k\\n', '51,sandeep,70k\\n', '52,raja,60k\\n', '53,ram,1l\\n', '54,seema,40k\\n', '55,raja,90k\\n', '56,samba,1l\\n', '57,murthy,90k\\n', '58,manoj,1l\\n', '59,seema,70k\\n', '60,seema,1l\\n', '61,manoj,30k\\n', '62,ram,60k\\n', '63,ram,40k\\n', '64,murthy,80k\\n', '65,samba,1l\\n', '66,sandeep,70k\\n', '67,manoj,3l\\n', '68,murthy,90k\\n', '69,nithish,60k\\n', '70,ram,3l\\n', '71,samba,90k\\n', '72,murthy,50k\\n', '73,raja,40k\\n', '74,ram,40k\\n', '75,nithish,90k\\n', '76,murthy,60k\\n', '77,nithish,2l\\n', '78,manoj,80k\\n', '79,seema,30k\\n', '80,murthy,60k\\n', '81,nithish,30k\\n', '82,nithish,30k\\n', '83,sandeep,70k\\n', '84,ram,2l\\n', '85,manoj,3l\\n', '86,nithish,80k\\n', '87,ram,40k\\n', '88,seema,60k\\n', '89,sandeep,50k\\n', '90,raja,2l\\n', '91,samba,2l\\n', '92,murthy,1l\\n', '93,nithish,90k\\n', '94,seema,70k\\n', '95,samba,30k\\n', '96,sandeep,30k\\n', '97,nithish,2l\\n', '98,sandeep,3l\\n', '99,manoj,3l\\n'] <class 'list'>\n"
     ]
    }
   ],
   "source": [
    "f=open(\"data.csv\")\n",
    "data=f.readlines()\n",
    "print(data,type(data))"
   ]
  },
  {
   "cell_type": "code",
   "execution_count": 44,
   "metadata": {},
   "outputs": [
    {
     "name": "stdout",
     "output_type": "stream",
     "text": [
      "0,ram,30k\n",
      " <class 'str'>\n"
     ]
    }
   ],
   "source": [
    "f=open(\"data.csv\")\n",
    "data=f.readline()\n",
    "print(data,type(data))"
   ]
  },
  {
   "cell_type": "code",
   "execution_count": 45,
   "metadata": {},
   "outputs": [
    {
     "name": "stdout",
     "output_type": "stream",
     "text": [
      "1,samba,80k\n",
      " <class 'str'>\n"
     ]
    }
   ],
   "source": [
    "data=f.readline()\n",
    "print(data,type(data))"
   ]
  },
  {
   "cell_type": "code",
   "execution_count": 46,
   "metadata": {},
   "outputs": [
    {
     "name": "stdout",
     "output_type": "stream",
     "text": [
      "2,murthy,50k\n",
      " <class 'str'>\n"
     ]
    }
   ],
   "source": [
    "data=f.readline()\n",
    "print(data,type(data))"
   ]
  },
  {
   "cell_type": "code",
   "execution_count": 47,
   "metadata": {},
   "outputs": [
    {
     "name": "stdout",
     "output_type": "stream",
     "text": [
      "3,nithish,70k\n",
      " <class 'str'>\n"
     ]
    }
   ],
   "source": [
    "data=f.readline()\n",
    "print(data,type(data))"
   ]
  },
  {
   "cell_type": "code",
   "execution_count": 48,
   "metadata": {},
   "outputs": [
    {
     "name": "stdout",
     "output_type": "stream",
     "text": [
      "4,ram,60k\n",
      " <class 'str'>\n"
     ]
    }
   ],
   "source": [
    "data=f.readline()\n",
    "print(data,type(data))"
   ]
  },
  {
   "cell_type": "code",
   "execution_count": 49,
   "metadata": {},
   "outputs": [
    {
     "name": "stdout",
     "output_type": "stream",
     "text": [
      "0,ram,30k\n",
      "\n"
     ]
    }
   ],
   "source": [
    "f=open(\"data.csv\")\n",
    "for row in f:\n",
    "    print(row)\n",
    "    break"
   ]
  },
  {
   "cell_type": "code",
   "execution_count": 50,
   "metadata": {},
   "outputs": [
    {
     "name": "stdout",
     "output_type": "stream",
     "text": [
      "0,ram,30k\n",
      "\n",
      "1,samba,80k\n",
      "\n",
      "2,murthy,50k\n",
      "\n",
      "3,nithish,70k\n",
      "\n",
      "4,ram,60k\n",
      "\n",
      "5,sandeep,70k\n",
      "\n",
      "6,nithish,2l\n",
      "\n",
      "7,seema,40k\n",
      "\n",
      "8,nithish,3l\n",
      "\n",
      "9,manoj,40k\n",
      "\n",
      "10,raja,40k\n",
      "\n",
      "11,manoj,60k\n",
      "\n",
      "12,sandeep,70k\n",
      "\n",
      "13,sandeep,80k\n",
      "\n",
      "14,manoj,1l\n",
      "\n",
      "15,ram,3l\n",
      "\n",
      "16,ram,40k\n",
      "\n",
      "17,sandeep,3l\n",
      "\n",
      "18,ram,40k\n",
      "\n",
      "19,sandeep,30k\n",
      "\n",
      "20,nithish,80k\n",
      "\n",
      "21,murthy,3l\n",
      "\n",
      "22,raja,50k\n",
      "\n",
      "23,nithish,40k\n",
      "\n",
      "24,ram,1l\n",
      "\n",
      "25,raja,50k\n",
      "\n",
      "26,ram,30k\n",
      "\n",
      "27,ram,80k\n",
      "\n",
      "28,murthy,40k\n",
      "\n",
      "29,sandeep,2l\n",
      "\n",
      "30,ram,1l\n",
      "\n",
      "31,manoj,60k\n",
      "\n",
      "32,manoj,3l\n",
      "\n",
      "33,samba,40k\n",
      "\n",
      "34,ram,80k\n",
      "\n",
      "35,ram,40k\n",
      "\n",
      "36,seema,2l\n",
      "\n",
      "37,ram,3l\n",
      "\n",
      "38,ram,70k\n",
      "\n",
      "39,raja,90k\n",
      "\n",
      "40,seema,50k\n",
      "\n",
      "41,raja,90k\n",
      "\n",
      "42,raja,80k\n",
      "\n",
      "43,nithish,80k\n",
      "\n",
      "44,raja,50k\n",
      "\n",
      "45,nithish,2l\n",
      "\n",
      "46,ram,50k\n",
      "\n",
      "47,manoj,1l\n",
      "\n",
      "48,nithish,2l\n",
      "\n",
      "49,sandeep,50k\n",
      "\n",
      "50,raja,70k\n",
      "\n",
      "51,sandeep,70k\n",
      "\n",
      "52,raja,60k\n",
      "\n",
      "53,ram,1l\n",
      "\n",
      "54,seema,40k\n",
      "\n",
      "55,raja,90k\n",
      "\n",
      "56,samba,1l\n",
      "\n",
      "57,murthy,90k\n",
      "\n",
      "58,manoj,1l\n",
      "\n",
      "59,seema,70k\n",
      "\n",
      "60,seema,1l\n",
      "\n",
      "61,manoj,30k\n",
      "\n",
      "62,ram,60k\n",
      "\n",
      "63,ram,40k\n",
      "\n",
      "64,murthy,80k\n",
      "\n",
      "65,samba,1l\n",
      "\n",
      "66,sandeep,70k\n",
      "\n",
      "67,manoj,3l\n",
      "\n",
      "68,murthy,90k\n",
      "\n",
      "69,nithish,60k\n",
      "\n",
      "70,ram,3l\n",
      "\n",
      "71,samba,90k\n",
      "\n",
      "72,murthy,50k\n",
      "\n",
      "73,raja,40k\n",
      "\n",
      "74,ram,40k\n",
      "\n",
      "75,nithish,90k\n",
      "\n",
      "76,murthy,60k\n",
      "\n",
      "77,nithish,2l\n",
      "\n",
      "78,manoj,80k\n",
      "\n",
      "79,seema,30k\n",
      "\n",
      "80,murthy,60k\n",
      "\n",
      "81,nithish,30k\n",
      "\n",
      "82,nithish,30k\n",
      "\n",
      "83,sandeep,70k\n",
      "\n",
      "84,ram,2l\n",
      "\n",
      "85,manoj,3l\n",
      "\n",
      "86,nithish,80k\n",
      "\n",
      "87,ram,40k\n",
      "\n",
      "88,seema,60k\n",
      "\n",
      "89,sandeep,50k\n",
      "\n",
      "90,raja,2l\n",
      "\n",
      "91,samba,2l\n",
      "\n",
      "92,murthy,1l\n",
      "\n",
      "93,nithish,90k\n",
      "\n",
      "94,seema,70k\n",
      "\n",
      "95,samba,30k\n",
      "\n",
      "96,sandeep,30k\n",
      "\n",
      "97,nithish,2l\n",
      "\n",
      "98,sandeep,3l\n",
      "\n",
      "99,manoj,3l\n",
      "\n"
     ]
    }
   ],
   "source": [
    "f=open(\"data.csv\")\n",
    "for row in f:\n",
    "    print(row)\n",
    "    "
   ]
  },
  {
   "cell_type": "code",
   "execution_count": 1,
   "metadata": {},
   "outputs": [],
   "source": [
    "f=open(\"data.csv\")\n",
    "data=f.read()\n"
   ]
  },
  {
   "cell_type": "code",
   "execution_count": 2,
   "metadata": {},
   "outputs": [
    {
     "name": "stdout",
     "output_type": "stream",
     "text": [
      "\n"
     ]
    }
   ],
   "source": [
    "data1=f.read()\n",
    "print(data1)"
   ]
  },
  {
   "cell_type": "code",
   "execution_count": 3,
   "metadata": {},
   "outputs": [
    {
     "name": "stdout",
     "output_type": "stream",
     "text": [
      "0\n",
      "1273\n",
      "1273\n"
     ]
    }
   ],
   "source": [
    "f=open(\"data.csv\")\n",
    "print(f.tell())\n",
    "data=f.read()\n",
    "print(f.tell())\n",
    "data1=f.read()\n",
    "print(f.tell())"
   ]
  },
  {
   "cell_type": "code",
   "execution_count": 5,
   "metadata": {},
   "outputs": [
    {
     "name": "stdout",
     "output_type": "stream",
     "text": [
      "0\n",
      "0,ram,30k\n",
      "1,samba,80k\n",
      "2,murthy,50k\n",
      "3,nithish,70k\n",
      "4,ram,60k\n",
      "5,sandeep,70k\n",
      "6,nithish,2l\n",
      "7,seema,40k\n",
      "8,\n",
      "100\n",
      "nithish,3l\n",
      "9,manoj,40k\n",
      "10,raja,40k\n",
      "11,manoj,60k\n",
      "12\n",
      "150\n"
     ]
    }
   ],
   "source": [
    "f=open(\"data.csv\")\n",
    "print(f.tell())\n",
    "data=f.read(100)\n",
    "print(data)\n",
    "print(f.tell())\n",
    "data1=f.read(50)\n",
    "print(data1)\n",
    "print(f.tell())"
   ]
  },
  {
   "cell_type": "code",
   "execution_count": 6,
   "metadata": {},
   "outputs": [
    {
     "name": "stdout",
     "output_type": "stream",
     "text": [
      "0,ram,30k\n",
      "1,samba,80k\n",
      "2,murthy,50k\n",
      "3,nithish,70k\n",
      "4,ram,60k\n",
      "5,sandeep,70k\n",
      "6,nithish,2l\n",
      "7,seema,40k\n",
      "8,\n",
      "nithish,3l\n",
      "9,manoj,40k\n",
      "10,raja,40k\n",
      "11,manoj,60k\n",
      "12,sandeep,70k\n",
      "13,sandeep,80k\n",
      "14,manoj,1l\n",
      "15,ram,3l\n",
      "\n",
      "16,ram,40k\n",
      "17,sandeep,3l\n",
      "18,ram,40k\n",
      "19,sandeep,30k\n",
      "20,nithish,80k\n",
      "21,murthy,3l\n",
      "22,raja,50k\n",
      "23,nithis\n",
      "h,40k\n",
      "24,ram,1l\n",
      "25,raja,50k\n",
      "26,ram,30k\n",
      "27,ram,80k\n",
      "28,murthy,40k\n",
      "29,sandeep,2l\n",
      "30,ram,1l\n",
      "31,manoj,60k\n",
      "\n",
      "32,manoj,3l\n",
      "33,samba,40k\n",
      "34,ram,80k\n",
      "35,ram,40k\n",
      "36,seema,2l\n",
      "37,ram,3l\n",
      "38,ram,70k\n",
      "39,raja,90k\n",
      "40,seem\n",
      "a,50k\n",
      "41,raja,90k\n",
      "42,raja,80k\n",
      "43,nithish,80k\n",
      "44,raja,50k\n",
      "45,nithish,2l\n",
      "46,ram,50k\n",
      "47,manoj,1l\n",
      "48,nit\n",
      "hish,2l\n",
      "49,sandeep,50k\n",
      "50,raja,70k\n",
      "51,sandeep,70k\n",
      "52,raja,60k\n",
      "53,ram,1l\n",
      "54,seema,40k\n",
      "55,raja,90k\n",
      "56,\n",
      "samba,1l\n",
      "57,murthy,90k\n",
      "58,manoj,1l\n",
      "59,seema,70k\n",
      "60,seema,1l\n",
      "61,manoj,30k\n",
      "62,ram,60k\n",
      "63,ram,40k\n",
      "64,mu\n",
      "rthy,80k\n",
      "65,samba,1l\n",
      "66,sandeep,70k\n",
      "67,manoj,3l\n",
      "68,murthy,90k\n",
      "69,nithish,60k\n",
      "70,ram,3l\n",
      "71,samba,90k\n",
      "\n",
      "72,murthy,50k\n",
      "73,raja,40k\n",
      "74,ram,40k\n",
      "75,nithish,90k\n",
      "76,murthy,60k\n",
      "77,nithish,2l\n",
      "78,manoj,80k\n",
      "79,seem\n",
      "a,30k\n",
      "80,murthy,60k\n",
      "81,nithish,30k\n",
      "82,nithish,30k\n",
      "83,sandeep,70k\n",
      "84,ram,2l\n",
      "85,manoj,3l\n",
      "86,nithish,80\n",
      "k\n",
      "87,ram,40k\n",
      "88,seema,60k\n",
      "89,sandeep,50k\n",
      "90,raja,2l\n",
      "91,samba,2l\n",
      "92,murthy,1l\n",
      "93,nithish,90k\n",
      "94,seema\n",
      ",70k\n",
      "95,samba,30k\n",
      "96,sandeep,30k\n",
      "97,nithish,2l\n",
      "98,sandeep,3l\n",
      "99,manoj,3l\n",
      "\n",
      "\n"
     ]
    }
   ],
   "source": [
    "f=open(\"data.csv\")\n",
    "while True:\n",
    "    data = f.read(100)\n",
    "    print(data)\n",
    "    if not data:\n",
    "        break\n",
    "   "
   ]
  },
  {
   "cell_type": "code",
   "execution_count": 7,
   "metadata": {},
   "outputs": [
    {
     "name": "stdout",
     "output_type": "stream",
     "text": [
      "100\n"
     ]
    }
   ],
   "source": [
    "f=open(\"data.csv\")\n",
    "data = f.read(100)\n",
    "print(f.tell())"
   ]
  },
  {
   "cell_type": "code",
   "execution_count": 8,
   "metadata": {},
   "outputs": [
    {
     "name": "stdout",
     "output_type": "stream",
     "text": [
      "0,ram,30k\n",
      "1,samba,80k\n",
      "2,murthy,50k\n",
      "3,nithish,70k\n",
      "4,ram,60k\n",
      "5,sandeep,70k\n",
      "6,nithish,2l\n",
      "7,seema,40k\n",
      "8,\n",
      "100\n",
      ",ram,60k\n",
      "5,sandeep,70k\n",
      "6,nithish,2l\n",
      "7,seema,40k\n",
      "8,\n"
     ]
    }
   ],
   "source": [
    "f=open(\"data.csv\")\n",
    "data = f.read(100)\n",
    "print(data)\n",
    "print(f.tell())\n",
    "f.seek(50)\n",
    "d1 = f.read(50)\n",
    "print(d1)"
   ]
  },
  {
   "cell_type": "code",
   "execution_count": 9,
   "metadata": {},
   "outputs": [],
   "source": [
    "import pandas as pd"
   ]
  },
  {
   "cell_type": "code",
   "execution_count": 10,
   "metadata": {},
   "outputs": [],
   "source": [
    "df = pd.read_csv(\"data.csv\")\n"
   ]
  },
  {
   "cell_type": "code",
   "execution_count": 11,
   "metadata": {},
   "outputs": [
    {
     "data": {
      "text/html": [
       "<div>\n",
       "<style scoped>\n",
       "    .dataframe tbody tr th:only-of-type {\n",
       "        vertical-align: middle;\n",
       "    }\n",
       "\n",
       "    .dataframe tbody tr th {\n",
       "        vertical-align: top;\n",
       "    }\n",
       "\n",
       "    .dataframe thead th {\n",
       "        text-align: right;\n",
       "    }\n",
       "</style>\n",
       "<table border=\"1\" class=\"dataframe\">\n",
       "  <thead>\n",
       "    <tr style=\"text-align: right;\">\n",
       "      <th></th>\n",
       "      <th>0</th>\n",
       "      <th>ram</th>\n",
       "      <th>30k</th>\n",
       "    </tr>\n",
       "  </thead>\n",
       "  <tbody>\n",
       "    <tr>\n",
       "      <th>0</th>\n",
       "      <td>1</td>\n",
       "      <td>samba</td>\n",
       "      <td>80k</td>\n",
       "    </tr>\n",
       "    <tr>\n",
       "      <th>1</th>\n",
       "      <td>2</td>\n",
       "      <td>murthy</td>\n",
       "      <td>50k</td>\n",
       "    </tr>\n",
       "    <tr>\n",
       "      <th>2</th>\n",
       "      <td>3</td>\n",
       "      <td>nithish</td>\n",
       "      <td>70k</td>\n",
       "    </tr>\n",
       "    <tr>\n",
       "      <th>3</th>\n",
       "      <td>4</td>\n",
       "      <td>ram</td>\n",
       "      <td>60k</td>\n",
       "    </tr>\n",
       "    <tr>\n",
       "      <th>4</th>\n",
       "      <td>5</td>\n",
       "      <td>sandeep</td>\n",
       "      <td>70k</td>\n",
       "    </tr>\n",
       "    <tr>\n",
       "      <th>5</th>\n",
       "      <td>6</td>\n",
       "      <td>nithish</td>\n",
       "      <td>2l</td>\n",
       "    </tr>\n",
       "    <tr>\n",
       "      <th>6</th>\n",
       "      <td>7</td>\n",
       "      <td>seema</td>\n",
       "      <td>40k</td>\n",
       "    </tr>\n",
       "    <tr>\n",
       "      <th>7</th>\n",
       "      <td>8</td>\n",
       "      <td>nithish</td>\n",
       "      <td>3l</td>\n",
       "    </tr>\n",
       "    <tr>\n",
       "      <th>8</th>\n",
       "      <td>9</td>\n",
       "      <td>manoj</td>\n",
       "      <td>40k</td>\n",
       "    </tr>\n",
       "    <tr>\n",
       "      <th>9</th>\n",
       "      <td>10</td>\n",
       "      <td>raja</td>\n",
       "      <td>40k</td>\n",
       "    </tr>\n",
       "    <tr>\n",
       "      <th>10</th>\n",
       "      <td>11</td>\n",
       "      <td>manoj</td>\n",
       "      <td>60k</td>\n",
       "    </tr>\n",
       "    <tr>\n",
       "      <th>11</th>\n",
       "      <td>12</td>\n",
       "      <td>sandeep</td>\n",
       "      <td>70k</td>\n",
       "    </tr>\n",
       "    <tr>\n",
       "      <th>12</th>\n",
       "      <td>13</td>\n",
       "      <td>sandeep</td>\n",
       "      <td>80k</td>\n",
       "    </tr>\n",
       "    <tr>\n",
       "      <th>13</th>\n",
       "      <td>14</td>\n",
       "      <td>manoj</td>\n",
       "      <td>1l</td>\n",
       "    </tr>\n",
       "    <tr>\n",
       "      <th>14</th>\n",
       "      <td>15</td>\n",
       "      <td>ram</td>\n",
       "      <td>3l</td>\n",
       "    </tr>\n",
       "    <tr>\n",
       "      <th>15</th>\n",
       "      <td>16</td>\n",
       "      <td>ram</td>\n",
       "      <td>40k</td>\n",
       "    </tr>\n",
       "    <tr>\n",
       "      <th>16</th>\n",
       "      <td>17</td>\n",
       "      <td>sandeep</td>\n",
       "      <td>3l</td>\n",
       "    </tr>\n",
       "    <tr>\n",
       "      <th>17</th>\n",
       "      <td>18</td>\n",
       "      <td>ram</td>\n",
       "      <td>40k</td>\n",
       "    </tr>\n",
       "    <tr>\n",
       "      <th>18</th>\n",
       "      <td>19</td>\n",
       "      <td>sandeep</td>\n",
       "      <td>30k</td>\n",
       "    </tr>\n",
       "    <tr>\n",
       "      <th>19</th>\n",
       "      <td>20</td>\n",
       "      <td>nithish</td>\n",
       "      <td>80k</td>\n",
       "    </tr>\n",
       "    <tr>\n",
       "      <th>20</th>\n",
       "      <td>21</td>\n",
       "      <td>murthy</td>\n",
       "      <td>3l</td>\n",
       "    </tr>\n",
       "    <tr>\n",
       "      <th>21</th>\n",
       "      <td>22</td>\n",
       "      <td>raja</td>\n",
       "      <td>50k</td>\n",
       "    </tr>\n",
       "    <tr>\n",
       "      <th>22</th>\n",
       "      <td>23</td>\n",
       "      <td>nithish</td>\n",
       "      <td>40k</td>\n",
       "    </tr>\n",
       "    <tr>\n",
       "      <th>23</th>\n",
       "      <td>24</td>\n",
       "      <td>ram</td>\n",
       "      <td>1l</td>\n",
       "    </tr>\n",
       "    <tr>\n",
       "      <th>24</th>\n",
       "      <td>25</td>\n",
       "      <td>raja</td>\n",
       "      <td>50k</td>\n",
       "    </tr>\n",
       "    <tr>\n",
       "      <th>25</th>\n",
       "      <td>26</td>\n",
       "      <td>ram</td>\n",
       "      <td>30k</td>\n",
       "    </tr>\n",
       "    <tr>\n",
       "      <th>26</th>\n",
       "      <td>27</td>\n",
       "      <td>ram</td>\n",
       "      <td>80k</td>\n",
       "    </tr>\n",
       "    <tr>\n",
       "      <th>27</th>\n",
       "      <td>28</td>\n",
       "      <td>murthy</td>\n",
       "      <td>40k</td>\n",
       "    </tr>\n",
       "    <tr>\n",
       "      <th>28</th>\n",
       "      <td>29</td>\n",
       "      <td>sandeep</td>\n",
       "      <td>2l</td>\n",
       "    </tr>\n",
       "    <tr>\n",
       "      <th>29</th>\n",
       "      <td>30</td>\n",
       "      <td>ram</td>\n",
       "      <td>1l</td>\n",
       "    </tr>\n",
       "    <tr>\n",
       "      <th>...</th>\n",
       "      <td>...</td>\n",
       "      <td>...</td>\n",
       "      <td>...</td>\n",
       "    </tr>\n",
       "    <tr>\n",
       "      <th>69</th>\n",
       "      <td>70</td>\n",
       "      <td>ram</td>\n",
       "      <td>3l</td>\n",
       "    </tr>\n",
       "    <tr>\n",
       "      <th>70</th>\n",
       "      <td>71</td>\n",
       "      <td>samba</td>\n",
       "      <td>90k</td>\n",
       "    </tr>\n",
       "    <tr>\n",
       "      <th>71</th>\n",
       "      <td>72</td>\n",
       "      <td>murthy</td>\n",
       "      <td>50k</td>\n",
       "    </tr>\n",
       "    <tr>\n",
       "      <th>72</th>\n",
       "      <td>73</td>\n",
       "      <td>raja</td>\n",
       "      <td>40k</td>\n",
       "    </tr>\n",
       "    <tr>\n",
       "      <th>73</th>\n",
       "      <td>74</td>\n",
       "      <td>ram</td>\n",
       "      <td>40k</td>\n",
       "    </tr>\n",
       "    <tr>\n",
       "      <th>74</th>\n",
       "      <td>75</td>\n",
       "      <td>nithish</td>\n",
       "      <td>90k</td>\n",
       "    </tr>\n",
       "    <tr>\n",
       "      <th>75</th>\n",
       "      <td>76</td>\n",
       "      <td>murthy</td>\n",
       "      <td>60k</td>\n",
       "    </tr>\n",
       "    <tr>\n",
       "      <th>76</th>\n",
       "      <td>77</td>\n",
       "      <td>nithish</td>\n",
       "      <td>2l</td>\n",
       "    </tr>\n",
       "    <tr>\n",
       "      <th>77</th>\n",
       "      <td>78</td>\n",
       "      <td>manoj</td>\n",
       "      <td>80k</td>\n",
       "    </tr>\n",
       "    <tr>\n",
       "      <th>78</th>\n",
       "      <td>79</td>\n",
       "      <td>seema</td>\n",
       "      <td>30k</td>\n",
       "    </tr>\n",
       "    <tr>\n",
       "      <th>79</th>\n",
       "      <td>80</td>\n",
       "      <td>murthy</td>\n",
       "      <td>60k</td>\n",
       "    </tr>\n",
       "    <tr>\n",
       "      <th>80</th>\n",
       "      <td>81</td>\n",
       "      <td>nithish</td>\n",
       "      <td>30k</td>\n",
       "    </tr>\n",
       "    <tr>\n",
       "      <th>81</th>\n",
       "      <td>82</td>\n",
       "      <td>nithish</td>\n",
       "      <td>30k</td>\n",
       "    </tr>\n",
       "    <tr>\n",
       "      <th>82</th>\n",
       "      <td>83</td>\n",
       "      <td>sandeep</td>\n",
       "      <td>70k</td>\n",
       "    </tr>\n",
       "    <tr>\n",
       "      <th>83</th>\n",
       "      <td>84</td>\n",
       "      <td>ram</td>\n",
       "      <td>2l</td>\n",
       "    </tr>\n",
       "    <tr>\n",
       "      <th>84</th>\n",
       "      <td>85</td>\n",
       "      <td>manoj</td>\n",
       "      <td>3l</td>\n",
       "    </tr>\n",
       "    <tr>\n",
       "      <th>85</th>\n",
       "      <td>86</td>\n",
       "      <td>nithish</td>\n",
       "      <td>80k</td>\n",
       "    </tr>\n",
       "    <tr>\n",
       "      <th>86</th>\n",
       "      <td>87</td>\n",
       "      <td>ram</td>\n",
       "      <td>40k</td>\n",
       "    </tr>\n",
       "    <tr>\n",
       "      <th>87</th>\n",
       "      <td>88</td>\n",
       "      <td>seema</td>\n",
       "      <td>60k</td>\n",
       "    </tr>\n",
       "    <tr>\n",
       "      <th>88</th>\n",
       "      <td>89</td>\n",
       "      <td>sandeep</td>\n",
       "      <td>50k</td>\n",
       "    </tr>\n",
       "    <tr>\n",
       "      <th>89</th>\n",
       "      <td>90</td>\n",
       "      <td>raja</td>\n",
       "      <td>2l</td>\n",
       "    </tr>\n",
       "    <tr>\n",
       "      <th>90</th>\n",
       "      <td>91</td>\n",
       "      <td>samba</td>\n",
       "      <td>2l</td>\n",
       "    </tr>\n",
       "    <tr>\n",
       "      <th>91</th>\n",
       "      <td>92</td>\n",
       "      <td>murthy</td>\n",
       "      <td>1l</td>\n",
       "    </tr>\n",
       "    <tr>\n",
       "      <th>92</th>\n",
       "      <td>93</td>\n",
       "      <td>nithish</td>\n",
       "      <td>90k</td>\n",
       "    </tr>\n",
       "    <tr>\n",
       "      <th>93</th>\n",
       "      <td>94</td>\n",
       "      <td>seema</td>\n",
       "      <td>70k</td>\n",
       "    </tr>\n",
       "    <tr>\n",
       "      <th>94</th>\n",
       "      <td>95</td>\n",
       "      <td>samba</td>\n",
       "      <td>30k</td>\n",
       "    </tr>\n",
       "    <tr>\n",
       "      <th>95</th>\n",
       "      <td>96</td>\n",
       "      <td>sandeep</td>\n",
       "      <td>30k</td>\n",
       "    </tr>\n",
       "    <tr>\n",
       "      <th>96</th>\n",
       "      <td>97</td>\n",
       "      <td>nithish</td>\n",
       "      <td>2l</td>\n",
       "    </tr>\n",
       "    <tr>\n",
       "      <th>97</th>\n",
       "      <td>98</td>\n",
       "      <td>sandeep</td>\n",
       "      <td>3l</td>\n",
       "    </tr>\n",
       "    <tr>\n",
       "      <th>98</th>\n",
       "      <td>99</td>\n",
       "      <td>manoj</td>\n",
       "      <td>3l</td>\n",
       "    </tr>\n",
       "  </tbody>\n",
       "</table>\n",
       "<p>99 rows × 3 columns</p>\n",
       "</div>"
      ],
      "text/plain": [
       "     0      ram  30k\n",
       "0    1    samba  80k\n",
       "1    2   murthy  50k\n",
       "2    3  nithish  70k\n",
       "3    4      ram  60k\n",
       "4    5  sandeep  70k\n",
       "5    6  nithish   2l\n",
       "6    7    seema  40k\n",
       "7    8  nithish   3l\n",
       "8    9    manoj  40k\n",
       "9   10     raja  40k\n",
       "10  11    manoj  60k\n",
       "11  12  sandeep  70k\n",
       "12  13  sandeep  80k\n",
       "13  14    manoj   1l\n",
       "14  15      ram   3l\n",
       "15  16      ram  40k\n",
       "16  17  sandeep   3l\n",
       "17  18      ram  40k\n",
       "18  19  sandeep  30k\n",
       "19  20  nithish  80k\n",
       "20  21   murthy   3l\n",
       "21  22     raja  50k\n",
       "22  23  nithish  40k\n",
       "23  24      ram   1l\n",
       "24  25     raja  50k\n",
       "25  26      ram  30k\n",
       "26  27      ram  80k\n",
       "27  28   murthy  40k\n",
       "28  29  sandeep   2l\n",
       "29  30      ram   1l\n",
       "..  ..      ...  ...\n",
       "69  70      ram   3l\n",
       "70  71    samba  90k\n",
       "71  72   murthy  50k\n",
       "72  73     raja  40k\n",
       "73  74      ram  40k\n",
       "74  75  nithish  90k\n",
       "75  76   murthy  60k\n",
       "76  77  nithish   2l\n",
       "77  78    manoj  80k\n",
       "78  79    seema  30k\n",
       "79  80   murthy  60k\n",
       "80  81  nithish  30k\n",
       "81  82  nithish  30k\n",
       "82  83  sandeep  70k\n",
       "83  84      ram   2l\n",
       "84  85    manoj   3l\n",
       "85  86  nithish  80k\n",
       "86  87      ram  40k\n",
       "87  88    seema  60k\n",
       "88  89  sandeep  50k\n",
       "89  90     raja   2l\n",
       "90  91    samba   2l\n",
       "91  92   murthy   1l\n",
       "92  93  nithish  90k\n",
       "93  94    seema  70k\n",
       "94  95    samba  30k\n",
       "95  96  sandeep  30k\n",
       "96  97  nithish   2l\n",
       "97  98  sandeep   3l\n",
       "98  99    manoj   3l\n",
       "\n",
       "[99 rows x 3 columns]"
      ]
     },
     "execution_count": 11,
     "metadata": {},
     "output_type": "execute_result"
    }
   ],
   "source": [
    "df"
   ]
  },
  {
   "cell_type": "code",
   "execution_count": 12,
   "metadata": {},
   "outputs": [
    {
     "data": {
      "text/html": [
       "<div>\n",
       "<style scoped>\n",
       "    .dataframe tbody tr th:only-of-type {\n",
       "        vertical-align: middle;\n",
       "    }\n",
       "\n",
       "    .dataframe tbody tr th {\n",
       "        vertical-align: top;\n",
       "    }\n",
       "\n",
       "    .dataframe thead th {\n",
       "        text-align: right;\n",
       "    }\n",
       "</style>\n",
       "<table border=\"1\" class=\"dataframe\">\n",
       "  <thead>\n",
       "    <tr style=\"text-align: right;\">\n",
       "      <th></th>\n",
       "      <th>id</th>\n",
       "      <th>name</th>\n",
       "      <th>sal</th>\n",
       "    </tr>\n",
       "  </thead>\n",
       "  <tbody>\n",
       "    <tr>\n",
       "      <th>0</th>\n",
       "      <td>0</td>\n",
       "      <td>ram</td>\n",
       "      <td>30k</td>\n",
       "    </tr>\n",
       "    <tr>\n",
       "      <th>1</th>\n",
       "      <td>1</td>\n",
       "      <td>samba</td>\n",
       "      <td>80k</td>\n",
       "    </tr>\n",
       "    <tr>\n",
       "      <th>2</th>\n",
       "      <td>2</td>\n",
       "      <td>murthy</td>\n",
       "      <td>50k</td>\n",
       "    </tr>\n",
       "    <tr>\n",
       "      <th>3</th>\n",
       "      <td>3</td>\n",
       "      <td>nithish</td>\n",
       "      <td>70k</td>\n",
       "    </tr>\n",
       "    <tr>\n",
       "      <th>4</th>\n",
       "      <td>4</td>\n",
       "      <td>ram</td>\n",
       "      <td>60k</td>\n",
       "    </tr>\n",
       "    <tr>\n",
       "      <th>5</th>\n",
       "      <td>5</td>\n",
       "      <td>sandeep</td>\n",
       "      <td>70k</td>\n",
       "    </tr>\n",
       "    <tr>\n",
       "      <th>6</th>\n",
       "      <td>6</td>\n",
       "      <td>nithish</td>\n",
       "      <td>2l</td>\n",
       "    </tr>\n",
       "    <tr>\n",
       "      <th>7</th>\n",
       "      <td>7</td>\n",
       "      <td>seema</td>\n",
       "      <td>40k</td>\n",
       "    </tr>\n",
       "    <tr>\n",
       "      <th>8</th>\n",
       "      <td>8</td>\n",
       "      <td>nithish</td>\n",
       "      <td>3l</td>\n",
       "    </tr>\n",
       "    <tr>\n",
       "      <th>9</th>\n",
       "      <td>9</td>\n",
       "      <td>manoj</td>\n",
       "      <td>40k</td>\n",
       "    </tr>\n",
       "  </tbody>\n",
       "</table>\n",
       "</div>"
      ],
      "text/plain": [
       "   id     name  sal\n",
       "0   0      ram  30k\n",
       "1   1    samba  80k\n",
       "2   2   murthy  50k\n",
       "3   3  nithish  70k\n",
       "4   4      ram  60k\n",
       "5   5  sandeep  70k\n",
       "6   6  nithish   2l\n",
       "7   7    seema  40k\n",
       "8   8  nithish   3l\n",
       "9   9    manoj  40k"
      ]
     },
     "execution_count": 12,
     "metadata": {},
     "output_type": "execute_result"
    }
   ],
   "source": [
    "df = pd.read_csv(\"data.csv\")\n",
    "df.head(10)"
   ]
  },
  {
   "cell_type": "code",
   "execution_count": 13,
   "metadata": {},
   "outputs": [
    {
     "data": {
      "text/plain": [
       "0     30k\n",
       "1     80k\n",
       "2     50k\n",
       "3     70k\n",
       "4     60k\n",
       "5     70k\n",
       "6      2l\n",
       "7     40k\n",
       "8      3l\n",
       "9     40k\n",
       "10    40k\n",
       "11    60k\n",
       "12    70k\n",
       "13    80k\n",
       "14     1l\n",
       "15     3l\n",
       "16    40k\n",
       "17     3l\n",
       "18    40k\n",
       "19    30k\n",
       "20    80k\n",
       "21     3l\n",
       "22    50k\n",
       "23    40k\n",
       "24     1l\n",
       "25    50k\n",
       "26    30k\n",
       "27    80k\n",
       "28    40k\n",
       "29     2l\n",
       "     ... \n",
       "70     3l\n",
       "71    90k\n",
       "72    50k\n",
       "73    40k\n",
       "74    40k\n",
       "75    90k\n",
       "76    60k\n",
       "77     2l\n",
       "78    80k\n",
       "79    30k\n",
       "80    60k\n",
       "81    30k\n",
       "82    30k\n",
       "83    70k\n",
       "84     2l\n",
       "85     3l\n",
       "86    80k\n",
       "87    40k\n",
       "88    60k\n",
       "89    50k\n",
       "90     2l\n",
       "91     2l\n",
       "92     1l\n",
       "93    90k\n",
       "94    70k\n",
       "95    30k\n",
       "96    30k\n",
       "97     2l\n",
       "98     3l\n",
       "99     3l\n",
       "Name: sal, Length: 100, dtype: object"
      ]
     },
     "execution_count": 13,
     "metadata": {},
     "output_type": "execute_result"
    }
   ],
   "source": [
    "df.sal"
   ]
  },
  {
   "cell_type": "code",
   "execution_count": 14,
   "metadata": {},
   "outputs": [
    {
     "data": {
      "text/plain": [
       "<matplotlib.axes._subplots.AxesSubplot at 0x7fdf738840f0>"
      ]
     },
     "execution_count": 14,
     "metadata": {},
     "output_type": "execute_result"
    }
   ],
   "source": [
    "df.plot()"
   ]
  },
  {
   "cell_type": "code",
   "execution_count": 15,
   "metadata": {},
   "outputs": [],
   "source": [
    "import matplotlib.pyplot as plt"
   ]
  },
  {
   "cell_type": "code",
   "execution_count": 16,
   "metadata": {},
   "outputs": [],
   "source": [
    "plt.show()"
   ]
  },
  {
   "cell_type": "code",
   "execution_count": 17,
   "metadata": {},
   "outputs": [
    {
     "data": {
      "text/plain": [
       "<matplotlib.axes._subplots.AxesSubplot at 0x7fdf73563f28>"
      ]
     },
     "execution_count": 17,
     "metadata": {},
     "output_type": "execute_result"
    },
    {
     "data": {
      "image/png": "[encoded data removed]",
      "text/plain": [
       "<Figure size 432x288 with 1 Axes>"
      ]
     },
     "metadata": {
      "needs_background": "light"
     },
     "output_type": "display_data"
    }
   ],
   "source": [
    "df.plot()"
   ]
  },
  {
   "cell_type": "code",
   "execution_count": 18,
   "metadata": {},
   "outputs": [
    {
     "data": {
      "text/plain": [
       "0     30k\n",
       "1     80k\n",
       "2     50k\n",
       "3     70k\n",
       "4     60k\n",
       "5     70k\n",
       "6      2l\n",
       "7     40k\n",
       "8      3l\n",
       "9     40k\n",
       "10    40k\n",
       "11    60k\n",
       "12    70k\n",
       "13    80k\n",
       "14     1l\n",
       "15     3l\n",
       "16    40k\n",
       "17     3l\n",
       "18    40k\n",
       "19    30k\n",
       "20    80k\n",
       "21     3l\n",
       "22    50k\n",
       "23    40k\n",
       "24     1l\n",
       "25    50k\n",
       "26    30k\n",
       "27    80k\n",
       "28    40k\n",
       "29     2l\n",
       "     ... \n",
       "70     3l\n",
       "71    90k\n",
       "72    50k\n",
       "73    40k\n",
       "74    40k\n",
       "75    90k\n",
       "76    60k\n",
       "77     2l\n",
       "78    80k\n",
       "79    30k\n",
       "80    60k\n",
       "81    30k\n",
       "82    30k\n",
       "83    70k\n",
       "84     2l\n",
       "85     3l\n",
       "86    80k\n",
       "87    40k\n",
       "88    60k\n",
       "89    50k\n",
       "90     2l\n",
       "91     2l\n",
       "92     1l\n",
       "93    90k\n",
       "94    70k\n",
       "95    30k\n",
       "96    30k\n",
       "97     2l\n",
       "98     3l\n",
       "99     3l\n",
       "Name: sal, Length: 100, dtype: object"
      ]
     },
     "execution_count": 18,
     "metadata": {},
     "output_type": "execute_result"
    }
   ],
   "source": [
    "df.sal"
   ]
  },
  {
   "cell_type": "code",
   "execution_count": 19,
   "metadata": {},
   "outputs": [],
   "source": [
    "df.sal=[int(i[:-1])*1000 if i[-1]==\"k\" else int(i[:-1])*100000 for i in df.sal]"
   ]
  },
  {
   "cell_type": "code",
   "execution_count": 20,
   "metadata": {},
   "outputs": [
    {
     "data": {
      "text/plain": [
       "0      30000\n",
       "1      80000\n",
       "2      50000\n",
       "3      70000\n",
       "4      60000\n",
       "5      70000\n",
       "6     200000\n",
       "7      40000\n",
       "8     300000\n",
       "9      40000\n",
       "10     40000\n",
       "11     60000\n",
       "12     70000\n",
       "13     80000\n",
       "14    100000\n",
       "15    300000\n",
       "16     40000\n",
       "17    300000\n",
       "18     40000\n",
       "19     30000\n",
       "20     80000\n",
       "21    300000\n",
       "22     50000\n",
       "23     40000\n",
       "24    100000\n",
       "25     50000\n",
       "26     30000\n",
       "27     80000\n",
       "28     40000\n",
       "29    200000\n",
       "       ...  \n",
       "70    300000\n",
       "71     90000\n",
       "72     50000\n",
       "73     40000\n",
       "74     40000\n",
       "75     90000\n",
       "76     60000\n",
       "77    200000\n",
       "78     80000\n",
       "79     30000\n",
       "80     60000\n",
       "81     30000\n",
       "82     30000\n",
       "83     70000\n",
       "84    200000\n",
       "85    300000\n",
       "86     80000\n",
       "87     40000\n",
       "88     60000\n",
       "89     50000\n",
       "90    200000\n",
       "91    200000\n",
       "92    100000\n",
       "93     90000\n",
       "94     70000\n",
       "95     30000\n",
       "96     30000\n",
       "97    200000\n",
       "98    300000\n",
       "99    300000\n",
       "Name: sal, Length: 100, dtype: int64"
      ]
     },
     "execution_count": 20,
     "metadata": {},
     "output_type": "execute_result"
    }
   ],
   "source": [
    "df.sal"
   ]
  },
  {
   "cell_type": "code",
   "execution_count": 21,
   "metadata": {},
   "outputs": [
    {
     "data": {
      "text/plain": [
       "<matplotlib.axes._subplots.AxesSubplot at 0x7fdf734fe0b8>"
      ]
     },
     "execution_count": 21,
     "metadata": {},
     "output_type": "execute_result"
    },
    {
     "data": {
      "image/png": "[encoded data removed]",
      "text/plain": [
       "<Figure size 432x288 with 1 Axes>"
      ]
     },
     "metadata": {
      "needs_background": "light"
     },
     "output_type": "display_data"
    }
   ],
   "source": [
    "df.plot()"
   ]
  },
  {
   "cell_type": "code",
   "execution_count": 22,
   "metadata": {},
   "outputs": [
    {
     "data": {
      "text/plain": [
       "103400.0"
      ]
     },
     "execution_count": 22,
     "metadata": {},
     "output_type": "execute_result"
    }
   ],
   "source": [
    "df.sal.mean()"
   ]
  },
  {
   "cell_type": "code",
   "execution_count": 23,
   "metadata": {},
   "outputs": [
    {
     "data": {
      "text/html": [
       "<div>\n",
       "<style scoped>\n",
       "    .dataframe tbody tr th:only-of-type {\n",
       "        vertical-align: middle;\n",
       "    }\n",
       "\n",
       "    .dataframe tbody tr th {\n",
       "        vertical-align: top;\n",
       "    }\n",
       "\n",
       "    .dataframe thead th {\n",
       "        text-align: right;\n",
       "    }\n",
       "</style>\n",
       "<table border=\"1\" class=\"dataframe\">\n",
       "  <thead>\n",
       "    <tr style=\"text-align: right;\">\n",
       "      <th></th>\n",
       "      <th>id</th>\n",
       "      <th>name</th>\n",
       "      <th>sal</th>\n",
       "    </tr>\n",
       "  </thead>\n",
       "  <tbody>\n",
       "    <tr>\n",
       "      <th>0</th>\n",
       "      <td>0</td>\n",
       "      <td>ram</td>\n",
       "      <td>30000</td>\n",
       "    </tr>\n",
       "    <tr>\n",
       "      <th>1</th>\n",
       "      <td>1</td>\n",
       "      <td>samba</td>\n",
       "      <td>80000</td>\n",
       "    </tr>\n",
       "    <tr>\n",
       "      <th>2</th>\n",
       "      <td>2</td>\n",
       "      <td>murthy</td>\n",
       "      <td>50000</td>\n",
       "    </tr>\n",
       "    <tr>\n",
       "      <th>3</th>\n",
       "      <td>3</td>\n",
       "      <td>nithish</td>\n",
       "      <td>70000</td>\n",
       "    </tr>\n",
       "    <tr>\n",
       "      <th>4</th>\n",
       "      <td>4</td>\n",
       "      <td>ram</td>\n",
       "      <td>60000</td>\n",
       "    </tr>\n",
       "    <tr>\n",
       "      <th>5</th>\n",
       "      <td>5</td>\n",
       "      <td>sandeep</td>\n",
       "      <td>70000</td>\n",
       "    </tr>\n",
       "    <tr>\n",
       "      <th>7</th>\n",
       "      <td>7</td>\n",
       "      <td>seema</td>\n",
       "      <td>40000</td>\n",
       "    </tr>\n",
       "    <tr>\n",
       "      <th>9</th>\n",
       "      <td>9</td>\n",
       "      <td>manoj</td>\n",
       "      <td>40000</td>\n",
       "    </tr>\n",
       "    <tr>\n",
       "      <th>10</th>\n",
       "      <td>10</td>\n",
       "      <td>raja</td>\n",
       "      <td>40000</td>\n",
       "    </tr>\n",
       "    <tr>\n",
       "      <th>11</th>\n",
       "      <td>11</td>\n",
       "      <td>manoj</td>\n",
       "      <td>60000</td>\n",
       "    </tr>\n",
       "    <tr>\n",
       "      <th>12</th>\n",
       "      <td>12</td>\n",
       "      <td>sandeep</td>\n",
       "      <td>70000</td>\n",
       "    </tr>\n",
       "    <tr>\n",
       "      <th>13</th>\n",
       "      <td>13</td>\n",
       "      <td>sandeep</td>\n",
       "      <td>80000</td>\n",
       "    </tr>\n",
       "    <tr>\n",
       "      <th>14</th>\n",
       "      <td>14</td>\n",
       "      <td>manoj</td>\n",
       "      <td>100000</td>\n",
       "    </tr>\n",
       "    <tr>\n",
       "      <th>16</th>\n",
       "      <td>16</td>\n",
       "      <td>ram</td>\n",
       "      <td>40000</td>\n",
       "    </tr>\n",
       "    <tr>\n",
       "      <th>18</th>\n",
       "      <td>18</td>\n",
       "      <td>ram</td>\n",
       "      <td>40000</td>\n",
       "    </tr>\n",
       "    <tr>\n",
       "      <th>19</th>\n",
       "      <td>19</td>\n",
       "      <td>sandeep</td>\n",
       "      <td>30000</td>\n",
       "    </tr>\n",
       "    <tr>\n",
       "      <th>20</th>\n",
       "      <td>20</td>\n",
       "      <td>nithish</td>\n",
       "      <td>80000</td>\n",
       "    </tr>\n",
       "    <tr>\n",
       "      <th>22</th>\n",
       "      <td>22</td>\n",
       "      <td>raja</td>\n",
       "      <td>50000</td>\n",
       "    </tr>\n",
       "    <tr>\n",
       "      <th>23</th>\n",
       "      <td>23</td>\n",
       "      <td>nithish</td>\n",
       "      <td>40000</td>\n",
       "    </tr>\n",
       "    <tr>\n",
       "      <th>24</th>\n",
       "      <td>24</td>\n",
       "      <td>ram</td>\n",
       "      <td>100000</td>\n",
       "    </tr>\n",
       "    <tr>\n",
       "      <th>25</th>\n",
       "      <td>25</td>\n",
       "      <td>raja</td>\n",
       "      <td>50000</td>\n",
       "    </tr>\n",
       "    <tr>\n",
       "      <th>26</th>\n",
       "      <td>26</td>\n",
       "      <td>ram</td>\n",
       "      <td>30000</td>\n",
       "    </tr>\n",
       "    <tr>\n",
       "      <th>27</th>\n",
       "      <td>27</td>\n",
       "      <td>ram</td>\n",
       "      <td>80000</td>\n",
       "    </tr>\n",
       "    <tr>\n",
       "      <th>28</th>\n",
       "      <td>28</td>\n",
       "      <td>murthy</td>\n",
       "      <td>40000</td>\n",
       "    </tr>\n",
       "    <tr>\n",
       "      <th>30</th>\n",
       "      <td>30</td>\n",
       "      <td>ram</td>\n",
       "      <td>100000</td>\n",
       "    </tr>\n",
       "    <tr>\n",
       "      <th>31</th>\n",
       "      <td>31</td>\n",
       "      <td>manoj</td>\n",
       "      <td>60000</td>\n",
       "    </tr>\n",
       "    <tr>\n",
       "      <th>33</th>\n",
       "      <td>33</td>\n",
       "      <td>samba</td>\n",
       "      <td>40000</td>\n",
       "    </tr>\n",
       "    <tr>\n",
       "      <th>34</th>\n",
       "      <td>34</td>\n",
       "      <td>ram</td>\n",
       "      <td>80000</td>\n",
       "    </tr>\n",
       "    <tr>\n",
       "      <th>35</th>\n",
       "      <td>35</td>\n",
       "      <td>ram</td>\n",
       "      <td>40000</td>\n",
       "    </tr>\n",
       "    <tr>\n",
       "      <th>38</th>\n",
       "      <td>38</td>\n",
       "      <td>ram</td>\n",
       "      <td>70000</td>\n",
       "    </tr>\n",
       "    <tr>\n",
       "      <th>...</th>\n",
       "      <td>...</td>\n",
       "      <td>...</td>\n",
       "      <td>...</td>\n",
       "    </tr>\n",
       "    <tr>\n",
       "      <th>60</th>\n",
       "      <td>60</td>\n",
       "      <td>seema</td>\n",
       "      <td>100000</td>\n",
       "    </tr>\n",
       "    <tr>\n",
       "      <th>61</th>\n",
       "      <td>61</td>\n",
       "      <td>manoj</td>\n",
       "      <td>30000</td>\n",
       "    </tr>\n",
       "    <tr>\n",
       "      <th>62</th>\n",
       "      <td>62</td>\n",
       "      <td>ram</td>\n",
       "      <td>60000</td>\n",
       "    </tr>\n",
       "    <tr>\n",
       "      <th>63</th>\n",
       "      <td>63</td>\n",
       "      <td>ram</td>\n",
       "      <td>40000</td>\n",
       "    </tr>\n",
       "    <tr>\n",
       "      <th>64</th>\n",
       "      <td>64</td>\n",
       "      <td>murthy</td>\n",
       "      <td>80000</td>\n",
       "    </tr>\n",
       "    <tr>\n",
       "      <th>65</th>\n",
       "      <td>65</td>\n",
       "      <td>samba</td>\n",
       "      <td>100000</td>\n",
       "    </tr>\n",
       "    <tr>\n",
       "      <th>66</th>\n",
       "      <td>66</td>\n",
       "      <td>sandeep</td>\n",
       "      <td>70000</td>\n",
       "    </tr>\n",
       "    <tr>\n",
       "      <th>68</th>\n",
       "      <td>68</td>\n",
       "      <td>murthy</td>\n",
       "      <td>90000</td>\n",
       "    </tr>\n",
       "    <tr>\n",
       "      <th>69</th>\n",
       "      <td>69</td>\n",
       "      <td>nithish</td>\n",
       "      <td>60000</td>\n",
       "    </tr>\n",
       "    <tr>\n",
       "      <th>71</th>\n",
       "      <td>71</td>\n",
       "      <td>samba</td>\n",
       "      <td>90000</td>\n",
       "    </tr>\n",
       "    <tr>\n",
       "      <th>72</th>\n",
       "      <td>72</td>\n",
       "      <td>murthy</td>\n",
       "      <td>50000</td>\n",
       "    </tr>\n",
       "    <tr>\n",
       "      <th>73</th>\n",
       "      <td>73</td>\n",
       "      <td>raja</td>\n",
       "      <td>40000</td>\n",
       "    </tr>\n",
       "    <tr>\n",
       "      <th>74</th>\n",
       "      <td>74</td>\n",
       "      <td>ram</td>\n",
       "      <td>40000</td>\n",
       "    </tr>\n",
       "    <tr>\n",
       "      <th>75</th>\n",
       "      <td>75</td>\n",
       "      <td>nithish</td>\n",
       "      <td>90000</td>\n",
       "    </tr>\n",
       "    <tr>\n",
       "      <th>76</th>\n",
       "      <td>76</td>\n",
       "      <td>murthy</td>\n",
       "      <td>60000</td>\n",
       "    </tr>\n",
       "    <tr>\n",
       "      <th>78</th>\n",
       "      <td>78</td>\n",
       "      <td>manoj</td>\n",
       "      <td>80000</td>\n",
       "    </tr>\n",
       "    <tr>\n",
       "      <th>79</th>\n",
       "      <td>79</td>\n",
       "      <td>seema</td>\n",
       "      <td>30000</td>\n",
       "    </tr>\n",
       "    <tr>\n",
       "      <th>80</th>\n",
       "      <td>80</td>\n",
       "      <td>murthy</td>\n",
       "      <td>60000</td>\n",
       "    </tr>\n",
       "    <tr>\n",
       "      <th>81</th>\n",
       "      <td>81</td>\n",
       "      <td>nithish</td>\n",
       "      <td>30000</td>\n",
       "    </tr>\n",
       "    <tr>\n",
       "      <th>82</th>\n",
       "      <td>82</td>\n",
       "      <td>nithish</td>\n",
       "      <td>30000</td>\n",
       "    </tr>\n",
       "    <tr>\n",
       "      <th>83</th>\n",
       "      <td>83</td>\n",
       "      <td>sandeep</td>\n",
       "      <td>70000</td>\n",
       "    </tr>\n",
       "    <tr>\n",
       "      <th>86</th>\n",
       "      <td>86</td>\n",
       "      <td>nithish</td>\n",
       "      <td>80000</td>\n",
       "    </tr>\n",
       "    <tr>\n",
       "      <th>87</th>\n",
       "      <td>87</td>\n",
       "      <td>ram</td>\n",
       "      <td>40000</td>\n",
       "    </tr>\n",
       "    <tr>\n",
       "      <th>88</th>\n",
       "      <td>88</td>\n",
       "      <td>seema</td>\n",
       "      <td>60000</td>\n",
       "    </tr>\n",
       "    <tr>\n",
       "      <th>89</th>\n",
       "      <td>89</td>\n",
       "      <td>sandeep</td>\n",
       "      <td>50000</td>\n",
       "    </tr>\n",
       "    <tr>\n",
       "      <th>92</th>\n",
       "      <td>92</td>\n",
       "      <td>murthy</td>\n",
       "      <td>100000</td>\n",
       "    </tr>\n",
       "    <tr>\n",
       "      <th>93</th>\n",
       "      <td>93</td>\n",
       "      <td>nithish</td>\n",
       "      <td>90000</td>\n",
       "    </tr>\n",
       "    <tr>\n",
       "      <th>94</th>\n",
       "      <td>94</td>\n",
       "      <td>seema</td>\n",
       "      <td>70000</td>\n",
       "    </tr>\n",
       "    <tr>\n",
       "      <th>95</th>\n",
       "      <td>95</td>\n",
       "      <td>samba</td>\n",
       "      <td>30000</td>\n",
       "    </tr>\n",
       "    <tr>\n",
       "      <th>96</th>\n",
       "      <td>96</td>\n",
       "      <td>sandeep</td>\n",
       "      <td>30000</td>\n",
       "    </tr>\n",
       "  </tbody>\n",
       "</table>\n",
       "<p>79 rows × 3 columns</p>\n",
       "</div>"
      ],
      "text/plain": [
       "    id     name     sal\n",
       "0    0      ram   30000\n",
       "1    1    samba   80000\n",
       "2    2   murthy   50000\n",
       "3    3  nithish   70000\n",
       "4    4      ram   60000\n",
       "5    5  sandeep   70000\n",
       "7    7    seema   40000\n",
       "9    9    manoj   40000\n",
       "10  10     raja   40000\n",
       "11  11    manoj   60000\n",
       "12  12  sandeep   70000\n",
       "13  13  sandeep   80000\n",
       "14  14    manoj  100000\n",
       "16  16      ram   40000\n",
       "18  18      ram   40000\n",
       "19  19  sandeep   30000\n",
       "20  20  nithish   80000\n",
       "22  22     raja   50000\n",
       "23  23  nithish   40000\n",
       "24  24      ram  100000\n",
       "25  25     raja   50000\n",
       "26  26      ram   30000\n",
       "27  27      ram   80000\n",
       "28  28   murthy   40000\n",
       "30  30      ram  100000\n",
       "31  31    manoj   60000\n",
       "33  33    samba   40000\n",
       "34  34      ram   80000\n",
       "35  35      ram   40000\n",
       "38  38      ram   70000\n",
       "..  ..      ...     ...\n",
       "60  60    seema  100000\n",
       "61  61    manoj   30000\n",
       "62  62      ram   60000\n",
       "63  63      ram   40000\n",
       "64  64   murthy   80000\n",
       "65  65    samba  100000\n",
       "66  66  sandeep   70000\n",
       "68  68   murthy   90000\n",
       "69  69  nithish   60000\n",
       "71  71    samba   90000\n",
       "72  72   murthy   50000\n",
       "73  73     raja   40000\n",
       "74  74      ram   40000\n",
       "75  75  nithish   90000\n",
       "76  76   murthy   60000\n",
       "78  78    manoj   80000\n",
       "79  79    seema   30000\n",
       "80  80   murthy   60000\n",
       "81  81  nithish   30000\n",
       "82  82  nithish   30000\n",
       "83  83  sandeep   70000\n",
       "86  86  nithish   80000\n",
       "87  87      ram   40000\n",
       "88  88    seema   60000\n",
       "89  89  sandeep   50000\n",
       "92  92   murthy  100000\n",
       "93  93  nithish   90000\n",
       "94  94    seema   70000\n",
       "95  95    samba   30000\n",
       "96  96  sandeep   30000\n",
       "\n",
       "[79 rows x 3 columns]"
      ]
     },
     "execution_count": 23,
     "metadata": {},
     "output_type": "execute_result"
    }
   ],
   "source": [
    "df[df.sal<df.sal.mean()]"
   ]
  },
  {
   "cell_type": "code",
   "execution_count": 25,
   "metadata": {},
   "outputs": [
    {
     "data": {
      "text/plain": [
       "id      79\n",
       "name    79\n",
       "sal     79\n",
       "dtype: int64"
      ]
     },
     "execution_count": 25,
     "metadata": {},
     "output_type": "execute_result"
    }
   ],
   "source": [
    "df[df.sal<df.sal.mean()].count()"
   ]
  },
  {
   "cell_type": "code",
   "execution_count": 26,
   "metadata": {},
   "outputs": [
    {
     "data": {
      "text/html": [
       "<div>\n",
       "<style scoped>\n",
       "    .dataframe tbody tr th:only-of-type {\n",
       "        vertical-align: middle;\n",
       "    }\n",
       "\n",
       "    .dataframe tbody tr th {\n",
       "        vertical-align: top;\n",
       "    }\n",
       "\n",
       "    .dataframe thead th {\n",
       "        text-align: right;\n",
       "    }\n",
       "</style>\n",
       "<table border=\"1\" class=\"dataframe\">\n",
       "  <thead>\n",
       "    <tr style=\"text-align: right;\">\n",
       "      <th></th>\n",
       "      <th>id</th>\n",
       "      <th>sal</th>\n",
       "    </tr>\n",
       "    <tr>\n",
       "      <th>name</th>\n",
       "      <th></th>\n",
       "      <th></th>\n",
       "    </tr>\n",
       "  </thead>\n",
       "  <tbody>\n",
       "    <tr>\n",
       "      <th>manoj</th>\n",
       "      <td>12</td>\n",
       "      <td>12</td>\n",
       "    </tr>\n",
       "    <tr>\n",
       "      <th>murthy</th>\n",
       "      <td>10</td>\n",
       "      <td>10</td>\n",
       "    </tr>\n",
       "    <tr>\n",
       "      <th>nithish</th>\n",
       "      <td>16</td>\n",
       "      <td>16</td>\n",
       "    </tr>\n",
       "    <tr>\n",
       "      <th>raja</th>\n",
       "      <td>12</td>\n",
       "      <td>12</td>\n",
       "    </tr>\n",
       "    <tr>\n",
       "      <th>ram</th>\n",
       "      <td>21</td>\n",
       "      <td>21</td>\n",
       "    </tr>\n",
       "    <tr>\n",
       "      <th>samba</th>\n",
       "      <td>7</td>\n",
       "      <td>7</td>\n",
       "    </tr>\n",
       "    <tr>\n",
       "      <th>sandeep</th>\n",
       "      <td>13</td>\n",
       "      <td>13</td>\n",
       "    </tr>\n",
       "    <tr>\n",
       "      <th>seema</th>\n",
       "      <td>9</td>\n",
       "      <td>9</td>\n",
       "    </tr>\n",
       "  </tbody>\n",
       "</table>\n",
       "</div>"
      ],
      "text/plain": [
       "         id  sal\n",
       "name            \n",
       "manoj    12   12\n",
       "murthy   10   10\n",
       "nithish  16   16\n",
       "raja     12   12\n",
       "ram      21   21\n",
       "samba     7    7\n",
       "sandeep  13   13\n",
       "seema     9    9"
      ]
     },
     "execution_count": 26,
     "metadata": {},
     "output_type": "execute_result"
    }
   ],
   "source": [
    "df.groupby(\"name\").count()"
   ]
  },
  {
   "cell_type": "code",
   "execution_count": 31,
   "metadata": {},
   "outputs": [],
   "source": [
    "group = df[[\"name\",\"sal\"]].groupby(\"name\")"
   ]
  },
  {
   "cell_type": "code",
   "execution_count": 32,
   "metadata": {},
   "outputs": [
    {
     "data": {
      "text/html": [
       "<div>\n",
       "<style scoped>\n",
       "    .dataframe tbody tr th:only-of-type {\n",
       "        vertical-align: middle;\n",
       "    }\n",
       "\n",
       "    .dataframe tbody tr th {\n",
       "        vertical-align: top;\n",
       "    }\n",
       "\n",
       "    .dataframe thead th {\n",
       "        text-align: right;\n",
       "    }\n",
       "</style>\n",
       "<table border=\"1\" class=\"dataframe\">\n",
       "  <thead>\n",
       "    <tr style=\"text-align: right;\">\n",
       "      <th></th>\n",
       "      <th>sal</th>\n",
       "    </tr>\n",
       "    <tr>\n",
       "      <th>name</th>\n",
       "      <th></th>\n",
       "    </tr>\n",
       "  </thead>\n",
       "  <tbody>\n",
       "    <tr>\n",
       "      <th>manoj</th>\n",
       "      <td>12</td>\n",
       "    </tr>\n",
       "    <tr>\n",
       "      <th>murthy</th>\n",
       "      <td>10</td>\n",
       "    </tr>\n",
       "    <tr>\n",
       "      <th>nithish</th>\n",
       "      <td>16</td>\n",
       "    </tr>\n",
       "    <tr>\n",
       "      <th>raja</th>\n",
       "      <td>12</td>\n",
       "    </tr>\n",
       "    <tr>\n",
       "      <th>ram</th>\n",
       "      <td>21</td>\n",
       "    </tr>\n",
       "    <tr>\n",
       "      <th>samba</th>\n",
       "      <td>7</td>\n",
       "    </tr>\n",
       "    <tr>\n",
       "      <th>sandeep</th>\n",
       "      <td>13</td>\n",
       "    </tr>\n",
       "    <tr>\n",
       "      <th>seema</th>\n",
       "      <td>9</td>\n",
       "    </tr>\n",
       "  </tbody>\n",
       "</table>\n",
       "</div>"
      ],
      "text/plain": [
       "         sal\n",
       "name        \n",
       "manoj     12\n",
       "murthy    10\n",
       "nithish   16\n",
       "raja      12\n",
       "ram       21\n",
       "samba      7\n",
       "sandeep   13\n",
       "seema      9"
      ]
     },
     "execution_count": 32,
     "metadata": {},
     "output_type": "execute_result"
    }
   ],
   "source": [
    "group.count()"
   ]
  },
  {
   "cell_type": "code",
   "execution_count": 33,
   "metadata": {},
   "outputs": [
    {
     "data": {
      "text/html": [
       "<div>\n",
       "<style scoped>\n",
       "    .dataframe tbody tr th:only-of-type {\n",
       "        vertical-align: middle;\n",
       "    }\n",
       "\n",
       "    .dataframe tbody tr th {\n",
       "        vertical-align: top;\n",
       "    }\n",
       "\n",
       "    .dataframe thead th {\n",
       "        text-align: right;\n",
       "    }\n",
       "</style>\n",
       "<table border=\"1\" class=\"dataframe\">\n",
       "  <thead>\n",
       "    <tr style=\"text-align: right;\">\n",
       "      <th></th>\n",
       "      <th>sal</th>\n",
       "    </tr>\n",
       "    <tr>\n",
       "      <th>name</th>\n",
       "      <th></th>\n",
       "    </tr>\n",
       "  </thead>\n",
       "  <tbody>\n",
       "    <tr>\n",
       "      <th>manoj</th>\n",
       "      <td>1770000</td>\n",
       "    </tr>\n",
       "    <tr>\n",
       "      <th>murthy</th>\n",
       "      <td>920000</td>\n",
       "    </tr>\n",
       "    <tr>\n",
       "      <th>nithish</th>\n",
       "      <td>1950000</td>\n",
       "    </tr>\n",
       "    <tr>\n",
       "      <th>raja</th>\n",
       "      <td>910000</td>\n",
       "    </tr>\n",
       "    <tr>\n",
       "      <th>ram</th>\n",
       "      <td>2100000</td>\n",
       "    </tr>\n",
       "    <tr>\n",
       "      <th>samba</th>\n",
       "      <td>640000</td>\n",
       "    </tr>\n",
       "    <tr>\n",
       "      <th>sandeep</th>\n",
       "      <td>1390000</td>\n",
       "    </tr>\n",
       "    <tr>\n",
       "      <th>seema</th>\n",
       "      <td>660000</td>\n",
       "    </tr>\n",
       "  </tbody>\n",
       "</table>\n",
       "</div>"
      ],
      "text/plain": [
       "             sal\n",
       "name            \n",
       "manoj    1770000\n",
       "murthy    920000\n",
       "nithish  1950000\n",
       "raja      910000\n",
       "ram      2100000\n",
       "samba     640000\n",
       "sandeep  1390000\n",
       "seema     660000"
      ]
     },
     "execution_count": 33,
     "metadata": {},
     "output_type": "execute_result"
    }
   ],
   "source": [
    "group.sum()"
   ]
  },
  {
   "cell_type": "code",
   "execution_count": 35,
   "metadata": {},
   "outputs": [
    {
     "data": {
      "text/html": [
       "<div>\n",
       "<style scoped>\n",
       "    .dataframe tbody tr th:only-of-type {\n",
       "        vertical-align: middle;\n",
       "    }\n",
       "\n",
       "    .dataframe tbody tr th {\n",
       "        vertical-align: top;\n",
       "    }\n",
       "\n",
       "    .dataframe thead th {\n",
       "        text-align: right;\n",
       "    }\n",
       "</style>\n",
       "<table border=\"1\" class=\"dataframe\">\n",
       "  <thead>\n",
       "    <tr style=\"text-align: right;\">\n",
       "      <th></th>\n",
       "      <th>sal</th>\n",
       "    </tr>\n",
       "    <tr>\n",
       "      <th>name</th>\n",
       "      <th></th>\n",
       "    </tr>\n",
       "  </thead>\n",
       "  <tbody>\n",
       "    <tr>\n",
       "      <th>manoj</th>\n",
       "      <td>300000</td>\n",
       "    </tr>\n",
       "    <tr>\n",
       "      <th>murthy</th>\n",
       "      <td>300000</td>\n",
       "    </tr>\n",
       "    <tr>\n",
       "      <th>nithish</th>\n",
       "      <td>300000</td>\n",
       "    </tr>\n",
       "    <tr>\n",
       "      <th>raja</th>\n",
       "      <td>200000</td>\n",
       "    </tr>\n",
       "    <tr>\n",
       "      <th>ram</th>\n",
       "      <td>300000</td>\n",
       "    </tr>\n",
       "    <tr>\n",
       "      <th>samba</th>\n",
       "      <td>200000</td>\n",
       "    </tr>\n",
       "    <tr>\n",
       "      <th>sandeep</th>\n",
       "      <td>300000</td>\n",
       "    </tr>\n",
       "    <tr>\n",
       "      <th>seema</th>\n",
       "      <td>200000</td>\n",
       "    </tr>\n",
       "  </tbody>\n",
       "</table>\n",
       "</div>"
      ],
      "text/plain": [
       "            sal\n",
       "name           \n",
       "manoj    300000\n",
       "murthy   300000\n",
       "nithish  300000\n",
       "raja     200000\n",
       "ram      300000\n",
       "samba    200000\n",
       "sandeep  300000\n",
       "seema    200000"
      ]
     },
     "execution_count": 35,
     "metadata": {},
     "output_type": "execute_result"
    }
   ],
   "source": [
    "group.max()"
   ]
  },
  {
   "cell_type": "code",
   "execution_count": 36,
   "metadata": {},
   "outputs": [
    {
     "data": {
      "text/html": [
       "<div>\n",
       "<style scoped>\n",
       "    .dataframe tbody tr th:only-of-type {\n",
       "        vertical-align: middle;\n",
       "    }\n",
       "\n",
       "    .dataframe tbody tr th {\n",
       "        vertical-align: top;\n",
       "    }\n",
       "\n",
       "    .dataframe thead th {\n",
       "        text-align: right;\n",
       "    }\n",
       "</style>\n",
       "<table border=\"1\" class=\"dataframe\">\n",
       "  <thead>\n",
       "    <tr style=\"text-align: right;\">\n",
       "      <th></th>\n",
       "      <th>sal</th>\n",
       "    </tr>\n",
       "    <tr>\n",
       "      <th>name</th>\n",
       "      <th></th>\n",
       "    </tr>\n",
       "  </thead>\n",
       "  <tbody>\n",
       "    <tr>\n",
       "      <th>manoj</th>\n",
       "      <td>30000</td>\n",
       "    </tr>\n",
       "    <tr>\n",
       "      <th>murthy</th>\n",
       "      <td>40000</td>\n",
       "    </tr>\n",
       "    <tr>\n",
       "      <th>nithish</th>\n",
       "      <td>30000</td>\n",
       "    </tr>\n",
       "    <tr>\n",
       "      <th>raja</th>\n",
       "      <td>40000</td>\n",
       "    </tr>\n",
       "    <tr>\n",
       "      <th>ram</th>\n",
       "      <td>30000</td>\n",
       "    </tr>\n",
       "    <tr>\n",
       "      <th>samba</th>\n",
       "      <td>30000</td>\n",
       "    </tr>\n",
       "    <tr>\n",
       "      <th>sandeep</th>\n",
       "      <td>30000</td>\n",
       "    </tr>\n",
       "    <tr>\n",
       "      <th>seema</th>\n",
       "      <td>30000</td>\n",
       "    </tr>\n",
       "  </tbody>\n",
       "</table>\n",
       "</div>"
      ],
      "text/plain": [
       "           sal\n",
       "name          \n",
       "manoj    30000\n",
       "murthy   40000\n",
       "nithish  30000\n",
       "raja     40000\n",
       "ram      30000\n",
       "samba    30000\n",
       "sandeep  30000\n",
       "seema    30000"
      ]
     },
     "execution_count": 36,
     "metadata": {},
     "output_type": "execute_result"
    }
   ],
   "source": [
    "group.min()"
   ]
  },
  {
   "cell_type": "code",
   "execution_count": 37,
   "metadata": {},
   "outputs": [],
   "source": [
    "group = df[[\"name\",\"sal\"]].groupby(\"name\")\n",
    "gc = group.count()"
   ]
  },
  {
   "cell_type": "code",
   "execution_count": 38,
   "metadata": {},
   "outputs": [
    {
     "data": {
      "text/html": [
       "<div>\n",
       "<style scoped>\n",
       "    .dataframe tbody tr th:only-of-type {\n",
       "        vertical-align: middle;\n",
       "    }\n",
       "\n",
       "    .dataframe tbody tr th {\n",
       "        vertical-align: top;\n",
       "    }\n",
       "\n",
       "    .dataframe thead th {\n",
       "        text-align: right;\n",
       "    }\n",
       "</style>\n",
       "<table border=\"1\" class=\"dataframe\">\n",
       "  <thead>\n",
       "    <tr style=\"text-align: right;\">\n",
       "      <th></th>\n",
       "      <th>sal</th>\n",
       "    </tr>\n",
       "    <tr>\n",
       "      <th>name</th>\n",
       "      <th></th>\n",
       "    </tr>\n",
       "  </thead>\n",
       "  <tbody>\n",
       "    <tr>\n",
       "      <th>samba</th>\n",
       "      <td>7</td>\n",
       "    </tr>\n",
       "    <tr>\n",
       "      <th>seema</th>\n",
       "      <td>9</td>\n",
       "    </tr>\n",
       "    <tr>\n",
       "      <th>murthy</th>\n",
       "      <td>10</td>\n",
       "    </tr>\n",
       "    <tr>\n",
       "      <th>manoj</th>\n",
       "      <td>12</td>\n",
       "    </tr>\n",
       "    <tr>\n",
       "      <th>raja</th>\n",
       "      <td>12</td>\n",
       "    </tr>\n",
       "    <tr>\n",
       "      <th>sandeep</th>\n",
       "      <td>13</td>\n",
       "    </tr>\n",
       "    <tr>\n",
       "      <th>nithish</th>\n",
       "      <td>16</td>\n",
       "    </tr>\n",
       "    <tr>\n",
       "      <th>ram</th>\n",
       "      <td>21</td>\n",
       "    </tr>\n",
       "  </tbody>\n",
       "</table>\n",
       "</div>"
      ],
      "text/plain": [
       "         sal\n",
       "name        \n",
       "samba      7\n",
       "seema      9\n",
       "murthy    10\n",
       "manoj     12\n",
       "raja      12\n",
       "sandeep   13\n",
       "nithish   16\n",
       "ram       21"
      ]
     },
     "execution_count": 38,
     "metadata": {},
     "output_type": "execute_result"
    }
   ],
   "source": [
    "gc.sort_values(by=\"sal\")"
   ]
  },
  {
   "cell_type": "code",
   "execution_count": 39,
   "metadata": {},
   "outputs": [
    {
     "data": {
      "text/html": [
       "<div>\n",
       "<style scoped>\n",
       "    .dataframe tbody tr th:only-of-type {\n",
       "        vertical-align: middle;\n",
       "    }\n",
       "\n",
       "    .dataframe tbody tr th {\n",
       "        vertical-align: top;\n",
       "    }\n",
       "\n",
       "    .dataframe thead th {\n",
       "        text-align: right;\n",
       "    }\n",
       "</style>\n",
       "<table border=\"1\" class=\"dataframe\">\n",
       "  <thead>\n",
       "    <tr style=\"text-align: right;\">\n",
       "      <th></th>\n",
       "      <th>sal</th>\n",
       "    </tr>\n",
       "    <tr>\n",
       "      <th>name</th>\n",
       "      <th></th>\n",
       "    </tr>\n",
       "  </thead>\n",
       "  <tbody>\n",
       "    <tr>\n",
       "      <th>samba</th>\n",
       "      <td>7</td>\n",
       "    </tr>\n",
       "    <tr>\n",
       "      <th>seema</th>\n",
       "      <td>9</td>\n",
       "    </tr>\n",
       "    <tr>\n",
       "      <th>murthy</th>\n",
       "      <td>10</td>\n",
       "    </tr>\n",
       "    <tr>\n",
       "      <th>manoj</th>\n",
       "      <td>12</td>\n",
       "    </tr>\n",
       "    <tr>\n",
       "      <th>raja</th>\n",
       "      <td>12</td>\n",
       "    </tr>\n",
       "    <tr>\n",
       "      <th>sandeep</th>\n",
       "      <td>13</td>\n",
       "    </tr>\n",
       "    <tr>\n",
       "      <th>nithish</th>\n",
       "      <td>16</td>\n",
       "    </tr>\n",
       "    <tr>\n",
       "      <th>ram</th>\n",
       "      <td>21</td>\n",
       "    </tr>\n",
       "  </tbody>\n",
       "</table>\n",
       "</div>"
      ],
      "text/plain": [
       "         sal\n",
       "name        \n",
       "samba      7\n",
       "seema      9\n",
       "murthy    10\n",
       "manoj     12\n",
       "raja      12\n",
       "sandeep   13\n",
       "nithish   16\n",
       "ram       21"
      ]
     },
     "execution_count": 39,
     "metadata": {},
     "output_type": "execute_result"
    }
   ],
   "source": [
    "df[[\"name\",\"sal\"]].groupby(\"name\").count().sort_values(by=\"sal\")"
   ]
  },
  {
   "cell_type": "code",
   "execution_count": 40,
   "metadata": {},
   "outputs": [
    {
     "data": {
      "text/plain": [
       "<matplotlib.axes._subplots.AxesSubplot at 0x7fdf730d9358>"
      ]
     },
     "execution_count": 40,
     "metadata": {},
     "output_type": "execute_result"
    },
    {
     "data": {
      "image/png": "[encoded data removed]",
      "text/plain": [
       "<Figure size 432x288 with 1 Axes>"
      ]
     },
     "metadata": {
      "needs_background": "light"
     },
     "output_type": "display_data"
    }
   ],
   "source": [
    "df[[\"name\",\"sal\"]].groupby(\"name\").count().sort_values(by=\"sal\").plot()"
   ]
  },
  {
   "cell_type": "code",
   "execution_count": 42,
   "metadata": {},
   "outputs": [
    {
     "data": {
      "text/plain": [
       "<matplotlib.axes._subplots.AxesSubplot at 0x7fdf734819b0>"
      ]
     },
     "execution_count": 42,
     "metadata": {},
     "output_type": "execute_result"
    },
    {
     "data": {
      "image/png": "[encoded data removed]",
      "text/plain": [
       "<Figure size 432x288 with 1 Axes>"
      ]
     },
     "metadata": {
      "needs_background": "light"
     },
     "output_type": "display_data"
    }
   ],
   "source": [
    "import pandas as pd\n",
    "df=pd.read_csv(\"data.csv\")\n",
    "df[[\"name\",\"sal\"]].groupby(\"name\").count().sort_values(by=\"sal\").plot(kind=\"bar\")"
   ]
  },
  {
   "cell_type": "code",
   "execution_count": null,
   "metadata": {},
   "outputs": [],
   "source": []
  }
 ],
 "metadata": {
  "kernelspec": {
   "display_name": "Python 3",
   "language": "python",
   "name": "python3"
  },
  "language_info": {
   "codemirror_mode": {
    "name": "ipython",
    "version": 3
   },
   "file_extension": ".py",
   "mimetype": "text/x-python",
   "name": "python",
   "nbconvert_exporter": "python",
   "pygments_lexer": "ipython3",
   "version": "3.7.0"
  }
 },
 "nbformat": 4,
 "nbformat_minor": 2
}
