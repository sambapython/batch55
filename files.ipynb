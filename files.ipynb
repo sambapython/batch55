{
 "cells": [
  {
   "cell_type": "code",
   "execution_count": 1,
   "metadata": {},
   "outputs": [
    {
     "data": {
      "text/plain": [
       "'/home/khyaathipython/batch55'"
      ]
     },
     "execution_count": 1,
     "metadata": {},
     "output_type": "execute_result"
    }
   ],
   "source": [
    "pwd"
   ]
  },
  {
   "cell_type": "code",
   "execution_count": 2,
   "metadata": {},
   "outputs": [],
   "source": [
    "f=open(\"data.csv\",\"w\")"
   ]
  },
  {
   "cell_type": "code",
   "execution_count": 3,
   "metadata": {},
   "outputs": [
    {
     "data": {
      "text/plain": [
       "14"
      ]
     },
     "execution_count": 3,
     "metadata": {},
     "output_type": "execute_result"
    }
   ],
   "source": [
    "f.write(\"some content..\")"
   ]
  },
  {
   "cell_type": "code",
   "execution_count": 4,
   "metadata": {},
   "outputs": [],
   "source": [
    "f.close()"
   ]
  },
  {
   "cell_type": "code",
   "execution_count": 5,
   "metadata": {},
   "outputs": [
    {
     "ename": "ValueError",
     "evalue": "I/O operation on closed file.",
     "output_type": "error",
     "traceback": [
      "\u001b[0;31m---------------------------------------------------------------------------\u001b[0m",
      "\u001b[0;31mValueError\u001b[0m                                Traceback (most recent call last)",
      "\u001b[0;32m<ipython-input-5-14d2c7d9ec99>\u001b[0m in \u001b[0;36m<module>\u001b[0;34m()\u001b[0m\n\u001b[0;32m----> 1\u001b[0;31m \u001b[0mf\u001b[0m\u001b[0;34m.\u001b[0m\u001b[0mwrite\u001b[0m\u001b[0;34m(\u001b[0m\u001b[0;34m\"some more content\"\u001b[0m\u001b[0;34m)\u001b[0m\u001b[0;34m\u001b[0m\u001b[0m\n\u001b[0m",
      "\u001b[0;31mValueError\u001b[0m: I/O operation on closed file."
     ]
    }
   ],
   "source": [
    "f.write(\"some more content\")"
   ]
  },
  {
   "cell_type": "code",
   "execution_count": 6,
   "metadata": {},
   "outputs": [],
   "source": [
    "f=open(\"data.csv\",\"w\")"
   ]
  },
  {
   "cell_type": "code",
   "execution_count": 7,
   "metadata": {},
   "outputs": [
    {
     "data": {
      "text/plain": [
       "12"
      ]
     },
     "execution_count": 7,
     "metadata": {},
     "output_type": "execute_result"
    }
   ],
   "source": [
    "f.write(\"some content\")"
   ]
  },
  {
   "cell_type": "code",
   "execution_count": 8,
   "metadata": {},
   "outputs": [],
   "source": [
    "f.flush()"
   ]
  },
  {
   "cell_type": "code",
   "execution_count": 9,
   "metadata": {},
   "outputs": [
    {
     "data": {
      "text/plain": [
       "18"
      ]
     },
     "execution_count": 9,
     "metadata": {},
     "output_type": "execute_result"
    }
   ],
   "source": [
    "f.write(\"some more content\")\n",
    "f.write(\"end of the content\")"
   ]
  },
  {
   "cell_type": "code",
   "execution_count": 10,
   "metadata": {},
   "outputs": [],
   "source": [
    "f.flush()"
   ]
  },
  {
   "cell_type": "code",
   "execution_count": 12,
   "metadata": {},
   "outputs": [
    {
     "data": {
      "text/plain": [
       "13"
      ]
     },
     "execution_count": 12,
     "metadata": {},
     "output_type": "execute_result"
    }
   ],
   "source": [
    "f.write(\"\\n thank you..\")"
   ]
  },
  {
   "cell_type": "code",
   "execution_count": 13,
   "metadata": {},
   "outputs": [],
   "source": [
    "f.flush()"
   ]
  },
  {
   "cell_type": "code",
   "execution_count": 14,
   "metadata": {},
   "outputs": [],
   "source": [
    "f=open(\"data.csv\",\"a\")"
   ]
  },
  {
   "cell_type": "code",
   "execution_count": 15,
   "metadata": {},
   "outputs": [
    {
     "data": {
      "text/plain": [
       "27"
      ]
     },
     "execution_count": 15,
     "metadata": {},
     "output_type": "execute_result"
    }
   ],
   "source": [
    "f.write(\"writing data in append mode\")"
   ]
  },
  {
   "cell_type": "code",
   "execution_count": 16,
   "metadata": {},
   "outputs": [],
   "source": [
    "f.close()"
   ]
  },
  {
   "cell_type": "code",
   "execution_count": 17,
   "metadata": {},
   "outputs": [],
   "source": [
    "f=open(\"data1.csv\",\"a\")"
   ]
  },
  {
   "cell_type": "code",
   "execution_count": 18,
   "metadata": {},
   "outputs": [
    {
     "ename": "TypeError",
     "evalue": "write() argument must be str, not list",
     "output_type": "error",
     "traceback": [
      "\u001b[0;31m---------------------------------------------------------------------------\u001b[0m",
      "\u001b[0;31mTypeError\u001b[0m                                 Traceback (most recent call last)",
      "\u001b[0;32m<ipython-input-18-b062d947c083>\u001b[0m in \u001b[0;36m<module>\u001b[0;34m()\u001b[0m\n\u001b[1;32m      1\u001b[0m \u001b[0ml\u001b[0m\u001b[0;34m=\u001b[0m\u001b[0;34m[\u001b[0m\u001b[0;34m\"jay\"\u001b[0m\u001b[0;34m,\u001b[0m\u001b[0;34m\"sai\"\u001b[0m\u001b[0;34m,\u001b[0m\u001b[0;34m\"samba\"\u001b[0m\u001b[0;34m,\u001b[0m\u001b[0;34m\"vedha\"\u001b[0m\u001b[0;34m,\u001b[0m\u001b[0;34m\"dhana\"\u001b[0m\u001b[0;34m]\u001b[0m\u001b[0;34m\u001b[0m\u001b[0m\n\u001b[0;32m----> 2\u001b[0;31m \u001b[0mf\u001b[0m\u001b[0;34m.\u001b[0m\u001b[0mwrite\u001b[0m\u001b[0;34m(\u001b[0m\u001b[0ml\u001b[0m\u001b[0;34m)\u001b[0m\u001b[0;34m\u001b[0m\u001b[0m\n\u001b[0m",
      "\u001b[0;31mTypeError\u001b[0m: write() argument must be str, not list"
     ]
    }
   ],
   "source": [
    "l=[\"jay\",\"sai\",\"samba\",\"vedha\",\"dhana\"]\n",
    "f.write(l)"
   ]
  },
  {
   "cell_type": "code",
   "execution_count": 19,
   "metadata": {},
   "outputs": [],
   "source": [
    "l=[\"jay\",\"sai\",\"samba\",\"vedha\",\"dhana\"]\n",
    "f.writelines(l)"
   ]
  },
  {
   "cell_type": "code",
   "execution_count": 20,
   "metadata": {},
   "outputs": [],
   "source": [
    "f.close()"
   ]
  },
  {
   "cell_type": "code",
   "execution_count": 1,
   "metadata": {},
   "outputs": [
    {
     "ename": "TypeError",
     "evalue": "write() argument must be str, not list",
     "output_type": "error",
     "traceback": [
      "\u001b[0;31m---------------------------------------------------------------------------\u001b[0m",
      "\u001b[0;31mTypeError\u001b[0m                                 Traceback (most recent call last)",
      "\u001b[0;32m<ipython-input-1-8805708f757a>\u001b[0m in \u001b[0;36m<module>\u001b[0;34m()\u001b[0m\n\u001b[1;32m      1\u001b[0m \u001b[0mf\u001b[0m\u001b[0;34m=\u001b[0m\u001b[0mopen\u001b[0m\u001b[0;34m(\u001b[0m\u001b[0;34m\"data.csv\"\u001b[0m\u001b[0;34m,\u001b[0m\u001b[0;34m\"w\"\u001b[0m\u001b[0;34m)\u001b[0m\u001b[0;34m\u001b[0m\u001b[0m\n\u001b[1;32m      2\u001b[0m \u001b[0mdata\u001b[0m \u001b[0;34m=\u001b[0m \u001b[0;34m[\u001b[0m\u001b[0;34m{\u001b[0m\u001b[0;34m\"name\"\u001b[0m\u001b[0;34m:\u001b[0m\u001b[0;34m\"sai\"\u001b[0m\u001b[0;34m,\u001b[0m\u001b[0;34m\"id\"\u001b[0m\u001b[0;34m:\u001b[0m\u001b[0;36m1\u001b[0m\u001b[0;34m}\u001b[0m\u001b[0;34m,\u001b[0m\u001b[0;34m{\u001b[0m\u001b[0;34m\"name\"\u001b[0m\u001b[0;34m:\u001b[0m\u001b[0;34m\"samba\"\u001b[0m\u001b[0;34m,\u001b[0m\u001b[0;34m\"id\"\u001b[0m\u001b[0;34m:\u001b[0m\u001b[0;36m2\u001b[0m\u001b[0;34m}\u001b[0m\u001b[0;34m,\u001b[0m\u001b[0;34m{\u001b[0m\u001b[0;34m\"name\"\u001b[0m\u001b[0;34m:\u001b[0m\u001b[0;34m\"jay\"\u001b[0m\u001b[0;34m,\u001b[0m\u001b[0;34m\"id\"\u001b[0m\u001b[0;34m:\u001b[0m\u001b[0;36m3\u001b[0m\u001b[0;34m}\u001b[0m\u001b[0;34m]\u001b[0m\u001b[0;34m\u001b[0m\u001b[0m\n\u001b[0;32m----> 3\u001b[0;31m \u001b[0mf\u001b[0m\u001b[0;34m.\u001b[0m\u001b[0mwrite\u001b[0m\u001b[0;34m(\u001b[0m\u001b[0mdata\u001b[0m\u001b[0;34m)\u001b[0m\u001b[0;34m\u001b[0m\u001b[0m\n\u001b[0m",
      "\u001b[0;31mTypeError\u001b[0m: write() argument must be str, not list"
     ]
    }
   ],
   "source": [
    "f=open(\"data.csv\",\"w\")\n",
    "data = [{\"name\":\"sai\",\"id\":1},{\"name\":\"samba\",\"id\":2},{\"name\":\"jay\",\"id\":3}]\n",
    "f.write(data)"
   ]
  },
  {
   "cell_type": "code",
   "execution_count": 2,
   "metadata": {},
   "outputs": [
    {
     "ename": "TypeError",
     "evalue": "write() argument must be str, not dict",
     "output_type": "error",
     "traceback": [
      "\u001b[0;31m---------------------------------------------------------------------------\u001b[0m",
      "\u001b[0;31mTypeError\u001b[0m                                 Traceback (most recent call last)",
      "\u001b[0;32m<ipython-input-2-7b045337fac9>\u001b[0m in \u001b[0;36m<module>\u001b[0;34m()\u001b[0m\n\u001b[1;32m      1\u001b[0m \u001b[0mf\u001b[0m\u001b[0;34m=\u001b[0m\u001b[0mopen\u001b[0m\u001b[0;34m(\u001b[0m\u001b[0;34m\"data.csv\"\u001b[0m\u001b[0;34m,\u001b[0m\u001b[0;34m\"w\"\u001b[0m\u001b[0;34m)\u001b[0m\u001b[0;34m\u001b[0m\u001b[0m\n\u001b[1;32m      2\u001b[0m \u001b[0mdata\u001b[0m \u001b[0;34m=\u001b[0m \u001b[0;34m[\u001b[0m\u001b[0;34m{\u001b[0m\u001b[0;34m\"name\"\u001b[0m\u001b[0;34m:\u001b[0m\u001b[0;34m\"sai\"\u001b[0m\u001b[0;34m,\u001b[0m\u001b[0;34m\"id\"\u001b[0m\u001b[0;34m:\u001b[0m\u001b[0;36m1\u001b[0m\u001b[0;34m}\u001b[0m\u001b[0;34m,\u001b[0m\u001b[0;34m{\u001b[0m\u001b[0;34m\"name\"\u001b[0m\u001b[0;34m:\u001b[0m\u001b[0;34m\"samba\"\u001b[0m\u001b[0;34m,\u001b[0m\u001b[0;34m\"id\"\u001b[0m\u001b[0;34m:\u001b[0m\u001b[0;36m2\u001b[0m\u001b[0;34m}\u001b[0m\u001b[0;34m,\u001b[0m\u001b[0;34m{\u001b[0m\u001b[0;34m\"name\"\u001b[0m\u001b[0;34m:\u001b[0m\u001b[0;34m\"jay\"\u001b[0m\u001b[0;34m,\u001b[0m\u001b[0;34m\"id\"\u001b[0m\u001b[0;34m:\u001b[0m\u001b[0;36m3\u001b[0m\u001b[0;34m}\u001b[0m\u001b[0;34m]\u001b[0m\u001b[0;34m\u001b[0m\u001b[0m\n\u001b[0;32m----> 3\u001b[0;31m \u001b[0mf\u001b[0m\u001b[0;34m.\u001b[0m\u001b[0mwritelines\u001b[0m\u001b[0;34m(\u001b[0m\u001b[0mdata\u001b[0m\u001b[0;34m)\u001b[0m\u001b[0;34m\u001b[0m\u001b[0m\n\u001b[0m",
      "\u001b[0;31mTypeError\u001b[0m: write() argument must be str, not dict"
     ]
    }
   ],
   "source": [
    "f=open(\"data.csv\",\"w\")\n",
    "data = [{\"name\":\"sai\",\"id\":1},{\"name\":\"samba\",\"id\":2},{\"name\":\"jay\",\"id\":3}]\n",
    "f.writelines(data)"
   ]
  },
  {
   "cell_type": "code",
   "execution_count": 4,
   "metadata": {},
   "outputs": [],
   "source": [
    "f=open(\"data.csv\",\"w\")\n",
    "data = [{\"name\":\"sai\",\"id\":1},{\"name\":\"samba\",\"id\":2},{\"name\":\"jay\",\"id\":3}]\n",
    "data_str = str(data)\n",
    "f.write(data_str)\n",
    "f.close()"
   ]
  },
  {
   "cell_type": "code",
   "execution_count": 6,
   "metadata": {},
   "outputs": [
    {
     "name": "stdout",
     "output_type": "stream",
     "text": [
      "[{'name': 'sai', 'id': 1}, {'name': 'samba', 'id': 2}, {'name': 'jay', 'id': 3}]\n"
     ]
    }
   ],
   "source": [
    "f=open(\"data.csv\",\"r\")\n",
    "data=f.read()\n",
    "print(data)"
   ]
  },
  {
   "cell_type": "code",
   "execution_count": 7,
   "metadata": {},
   "outputs": [
    {
     "data": {
      "text/plain": [
       "str"
      ]
     },
     "execution_count": 7,
     "metadata": {},
     "output_type": "execute_result"
    }
   ],
   "source": [
    "type(data)"
   ]
  },
  {
   "cell_type": "code",
   "execution_count": 8,
   "metadata": {},
   "outputs": [
    {
     "name": "stdout",
     "output_type": "stream",
     "text": [
      "[\n"
     ]
    }
   ],
   "source": [
    "for i in data:\n",
    "    print(i)\n",
    "    break"
   ]
  },
  {
   "cell_type": "code",
   "execution_count": 13,
   "metadata": {},
   "outputs": [],
   "source": [
    "import pickle\n",
    "f=open(\"data.csv\",\"wb\")\n",
    "data = [{\"name\":\"sai\",\"id\":1},{\"name\":\"samba\",\"id\":2},{\"name\":\"jay\",\"id\":3}]\n",
    "pickle.dump(data,f)\n",
    "f.close()"
   ]
  },
  {
   "cell_type": "code",
   "execution_count": 15,
   "metadata": {},
   "outputs": [
    {
     "name": "stdout",
     "output_type": "stream",
     "text": [
      "b'\\x80\\x03]q\\x00(}q\\x01(X\\x04\\x00\\x00\\x00nameq\\x02X\\x03\\x00\\x00\\x00saiq\\x03X\\x02\\x00\\x00\\x00idq\\x04K\\x01u}q\\x05(h\\x02X\\x05\\x00\\x00\\x00sambaq\\x06h\\x04K\\x02u}q\\x07(h\\x02X\\x03\\x00\\x00\\x00jayq\\x08h\\x04K\\x03ue.'\n"
     ]
    }
   ],
   "source": [
    "f=open(\"data.csv\",\"rb\")\n",
    "data=f.read()\n",
    "print(data)"
   ]
  },
  {
   "cell_type": "code",
   "execution_count": 16,
   "metadata": {},
   "outputs": [
    {
     "name": "stdout",
     "output_type": "stream",
     "text": [
      "[{'name': 'sai', 'id': 1}, {'name': 'samba', 'id': 2}, {'name': 'jay', 'id': 3}]\n",
      "<class 'list'>\n"
     ]
    }
   ],
   "source": [
    "import pickle\n",
    "f=open(\"data.csv\",\"rb\")\n",
    "data=pickle.load(f)\n",
    "print(data)\n",
    "print(type(data))\n",
    "f.close()"
   ]
  },
  {
   "cell_type": "code",
   "execution_count": 19,
   "metadata": {},
   "outputs": [],
   "source": [
    "data = [{\"name\":\"sai\",\"id\":1},{\"name\":\"samba\",\"id\":2},{\"name\":\"jay\",\"id\":3}]\n",
    "import json\n",
    "f=open(\"data.json\",\"w\")\n",
    "json.dump(data,f)\n",
    "f.close()"
   ]
  },
  {
   "cell_type": "code",
   "execution_count": 20,
   "metadata": {},
   "outputs": [
    {
     "name": "stdout",
     "output_type": "stream",
     "text": [
      "<class 'bytes'>\n"
     ]
    }
   ],
   "source": [
    "s=b\"dfghd\"\n",
    "print(type(s))"
   ]
  },
  {
   "cell_type": "code",
   "execution_count": 21,
   "metadata": {},
   "outputs": [
    {
     "name": "stdout",
     "output_type": "stream",
     "text": [
      "<class 'str'>\n"
     ]
    }
   ],
   "source": [
    "s=u\"dfghd\"\n",
    "print(type(s))"
   ]
  },
  {
   "cell_type": "code",
   "execution_count": 22,
   "metadata": {},
   "outputs": [
    {
     "name": "stdout",
     "output_type": "stream",
     "text": [
      "<class 'str'>\n"
     ]
    }
   ],
   "source": [
    "s=\"dfghd\"\n",
    "print(type(s))"
   ]
  },
  {
   "cell_type": "code",
   "execution_count": 23,
   "metadata": {},
   "outputs": [
    {
     "name": "stdout",
     "output_type": "stream",
     "text": [
      "[{'name': 'sai', 'id': 1}, {'name': 'samba', 'id': 2}, {'name': 'jay', 'id': 3}]\n",
      "<class 'list'>\n"
     ]
    }
   ],
   "source": [
    "import json\n",
    "f=open(\"data.json\",\"r\")\n",
    "data = json.load(f)\n",
    "print(data)\n",
    "print(type(data))"
   ]
  },
  {
   "cell_type": "code",
   "execution_count": 24,
   "metadata": {},
   "outputs": [],
   "source": [
    "import yaml"
   ]
  },
  {
   "cell_type": "code",
   "execution_count": 26,
   "metadata": {},
   "outputs": [],
   "source": [
    "import yaml\n",
    "data = [{\"name\":\"sai\",\"id\":1},{\"name\":\"samba\",\"id\":2},{\"name\":\"jay\",\"id\":3}]\n",
    "f=open(\"data.yaml\",\"w\")\n",
    "yaml.dump(data,f)\n",
    "f.close()"
   ]
  },
  {
   "cell_type": "code",
   "execution_count": 27,
   "metadata": {},
   "outputs": [
    {
     "name": "stdout",
     "output_type": "stream",
     "text": [
      "[{'id': 1, 'name': 'sai'}, {'id': 2, 'name': 'samba'}, {'id': 3, 'name': 'jay'}]\n"
     ]
    }
   ],
   "source": [
    "import yaml\n",
    "f=open(\"data.yaml\")\n",
    "data=yaml.load(f)\n",
    "print(data)"
   ]
  },
  {
   "cell_type": "code",
   "execution_count": 28,
   "metadata": {},
   "outputs": [
    {
     "data": {
      "text/plain": [
       "list"
      ]
     },
     "execution_count": 28,
     "metadata": {},
     "output_type": "execute_result"
    }
   ],
   "source": [
    "type(data)"
   ]
  },
  {
   "cell_type": "code",
   "execution_count": 30,
   "metadata": {},
   "outputs": [
    {
     "name": "stdout",
     "output_type": "stream",
     "text": [
      "b'\\xff\\xd8\\xff\\xe0\\x00\\x10JFIF\\x00\\x01\\x01\\x00\\x00\\x01\\x00\\x01\\x00\\x00\\xff\\xdb\\x00C\\x00\\x05\\x03\\x04\\x04\\x04\\x03\\x05\\x04\\x04\\x04\\x05\\x05\\x05\\x06\\x07\\x0c\\x08\\x07\\x07\\x07\\x07\\x0f\\x0b\\x0b\\t\\x0c\\x11\\x0f\\x12\\x12\\x11\\x0f\\x11\\x11\\x13\\x16\\x1c\\x17\\x13\\x14\\x1a\\x15\\x11\\x11\\x18!\\x18\\x1a\\x1d\\x1d\\x1f\\x1f\\x1f\\x13\\x17\"$\"\\x1e$\\x1c\\x1e\\x1f\\x1e\\xff\\xdb\\x00C\\x01\\x05\\x05\\x05\\x07\\x06\\x07'\n"
     ]
    }
   ],
   "source": [
    "data=open(\"fun1.jpg\",\"rb\").read()\n",
    "print(data[:100])"
   ]
  },
  {
   "cell_type": "code",
   "execution_count": 31,
   "metadata": {},
   "outputs": [],
   "source": [
    "data=open(\"fun1.jpg\",\"rb\").read()\n",
    "f=open(\"fun1_copy.jpg\",\"wb\")\n",
    "for i in range(10):\n",
    "    f.write(data)\n",
    "    f.flush()\n",
    "f.close()"
   ]
  },
  {
   "cell_type": "code",
   "execution_count": 32,
   "metadata": {},
   "outputs": [],
   "source": [
    "f=open(\"fun1_copy.jpg\",\"rb\")\n",
    "data=f.read()"
   ]
  },
  {
   "cell_type": "code",
   "execution_count": 33,
   "metadata": {},
   "outputs": [
    {
     "data": {
      "text/plain": [
       "'seema'"
      ]
     },
     "execution_count": 33,
     "metadata": {},
     "output_type": "execute_result"
    }
   ],
   "source": [
    "names=[\"samba\",\"murthy\",\"nithish\",\"raja\",\"ram\",\"sandeep\",\"manoj\",\"seema\"]\n",
    "import random\n",
    "random.choice(names)"
   ]
  },
  {
   "cell_type": "code",
   "execution_count": 34,
   "metadata": {},
   "outputs": [
    {
     "data": {
      "text/plain": [
       "'ram'"
      ]
     },
     "execution_count": 34,
     "metadata": {},
     "output_type": "execute_result"
    }
   ],
   "source": [
    "names=[\"samba\",\"murthy\",\"nithish\",\"raja\",\"ram\",\"sandeep\",\"manoj\",\"seema\"]\n",
    "import random\n",
    "random.choice(names)"
   ]
  },
  {
   "cell_type": "code",
   "execution_count": 35,
   "metadata": {},
   "outputs": [
    {
     "data": {
      "text/plain": [
       "'seema'"
      ]
     },
     "execution_count": 35,
     "metadata": {},
     "output_type": "execute_result"
    }
   ],
   "source": [
    "names=[\"samba\",\"murthy\",\"nithish\",\"raja\",\"ram\",\"sandeep\",\"manoj\",\"seema\"]\n",
    "import random\n",
    "random.choice(names)"
   ]
  },
  {
   "cell_type": "code",
   "execution_count": 36,
   "metadata": {},
   "outputs": [
    {
     "data": {
      "text/plain": [
       "'raja'"
      ]
     },
     "execution_count": 36,
     "metadata": {},
     "output_type": "execute_result"
    }
   ],
   "source": [
    "names=[\"samba\",\"murthy\",\"nithish\",\"raja\",\"ram\",\"sandeep\",\"manoj\",\"seema\"]\n",
    "import random\n",
    "random.choice(names)"
   ]
  },
  {
   "cell_type": "code",
   "execution_count": 37,
   "metadata": {},
   "outputs": [
    {
     "data": {
      "text/plain": [
       "'samba'"
      ]
     },
     "execution_count": 37,
     "metadata": {},
     "output_type": "execute_result"
    }
   ],
   "source": [
    "names=[\"samba\",\"murthy\",\"nithish\",\"raja\",\"ram\",\"sandeep\",\"manoj\",\"seema\"]\n",
    "import random\n",
    "random.choice(names)"
   ]
  },
  {
   "cell_type": "code",
   "execution_count": 38,
   "metadata": {},
   "outputs": [
    {
     "name": "stdout",
     "output_type": "stream",
     "text": [
      "1,ram,80k\n"
     ]
    }
   ],
   "source": [
    "names=[\"samba\",\"murthy\",\"nithish\",\"raja\",\"ram\",\"sandeep\",\"manoj\",\"seema\"]\n",
    "salaries=[\"30k\",\"40k\",\"50k\",\"60k\",\"70k\",\"80k\",\"90k\",\"1l\",\"2l\",\"3l\"]\n",
    "row=\"%s,%s,%s\\n\"%(1,random.choice(names),random.choice(salaries))\n",
    "print(row)"
   ]
  },
  {
   "cell_type": "code",
   "execution_count": 39,
   "metadata": {},
   "outputs": [],
   "source": [
    "names=[\"samba\",\"murthy\",\"nithish\",\"raja\",\"ram\",\"sandeep\",\"manoj\",\"seema\"]\n",
    "salaries=[\"30k\",\"40k\",\"50k\",\"60k\",\"70k\",\"80k\",\"90k\",\"1l\",\"2l\",\"3l\"]\n",
    "f=open(\"data.csv\",\"w\")\n",
    "for i in range(100):\n",
    "    row=\"%s,%s,%s\\n\"%(i,random.choice(names),random.choice(salaries))\n",
    "    f.write(row)\n",
    "    f.flush()\n",
    "f.close()"
   ]
  },
  {
   "cell_type": "code",
   "execution_count": 41,
   "metadata": {},
   "outputs": [
    {
     "name": "stdout",
     "output_type": "stream",
     "text": [
      "0,ram,30k\n",
      "1,samba,80k\n",
      "2,murthy,50k\n",
      "3,nithish,70k\n",
      "4,ram,60k\n",
      "5,sandeep,70k\n",
      "6,nithish,2l\n",
      "7,seema,40k\n",
      "8,nithish,3l\n",
      "9,manoj,40k\n",
      "10,raja,40k\n",
      "11,manoj,60k\n",
      "12,sandeep,70k\n",
      "13,sandeep,80k\n",
      "14,manoj,1l\n",
      "15,ram,3l\n",
      "16,ram,40k\n",
      "17,sandeep,3l\n",
      "18,ram,40k\n",
      "19,sandeep,30k\n",
      "20,nithish,80k\n",
      "21,murthy,3l\n",
      "22,raja,50k\n",
      "23,nithish,40k\n",
      "24,ram,1l\n",
      "25,raja,50k\n",
      "26,ram,30k\n",
      "27,ram,80k\n",
      "28,murthy,40k\n",
      "29,sandeep,2l\n",
      "30,ram,1l\n",
      "31,manoj,60k\n",
      "32,manoj,3l\n",
      "33,samba,40k\n",
      "34,ram,80k\n",
      "35,ram,40k\n",
      "36,seema,2l\n",
      "37,ram,3l\n",
      "38,ram,70k\n",
      "39,raja,90k\n",
      "40,seema,50k\n",
      "41,raja,90k\n",
      "42,raja,80k\n",
      "43,nithish,80k\n",
      "44,raja,50k\n",
      "45,nithish,2l\n",
      "46,ram,50k\n",
      "47,manoj,1l\n",
      "48,nithish,2l\n",
      "49,sandeep,50k\n",
      "50,raja,70k\n",
      "51,sandeep,70k\n",
      "52,raja,60k\n",
      "53,ram,1l\n",
      "54,seema,40k\n",
      "55,raja,90k\n",
      "56,samba,1l\n",
      "57,murthy,90k\n",
      "58,manoj,1l\n",
      "59,seema,70k\n",
      "60,seema,1l\n",
      "61,manoj,30k\n",
      "62,ram,60k\n",
      "63,ram,40k\n",
      "64,murthy,80k\n",
      "65,samba,1l\n",
      "66,sandeep,70k\n",
      "67,manoj,3l\n",
      "68,murthy,90k\n",
      "69,nithish,60k\n",
      "70,ram,3l\n",
      "71,samba,90k\n",
      "72,murthy,50k\n",
      "73,raja,40k\n",
      "74,ram,40k\n",
      "75,nithish,90k\n",
      "76,murthy,60k\n",
      "77,nithish,2l\n",
      "78,manoj,80k\n",
      "79,seema,30k\n",
      "80,murthy,60k\n",
      "81,nithish,30k\n",
      "82,nithish,30k\n",
      "83,sandeep,70k\n",
      "84,ram,2l\n",
      "85,manoj,3l\n",
      "86,nithish,80k\n",
      "87,ram,40k\n",
      "88,seema,60k\n",
      "89,sandeep,50k\n",
      "90,raja,2l\n",
      "91,samba,2l\n",
      "92,murthy,1l\n",
      "93,nithish,90k\n",
      "94,seema,70k\n",
      "95,samba,30k\n",
      "96,sandeep,30k\n",
      "97,nithish,2l\n",
      "98,sandeep,3l\n",
      "99,manoj,3l\n",
      " <class 'str'>\n"
     ]
    }
   ],
   "source": [
    "f=open(\"data.csv\")\n",
    "data=f.read()\n",
    "print(data,type(data))"
   ]
  },
  {
   "cell_type": "code",
   "execution_count": 42,
   "metadata": {},
   "outputs": [
    {
     "data": {
      "text/plain": [
       "'0,ram,30k\\n1,samba,80k\\n2,murthy,50k\\n3,nithish,70k\\n4,ram,60k\\n5,sandeep,70k\\n6,nithish,2l\\n7,seema,40k\\n8,nithish,3l\\n9,manoj,40k\\n10,raja,40k\\n11,manoj,60k\\n12,sandeep,70k\\n13,sandeep,80k\\n14,manoj,1l\\n15,ram,3l\\n16,ram,40k\\n17,sandeep,3l\\n18,ram,40k\\n19,sandeep,30k\\n20,nithish,80k\\n21,murthy,3l\\n22,raja,50k\\n23,nithish,40k\\n24,ram,1l\\n25,raja,50k\\n26,ram,30k\\n27,ram,80k\\n28,murthy,40k\\n29,sandeep,2l\\n30,ram,1l\\n31,manoj,60k\\n32,manoj,3l\\n33,samba,40k\\n34,ram,80k\\n35,ram,40k\\n36,seema,2l\\n37,ram,3l\\n38,ram,70k\\n39,raja,90k\\n40,seema,50k\\n41,raja,90k\\n42,raja,80k\\n43,nithish,80k\\n44,raja,50k\\n45,nithish,2l\\n46,ram,50k\\n47,manoj,1l\\n48,nithish,2l\\n49,sandeep,50k\\n50,raja,70k\\n51,sandeep,70k\\n52,raja,60k\\n53,ram,1l\\n54,seema,40k\\n55,raja,90k\\n56,samba,1l\\n57,murthy,90k\\n58,manoj,1l\\n59,seema,70k\\n60,seema,1l\\n61,manoj,30k\\n62,ram,60k\\n63,ram,40k\\n64,murthy,80k\\n65,samba,1l\\n66,sandeep,70k\\n67,manoj,3l\\n68,murthy,90k\\n69,nithish,60k\\n70,ram,3l\\n71,samba,90k\\n72,murthy,50k\\n73,raja,40k\\n74,ram,40k\\n75,nithish,90k\\n76,murthy,60k\\n77,nithish,2l\\n78,manoj,80k\\n79,seema,30k\\n80,murthy,60k\\n81,nithish,30k\\n82,nithish,30k\\n83,sandeep,70k\\n84,ram,2l\\n85,manoj,3l\\n86,nithish,80k\\n87,ram,40k\\n88,seema,60k\\n89,sandeep,50k\\n90,raja,2l\\n91,samba,2l\\n92,murthy,1l\\n93,nithish,90k\\n94,seema,70k\\n95,samba,30k\\n96,sandeep,30k\\n97,nithish,2l\\n98,sandeep,3l\\n99,manoj,3l\\n'"
      ]
     },
     "execution_count": 42,
     "metadata": {},
     "output_type": "execute_result"
    }
   ],
   "source": [
    "data"
   ]
  },
  {
   "cell_type": "code",
   "execution_count": 43,
   "metadata": {},
   "outputs": [
    {
     "name": "stdout",
     "output_type": "stream",
     "text": [
      "['0,ram,30k\\n', '1,samba,80k\\n', '2,murthy,50k\\n', '3,nithish,70k\\n', '4,ram,60k\\n', '5,sandeep,70k\\n', '6,nithish,2l\\n', '7,seema,40k\\n', '8,nithish,3l\\n', '9,manoj,40k\\n', '10,raja,40k\\n', '11,manoj,60k\\n', '12,sandeep,70k\\n', '13,sandeep,80k\\n', '14,manoj,1l\\n', '15,ram,3l\\n', '16,ram,40k\\n', '17,sandeep,3l\\n', '18,ram,40k\\n', '19,sandeep,30k\\n', '20,nithish,80k\\n', '21,murthy,3l\\n', '22,raja,50k\\n', '23,nithish,40k\\n', '24,ram,1l\\n', '25,raja,50k\\n', '26,ram,30k\\n', '27,ram,80k\\n', '28,murthy,40k\\n', '29,sandeep,2l\\n', '30,ram,1l\\n', '31,manoj,60k\\n', '32,manoj,3l\\n', '33,samba,40k\\n', '34,ram,80k\\n', '35,ram,40k\\n', '36,seema,2l\\n', '37,ram,3l\\n', '38,ram,70k\\n', '39,raja,90k\\n', '40,seema,50k\\n', '41,raja,90k\\n', '42,raja,80k\\n', '43,nithish,80k\\n', '44,raja,50k\\n', '45,nithish,2l\\n', '46,ram,50k\\n', '47,manoj,1l\\n', '48,nithish,2l\\n', '49,sandeep,50k\\n', '50,raja,70k\\n', '51,sandeep,70k\\n', '52,raja,60k\\n', '53,ram,1l\\n', '54,seema,40k\\n', '55,raja,90k\\n', '56,samba,1l\\n', '57,murthy,90k\\n', '58,manoj,1l\\n', '59,seema,70k\\n', '60,seema,1l\\n', '61,manoj,30k\\n', '62,ram,60k\\n', '63,ram,40k\\n', '64,murthy,80k\\n', '65,samba,1l\\n', '66,sandeep,70k\\n', '67,manoj,3l\\n', '68,murthy,90k\\n', '69,nithish,60k\\n', '70,ram,3l\\n', '71,samba,90k\\n', '72,murthy,50k\\n', '73,raja,40k\\n', '74,ram,40k\\n', '75,nithish,90k\\n', '76,murthy,60k\\n', '77,nithish,2l\\n', '78,manoj,80k\\n', '79,seema,30k\\n', '80,murthy,60k\\n', '81,nithish,30k\\n', '82,nithish,30k\\n', '83,sandeep,70k\\n', '84,ram,2l\\n', '85,manoj,3l\\n', '86,nithish,80k\\n', '87,ram,40k\\n', '88,seema,60k\\n', '89,sandeep,50k\\n', '90,raja,2l\\n', '91,samba,2l\\n', '92,murthy,1l\\n', '93,nithish,90k\\n', '94,seema,70k\\n', '95,samba,30k\\n', '96,sandeep,30k\\n', '97,nithish,2l\\n', '98,sandeep,3l\\n', '99,manoj,3l\\n'] <class 'list'>\n"
     ]
    }
   ],
   "source": [
    "f=open(\"data.csv\")\n",
    "data=f.readlines()\n",
    "print(data,type(data))"
   ]
  },
  {
   "cell_type": "code",
   "execution_count": 44,
   "metadata": {},
   "outputs": [
    {
     "name": "stdout",
     "output_type": "stream",
     "text": [
      "0,ram,30k\n",
      " <class 'str'>\n"
     ]
    }
   ],
   "source": [
    "f=open(\"data.csv\")\n",
    "data=f.readline()\n",
    "print(data,type(data))"
   ]
  },
  {
   "cell_type": "code",
   "execution_count": 45,
   "metadata": {},
   "outputs": [
    {
     "name": "stdout",
     "output_type": "stream",
     "text": [
      "1,samba,80k\n",
      " <class 'str'>\n"
     ]
    }
   ],
   "source": [
    "data=f.readline()\n",
    "print(data,type(data))"
   ]
  },
  {
   "cell_type": "code",
   "execution_count": 46,
   "metadata": {},
   "outputs": [
    {
     "name": "stdout",
     "output_type": "stream",
     "text": [
      "2,murthy,50k\n",
      " <class 'str'>\n"
     ]
    }
   ],
   "source": [
    "data=f.readline()\n",
    "print(data,type(data))"
   ]
  },
  {
   "cell_type": "code",
   "execution_count": 47,
   "metadata": {},
   "outputs": [
    {
     "name": "stdout",
     "output_type": "stream",
     "text": [
      "3,nithish,70k\n",
      " <class 'str'>\n"
     ]
    }
   ],
   "source": [
    "data=f.readline()\n",
    "print(data,type(data))"
   ]
  },
  {
   "cell_type": "code",
   "execution_count": 48,
   "metadata": {},
   "outputs": [
    {
     "name": "stdout",
     "output_type": "stream",
     "text": [
      "4,ram,60k\n",
      " <class 'str'>\n"
     ]
    }
   ],
   "source": [
    "data=f.readline()\n",
    "print(data,type(data))"
   ]
  },
  {
   "cell_type": "code",
   "execution_count": 49,
   "metadata": {},
   "outputs": [
    {
     "name": "stdout",
     "output_type": "stream",
     "text": [
      "0,ram,30k\n",
      "\n"
     ]
    }
   ],
   "source": [
    "f=open(\"data.csv\")\n",
    "for row in f:\n",
    "    print(row)\n",
    "    break"
   ]
  },
  {
   "cell_type": "code",
   "execution_count": 50,
   "metadata": {},
   "outputs": [
    {
     "name": "stdout",
     "output_type": "stream",
     "text": [
      "0,ram,30k\n",
      "\n",
      "1,samba,80k\n",
      "\n",
      "2,murthy,50k\n",
      "\n",
      "3,nithish,70k\n",
      "\n",
      "4,ram,60k\n",
      "\n",
      "5,sandeep,70k\n",
      "\n",
      "6,nithish,2l\n",
      "\n",
      "7,seema,40k\n",
      "\n",
      "8,nithish,3l\n",
      "\n",
      "9,manoj,40k\n",
      "\n",
      "10,raja,40k\n",
      "\n",
      "11,manoj,60k\n",
      "\n",
      "12,sandeep,70k\n",
      "\n",
      "13,sandeep,80k\n",
      "\n",
      "14,manoj,1l\n",
      "\n",
      "15,ram,3l\n",
      "\n",
      "16,ram,40k\n",
      "\n",
      "17,sandeep,3l\n",
      "\n",
      "18,ram,40k\n",
      "\n",
      "19,sandeep,30k\n",
      "\n",
      "20,nithish,80k\n",
      "\n",
      "21,murthy,3l\n",
      "\n",
      "22,raja,50k\n",
      "\n",
      "23,nithish,40k\n",
      "\n",
      "24,ram,1l\n",
      "\n",
      "25,raja,50k\n",
      "\n",
      "26,ram,30k\n",
      "\n",
      "27,ram,80k\n",
      "\n",
      "28,murthy,40k\n",
      "\n",
      "29,sandeep,2l\n",
      "\n",
      "30,ram,1l\n",
      "\n",
      "31,manoj,60k\n",
      "\n",
      "32,manoj,3l\n",
      "\n",
      "33,samba,40k\n",
      "\n",
      "34,ram,80k\n",
      "\n",
      "35,ram,40k\n",
      "\n",
      "36,seema,2l\n",
      "\n",
      "37,ram,3l\n",
      "\n",
      "38,ram,70k\n",
      "\n",
      "39,raja,90k\n",
      "\n",
      "40,seema,50k\n",
      "\n",
      "41,raja,90k\n",
      "\n",
      "42,raja,80k\n",
      "\n",
      "43,nithish,80k\n",
      "\n",
      "44,raja,50k\n",
      "\n",
      "45,nithish,2l\n",
      "\n",
      "46,ram,50k\n",
      "\n",
      "47,manoj,1l\n",
      "\n",
      "48,nithish,2l\n",
      "\n",
      "49,sandeep,50k\n",
      "\n",
      "50,raja,70k\n",
      "\n",
      "51,sandeep,70k\n",
      "\n",
      "52,raja,60k\n",
      "\n",
      "53,ram,1l\n",
      "\n",
      "54,seema,40k\n",
      "\n",
      "55,raja,90k\n",
      "\n",
      "56,samba,1l\n",
      "\n",
      "57,murthy,90k\n",
      "\n",
      "58,manoj,1l\n",
      "\n",
      "59,seema,70k\n",
      "\n",
      "60,seema,1l\n",
      "\n",
      "61,manoj,30k\n",
      "\n",
      "62,ram,60k\n",
      "\n",
      "63,ram,40k\n",
      "\n",
      "64,murthy,80k\n",
      "\n",
      "65,samba,1l\n",
      "\n",
      "66,sandeep,70k\n",
      "\n",
      "67,manoj,3l\n",
      "\n",
      "68,murthy,90k\n",
      "\n",
      "69,nithish,60k\n",
      "\n",
      "70,ram,3l\n",
      "\n",
      "71,samba,90k\n",
      "\n",
      "72,murthy,50k\n",
      "\n",
      "73,raja,40k\n",
      "\n",
      "74,ram,40k\n",
      "\n",
      "75,nithish,90k\n",
      "\n",
      "76,murthy,60k\n",
      "\n",
      "77,nithish,2l\n",
      "\n",
      "78,manoj,80k\n",
      "\n",
      "79,seema,30k\n",
      "\n",
      "80,murthy,60k\n",
      "\n",
      "81,nithish,30k\n",
      "\n",
      "82,nithish,30k\n",
      "\n",
      "83,sandeep,70k\n",
      "\n",
      "84,ram,2l\n",
      "\n",
      "85,manoj,3l\n",
      "\n",
      "86,nithish,80k\n",
      "\n",
      "87,ram,40k\n",
      "\n",
      "88,seema,60k\n",
      "\n",
      "89,sandeep,50k\n",
      "\n",
      "90,raja,2l\n",
      "\n",
      "91,samba,2l\n",
      "\n",
      "92,murthy,1l\n",
      "\n",
      "93,nithish,90k\n",
      "\n",
      "94,seema,70k\n",
      "\n",
      "95,samba,30k\n",
      "\n",
      "96,sandeep,30k\n",
      "\n",
      "97,nithish,2l\n",
      "\n",
      "98,sandeep,3l\n",
      "\n",
      "99,manoj,3l\n",
      "\n"
     ]
    }
   ],
   "source": [
    "f=open(\"data.csv\")\n",
    "for row in f:\n",
    "    print(row)\n",
    "    "
   ]
  },
  {
   "cell_type": "code",
   "execution_count": null,
   "metadata": {},
   "outputs": [],
   "source": []
  }
 ],
 "metadata": {
  "kernelspec": {
   "display_name": "Python 3",
   "language": "python",
   "name": "python3"
  },
  "language_info": {
   "codemirror_mode": {
    "name": "ipython",
    "version": 3
   },
   "file_extension": ".py",
   "mimetype": "text/x-python",
   "name": "python",
   "nbconvert_exporter": "python",
   "pygments_lexer": "ipython3",
   "version": "3.7.0"
  }
 },
 "nbformat": 4,
 "nbformat_minor": 2
}
