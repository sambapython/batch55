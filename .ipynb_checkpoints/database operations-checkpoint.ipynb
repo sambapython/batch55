{
 "cells": [
  {
   "cell_type": "code",
   "execution_count": 1,
   "metadata": {},
   "outputs": [],
   "source": [
    "# sqlite3\n",
    "# this is preinstaled and pre configured for any os\n",
    "# and the module sqlite3 is installed defaultly with python"
   ]
  },
  {
   "cell_type": "code",
   "execution_count": 2,
   "metadata": {},
   "outputs": [
    {
     "data": {
      "text/plain": [
       "<sqlite3.Connection at 0x7fc648584e30>"
      ]
     },
     "execution_count": 2,
     "metadata": {},
     "output_type": "execute_result"
    }
   ],
   "source": [
    "import sqlite3\n",
    "sqlite3.connect(\"db1.sqlite3\")"
   ]
  },
  {
   "cell_type": "code",
   "execution_count": 3,
   "metadata": {},
   "outputs": [
    {
     "data": {
      "text/plain": [
       "<sqlite3.Cursor at 0x7fc6484f79d0>"
      ]
     },
     "execution_count": 3,
     "metadata": {},
     "output_type": "execute_result"
    }
   ],
   "source": [
    "import sqlite3\n",
    "con = sqlite3.connect(\"db1.sqlite3\")\n",
    "cur=con.cursor()\n",
    "q=\"create table customer(id int, name varchar(250))\"\n",
    "cur.execute(q)"
   ]
  },
  {
   "cell_type": "code",
   "execution_count": 4,
   "metadata": {},
   "outputs": [
    {
     "data": {
      "text/plain": [
       "<sqlite3.Cursor at 0x7fc6484f79d0>"
      ]
     },
     "execution_count": 4,
     "metadata": {},
     "output_type": "execute_result"
    }
   ],
   "source": [
    "q=\"insert into customer(id,name) values(1,'jay')\"\n",
    "cur.execute(q)"
   ]
  },
  {
   "cell_type": "code",
   "execution_count": 5,
   "metadata": {},
   "outputs": [],
   "source": [
    "con.commit()"
   ]
  },
  {
   "cell_type": "code",
   "execution_count": 7,
   "metadata": {},
   "outputs": [
    {
     "data": {
      "text/plain": [
       "<sqlite3.Cursor at 0x7fc6484f79d0>"
      ]
     },
     "execution_count": 7,
     "metadata": {},
     "output_type": "execute_result"
    }
   ],
   "source": [
    "q=\"update customer set name='JAYARAM'\"\n",
    "cur.execute(q)"
   ]
  },
  {
   "cell_type": "code",
   "execution_count": 8,
   "metadata": {},
   "outputs": [],
   "source": [
    "con.commit()"
   ]
  },
  {
   "cell_type": "code",
   "execution_count": 9,
   "metadata": {},
   "outputs": [],
   "source": [
    "names = [\"samba\",\"murthy\",\"nithish\",\"raja\",\"ram\",\"sandeep\",\"manoj\",\"seema\"]\n",
    "import random\n",
    "for i in range(2,100):\n",
    "    q=\"insert into customer(id,name) values(%s,'%s')\"%(i,random.choice(names))\n",
    "    cur.execute(q)\n",
    "con.commit()"
   ]
  },
  {
   "cell_type": "code",
   "execution_count": 10,
   "metadata": {},
   "outputs": [],
   "source": [
    "q=\"update customer set name='jay' where id=1\"\n",
    "cur.execute(q)\n",
    "con.commit()"
   ]
  },
  {
   "cell_type": "code",
   "execution_count": 11,
   "metadata": {},
   "outputs": [],
   "source": [
    "q=\"delete from customer where id=1\"\n",
    "cur.execute(q)\n",
    "con.commit()"
   ]
  },
  {
   "cell_type": "code",
   "execution_count": 12,
   "metadata": {},
   "outputs": [
    {
     "data": {
      "text/plain": [
       "<sqlite3.Cursor at 0x7fc6484f79d0>"
      ]
     },
     "execution_count": 12,
     "metadata": {},
     "output_type": "execute_result"
    }
   ],
   "source": [
    "q=\"select * from customer\"\n",
    "cur.execute(q)"
   ]
  },
  {
   "cell_type": "code",
   "execution_count": 15,
   "metadata": {},
   "outputs": [
    {
     "name": "stdout",
     "output_type": "stream",
     "text": [
      "[(2, 'ram'), (3, 'manoj'), (4, 'nithish'), (5, 'seema'), (6, 'manoj'), (7, 'ram'), (8, 'nithish'), (9, 'murthy'), (10, 'nithish'), (11, 'murthy'), (12, 'murthy'), (13, 'ram'), (14, 'sandeep'), (15, 'ram'), (16, 'nithish'), (17, 'seema'), (18, 'seema'), (19, 'murthy'), (20, 'samba'), (21, 'manoj'), (22, 'raja'), (23, 'manoj'), (24, 'nithish'), (25, 'sandeep'), (26, 'sandeep'), (27, 'seema'), (28, 'manoj'), (29, 'raja'), (30, 'manoj'), (31, 'manoj'), (32, 'raja'), (33, 'nithish'), (34, 'ram'), (35, 'samba'), (36, 'sandeep'), (37, 'samba'), (38, 'seema'), (39, 'raja'), (40, 'manoj'), (41, 'murthy'), (42, 'manoj'), (43, 'seema'), (44, 'nithish'), (45, 'sandeep'), (46, 'manoj'), (47, 'manoj'), (48, 'seema'), (49, 'nithish'), (50, 'samba'), (51, 'nithish'), (52, 'sandeep'), (53, 'nithish'), (54, 'ram'), (55, 'seema'), (56, 'samba'), (57, 'murthy'), (58, 'murthy'), (59, 'seema'), (60, 'sandeep'), (61, 'manoj'), (62, 'seema'), (63, 'murthy'), (64, 'sandeep'), (65, 'nithish'), (66, 'ram'), (67, 'murthy'), (68, 'manoj'), (69, 'sandeep'), (70, 'sandeep'), (71, 'sandeep'), (72, 'ram'), (73, 'manoj'), (74, 'samba'), (75, 'samba'), (76, 'raja'), (77, 'raja'), (78, 'ram'), (79, 'seema'), (80, 'raja'), (81, 'raja'), (82, 'nithish'), (83, 'ram'), (84, 'sandeep'), (85, 'sandeep'), (86, 'nithish'), (87, 'manoj'), (88, 'raja'), (89, 'nithish'), (90, 'raja'), (91, 'samba'), (92, 'seema'), (93, 'manoj'), (94, 'nithish'), (95, 'manoj'), (96, 'sandeep'), (97, 'raja'), (98, 'raja'), (99, 'nithish')]\n"
     ]
    }
   ],
   "source": [
    "q=\"select * from customer\"\n",
    "cur.execute(q)\n",
    "data = cur.fetchall()\n",
    "print(data)"
   ]
  },
  {
   "cell_type": "code",
   "execution_count": 19,
   "metadata": {},
   "outputs": [
    {
     "name": "stdout",
     "output_type": "stream",
     "text": [
      "[('samba', 8), ('murthy', 9), ('ram', 10), ('raja', 12), ('seema', 12), ('sandeep', 14), ('nithish', 16), ('manoj', 17)]\n"
     ]
    }
   ],
   "source": [
    "q=\"select name,count(*) as co from customer group by name order by co\"\n",
    "cur.execute(q)\n",
    "data = cur.fetchall()\n",
    "print(data)"
   ]
  },
  {
   "cell_type": "code",
   "execution_count": null,
   "metadata": {},
   "outputs": [],
   "source": []
  }
 ],
 "metadata": {
  "kernelspec": {
   "display_name": "Python 3",
   "language": "python",
   "name": "python3"
  },
  "language_info": {
   "codemirror_mode": {
    "name": "ipython",
    "version": 3
   },
   "file_extension": ".py",
   "mimetype": "text/x-python",
   "name": "python",
   "nbconvert_exporter": "python",
   "pygments_lexer": "ipython3",
   "version": "3.7.0"
  }
 },
 "nbformat": 4,
 "nbformat_minor": 2
}
