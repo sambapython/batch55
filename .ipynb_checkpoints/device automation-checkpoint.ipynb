{
 "cells": [
  {
   "cell_type": "code",
   "execution_count": 1,
   "metadata": {},
   "outputs": [],
   "source": [
    "import os"
   ]
  },
  {
   "cell_type": "code",
   "execution_count": 3,
   "metadata": {},
   "outputs": [
    {
     "data": {
      "text/plain": [
       "0"
      ]
     },
     "execution_count": 3,
     "metadata": {},
     "output_type": "execute_result"
    }
   ],
   "source": [
    "os.system(\"mkdir folder1\")"
   ]
  },
  {
   "cell_type": "code",
   "execution_count": 4,
   "metadata": {},
   "outputs": [
    {
     "data": {
      "text/plain": [
       "256"
      ]
     },
     "execution_count": 4,
     "metadata": {},
     "output_type": "execute_result"
    }
   ],
   "source": [
    "os.system(\"mkdir folder1\")"
   ]
  },
  {
   "cell_type": "code",
   "execution_count": 6,
   "metadata": {},
   "outputs": [
    {
     "data": {
      "text/plain": [
       "'.'"
      ]
     },
     "execution_count": 6,
     "metadata": {},
     "output_type": "execute_result"
    }
   ],
   "source": [
    "os.curdir"
   ]
  },
  {
   "cell_type": "code",
   "execution_count": 7,
   "metadata": {},
   "outputs": [],
   "source": [
    "os.mkdir(\"folder2\")"
   ]
  },
  {
   "cell_type": "code",
   "execution_count": 8,
   "metadata": {},
   "outputs": [],
   "source": [
    "os.rmdir(\"folder1\")"
   ]
  },
  {
   "cell_type": "code",
   "execution_count": 9,
   "metadata": {},
   "outputs": [
    {
     "data": {
      "text/plain": [
       "0"
      ]
     },
     "execution_count": 9,
     "metadata": {},
     "output_type": "execute_result"
    }
   ],
   "source": [
    "os.system(\"rm -rf folder2\")"
   ]
  },
  {
   "cell_type": "code",
   "execution_count": 10,
   "metadata": {},
   "outputs": [
    {
     "data": {
      "text/plain": [
       "0"
      ]
     },
     "execution_count": 10,
     "metadata": {},
     "output_type": "execute_result"
    }
   ],
   "source": [
    "os.system(\"ls -l\")"
   ]
  },
  {
   "cell_type": "code",
   "execution_count": 12,
   "metadata": {},
   "outputs": [],
   "source": [
    "from subprocess import check_output"
   ]
  },
  {
   "cell_type": "code",
   "execution_count": 14,
   "metadata": {},
   "outputs": [],
   "source": [
    "res = check_output([\"ls\", \"-l\"])"
   ]
  },
  {
   "cell_type": "code",
   "execution_count": 15,
   "metadata": {},
   "outputs": [
    {
     "name": "stdout",
     "output_type": "stream",
     "text": [
      "b'total 10120\\n-rw-rw-r-- 1 khyaathipython khyaathipython     185 Mar 18 09:02 app.py\\n-rw-rw-r-- 1 khyaathipython khyaathipython      14 Feb  8 08:42 a.py\\n-rw-r--r-- 1 khyaathipython khyaathipython   27269 Mar  6 08:42 Assignments.odt\\n-rw-r--r-- 1 khyaathipython khyaathipython      21 Feb 18 09:12 a.txt\\n-rw-rw-r-- 1 khyaathipython khyaathipython     182 Mar 15 09:07 cls1.py\\n-rw-r--r-- 1 khyaathipython khyaathipython   52987 Mar  2 09:33 comprehensions.ipynb\\n-rw-r--r-- 1 khyaathipython khyaathipython   38200 Feb 22 08:15 conditional statements.ipynb\\n-rw-r--r-- 1 khyaathipython khyaathipython      21 Mar 11 09:06 data1.csv\\n-rw-r--r-- 1 khyaathipython khyaathipython      54 Mar 15 08:34 data1.txt\\n-rw-r--r-- 1 khyaathipython khyaathipython    8379 Mar 14 08:32 database operations.ipynb\\n-rw-r--r-- 1 khyaathipython khyaathipython    1285 Mar 13 08:56 data.csv\\n-rw-r--r-- 1 khyaathipython khyaathipython      80 Mar 12 08:37 data.json\\n-rw-r--r-- 1 khyaathipython khyaathipython   89270 Feb 19 08:26 datatypes.ipynb\\n-rw-r--r-- 1 khyaathipython khyaathipython      65 Mar 12 08:47 data.yaml\\n-rw-r--r-- 1 khyaathipython khyaathipython    8192 Mar 13 08:51 db1.sqlite3\\n-rw-rw-r-- 1 khyaathipython khyaathipython   22961 Feb 18 09:20 db.jpg\\n-rw-r--r-- 1 khyaathipython khyaathipython    2527 Mar 19 08:15 debice automation.ipynb\\n-rw-rw-r-- 1 khyaathipython khyaathipython     186 Mar  8 08:42 dict_1.py\\n-rw-r--r-- 1 khyaathipython khyaathipython   46000 Mar  8 09:24 dictionary.ipynb\\n-rw-r--r-- 1 khyaathipython khyaathipython   43309 Mar 15 08:49 exception handling.ipynb\\n-rw-rw-r-- 1 khyaathipython khyaathipython   38198 Feb 12 08:48 exection process.jpg\\n-rw-rw-r-- 1 khyaathipython khyaathipython     773 Mar 15 08:33 exp1.py\\n-rw-rw-r-- 1 khyaathipython khyaathipython     141 Mar 15 09:01 exp2.py\\n-rw-rw-r-- 1 khyaathipython khyaathipython   24381 Mar 11 08:58 file_op.jpg\\n-rw-r--r-- 1 khyaathipython khyaathipython  160130 Mar 13 09:07 files.ipynb\\n-rw-rw-r-- 1 khyaathipython khyaathipython   36166 Feb 26 09:14 fun1.jpg\\n-rw-rw-r-- 1 khyaathipython khyaathipython   34212 Feb 27 08:51 fun2.jpg\\n-rw-rw-r-- 1 khyaathipython khyaathipython   38939 Feb 27 08:52 fun3.jpg\\n-rw-rw-r-- 1 khyaathipython khyaathipython   81426 Feb 27 09:10 fun4.jpg\\n-rw-r--r-- 1 khyaathipython khyaathipython   66961 Mar 17 07:43 functions.ipynb\\n-rw-rw-r-- 1 khyaathipython khyaathipython     348 Feb 25 08:57 fun.py\\n-rw-rw-r-- 1 khyaathipython khyaathipython      69 Feb 13 08:31 hello1.py\\n-rw-rw-r-- 1 khyaathipython khyaathipython      18 Feb 12 08:38 hello.html\\n-rw-r--r-- 1 khyaathipython khyaathipython   17291 Feb  8 09:07 hello.ipynb\\n-rw-rw-r-- 1 khyaathipython khyaathipython   39662 Feb 13 07:25 int_mem1.jpg\\n-rw-rw-r-- 1 khyaathipython khyaathipython   31581 Feb 12 09:00 int_mem.jpg\\n-rw-rw-r-- 1 khyaathipython khyaathipython   20632 Mar  1 08:36 list append.jpg\\n-rw-rw-r-- 1 khyaathipython khyaathipython   21454 Mar  1 08:39 list append with list copy.jpg\\n-rw-rw-r-- 1 khyaathipython khyaathipython   21454 Mar  1 08:38 list append with reference.jpg\\n-rw-rw-r-- 1 khyaathipython khyaathipython   49229 Feb 13 08:56 list_mem1.jpg\\n-rw-r--r-- 1 khyaathipython khyaathipython   40559 Mar  8 08:33 lists.ipynb\\n-rw-r--r-- 1 khyaathipython khyaathipython   49350 Feb 23 09:05 looping statements.ipynb\\n-rw-rw-r-- 1 khyaathipython khyaathipython     113 Mar 18 09:01 mod1.py\\ndrwxr-xr-x 4 khyaathipython khyaathipython    4096 Mar 11 08:42 modules\\n-rw-r--r-- 1 khyaathipython khyaathipython  114286 Mar 18 09:06 oops.ipynb\\n-rw-rw-r-- 1 khyaathipython khyaathipython 8716904 Mar 12 08:45 Practical Python and OpenCV.pdf\\n-rw-rw-r-- 1 khyaathipython khyaathipython   21508 Feb 13 07:28 program dealting with sdecondary media.jpg\\ndrwxr-xr-x 2 khyaathipython khyaathipython    4096 Mar 18 09:02 __pycache__\\n-rw-rw-r-- 1 khyaathipython khyaathipython    3805 Feb  8 09:04 python course content\\n-rw-r--r-- 1 khyaathipython khyaathipython    9333 Feb 13 09:03 python features.ipynb\\n-rw-r--r-- 1 khyaathipython khyaathipython      10 Feb  8 09:09 README.md\\n-rw-r--r-- 1 khyaathipython khyaathipython   22957 Mar  9 09:12 set.ipynb\\n-rw-r--r-- 1 khyaathipython khyaathipython   93209 Mar  7 09:06 string functions.ipynb\\n-rw-rw-r-- 1 khyaathipython khyaathipython   54744 Feb 13 08:44 string_mem1.jpg\\n-rw-rw-r-- 1 khyaathipython khyaathipython   42581 Feb 13 08:36 string_mem.jpg\\n-rw-r--r-- 1 khyaathipython khyaathipython   13444 Feb 28 09:05 strings.ipynb\\n-rw-r--r-- 1 khyaathipython khyaathipython     555 Feb 12 08:20 Untitled.ipynb\\n'\n"
     ]
    }
   ],
   "source": [
    "print(res)"
   ]
  },
  {
   "cell_type": "code",
   "execution_count": 17,
   "metadata": {},
   "outputs": [
    {
     "name": "stdout",
     "output_type": "stream",
     "text": [
      "b'USER       PID %CPU %MEM    VSZ   RSS TTY      STAT START   TIME COMMAND'\n"
     ]
    }
   ],
   "source": [
    "all_processes=check_output([\"ps\", \"-aux\"])\n",
    "                            \n",
    "for i in all_processes.splitlines():\n",
    "    print(i)\n",
    "    break"
   ]
  },
  {
   "cell_type": "code",
   "execution_count": 19,
   "metadata": {},
   "outputs": [
    {
     "name": "stdout",
     "output_type": "stream",
     "text": [
      "b'khyaath+  2168  0.9  1.4 697648 75040 tty2     Sl+  08:18   0:01 /usr/bin/mono /usr/lib/pinta/Pinta.exe'\n"
     ]
    }
   ],
   "source": [
    "all_processes=check_output([\"ps\", \"-aux\"])\n",
    "                            \n",
    "for i in all_processes.splitlines():\n",
    "    if b'pinta' in i:\n",
    "        print(i)"
   ]
  },
  {
   "cell_type": "code",
   "execution_count": 20,
   "metadata": {},
   "outputs": [
    {
     "name": "stdout",
     "output_type": "stream",
     "text": [
      "[b'khyaath+', b'2168', b'0.8', b'1.4', b'697648', b'75040', b'tty2', b'Sl+', b'08:18', b'0:01', b'/usr/bin/mono', b'/usr/lib/pinta/Pinta.exe']\n"
     ]
    }
   ],
   "source": [
    "all_processes=check_output([\"ps\", \"-aux\"])\n",
    "                            \n",
    "for i in all_processes.splitlines():\n",
    "    if b'pinta' in i:\n",
    "        print(i.split())"
   ]
  },
  {
   "cell_type": "code",
   "execution_count": 21,
   "metadata": {},
   "outputs": [
    {
     "name": "stdout",
     "output_type": "stream",
     "text": [
      "b'2168'\n"
     ]
    }
   ],
   "source": [
    "all_processes=check_output([\"ps\", \"-aux\"])\n",
    "                            \n",
    "for i in all_processes.splitlines():\n",
    "    if b'pinta' in i:\n",
    "        print(i.split()[1])"
   ]
  },
  {
   "cell_type": "code",
   "execution_count": 26,
   "metadata": {},
   "outputs": [],
   "source": [
    "all_processes=check_output([\"ps\", \"-aux\"])\n",
    "                            \n",
    "for i in all_processes.splitlines():\n",
    "    if b'pinta' in i:\n",
    "        process_id = i.split()[1]\n",
    "        s=\"%s\"%process_id\n",
    "        s1 = s[1:].strip(\"'\")\n",
    "        os.system(\"kill -9 %s\"%s1)\n",
    "        "
   ]
  },
  {
   "cell_type": "code",
   "execution_count": 27,
   "metadata": {},
   "outputs": [
    {
     "name": "stdout",
     "output_type": "stream",
     "text": [
      "<github.MainClass.Github object at 0x7f860c1ca470>\n"
     ]
    }
   ],
   "source": [
    "username=\"\"\n",
    "password=\"\"\n",
    "from github import Github\n",
    "git = Github(username, password)\n",
    "print(git)"
   ]
  },
  {
   "cell_type": "code",
   "execution_count": 29,
   "metadata": {},
   "outputs": [],
   "source": [
    "user=git.get_user()"
   ]
  },
  {
   "cell_type": "code",
   "execution_count": 30,
   "metadata": {},
   "outputs": [
    {
     "data": {
      "text/plain": [
       "AuthenticatedUser(login=None)"
      ]
     },
     "execution_count": 30,
     "metadata": {},
     "output_type": "execute_result"
    }
   ],
   "source": [
    "user"
   ]
  },
  {
   "cell_type": "code",
   "execution_count": 32,
   "metadata": {},
   "outputs": [
    {
     "data": {
      "text/plain": [
       "Repository(full_name=\"sandeepkumar406/repo1\")"
      ]
     },
     "execution_count": 32,
     "metadata": {},
     "output_type": "execute_result"
    }
   ],
   "source": [
    "user.create_repo(\"repo1\")"
   ]
  },
  {
   "cell_type": "code",
   "execution_count": 33,
   "metadata": {},
   "outputs": [],
   "source": [
    "repo2 = user.create_repo(\"repo2\")"
   ]
  },
  {
   "cell_type": "code",
   "execution_count": 34,
   "metadata": {},
   "outputs": [
    {
     "data": {
      "text/plain": [
       "Repository(full_name=\"sandeepkumar406/repo2\")"
      ]
     },
     "execution_count": 34,
     "metadata": {},
     "output_type": "execute_result"
    }
   ],
   "source": [
    "repo2"
   ]
  },
  {
   "cell_type": "code",
   "execution_count": 36,
   "metadata": {},
   "outputs": [
    {
     "data": {
      "text/plain": [
       "{'content': ContentFile(path=\"f1\"),\n",
       " 'commit': Commit(sha=\"20a97fc2842900e42746a60ee85fafb446a393ff\")}"
      ]
     },
     "execution_count": 36,
     "metadata": {},
     "output_type": "execute_result"
    }
   ],
   "source": [
    "repo2.create_file(\"f1\",\"data\",\"commit message\")"
   ]
  },
  {
   "cell_type": "code",
   "execution_count": 37,
   "metadata": {},
   "outputs": [],
   "source": [
    "import requests"
   ]
  },
  {
   "cell_type": "code",
   "execution_count": 40,
   "metadata": {},
   "outputs": [
    {
     "name": "stdout",
     "output_type": "stream",
     "text": [
      "<Response [200]>\n"
     ]
    }
   ],
   "source": [
    "url = \"http://api.github.com/users/sandeepkumar406/repos\"\n",
    "resp = requests.get(url)\n",
    "print(resp)"
   ]
  },
  {
   "cell_type": "code",
   "execution_count": 41,
   "metadata": {},
   "outputs": [
    {
     "data": {
      "text/plain": [
       "[{'id': 176411567,\n",
       "  'node_id': 'MDEwOlJlcG9zaXRvcnkxNzY0MTE1Njc=',\n",
       "  'name': 'repo1',\n",
       "  'full_name': 'sandeepkumar406/repo1',\n",
       "  'private': False,\n",
       "  'owner': {'login': 'sandeepkumar406',\n",
       "   'id': 47802595,\n",
       "   'node_id': 'MDQ6VXNlcjQ3ODAyNTk1',\n",
       "   'avatar_url': 'https://avatars2.githubusercontent.com/u/47802595?v=4',\n",
       "   'gravatar_id': '',\n",
       "   'url': 'https://api.github.com/users/sandeepkumar406',\n",
       "   'html_url': 'https://github.com/sandeepkumar406',\n",
       "   'followers_url': 'https://api.github.com/users/sandeepkumar406/followers',\n",
       "   'following_url': 'https://api.github.com/users/sandeepkumar406/following{/other_user}',\n",
       "   'gists_url': 'https://api.github.com/users/sandeepkumar406/gists{/gist_id}',\n",
       "   'starred_url': 'https://api.github.com/users/sandeepkumar406/starred{/owner}{/repo}',\n",
       "   'subscriptions_url': 'https://api.github.com/users/sandeepkumar406/subscriptions',\n",
       "   'organizations_url': 'https://api.github.com/users/sandeepkumar406/orgs',\n",
       "   'repos_url': 'https://api.github.com/users/sandeepkumar406/repos',\n",
       "   'events_url': 'https://api.github.com/users/sandeepkumar406/events{/privacy}',\n",
       "   'received_events_url': 'https://api.github.com/users/sandeepkumar406/received_events',\n",
       "   'type': 'User',\n",
       "   'site_admin': False},\n",
       "  'html_url': 'https://github.com/sandeepkumar406/repo1',\n",
       "  'description': None,\n",
       "  'fork': False,\n",
       "  'url': 'https://api.github.com/repos/sandeepkumar406/repo1',\n",
       "  'forks_url': 'https://api.github.com/repos/sandeepkumar406/repo1/forks',\n",
       "  'keys_url': 'https://api.github.com/repos/sandeepkumar406/repo1/keys{/key_id}',\n",
       "  'collaborators_url': 'https://api.github.com/repos/sandeepkumar406/repo1/collaborators{/collaborator}',\n",
       "  'teams_url': 'https://api.github.com/repos/sandeepkumar406/repo1/teams',\n",
       "  'hooks_url': 'https://api.github.com/repos/sandeepkumar406/repo1/hooks',\n",
       "  'issue_events_url': 'https://api.github.com/repos/sandeepkumar406/repo1/issues/events{/number}',\n",
       "  'events_url': 'https://api.github.com/repos/sandeepkumar406/repo1/events',\n",
       "  'assignees_url': 'https://api.github.com/repos/sandeepkumar406/repo1/assignees{/user}',\n",
       "  'branches_url': 'https://api.github.com/repos/sandeepkumar406/repo1/branches{/branch}',\n",
       "  'tags_url': 'https://api.github.com/repos/sandeepkumar406/repo1/tags',\n",
       "  'blobs_url': 'https://api.github.com/repos/sandeepkumar406/repo1/git/blobs{/sha}',\n",
       "  'git_tags_url': 'https://api.github.com/repos/sandeepkumar406/repo1/git/tags{/sha}',\n",
       "  'git_refs_url': 'https://api.github.com/repos/sandeepkumar406/repo1/git/refs{/sha}',\n",
       "  'trees_url': 'https://api.github.com/repos/sandeepkumar406/repo1/git/trees{/sha}',\n",
       "  'statuses_url': 'https://api.github.com/repos/sandeepkumar406/repo1/statuses/{sha}',\n",
       "  'languages_url': 'https://api.github.com/repos/sandeepkumar406/repo1/languages',\n",
       "  'stargazers_url': 'https://api.github.com/repos/sandeepkumar406/repo1/stargazers',\n",
       "  'contributors_url': 'https://api.github.com/repos/sandeepkumar406/repo1/contributors',\n",
       "  'subscribers_url': 'https://api.github.com/repos/sandeepkumar406/repo1/subscribers',\n",
       "  'subscription_url': 'https://api.github.com/repos/sandeepkumar406/repo1/subscription',\n",
       "  'commits_url': 'https://api.github.com/repos/sandeepkumar406/repo1/commits{/sha}',\n",
       "  'git_commits_url': 'https://api.github.com/repos/sandeepkumar406/repo1/git/commits{/sha}',\n",
       "  'comments_url': 'https://api.github.com/repos/sandeepkumar406/repo1/comments{/number}',\n",
       "  'issue_comment_url': 'https://api.github.com/repos/sandeepkumar406/repo1/issues/comments{/number}',\n",
       "  'contents_url': 'https://api.github.com/repos/sandeepkumar406/repo1/contents/{+path}',\n",
       "  'compare_url': 'https://api.github.com/repos/sandeepkumar406/repo1/compare/{base}...{head}',\n",
       "  'merges_url': 'https://api.github.com/repos/sandeepkumar406/repo1/merges',\n",
       "  'archive_url': 'https://api.github.com/repos/sandeepkumar406/repo1/{archive_format}{/ref}',\n",
       "  'downloads_url': 'https://api.github.com/repos/sandeepkumar406/repo1/downloads',\n",
       "  'issues_url': 'https://api.github.com/repos/sandeepkumar406/repo1/issues{/number}',\n",
       "  'pulls_url': 'https://api.github.com/repos/sandeepkumar406/repo1/pulls{/number}',\n",
       "  'milestones_url': 'https://api.github.com/repos/sandeepkumar406/repo1/milestones{/number}',\n",
       "  'notifications_url': 'https://api.github.com/repos/sandeepkumar406/repo1/notifications{?since,all,participating}',\n",
       "  'labels_url': 'https://api.github.com/repos/sandeepkumar406/repo1/labels{/name}',\n",
       "  'releases_url': 'https://api.github.com/repos/sandeepkumar406/repo1/releases{/id}',\n",
       "  'deployments_url': 'https://api.github.com/repos/sandeepkumar406/repo1/deployments',\n",
       "  'created_at': '2019-03-19T02:58:57Z',\n",
       "  'updated_at': '2019-03-19T02:58:57Z',\n",
       "  'pushed_at': '2019-03-19T02:58:57Z',\n",
       "  'git_url': 'git://github.com/sandeepkumar406/repo1.git',\n",
       "  'ssh_url': 'git@github.com:sandeepkumar406/repo1.git',\n",
       "  'clone_url': 'https://github.com/sandeepkumar406/repo1.git',\n",
       "  'svn_url': 'https://github.com/sandeepkumar406/repo1',\n",
       "  'homepage': None,\n",
       "  'size': 0,\n",
       "  'stargazers_count': 0,\n",
       "  'watchers_count': 0,\n",
       "  'language': None,\n",
       "  'has_issues': True,\n",
       "  'has_projects': True,\n",
       "  'has_downloads': True,\n",
       "  'has_wiki': True,\n",
       "  'has_pages': False,\n",
       "  'forks_count': 0,\n",
       "  'mirror_url': None,\n",
       "  'archived': False,\n",
       "  'open_issues_count': 0,\n",
       "  'license': None,\n",
       "  'forks': 0,\n",
       "  'open_issues': 0,\n",
       "  'watchers': 0,\n",
       "  'default_branch': 'master'},\n",
       " {'id': 176411637,\n",
       "  'node_id': 'MDEwOlJlcG9zaXRvcnkxNzY0MTE2Mzc=',\n",
       "  'name': 'repo2',\n",
       "  'full_name': 'sandeepkumar406/repo2',\n",
       "  'private': False,\n",
       "  'owner': {'login': 'sandeepkumar406',\n",
       "   'id': 47802595,\n",
       "   'node_id': 'MDQ6VXNlcjQ3ODAyNTk1',\n",
       "   'avatar_url': 'https://avatars2.githubusercontent.com/u/47802595?v=4',\n",
       "   'gravatar_id': '',\n",
       "   'url': 'https://api.github.com/users/sandeepkumar406',\n",
       "   'html_url': 'https://github.com/sandeepkumar406',\n",
       "   'followers_url': 'https://api.github.com/users/sandeepkumar406/followers',\n",
       "   'following_url': 'https://api.github.com/users/sandeepkumar406/following{/other_user}',\n",
       "   'gists_url': 'https://api.github.com/users/sandeepkumar406/gists{/gist_id}',\n",
       "   'starred_url': 'https://api.github.com/users/sandeepkumar406/starred{/owner}{/repo}',\n",
       "   'subscriptions_url': 'https://api.github.com/users/sandeepkumar406/subscriptions',\n",
       "   'organizations_url': 'https://api.github.com/users/sandeepkumar406/orgs',\n",
       "   'repos_url': 'https://api.github.com/users/sandeepkumar406/repos',\n",
       "   'events_url': 'https://api.github.com/users/sandeepkumar406/events{/privacy}',\n",
       "   'received_events_url': 'https://api.github.com/users/sandeepkumar406/received_events',\n",
       "   'type': 'User',\n",
       "   'site_admin': False},\n",
       "  'html_url': 'https://github.com/sandeepkumar406/repo2',\n",
       "  'description': None,\n",
       "  'fork': False,\n",
       "  'url': 'https://api.github.com/repos/sandeepkumar406/repo2',\n",
       "  'forks_url': 'https://api.github.com/repos/sandeepkumar406/repo2/forks',\n",
       "  'keys_url': 'https://api.github.com/repos/sandeepkumar406/repo2/keys{/key_id}',\n",
       "  'collaborators_url': 'https://api.github.com/repos/sandeepkumar406/repo2/collaborators{/collaborator}',\n",
       "  'teams_url': 'https://api.github.com/repos/sandeepkumar406/repo2/teams',\n",
       "  'hooks_url': 'https://api.github.com/repos/sandeepkumar406/repo2/hooks',\n",
       "  'issue_events_url': 'https://api.github.com/repos/sandeepkumar406/repo2/issues/events{/number}',\n",
       "  'events_url': 'https://api.github.com/repos/sandeepkumar406/repo2/events',\n",
       "  'assignees_url': 'https://api.github.com/repos/sandeepkumar406/repo2/assignees{/user}',\n",
       "  'branches_url': 'https://api.github.com/repos/sandeepkumar406/repo2/branches{/branch}',\n",
       "  'tags_url': 'https://api.github.com/repos/sandeepkumar406/repo2/tags',\n",
       "  'blobs_url': 'https://api.github.com/repos/sandeepkumar406/repo2/git/blobs{/sha}',\n",
       "  'git_tags_url': 'https://api.github.com/repos/sandeepkumar406/repo2/git/tags{/sha}',\n",
       "  'git_refs_url': 'https://api.github.com/repos/sandeepkumar406/repo2/git/refs{/sha}',\n",
       "  'trees_url': 'https://api.github.com/repos/sandeepkumar406/repo2/git/trees{/sha}',\n",
       "  'statuses_url': 'https://api.github.com/repos/sandeepkumar406/repo2/statuses/{sha}',\n",
       "  'languages_url': 'https://api.github.com/repos/sandeepkumar406/repo2/languages',\n",
       "  'stargazers_url': 'https://api.github.com/repos/sandeepkumar406/repo2/stargazers',\n",
       "  'contributors_url': 'https://api.github.com/repos/sandeepkumar406/repo2/contributors',\n",
       "  'subscribers_url': 'https://api.github.com/repos/sandeepkumar406/repo2/subscribers',\n",
       "  'subscription_url': 'https://api.github.com/repos/sandeepkumar406/repo2/subscription',\n",
       "  'commits_url': 'https://api.github.com/repos/sandeepkumar406/repo2/commits{/sha}',\n",
       "  'git_commits_url': 'https://api.github.com/repos/sandeepkumar406/repo2/git/commits{/sha}',\n",
       "  'comments_url': 'https://api.github.com/repos/sandeepkumar406/repo2/comments{/number}',\n",
       "  'issue_comment_url': 'https://api.github.com/repos/sandeepkumar406/repo2/issues/comments{/number}',\n",
       "  'contents_url': 'https://api.github.com/repos/sandeepkumar406/repo2/contents/{+path}',\n",
       "  'compare_url': 'https://api.github.com/repos/sandeepkumar406/repo2/compare/{base}...{head}',\n",
       "  'merges_url': 'https://api.github.com/repos/sandeepkumar406/repo2/merges',\n",
       "  'archive_url': 'https://api.github.com/repos/sandeepkumar406/repo2/{archive_format}{/ref}',\n",
       "  'downloads_url': 'https://api.github.com/repos/sandeepkumar406/repo2/downloads',\n",
       "  'issues_url': 'https://api.github.com/repos/sandeepkumar406/repo2/issues{/number}',\n",
       "  'pulls_url': 'https://api.github.com/repos/sandeepkumar406/repo2/pulls{/number}',\n",
       "  'milestones_url': 'https://api.github.com/repos/sandeepkumar406/repo2/milestones{/number}',\n",
       "  'notifications_url': 'https://api.github.com/repos/sandeepkumar406/repo2/notifications{?since,all,participating}',\n",
       "  'labels_url': 'https://api.github.com/repos/sandeepkumar406/repo2/labels{/name}',\n",
       "  'releases_url': 'https://api.github.com/repos/sandeepkumar406/repo2/releases{/id}',\n",
       "  'deployments_url': 'https://api.github.com/repos/sandeepkumar406/repo2/deployments',\n",
       "  'created_at': '2019-03-19T02:59:22Z',\n",
       "  'updated_at': '2019-03-19T03:02:20Z',\n",
       "  'pushed_at': '2019-03-19T03:02:18Z',\n",
       "  'git_url': 'git://github.com/sandeepkumar406/repo2.git',\n",
       "  'ssh_url': 'git@github.com:sandeepkumar406/repo2.git',\n",
       "  'clone_url': 'https://github.com/sandeepkumar406/repo2.git',\n",
       "  'svn_url': 'https://github.com/sandeepkumar406/repo2',\n",
       "  'homepage': None,\n",
       "  'size': 0,\n",
       "  'stargazers_count': 0,\n",
       "  'watchers_count': 0,\n",
       "  'language': None,\n",
       "  'has_issues': True,\n",
       "  'has_projects': True,\n",
       "  'has_downloads': True,\n",
       "  'has_wiki': True,\n",
       "  'has_pages': False,\n",
       "  'forks_count': 0,\n",
       "  'mirror_url': None,\n",
       "  'archived': False,\n",
       "  'open_issues_count': 0,\n",
       "  'license': None,\n",
       "  'forks': 0,\n",
       "  'open_issues': 0,\n",
       "  'watchers': 0,\n",
       "  'default_branch': 'master'},\n",
       " {'id': 171598221,\n",
       "  'node_id': 'MDEwOlJlcG9zaXRvcnkxNzE1OTgyMjE=',\n",
       "  'name': 'sandeep_python',\n",
       "  'full_name': 'sandeepkumar406/sandeep_python',\n",
       "  'private': False,\n",
       "  'owner': {'login': 'sandeepkumar406',\n",
       "   'id': 47802595,\n",
       "   'node_id': 'MDQ6VXNlcjQ3ODAyNTk1',\n",
       "   'avatar_url': 'https://avatars2.githubusercontent.com/u/47802595?v=4',\n",
       "   'gravatar_id': '',\n",
       "   'url': 'https://api.github.com/users/sandeepkumar406',\n",
       "   'html_url': 'https://github.com/sandeepkumar406',\n",
       "   'followers_url': 'https://api.github.com/users/sandeepkumar406/followers',\n",
       "   'following_url': 'https://api.github.com/users/sandeepkumar406/following{/other_user}',\n",
       "   'gists_url': 'https://api.github.com/users/sandeepkumar406/gists{/gist_id}',\n",
       "   'starred_url': 'https://api.github.com/users/sandeepkumar406/starred{/owner}{/repo}',\n",
       "   'subscriptions_url': 'https://api.github.com/users/sandeepkumar406/subscriptions',\n",
       "   'organizations_url': 'https://api.github.com/users/sandeepkumar406/orgs',\n",
       "   'repos_url': 'https://api.github.com/users/sandeepkumar406/repos',\n",
       "   'events_url': 'https://api.github.com/users/sandeepkumar406/events{/privacy}',\n",
       "   'received_events_url': 'https://api.github.com/users/sandeepkumar406/received_events',\n",
       "   'type': 'User',\n",
       "   'site_admin': False},\n",
       "  'html_url': 'https://github.com/sandeepkumar406/sandeep_python',\n",
       "  'description': None,\n",
       "  'fork': False,\n",
       "  'url': 'https://api.github.com/repos/sandeepkumar406/sandeep_python',\n",
       "  'forks_url': 'https://api.github.com/repos/sandeepkumar406/sandeep_python/forks',\n",
       "  'keys_url': 'https://api.github.com/repos/sandeepkumar406/sandeep_python/keys{/key_id}',\n",
       "  'collaborators_url': 'https://api.github.com/repos/sandeepkumar406/sandeep_python/collaborators{/collaborator}',\n",
       "  'teams_url': 'https://api.github.com/repos/sandeepkumar406/sandeep_python/teams',\n",
       "  'hooks_url': 'https://api.github.com/repos/sandeepkumar406/sandeep_python/hooks',\n",
       "  'issue_events_url': 'https://api.github.com/repos/sandeepkumar406/sandeep_python/issues/events{/number}',\n",
       "  'events_url': 'https://api.github.com/repos/sandeepkumar406/sandeep_python/events',\n",
       "  'assignees_url': 'https://api.github.com/repos/sandeepkumar406/sandeep_python/assignees{/user}',\n",
       "  'branches_url': 'https://api.github.com/repos/sandeepkumar406/sandeep_python/branches{/branch}',\n",
       "  'tags_url': 'https://api.github.com/repos/sandeepkumar406/sandeep_python/tags',\n",
       "  'blobs_url': 'https://api.github.com/repos/sandeepkumar406/sandeep_python/git/blobs{/sha}',\n",
       "  'git_tags_url': 'https://api.github.com/repos/sandeepkumar406/sandeep_python/git/tags{/sha}',\n",
       "  'git_refs_url': 'https://api.github.com/repos/sandeepkumar406/sandeep_python/git/refs{/sha}',\n",
       "  'trees_url': 'https://api.github.com/repos/sandeepkumar406/sandeep_python/git/trees{/sha}',\n",
       "  'statuses_url': 'https://api.github.com/repos/sandeepkumar406/sandeep_python/statuses/{sha}',\n",
       "  'languages_url': 'https://api.github.com/repos/sandeepkumar406/sandeep_python/languages',\n",
       "  'stargazers_url': 'https://api.github.com/repos/sandeepkumar406/sandeep_python/stargazers',\n",
       "  'contributors_url': 'https://api.github.com/repos/sandeepkumar406/sandeep_python/contributors',\n",
       "  'subscribers_url': 'https://api.github.com/repos/sandeepkumar406/sandeep_python/subscribers',\n",
       "  'subscription_url': 'https://api.github.com/repos/sandeepkumar406/sandeep_python/subscription',\n",
       "  'commits_url': 'https://api.github.com/repos/sandeepkumar406/sandeep_python/commits{/sha}',\n",
       "  'git_commits_url': 'https://api.github.com/repos/sandeepkumar406/sandeep_python/git/commits{/sha}',\n",
       "  'comments_url': 'https://api.github.com/repos/sandeepkumar406/sandeep_python/comments{/number}',\n",
       "  'issue_comment_url': 'https://api.github.com/repos/sandeepkumar406/sandeep_python/issues/comments{/number}',\n",
       "  'contents_url': 'https://api.github.com/repos/sandeepkumar406/sandeep_python/contents/{+path}',\n",
       "  'compare_url': 'https://api.github.com/repos/sandeepkumar406/sandeep_python/compare/{base}...{head}',\n",
       "  'merges_url': 'https://api.github.com/repos/sandeepkumar406/sandeep_python/merges',\n",
       "  'archive_url': 'https://api.github.com/repos/sandeepkumar406/sandeep_python/{archive_format}{/ref}',\n",
       "  'downloads_url': 'https://api.github.com/repos/sandeepkumar406/sandeep_python/downloads',\n",
       "  'issues_url': 'https://api.github.com/repos/sandeepkumar406/sandeep_python/issues{/number}',\n",
       "  'pulls_url': 'https://api.github.com/repos/sandeepkumar406/sandeep_python/pulls{/number}',\n",
       "  'milestones_url': 'https://api.github.com/repos/sandeepkumar406/sandeep_python/milestones{/number}',\n",
       "  'notifications_url': 'https://api.github.com/repos/sandeepkumar406/sandeep_python/notifications{?since,all,participating}',\n",
       "  'labels_url': 'https://api.github.com/repos/sandeepkumar406/sandeep_python/labels{/name}',\n",
       "  'releases_url': 'https://api.github.com/repos/sandeepkumar406/sandeep_python/releases{/id}',\n",
       "  'deployments_url': 'https://api.github.com/repos/sandeepkumar406/sandeep_python/deployments',\n",
       "  'created_at': '2019-02-20T04:02:16Z',\n",
       "  'updated_at': '2019-02-25T15:13:29Z',\n",
       "  'pushed_at': '2019-02-25T15:13:28Z',\n",
       "  'git_url': 'git://github.com/sandeepkumar406/sandeep_python.git',\n",
       "  'ssh_url': 'git@github.com:sandeepkumar406/sandeep_python.git',\n",
       "  'clone_url': 'https://github.com/sandeepkumar406/sandeep_python.git',\n",
       "  'svn_url': 'https://github.com/sandeepkumar406/sandeep_python',\n",
       "  'homepage': None,\n",
       "  'size': 3,\n",
       "  'stargazers_count': 0,\n",
       "  'watchers_count': 0,\n",
       "  'language': 'Jupyter Notebook',\n",
       "  'has_issues': True,\n",
       "  'has_projects': True,\n",
       "  'has_downloads': True,\n",
       "  'has_wiki': True,\n",
       "  'has_pages': False,\n",
       "  'forks_count': 0,\n",
       "  'mirror_url': None,\n",
       "  'archived': False,\n",
       "  'open_issues_count': 0,\n",
       "  'license': None,\n",
       "  'forks': 0,\n",
       "  'open_issues': 0,\n",
       "  'watchers': 0,\n",
       "  'default_branch': 'master'},\n",
       " {'id': 171587151,\n",
       "  'node_id': 'MDEwOlJlcG9zaXRvcnkxNzE1ODcxNTE=',\n",
       "  'name': 'sandy_python',\n",
       "  'full_name': 'sandeepkumar406/sandy_python',\n",
       "  'private': False,\n",
       "  'owner': {'login': 'sandeepkumar406',\n",
       "   'id': 47802595,\n",
       "   'node_id': 'MDQ6VXNlcjQ3ODAyNTk1',\n",
       "   'avatar_url': 'https://avatars2.githubusercontent.com/u/47802595?v=4',\n",
       "   'gravatar_id': '',\n",
       "   'url': 'https://api.github.com/users/sandeepkumar406',\n",
       "   'html_url': 'https://github.com/sandeepkumar406',\n",
       "   'followers_url': 'https://api.github.com/users/sandeepkumar406/followers',\n",
       "   'following_url': 'https://api.github.com/users/sandeepkumar406/following{/other_user}',\n",
       "   'gists_url': 'https://api.github.com/users/sandeepkumar406/gists{/gist_id}',\n",
       "   'starred_url': 'https://api.github.com/users/sandeepkumar406/starred{/owner}{/repo}',\n",
       "   'subscriptions_url': 'https://api.github.com/users/sandeepkumar406/subscriptions',\n",
       "   'organizations_url': 'https://api.github.com/users/sandeepkumar406/orgs',\n",
       "   'repos_url': 'https://api.github.com/users/sandeepkumar406/repos',\n",
       "   'events_url': 'https://api.github.com/users/sandeepkumar406/events{/privacy}',\n",
       "   'received_events_url': 'https://api.github.com/users/sandeepkumar406/received_events',\n",
       "   'type': 'User',\n",
       "   'site_admin': False},\n",
       "  'html_url': 'https://github.com/sandeepkumar406/sandy_python',\n",
       "  'description': None,\n",
       "  'fork': False,\n",
       "  'url': 'https://api.github.com/repos/sandeepkumar406/sandy_python',\n",
       "  'forks_url': 'https://api.github.com/repos/sandeepkumar406/sandy_python/forks',\n",
       "  'keys_url': 'https://api.github.com/repos/sandeepkumar406/sandy_python/keys{/key_id}',\n",
       "  'collaborators_url': 'https://api.github.com/repos/sandeepkumar406/sandy_python/collaborators{/collaborator}',\n",
       "  'teams_url': 'https://api.github.com/repos/sandeepkumar406/sandy_python/teams',\n",
       "  'hooks_url': 'https://api.github.com/repos/sandeepkumar406/sandy_python/hooks',\n",
       "  'issue_events_url': 'https://api.github.com/repos/sandeepkumar406/sandy_python/issues/events{/number}',\n",
       "  'events_url': 'https://api.github.com/repos/sandeepkumar406/sandy_python/events',\n",
       "  'assignees_url': 'https://api.github.com/repos/sandeepkumar406/sandy_python/assignees{/user}',\n",
       "  'branches_url': 'https://api.github.com/repos/sandeepkumar406/sandy_python/branches{/branch}',\n",
       "  'tags_url': 'https://api.github.com/repos/sandeepkumar406/sandy_python/tags',\n",
       "  'blobs_url': 'https://api.github.com/repos/sandeepkumar406/sandy_python/git/blobs{/sha}',\n",
       "  'git_tags_url': 'https://api.github.com/repos/sandeepkumar406/sandy_python/git/tags{/sha}',\n",
       "  'git_refs_url': 'https://api.github.com/repos/sandeepkumar406/sandy_python/git/refs{/sha}',\n",
       "  'trees_url': 'https://api.github.com/repos/sandeepkumar406/sandy_python/git/trees{/sha}',\n",
       "  'statuses_url': 'https://api.github.com/repos/sandeepkumar406/sandy_python/statuses/{sha}',\n",
       "  'languages_url': 'https://api.github.com/repos/sandeepkumar406/sandy_python/languages',\n",
       "  'stargazers_url': 'https://api.github.com/repos/sandeepkumar406/sandy_python/stargazers',\n",
       "  'contributors_url': 'https://api.github.com/repos/sandeepkumar406/sandy_python/contributors',\n",
       "  'subscribers_url': 'https://api.github.com/repos/sandeepkumar406/sandy_python/subscribers',\n",
       "  'subscription_url': 'https://api.github.com/repos/sandeepkumar406/sandy_python/subscription',\n",
       "  'commits_url': 'https://api.github.com/repos/sandeepkumar406/sandy_python/commits{/sha}',\n",
       "  'git_commits_url': 'https://api.github.com/repos/sandeepkumar406/sandy_python/git/commits{/sha}',\n",
       "  'comments_url': 'https://api.github.com/repos/sandeepkumar406/sandy_python/comments{/number}',\n",
       "  'issue_comment_url': 'https://api.github.com/repos/sandeepkumar406/sandy_python/issues/comments{/number}',\n",
       "  'contents_url': 'https://api.github.com/repos/sandeepkumar406/sandy_python/contents/{+path}',\n",
       "  'compare_url': 'https://api.github.com/repos/sandeepkumar406/sandy_python/compare/{base}...{head}',\n",
       "  'merges_url': 'https://api.github.com/repos/sandeepkumar406/sandy_python/merges',\n",
       "  'archive_url': 'https://api.github.com/repos/sandeepkumar406/sandy_python/{archive_format}{/ref}',\n",
       "  'downloads_url': 'https://api.github.com/repos/sandeepkumar406/sandy_python/downloads',\n",
       "  'issues_url': 'https://api.github.com/repos/sandeepkumar406/sandy_python/issues{/number}',\n",
       "  'pulls_url': 'https://api.github.com/repos/sandeepkumar406/sandy_python/pulls{/number}',\n",
       "  'milestones_url': 'https://api.github.com/repos/sandeepkumar406/sandy_python/milestones{/number}',\n",
       "  'notifications_url': 'https://api.github.com/repos/sandeepkumar406/sandy_python/notifications{?since,all,participating}',\n",
       "  'labels_url': 'https://api.github.com/repos/sandeepkumar406/sandy_python/labels{/name}',\n",
       "  'releases_url': 'https://api.github.com/repos/sandeepkumar406/sandy_python/releases{/id}',\n",
       "  'deployments_url': 'https://api.github.com/repos/sandeepkumar406/sandy_python/deployments',\n",
       "  'created_at': '2019-02-20T02:35:02Z',\n",
       "  'updated_at': '2019-02-20T02:35:05Z',\n",
       "  'pushed_at': '2019-02-20T02:35:04Z',\n",
       "  'git_url': 'git://github.com/sandeepkumar406/sandy_python.git',\n",
       "  'ssh_url': 'git@github.com:sandeepkumar406/sandy_python.git',\n",
       "  'clone_url': 'https://github.com/sandeepkumar406/sandy_python.git',\n",
       "  'svn_url': 'https://github.com/sandeepkumar406/sandy_python',\n",
       "  'homepage': None,\n",
       "  'size': 0,\n",
       "  'stargazers_count': 0,\n",
       "  'watchers_count': 0,\n",
       "  'language': None,\n",
       "  'has_issues': True,\n",
       "  'has_projects': True,\n",
       "  'has_downloads': True,\n",
       "  'has_wiki': True,\n",
       "  'has_pages': False,\n",
       "  'forks_count': 0,\n",
       "  'mirror_url': None,\n",
       "  'archived': False,\n",
       "  'open_issues_count': 0,\n",
       "  'license': None,\n",
       "  'forks': 0,\n",
       "  'open_issues': 0,\n",
       "  'watchers': 0,\n",
       "  'default_branch': 'master'}]"
      ]
     },
     "execution_count": 41,
     "metadata": {},
     "output_type": "execute_result"
    }
   ],
   "source": [
    "resp.json()"
   ]
  },
  {
   "cell_type": "code",
   "execution_count": 42,
   "metadata": {},
   "outputs": [
    {
     "name": "stdout",
     "output_type": "stream",
     "text": [
      "<Response [401]>\n"
     ]
    }
   ],
   "source": [
    "url = \"http://api.github.com/user/repos\"\n",
    "resp = requests.post(url,json={\"name\":\"repo3\"})\n",
    "print(resp)"
   ]
  },
  {
   "cell_type": "code",
   "execution_count": 43,
   "metadata": {},
   "outputs": [
    {
     "data": {
      "text/plain": [
       "{'message': 'Requires authentication',\n",
       " 'documentation_url': 'https://developer.github.com/v3/repos/#list-your-repositories'}"
      ]
     },
     "execution_count": 43,
     "metadata": {},
     "output_type": "execute_result"
    }
   ],
   "source": [
    "resp.json()"
   ]
  },
  {
   "cell_type": "code",
   "execution_count": 44,
   "metadata": {},
   "outputs": [
    {
     "name": "stdout",
     "output_type": "stream",
     "text": [
      "<Response [200]>\n"
     ]
    }
   ],
   "source": [
    "url = \"http://api.github.com/user/repos\"\n",
    "resp = requests.post(url,json={\"name\":\"repo3\"},auth=(username,password))\n",
    "print(resp)"
   ]
  },
  {
   "cell_type": "code",
   "execution_count": 45,
   "metadata": {},
   "outputs": [
    {
     "data": {
      "text/plain": [
       "[{'id': 171591570,\n",
       "  'node_id': 'MDEwOlJlcG9zaXRvcnkxNzE1OTE1NzA=',\n",
       "  'name': 'gitsession',\n",
       "  'full_name': 'sambapython/gitsession',\n",
       "  'private': False,\n",
       "  'owner': {'login': 'sambapython',\n",
       "   'id': 17271714,\n",
       "   'node_id': 'MDQ6VXNlcjE3MjcxNzE0',\n",
       "   'avatar_url': 'https://avatars1.githubusercontent.com/u/17271714?v=4',\n",
       "   'gravatar_id': '',\n",
       "   'url': 'https://api.github.com/users/sambapython',\n",
       "   'html_url': 'https://github.com/sambapython',\n",
       "   'followers_url': 'https://api.github.com/users/sambapython/followers',\n",
       "   'following_url': 'https://api.github.com/users/sambapython/following{/other_user}',\n",
       "   'gists_url': 'https://api.github.com/users/sambapython/gists{/gist_id}',\n",
       "   'starred_url': 'https://api.github.com/users/sambapython/starred{/owner}{/repo}',\n",
       "   'subscriptions_url': 'https://api.github.com/users/sambapython/subscriptions',\n",
       "   'organizations_url': 'https://api.github.com/users/sambapython/orgs',\n",
       "   'repos_url': 'https://api.github.com/users/sambapython/repos',\n",
       "   'events_url': 'https://api.github.com/users/sambapython/events{/privacy}',\n",
       "   'received_events_url': 'https://api.github.com/users/sambapython/received_events',\n",
       "   'type': 'User',\n",
       "   'site_admin': False},\n",
       "  'html_url': 'https://github.com/sambapython/gitsession',\n",
       "  'description': None,\n",
       "  'fork': False,\n",
       "  'url': 'https://api.github.com/repos/sambapython/gitsession',\n",
       "  'forks_url': 'https://api.github.com/repos/sambapython/gitsession/forks',\n",
       "  'keys_url': 'https://api.github.com/repos/sambapython/gitsession/keys{/key_id}',\n",
       "  'collaborators_url': 'https://api.github.com/repos/sambapython/gitsession/collaborators{/collaborator}',\n",
       "  'teams_url': 'https://api.github.com/repos/sambapython/gitsession/teams',\n",
       "  'hooks_url': 'https://api.github.com/repos/sambapython/gitsession/hooks',\n",
       "  'issue_events_url': 'https://api.github.com/repos/sambapython/gitsession/issues/events{/number}',\n",
       "  'events_url': 'https://api.github.com/repos/sambapython/gitsession/events',\n",
       "  'assignees_url': 'https://api.github.com/repos/sambapython/gitsession/assignees{/user}',\n",
       "  'branches_url': 'https://api.github.com/repos/sambapython/gitsession/branches{/branch}',\n",
       "  'tags_url': 'https://api.github.com/repos/sambapython/gitsession/tags',\n",
       "  'blobs_url': 'https://api.github.com/repos/sambapython/gitsession/git/blobs{/sha}',\n",
       "  'git_tags_url': 'https://api.github.com/repos/sambapython/gitsession/git/tags{/sha}',\n",
       "  'git_refs_url': 'https://api.github.com/repos/sambapython/gitsession/git/refs{/sha}',\n",
       "  'trees_url': 'https://api.github.com/repos/sambapython/gitsession/git/trees{/sha}',\n",
       "  'statuses_url': 'https://api.github.com/repos/sambapython/gitsession/statuses/{sha}',\n",
       "  'languages_url': 'https://api.github.com/repos/sambapython/gitsession/languages',\n",
       "  'stargazers_url': 'https://api.github.com/repos/sambapython/gitsession/stargazers',\n",
       "  'contributors_url': 'https://api.github.com/repos/sambapython/gitsession/contributors',\n",
       "  'subscribers_url': 'https://api.github.com/repos/sambapython/gitsession/subscribers',\n",
       "  'subscription_url': 'https://api.github.com/repos/sambapython/gitsession/subscription',\n",
       "  'commits_url': 'https://api.github.com/repos/sambapython/gitsession/commits{/sha}',\n",
       "  'git_commits_url': 'https://api.github.com/repos/sambapython/gitsession/git/commits{/sha}',\n",
       "  'comments_url': 'https://api.github.com/repos/sambapython/gitsession/comments{/number}',\n",
       "  'issue_comment_url': 'https://api.github.com/repos/sambapython/gitsession/issues/comments{/number}',\n",
       "  'contents_url': 'https://api.github.com/repos/sambapython/gitsession/contents/{+path}',\n",
       "  'compare_url': 'https://api.github.com/repos/sambapython/gitsession/compare/{base}...{head}',\n",
       "  'merges_url': 'https://api.github.com/repos/sambapython/gitsession/merges',\n",
       "  'archive_url': 'https://api.github.com/repos/sambapython/gitsession/{archive_format}{/ref}',\n",
       "  'downloads_url': 'https://api.github.com/repos/sambapython/gitsession/downloads',\n",
       "  'issues_url': 'https://api.github.com/repos/sambapython/gitsession/issues{/number}',\n",
       "  'pulls_url': 'https://api.github.com/repos/sambapython/gitsession/pulls{/number}',\n",
       "  'milestones_url': 'https://api.github.com/repos/sambapython/gitsession/milestones{/number}',\n",
       "  'notifications_url': 'https://api.github.com/repos/sambapython/gitsession/notifications{?since,all,participating}',\n",
       "  'labels_url': 'https://api.github.com/repos/sambapython/gitsession/labels{/name}',\n",
       "  'releases_url': 'https://api.github.com/repos/sambapython/gitsession/releases{/id}',\n",
       "  'deployments_url': 'https://api.github.com/repos/sambapython/gitsession/deployments',\n",
       "  'created_at': '2019-02-20T03:08:32Z',\n",
       "  'updated_at': '2019-02-20T03:56:38Z',\n",
       "  'pushed_at': '2019-02-20T03:56:36Z',\n",
       "  'git_url': 'git://github.com/sambapython/gitsession.git',\n",
       "  'ssh_url': 'git@github.com:sambapython/gitsession.git',\n",
       "  'clone_url': 'https://github.com/sambapython/gitsession.git',\n",
       "  'svn_url': 'https://github.com/sambapython/gitsession',\n",
       "  'homepage': None,\n",
       "  'size': 0,\n",
       "  'stargazers_count': 0,\n",
       "  'watchers_count': 0,\n",
       "  'language': 'Python',\n",
       "  'has_issues': True,\n",
       "  'has_projects': True,\n",
       "  'has_downloads': True,\n",
       "  'has_wiki': True,\n",
       "  'has_pages': False,\n",
       "  'forks_count': 0,\n",
       "  'mirror_url': None,\n",
       "  'archived': False,\n",
       "  'open_issues_count': 0,\n",
       "  'license': None,\n",
       "  'forks': 0,\n",
       "  'open_issues': 0,\n",
       "  'watchers': 0,\n",
       "  'default_branch': 'master',\n",
       "  'permissions': {'admin': False, 'push': True, 'pull': True}},\n",
       " {'id': 176411567,\n",
       "  'node_id': 'MDEwOlJlcG9zaXRvcnkxNzY0MTE1Njc=',\n",
       "  'name': 'repo1',\n",
       "  'full_name': 'sandeepkumar406/repo1',\n",
       "  'private': False,\n",
       "  'owner': {'login': 'sandeepkumar406',\n",
       "   'id': 47802595,\n",
       "   'node_id': 'MDQ6VXNlcjQ3ODAyNTk1',\n",
       "   'avatar_url': 'https://avatars2.githubusercontent.com/u/47802595?v=4',\n",
       "   'gravatar_id': '',\n",
       "   'url': 'https://api.github.com/users/sandeepkumar406',\n",
       "   'html_url': 'https://github.com/sandeepkumar406',\n",
       "   'followers_url': 'https://api.github.com/users/sandeepkumar406/followers',\n",
       "   'following_url': 'https://api.github.com/users/sandeepkumar406/following{/other_user}',\n",
       "   'gists_url': 'https://api.github.com/users/sandeepkumar406/gists{/gist_id}',\n",
       "   'starred_url': 'https://api.github.com/users/sandeepkumar406/starred{/owner}{/repo}',\n",
       "   'subscriptions_url': 'https://api.github.com/users/sandeepkumar406/subscriptions',\n",
       "   'organizations_url': 'https://api.github.com/users/sandeepkumar406/orgs',\n",
       "   'repos_url': 'https://api.github.com/users/sandeepkumar406/repos',\n",
       "   'events_url': 'https://api.github.com/users/sandeepkumar406/events{/privacy}',\n",
       "   'received_events_url': 'https://api.github.com/users/sandeepkumar406/received_events',\n",
       "   'type': 'User',\n",
       "   'site_admin': False},\n",
       "  'html_url': 'https://github.com/sandeepkumar406/repo1',\n",
       "  'description': None,\n",
       "  'fork': False,\n",
       "  'url': 'https://api.github.com/repos/sandeepkumar406/repo1',\n",
       "  'forks_url': 'https://api.github.com/repos/sandeepkumar406/repo1/forks',\n",
       "  'keys_url': 'https://api.github.com/repos/sandeepkumar406/repo1/keys{/key_id}',\n",
       "  'collaborators_url': 'https://api.github.com/repos/sandeepkumar406/repo1/collaborators{/collaborator}',\n",
       "  'teams_url': 'https://api.github.com/repos/sandeepkumar406/repo1/teams',\n",
       "  'hooks_url': 'https://api.github.com/repos/sandeepkumar406/repo1/hooks',\n",
       "  'issue_events_url': 'https://api.github.com/repos/sandeepkumar406/repo1/issues/events{/number}',\n",
       "  'events_url': 'https://api.github.com/repos/sandeepkumar406/repo1/events',\n",
       "  'assignees_url': 'https://api.github.com/repos/sandeepkumar406/repo1/assignees{/user}',\n",
       "  'branches_url': 'https://api.github.com/repos/sandeepkumar406/repo1/branches{/branch}',\n",
       "  'tags_url': 'https://api.github.com/repos/sandeepkumar406/repo1/tags',\n",
       "  'blobs_url': 'https://api.github.com/repos/sandeepkumar406/repo1/git/blobs{/sha}',\n",
       "  'git_tags_url': 'https://api.github.com/repos/sandeepkumar406/repo1/git/tags{/sha}',\n",
       "  'git_refs_url': 'https://api.github.com/repos/sandeepkumar406/repo1/git/refs{/sha}',\n",
       "  'trees_url': 'https://api.github.com/repos/sandeepkumar406/repo1/git/trees{/sha}',\n",
       "  'statuses_url': 'https://api.github.com/repos/sandeepkumar406/repo1/statuses/{sha}',\n",
       "  'languages_url': 'https://api.github.com/repos/sandeepkumar406/repo1/languages',\n",
       "  'stargazers_url': 'https://api.github.com/repos/sandeepkumar406/repo1/stargazers',\n",
       "  'contributors_url': 'https://api.github.com/repos/sandeepkumar406/repo1/contributors',\n",
       "  'subscribers_url': 'https://api.github.com/repos/sandeepkumar406/repo1/subscribers',\n",
       "  'subscription_url': 'https://api.github.com/repos/sandeepkumar406/repo1/subscription',\n",
       "  'commits_url': 'https://api.github.com/repos/sandeepkumar406/repo1/commits{/sha}',\n",
       "  'git_commits_url': 'https://api.github.com/repos/sandeepkumar406/repo1/git/commits{/sha}',\n",
       "  'comments_url': 'https://api.github.com/repos/sandeepkumar406/repo1/comments{/number}',\n",
       "  'issue_comment_url': 'https://api.github.com/repos/sandeepkumar406/repo1/issues/comments{/number}',\n",
       "  'contents_url': 'https://api.github.com/repos/sandeepkumar406/repo1/contents/{+path}',\n",
       "  'compare_url': 'https://api.github.com/repos/sandeepkumar406/repo1/compare/{base}...{head}',\n",
       "  'merges_url': 'https://api.github.com/repos/sandeepkumar406/repo1/merges',\n",
       "  'archive_url': 'https://api.github.com/repos/sandeepkumar406/repo1/{archive_format}{/ref}',\n",
       "  'downloads_url': 'https://api.github.com/repos/sandeepkumar406/repo1/downloads',\n",
       "  'issues_url': 'https://api.github.com/repos/sandeepkumar406/repo1/issues{/number}',\n",
       "  'pulls_url': 'https://api.github.com/repos/sandeepkumar406/repo1/pulls{/number}',\n",
       "  'milestones_url': 'https://api.github.com/repos/sandeepkumar406/repo1/milestones{/number}',\n",
       "  'notifications_url': 'https://api.github.com/repos/sandeepkumar406/repo1/notifications{?since,all,participating}',\n",
       "  'labels_url': 'https://api.github.com/repos/sandeepkumar406/repo1/labels{/name}',\n",
       "  'releases_url': 'https://api.github.com/repos/sandeepkumar406/repo1/releases{/id}',\n",
       "  'deployments_url': 'https://api.github.com/repos/sandeepkumar406/repo1/deployments',\n",
       "  'created_at': '2019-03-19T02:58:57Z',\n",
       "  'updated_at': '2019-03-19T02:58:57Z',\n",
       "  'pushed_at': '2019-03-19T02:58:57Z',\n",
       "  'git_url': 'git://github.com/sandeepkumar406/repo1.git',\n",
       "  'ssh_url': 'git@github.com:sandeepkumar406/repo1.git',\n",
       "  'clone_url': 'https://github.com/sandeepkumar406/repo1.git',\n",
       "  'svn_url': 'https://github.com/sandeepkumar406/repo1',\n",
       "  'homepage': None,\n",
       "  'size': 0,\n",
       "  'stargazers_count': 0,\n",
       "  'watchers_count': 0,\n",
       "  'language': None,\n",
       "  'has_issues': True,\n",
       "  'has_projects': True,\n",
       "  'has_downloads': True,\n",
       "  'has_wiki': True,\n",
       "  'has_pages': False,\n",
       "  'forks_count': 0,\n",
       "  'mirror_url': None,\n",
       "  'archived': False,\n",
       "  'open_issues_count': 0,\n",
       "  'license': None,\n",
       "  'forks': 0,\n",
       "  'open_issues': 0,\n",
       "  'watchers': 0,\n",
       "  'default_branch': 'master',\n",
       "  'permissions': {'admin': True, 'push': True, 'pull': True}},\n",
       " {'id': 176411637,\n",
       "  'node_id': 'MDEwOlJlcG9zaXRvcnkxNzY0MTE2Mzc=',\n",
       "  'name': 'repo2',\n",
       "  'full_name': 'sandeepkumar406/repo2',\n",
       "  'private': False,\n",
       "  'owner': {'login': 'sandeepkumar406',\n",
       "   'id': 47802595,\n",
       "   'node_id': 'MDQ6VXNlcjQ3ODAyNTk1',\n",
       "   'avatar_url': 'https://avatars2.githubusercontent.com/u/47802595?v=4',\n",
       "   'gravatar_id': '',\n",
       "   'url': 'https://api.github.com/users/sandeepkumar406',\n",
       "   'html_url': 'https://github.com/sandeepkumar406',\n",
       "   'followers_url': 'https://api.github.com/users/sandeepkumar406/followers',\n",
       "   'following_url': 'https://api.github.com/users/sandeepkumar406/following{/other_user}',\n",
       "   'gists_url': 'https://api.github.com/users/sandeepkumar406/gists{/gist_id}',\n",
       "   'starred_url': 'https://api.github.com/users/sandeepkumar406/starred{/owner}{/repo}',\n",
       "   'subscriptions_url': 'https://api.github.com/users/sandeepkumar406/subscriptions',\n",
       "   'organizations_url': 'https://api.github.com/users/sandeepkumar406/orgs',\n",
       "   'repos_url': 'https://api.github.com/users/sandeepkumar406/repos',\n",
       "   'events_url': 'https://api.github.com/users/sandeepkumar406/events{/privacy}',\n",
       "   'received_events_url': 'https://api.github.com/users/sandeepkumar406/received_events',\n",
       "   'type': 'User',\n",
       "   'site_admin': False},\n",
       "  'html_url': 'https://github.com/sandeepkumar406/repo2',\n",
       "  'description': None,\n",
       "  'fork': False,\n",
       "  'url': 'https://api.github.com/repos/sandeepkumar406/repo2',\n",
       "  'forks_url': 'https://api.github.com/repos/sandeepkumar406/repo2/forks',\n",
       "  'keys_url': 'https://api.github.com/repos/sandeepkumar406/repo2/keys{/key_id}',\n",
       "  'collaborators_url': 'https://api.github.com/repos/sandeepkumar406/repo2/collaborators{/collaborator}',\n",
       "  'teams_url': 'https://api.github.com/repos/sandeepkumar406/repo2/teams',\n",
       "  'hooks_url': 'https://api.github.com/repos/sandeepkumar406/repo2/hooks',\n",
       "  'issue_events_url': 'https://api.github.com/repos/sandeepkumar406/repo2/issues/events{/number}',\n",
       "  'events_url': 'https://api.github.com/repos/sandeepkumar406/repo2/events',\n",
       "  'assignees_url': 'https://api.github.com/repos/sandeepkumar406/repo2/assignees{/user}',\n",
       "  'branches_url': 'https://api.github.com/repos/sandeepkumar406/repo2/branches{/branch}',\n",
       "  'tags_url': 'https://api.github.com/repos/sandeepkumar406/repo2/tags',\n",
       "  'blobs_url': 'https://api.github.com/repos/sandeepkumar406/repo2/git/blobs{/sha}',\n",
       "  'git_tags_url': 'https://api.github.com/repos/sandeepkumar406/repo2/git/tags{/sha}',\n",
       "  'git_refs_url': 'https://api.github.com/repos/sandeepkumar406/repo2/git/refs{/sha}',\n",
       "  'trees_url': 'https://api.github.com/repos/sandeepkumar406/repo2/git/trees{/sha}',\n",
       "  'statuses_url': 'https://api.github.com/repos/sandeepkumar406/repo2/statuses/{sha}',\n",
       "  'languages_url': 'https://api.github.com/repos/sandeepkumar406/repo2/languages',\n",
       "  'stargazers_url': 'https://api.github.com/repos/sandeepkumar406/repo2/stargazers',\n",
       "  'contributors_url': 'https://api.github.com/repos/sandeepkumar406/repo2/contributors',\n",
       "  'subscribers_url': 'https://api.github.com/repos/sandeepkumar406/repo2/subscribers',\n",
       "  'subscription_url': 'https://api.github.com/repos/sandeepkumar406/repo2/subscription',\n",
       "  'commits_url': 'https://api.github.com/repos/sandeepkumar406/repo2/commits{/sha}',\n",
       "  'git_commits_url': 'https://api.github.com/repos/sandeepkumar406/repo2/git/commits{/sha}',\n",
       "  'comments_url': 'https://api.github.com/repos/sandeepkumar406/repo2/comments{/number}',\n",
       "  'issue_comment_url': 'https://api.github.com/repos/sandeepkumar406/repo2/issues/comments{/number}',\n",
       "  'contents_url': 'https://api.github.com/repos/sandeepkumar406/repo2/contents/{+path}',\n",
       "  'compare_url': 'https://api.github.com/repos/sandeepkumar406/repo2/compare/{base}...{head}',\n",
       "  'merges_url': 'https://api.github.com/repos/sandeepkumar406/repo2/merges',\n",
       "  'archive_url': 'https://api.github.com/repos/sandeepkumar406/repo2/{archive_format}{/ref}',\n",
       "  'downloads_url': 'https://api.github.com/repos/sandeepkumar406/repo2/downloads',\n",
       "  'issues_url': 'https://api.github.com/repos/sandeepkumar406/repo2/issues{/number}',\n",
       "  'pulls_url': 'https://api.github.com/repos/sandeepkumar406/repo2/pulls{/number}',\n",
       "  'milestones_url': 'https://api.github.com/repos/sandeepkumar406/repo2/milestones{/number}',\n",
       "  'notifications_url': 'https://api.github.com/repos/sandeepkumar406/repo2/notifications{?since,all,participating}',\n",
       "  'labels_url': 'https://api.github.com/repos/sandeepkumar406/repo2/labels{/name}',\n",
       "  'releases_url': 'https://api.github.com/repos/sandeepkumar406/repo2/releases{/id}',\n",
       "  'deployments_url': 'https://api.github.com/repos/sandeepkumar406/repo2/deployments',\n",
       "  'created_at': '2019-03-19T02:59:22Z',\n",
       "  'updated_at': '2019-03-19T03:02:20Z',\n",
       "  'pushed_at': '2019-03-19T03:02:18Z',\n",
       "  'git_url': 'git://github.com/sandeepkumar406/repo2.git',\n",
       "  'ssh_url': 'git@github.com:sandeepkumar406/repo2.git',\n",
       "  'clone_url': 'https://github.com/sandeepkumar406/repo2.git',\n",
       "  'svn_url': 'https://github.com/sandeepkumar406/repo2',\n",
       "  'homepage': None,\n",
       "  'size': 0,\n",
       "  'stargazers_count': 0,\n",
       "  'watchers_count': 0,\n",
       "  'language': None,\n",
       "  'has_issues': True,\n",
       "  'has_projects': True,\n",
       "  'has_downloads': True,\n",
       "  'has_wiki': True,\n",
       "  'has_pages': False,\n",
       "  'forks_count': 0,\n",
       "  'mirror_url': None,\n",
       "  'archived': False,\n",
       "  'open_issues_count': 0,\n",
       "  'license': None,\n",
       "  'forks': 0,\n",
       "  'open_issues': 0,\n",
       "  'watchers': 0,\n",
       "  'default_branch': 'master',\n",
       "  'permissions': {'admin': True, 'push': True, 'pull': True}},\n",
       " {'id': 171598221,\n",
       "  'node_id': 'MDEwOlJlcG9zaXRvcnkxNzE1OTgyMjE=',\n",
       "  'name': 'sandeep_python',\n",
       "  'full_name': 'sandeepkumar406/sandeep_python',\n",
       "  'private': False,\n",
       "  'owner': {'login': 'sandeepkumar406',\n",
       "   'id': 47802595,\n",
       "   'node_id': 'MDQ6VXNlcjQ3ODAyNTk1',\n",
       "   'avatar_url': 'https://avatars2.githubusercontent.com/u/47802595?v=4',\n",
       "   'gravatar_id': '',\n",
       "   'url': 'https://api.github.com/users/sandeepkumar406',\n",
       "   'html_url': 'https://github.com/sandeepkumar406',\n",
       "   'followers_url': 'https://api.github.com/users/sandeepkumar406/followers',\n",
       "   'following_url': 'https://api.github.com/users/sandeepkumar406/following{/other_user}',\n",
       "   'gists_url': 'https://api.github.com/users/sandeepkumar406/gists{/gist_id}',\n",
       "   'starred_url': 'https://api.github.com/users/sandeepkumar406/starred{/owner}{/repo}',\n",
       "   'subscriptions_url': 'https://api.github.com/users/sandeepkumar406/subscriptions',\n",
       "   'organizations_url': 'https://api.github.com/users/sandeepkumar406/orgs',\n",
       "   'repos_url': 'https://api.github.com/users/sandeepkumar406/repos',\n",
       "   'events_url': 'https://api.github.com/users/sandeepkumar406/events{/privacy}',\n",
       "   'received_events_url': 'https://api.github.com/users/sandeepkumar406/received_events',\n",
       "   'type': 'User',\n",
       "   'site_admin': False},\n",
       "  'html_url': 'https://github.com/sandeepkumar406/sandeep_python',\n",
       "  'description': None,\n",
       "  'fork': False,\n",
       "  'url': 'https://api.github.com/repos/sandeepkumar406/sandeep_python',\n",
       "  'forks_url': 'https://api.github.com/repos/sandeepkumar406/sandeep_python/forks',\n",
       "  'keys_url': 'https://api.github.com/repos/sandeepkumar406/sandeep_python/keys{/key_id}',\n",
       "  'collaborators_url': 'https://api.github.com/repos/sandeepkumar406/sandeep_python/collaborators{/collaborator}',\n",
       "  'teams_url': 'https://api.github.com/repos/sandeepkumar406/sandeep_python/teams',\n",
       "  'hooks_url': 'https://api.github.com/repos/sandeepkumar406/sandeep_python/hooks',\n",
       "  'issue_events_url': 'https://api.github.com/repos/sandeepkumar406/sandeep_python/issues/events{/number}',\n",
       "  'events_url': 'https://api.github.com/repos/sandeepkumar406/sandeep_python/events',\n",
       "  'assignees_url': 'https://api.github.com/repos/sandeepkumar406/sandeep_python/assignees{/user}',\n",
       "  'branches_url': 'https://api.github.com/repos/sandeepkumar406/sandeep_python/branches{/branch}',\n",
       "  'tags_url': 'https://api.github.com/repos/sandeepkumar406/sandeep_python/tags',\n",
       "  'blobs_url': 'https://api.github.com/repos/sandeepkumar406/sandeep_python/git/blobs{/sha}',\n",
       "  'git_tags_url': 'https://api.github.com/repos/sandeepkumar406/sandeep_python/git/tags{/sha}',\n",
       "  'git_refs_url': 'https://api.github.com/repos/sandeepkumar406/sandeep_python/git/refs{/sha}',\n",
       "  'trees_url': 'https://api.github.com/repos/sandeepkumar406/sandeep_python/git/trees{/sha}',\n",
       "  'statuses_url': 'https://api.github.com/repos/sandeepkumar406/sandeep_python/statuses/{sha}',\n",
       "  'languages_url': 'https://api.github.com/repos/sandeepkumar406/sandeep_python/languages',\n",
       "  'stargazers_url': 'https://api.github.com/repos/sandeepkumar406/sandeep_python/stargazers',\n",
       "  'contributors_url': 'https://api.github.com/repos/sandeepkumar406/sandeep_python/contributors',\n",
       "  'subscribers_url': 'https://api.github.com/repos/sandeepkumar406/sandeep_python/subscribers',\n",
       "  'subscription_url': 'https://api.github.com/repos/sandeepkumar406/sandeep_python/subscription',\n",
       "  'commits_url': 'https://api.github.com/repos/sandeepkumar406/sandeep_python/commits{/sha}',\n",
       "  'git_commits_url': 'https://api.github.com/repos/sandeepkumar406/sandeep_python/git/commits{/sha}',\n",
       "  'comments_url': 'https://api.github.com/repos/sandeepkumar406/sandeep_python/comments{/number}',\n",
       "  'issue_comment_url': 'https://api.github.com/repos/sandeepkumar406/sandeep_python/issues/comments{/number}',\n",
       "  'contents_url': 'https://api.github.com/repos/sandeepkumar406/sandeep_python/contents/{+path}',\n",
       "  'compare_url': 'https://api.github.com/repos/sandeepkumar406/sandeep_python/compare/{base}...{head}',\n",
       "  'merges_url': 'https://api.github.com/repos/sandeepkumar406/sandeep_python/merges',\n",
       "  'archive_url': 'https://api.github.com/repos/sandeepkumar406/sandeep_python/{archive_format}{/ref}',\n",
       "  'downloads_url': 'https://api.github.com/repos/sandeepkumar406/sandeep_python/downloads',\n",
       "  'issues_url': 'https://api.github.com/repos/sandeepkumar406/sandeep_python/issues{/number}',\n",
       "  'pulls_url': 'https://api.github.com/repos/sandeepkumar406/sandeep_python/pulls{/number}',\n",
       "  'milestones_url': 'https://api.github.com/repos/sandeepkumar406/sandeep_python/milestones{/number}',\n",
       "  'notifications_url': 'https://api.github.com/repos/sandeepkumar406/sandeep_python/notifications{?since,all,participating}',\n",
       "  'labels_url': 'https://api.github.com/repos/sandeepkumar406/sandeep_python/labels{/name}',\n",
       "  'releases_url': 'https://api.github.com/repos/sandeepkumar406/sandeep_python/releases{/id}',\n",
       "  'deployments_url': 'https://api.github.com/repos/sandeepkumar406/sandeep_python/deployments',\n",
       "  'created_at': '2019-02-20T04:02:16Z',\n",
       "  'updated_at': '2019-02-25T15:13:29Z',\n",
       "  'pushed_at': '2019-02-25T15:13:28Z',\n",
       "  'git_url': 'git://github.com/sandeepkumar406/sandeep_python.git',\n",
       "  'ssh_url': 'git@github.com:sandeepkumar406/sandeep_python.git',\n",
       "  'clone_url': 'https://github.com/sandeepkumar406/sandeep_python.git',\n",
       "  'svn_url': 'https://github.com/sandeepkumar406/sandeep_python',\n",
       "  'homepage': None,\n",
       "  'size': 3,\n",
       "  'stargazers_count': 0,\n",
       "  'watchers_count': 0,\n",
       "  'language': 'Jupyter Notebook',\n",
       "  'has_issues': True,\n",
       "  'has_projects': True,\n",
       "  'has_downloads': True,\n",
       "  'has_wiki': True,\n",
       "  'has_pages': False,\n",
       "  'forks_count': 0,\n",
       "  'mirror_url': None,\n",
       "  'archived': False,\n",
       "  'open_issues_count': 0,\n",
       "  'license': None,\n",
       "  'forks': 0,\n",
       "  'open_issues': 0,\n",
       "  'watchers': 0,\n",
       "  'default_branch': 'master',\n",
       "  'permissions': {'admin': True, 'push': True, 'pull': True}},\n",
       " {'id': 171587151,\n",
       "  'node_id': 'MDEwOlJlcG9zaXRvcnkxNzE1ODcxNTE=',\n",
       "  'name': 'sandy_python',\n",
       "  'full_name': 'sandeepkumar406/sandy_python',\n",
       "  'private': False,\n",
       "  'owner': {'login': 'sandeepkumar406',\n",
       "   'id': 47802595,\n",
       "   'node_id': 'MDQ6VXNlcjQ3ODAyNTk1',\n",
       "   'avatar_url': 'https://avatars2.githubusercontent.com/u/47802595?v=4',\n",
       "   'gravatar_id': '',\n",
       "   'url': 'https://api.github.com/users/sandeepkumar406',\n",
       "   'html_url': 'https://github.com/sandeepkumar406',\n",
       "   'followers_url': 'https://api.github.com/users/sandeepkumar406/followers',\n",
       "   'following_url': 'https://api.github.com/users/sandeepkumar406/following{/other_user}',\n",
       "   'gists_url': 'https://api.github.com/users/sandeepkumar406/gists{/gist_id}',\n",
       "   'starred_url': 'https://api.github.com/users/sandeepkumar406/starred{/owner}{/repo}',\n",
       "   'subscriptions_url': 'https://api.github.com/users/sandeepkumar406/subscriptions',\n",
       "   'organizations_url': 'https://api.github.com/users/sandeepkumar406/orgs',\n",
       "   'repos_url': 'https://api.github.com/users/sandeepkumar406/repos',\n",
       "   'events_url': 'https://api.github.com/users/sandeepkumar406/events{/privacy}',\n",
       "   'received_events_url': 'https://api.github.com/users/sandeepkumar406/received_events',\n",
       "   'type': 'User',\n",
       "   'site_admin': False},\n",
       "  'html_url': 'https://github.com/sandeepkumar406/sandy_python',\n",
       "  'description': None,\n",
       "  'fork': False,\n",
       "  'url': 'https://api.github.com/repos/sandeepkumar406/sandy_python',\n",
       "  'forks_url': 'https://api.github.com/repos/sandeepkumar406/sandy_python/forks',\n",
       "  'keys_url': 'https://api.github.com/repos/sandeepkumar406/sandy_python/keys{/key_id}',\n",
       "  'collaborators_url': 'https://api.github.com/repos/sandeepkumar406/sandy_python/collaborators{/collaborator}',\n",
       "  'teams_url': 'https://api.github.com/repos/sandeepkumar406/sandy_python/teams',\n",
       "  'hooks_url': 'https://api.github.com/repos/sandeepkumar406/sandy_python/hooks',\n",
       "  'issue_events_url': 'https://api.github.com/repos/sandeepkumar406/sandy_python/issues/events{/number}',\n",
       "  'events_url': 'https://api.github.com/repos/sandeepkumar406/sandy_python/events',\n",
       "  'assignees_url': 'https://api.github.com/repos/sandeepkumar406/sandy_python/assignees{/user}',\n",
       "  'branches_url': 'https://api.github.com/repos/sandeepkumar406/sandy_python/branches{/branch}',\n",
       "  'tags_url': 'https://api.github.com/repos/sandeepkumar406/sandy_python/tags',\n",
       "  'blobs_url': 'https://api.github.com/repos/sandeepkumar406/sandy_python/git/blobs{/sha}',\n",
       "  'git_tags_url': 'https://api.github.com/repos/sandeepkumar406/sandy_python/git/tags{/sha}',\n",
       "  'git_refs_url': 'https://api.github.com/repos/sandeepkumar406/sandy_python/git/refs{/sha}',\n",
       "  'trees_url': 'https://api.github.com/repos/sandeepkumar406/sandy_python/git/trees{/sha}',\n",
       "  'statuses_url': 'https://api.github.com/repos/sandeepkumar406/sandy_python/statuses/{sha}',\n",
       "  'languages_url': 'https://api.github.com/repos/sandeepkumar406/sandy_python/languages',\n",
       "  'stargazers_url': 'https://api.github.com/repos/sandeepkumar406/sandy_python/stargazers',\n",
       "  'contributors_url': 'https://api.github.com/repos/sandeepkumar406/sandy_python/contributors',\n",
       "  'subscribers_url': 'https://api.github.com/repos/sandeepkumar406/sandy_python/subscribers',\n",
       "  'subscription_url': 'https://api.github.com/repos/sandeepkumar406/sandy_python/subscription',\n",
       "  'commits_url': 'https://api.github.com/repos/sandeepkumar406/sandy_python/commits{/sha}',\n",
       "  'git_commits_url': 'https://api.github.com/repos/sandeepkumar406/sandy_python/git/commits{/sha}',\n",
       "  'comments_url': 'https://api.github.com/repos/sandeepkumar406/sandy_python/comments{/number}',\n",
       "  'issue_comment_url': 'https://api.github.com/repos/sandeepkumar406/sandy_python/issues/comments{/number}',\n",
       "  'contents_url': 'https://api.github.com/repos/sandeepkumar406/sandy_python/contents/{+path}',\n",
       "  'compare_url': 'https://api.github.com/repos/sandeepkumar406/sandy_python/compare/{base}...{head}',\n",
       "  'merges_url': 'https://api.github.com/repos/sandeepkumar406/sandy_python/merges',\n",
       "  'archive_url': 'https://api.github.com/repos/sandeepkumar406/sandy_python/{archive_format}{/ref}',\n",
       "  'downloads_url': 'https://api.github.com/repos/sandeepkumar406/sandy_python/downloads',\n",
       "  'issues_url': 'https://api.github.com/repos/sandeepkumar406/sandy_python/issues{/number}',\n",
       "  'pulls_url': 'https://api.github.com/repos/sandeepkumar406/sandy_python/pulls{/number}',\n",
       "  'milestones_url': 'https://api.github.com/repos/sandeepkumar406/sandy_python/milestones{/number}',\n",
       "  'notifications_url': 'https://api.github.com/repos/sandeepkumar406/sandy_python/notifications{?since,all,participating}',\n",
       "  'labels_url': 'https://api.github.com/repos/sandeepkumar406/sandy_python/labels{/name}',\n",
       "  'releases_url': 'https://api.github.com/repos/sandeepkumar406/sandy_python/releases{/id}',\n",
       "  'deployments_url': 'https://api.github.com/repos/sandeepkumar406/sandy_python/deployments',\n",
       "  'created_at': '2019-02-20T02:35:02Z',\n",
       "  'updated_at': '2019-02-20T02:35:05Z',\n",
       "  'pushed_at': '2019-02-20T02:35:04Z',\n",
       "  'git_url': 'git://github.com/sandeepkumar406/sandy_python.git',\n",
       "  'ssh_url': 'git@github.com:sandeepkumar406/sandy_python.git',\n",
       "  'clone_url': 'https://github.com/sandeepkumar406/sandy_python.git',\n",
       "  'svn_url': 'https://github.com/sandeepkumar406/sandy_python',\n",
       "  'homepage': None,\n",
       "  'size': 0,\n",
       "  'stargazers_count': 0,\n",
       "  'watchers_count': 0,\n",
       "  'language': None,\n",
       "  'has_issues': True,\n",
       "  'has_projects': True,\n",
       "  'has_downloads': True,\n",
       "  'has_wiki': True,\n",
       "  'has_pages': False,\n",
       "  'forks_count': 0,\n",
       "  'mirror_url': None,\n",
       "  'archived': False,\n",
       "  'open_issues_count': 0,\n",
       "  'license': None,\n",
       "  'forks': 0,\n",
       "  'open_issues': 0,\n",
       "  'watchers': 0,\n",
       "  'default_branch': 'master',\n",
       "  'permissions': {'admin': True, 'push': True, 'pull': True}}]"
      ]
     },
     "execution_count": 45,
     "metadata": {},
     "output_type": "execute_result"
    }
   ],
   "source": [
    "resp.json()"
   ]
  },
  {
   "cell_type": "code",
   "execution_count": 48,
   "metadata": {},
   "outputs": [
    {
     "name": "stdout",
     "output_type": "stream",
     "text": [
      "<Response [200]>\n"
     ]
    }
   ],
   "source": [
    "url = \"http://api.github.com/orgs/org1sandeep/repos\"\n",
    "resp = requests.post(url,json={\"name\":\"repo4\"},auth=(username,password))\n",
    "print(resp)"
   ]
  },
  {
   "cell_type": "code",
   "execution_count": 1,
   "metadata": {},
   "outputs": [],
   "source": [
    "import paramiko as pmk\n",
    "ssh = pmk.SSHClient()\n",
    "ssh.set_missing_host_key_policy(pmk.AutoAddPolicy())\n",
    "ssh.connect(\"localhost\",username=\"khyaathipython\",password=\"python\")"
   ]
  },
  {
   "cell_type": "code",
   "execution_count": 2,
   "metadata": {},
   "outputs": [
    {
     "data": {
      "text/plain": [
       "(<paramiko.ChannelFile from <paramiko.Channel 0 (closed) -> <paramiko.Transport at 0xa05dad30 (cipher aes128-ctr, 128 bits) (active; 0 open channel(s))>>>,\n",
       " <paramiko.ChannelFile from <paramiko.Channel 0 (closed) -> <paramiko.Transport at 0xa05dad30 (cipher aes128-ctr, 128 bits) (active; 0 open channel(s))>>>,\n",
       " <paramiko.ChannelFile from <paramiko.Channel 0 (closed) -> <paramiko.Transport at 0xa05dad30 (cipher aes128-ctr, 128 bits) (active; 0 open channel(s))>>>)"
      ]
     },
     "execution_count": 2,
     "metadata": {},
     "output_type": "execute_result"
    }
   ],
   "source": [
    "ssh.exec_command(\"mkdir local\")"
   ]
  },
  {
   "cell_type": "code",
   "execution_count": 3,
   "metadata": {},
   "outputs": [
    {
     "data": {
      "text/plain": [
       "(<paramiko.ChannelFile from <paramiko.Channel 1 (closed) -> <paramiko.Transport at 0xa05dad30 (cipher aes128-ctr, 128 bits) (active; 0 open channel(s))>>>,\n",
       " <paramiko.ChannelFile from <paramiko.Channel 1 (closed) -> <paramiko.Transport at 0xa05dad30 (cipher aes128-ctr, 128 bits) (active; 0 open channel(s))>>>,\n",
       " <paramiko.ChannelFile from <paramiko.Channel 1 (closed) -> <paramiko.Transport at 0xa05dad30 (cipher aes128-ctr, 128 bits) (active; 0 open channel(s))>>>)"
      ]
     },
     "execution_count": 3,
     "metadata": {},
     "output_type": "execute_result"
    }
   ],
   "source": [
    "ssh.exec_command(\"mkdir remote\")"
   ]
  },
  {
   "cell_type": "code",
   "execution_count": 4,
   "metadata": {},
   "outputs": [],
   "source": [
    "inp,outp,errp = ssh.exec_command(\"mkdir remote\")"
   ]
  },
  {
   "cell_type": "code",
   "execution_count": 5,
   "metadata": {},
   "outputs": [
    {
     "data": {
      "text/plain": [
       "b'mkdir: cannot create directory \\xe2\\x80\\x98remote\\xe2\\x80\\x99: File exists\\n'"
      ]
     },
     "execution_count": 5,
     "metadata": {},
     "output_type": "execute_result"
    }
   ],
   "source": [
    "errp.read()"
   ]
  },
  {
   "cell_type": "code",
   "execution_count": 6,
   "metadata": {},
   "outputs": [],
   "source": [
    "inp,outp,errp = ssh.exec_command(\"ps -aux\")"
   ]
  },
  {
   "cell_type": "code",
   "execution_count": 7,
   "metadata": {},
   "outputs": [
    {
     "data": {
      "text/plain": [
       "b''"
      ]
     },
     "execution_count": 7,
     "metadata": {},
     "output_type": "execute_result"
    }
   ],
   "source": [
    "errp.read()"
   ]
  },
  {
   "cell_type": "code",
   "execution_count": 8,
   "metadata": {},
   "outputs": [],
   "source": [
    "res=outp.read()"
   ]
  },
  {
   "cell_type": "code",
   "execution_count": 9,
   "metadata": {},
   "outputs": [
    {
     "name": "stdout",
     "output_type": "stream",
     "text": [
      "b'USER       PID %CPU %MEM    VSZ   RSS TTY      STAT START   TIME COMMAND\\nroot         1  0.0  0.1 160232  9632 ?        Ss   05:00   0:03 /sbin/init splash\\nroot         2  0.0  0.0      0     0 ?        S    05:00   0:00 [kthreadd]\\nroot         4  0.0  0.0      0     0 ?        I<   05:00   0:00 [kworker/0:0H]\\nroot         6  0.0  0.0      0     0 ?        I<   05:00   0:00 [mm_percpu_wq]\\nroot         7  0.0  0.0      0     0 ?        S    05:00   0:00 [ksoftirqd/0]\\nroot         8  0.0  0.0      0     0 ?        I    05:00   0:01 [rcu_sched]\\nroot         9  0.0  0.0      0     0 ?        I    05:00   0:00 [rcu_bh]\\nroot        10  0.0  0.0      0     0 ?        S    05:00   0:00 [migration/0]\\nroot        11  0.0  0.0      0     0 ?        S    05:00   0:00 [watchdog/0]\\nroot        12  0.0  0.0      0     0 ?        S    05:00   0:00 [cpuhp/0]\\nroot        13  0.0  0.0      0     0 ?        S    05:00   0:00 [kdevtmpfs]\\nroot        14  0.0  0.0      0     0 ?        I<   05:00   0:00 [netns]\\nroot        15  0.0  0.0      0     0 ?        S    05:00   0:00 [rcu_tasks_kthre]\\nroot        16  0.0  0.0      0     0 ?        S    05:00   0:00 [kauditd]\\nroot        17  0.0  0.0      0     0 ?        S    05:00   0:00 [khungtaskd]\\nroot        18  0.0  0.0      0     0 ?        S    05:00   0:00 [oom_reaper]\\nroot        19  0.0  0.0      0     0 ?        I<   05:00   0:00 [writeback]\\nroot        20  0.0  0.0      0     0 ?        S    05:00   0:00 [kcompactd0]\\nroot        21  0.0  0.0      0     0 ?        SN   05:00   0:00 [ksmd]\\nroot        22  0.0  0.0      0     0 ?        SN   05:00   0:00 [khugepaged]\\nroot        23  0.0  0.0      0     0 ?        I<   05:00   0:00 [crypto]\\nroot        24  0.0  0.0      0     0 ?        I<   05:00   0:00 [kintegrityd]\\nroot        25  0.0  0.0      0     0 ?        I<   05:00   0:00 [kblockd]\\nroot        26  0.0  0.0      0     0 ?        I<   05:00   0:00 [ata_sff]\\nroot        27  0.0  0.0      0     0 ?        I<   05:00   0:00 [md]\\nroot        28  0.0  0.0      0     0 ?        I<   05:00   0:00 [edac-poller]\\nroot        29  0.0  0.0      0     0 ?        I<   05:00   0:00 [devfreq_wq]\\nroot        30  0.0  0.0      0     0 ?        I<   05:00   0:00 [watchdogd]\\nroot        32  0.0  0.0      0     0 ?        I    05:00   0:02 [kworker/0:1]\\nroot        34  0.0  0.0      0     0 ?        S    05:00   0:00 [kswapd0]\\nroot        35  0.0  0.0      0     0 ?        S    05:00   0:00 [ecryptfs-kthrea]\\nroot        77  0.0  0.0      0     0 ?        I<   05:00   0:00 [kthrotld]\\nroot        78  0.0  0.0      0     0 ?        I<   05:00   0:00 [acpi_thermal_pm]\\nroot        79  0.0  0.0      0     0 ?        S    05:00   0:00 [scsi_eh_0]\\nroot        80  0.0  0.0      0     0 ?        I<   05:00   0:00 [scsi_tmf_0]\\nroot        81  0.0  0.0      0     0 ?        S    05:00   0:00 [scsi_eh_1]\\nroot        82  0.0  0.0      0     0 ?        I<   05:00   0:00 [scsi_tmf_1]\\nroot        88  0.0  0.0      0     0 ?        I<   05:00   0:00 [ipv6_addrconf]\\nroot        97  0.0  0.0      0     0 ?        I<   05:00   0:00 [kstrp]\\nroot       114  0.0  0.0      0     0 ?        I<   05:00   0:00 [charger_manager]\\nroot       154  0.0  0.0      0     0 ?        I<   05:00   0:00 [kworker/0:1H]\\nroot       155  0.0  0.0      0     0 ?        S    05:00   0:00 [scsi_eh_2]\\nroot       156  0.0  0.0      0     0 ?        I<   05:00   0:00 [scsi_tmf_2]\\nroot       177  0.0  0.0      0     0 ?        S    05:00   0:00 [jbd2/sda1-8]\\nroot       178  0.0  0.0      0     0 ?        I<   05:00   0:00 [ext4-rsv-conver]\\nroot       217  0.0  0.4 103440 22368 ?        S<s  05:00   0:00 /lib/systemd/systemd-journald\\nroot       236  0.0  0.1  47048  5624 ?        Ss   05:00   0:00 /lib/systemd/systemd-udevd\\nroot       270  0.0  0.0      0     0 ?        S<   05:00   0:00 [loop0]\\nroot       271  0.0  0.0      0     0 ?        S<   05:00   0:00 [loop1]\\nroot       272  0.0  0.0      0     0 ?        S<   05:00   0:00 [loop2]\\nroot       275  0.0  0.0      0     0 ?        S<   05:00   0:00 [loop3]\\nroot       282  0.0  0.0      0     0 ?        S<   05:00   0:00 [loop4]\\nroot       283  0.0  0.0      0     0 ?        S<   05:00   0:00 [loop5]\\nroot       284  0.0  0.0      0     0 ?        S<   05:00   0:00 [loop6]\\nroot       285  0.0  0.0      0     0 ?        S<   05:00   0:00 [loop7]\\nroot       286  0.0  0.0      0     0 ?        S<   05:00   0:00 [loop8]\\nroot       287  0.0  0.0      0     0 ?        S<   05:00   0:00 [loop9]\\nroot       288  0.0  0.0      0     0 ?        S<   05:00   0:00 [loop10]\\nroot       289  0.0  0.0      0     0 ?        S<   05:00   0:00 [loop11]\\nroot       290  0.0  0.0      0     0 ?        S<   05:00   0:00 [loop12]\\nroot       291  0.0  0.0      0     0 ?        S<   05:00   0:00 [loop13]\\nroot       292  0.0  0.0      0     0 ?        S<   05:00   0:00 [loop14]\\nroot       293  0.0  0.0      0     0 ?        S<   05:00   0:00 [loop15]\\nroot       294  0.0  0.0      0     0 ?        S<   05:00   0:00 [loop16]\\nroot       295  0.0  0.0      0     0 ?        S<   05:00   0:00 [loop17]\\nroot       296  0.0  0.0      0     0 ?        S<   05:00   0:00 [loop18]\\nroot       297  0.0  0.0      0     0 ?        S<   05:00   0:00 [loop19]\\nroot       298  0.0  0.0      0     0 ?        S<   05:00   0:00 [loop20]\\nroot       299  0.0  0.0      0     0 ?        S<   05:00   0:00 [loop21]\\nroot       300  0.0  0.0      0     0 ?        S<   05:00   0:00 [loop22]\\nroot       301  0.0  0.0      0     0 ?        S<   05:00   0:00 [loop23]\\nroot       302  0.0  0.0      0     0 ?        S<   05:00   0:00 [loop24]\\nroot       303  0.0  0.0      0     0 ?        S<   05:00   0:00 [loop25]\\nroot       321  0.0  0.0      0     0 ?        I<   05:00   0:00 [iprt-VBoxWQueue]\\nroot       324  0.0  0.0      0     0 ?        I<   05:00   0:00 [ttm_swap]\\nsystemd+   442  0.0  0.0 146100  3436 ?        Ssl  05:00   0:00 /lib/systemd/systemd-timesyncd\\nsystemd+   443  0.0  0.1  70748  6288 ?        Ss   05:00   0:00 /lib/systemd/systemd-resolved\\nroot       549  0.0  0.1 294840  7064 ?        Ssl  05:00   0:00 /usr/lib/accountsservice/accounts-daemon\\nroot       550  0.0  0.1  70728  6236 ?        Ss   05:00   0:00 /lib/systemd/systemd-logind\\nroot       555  0.0  0.0   4552   804 ?        Ss   05:00   0:00 /usr/sbin/acpid\\nroot       556  0.0  0.0  38428  3272 ?        Ss   05:00   0:00 /usr/sbin/cron -f\\nmessage+   557  0.0  0.1  51716  6168 ?        Ss   05:00   0:01 /usr/bin/dbus-daemon --system --address=systemd: --nofork --nopidfile --systemd-activation --syslog-only\\nroot       604  0.0  0.1  44752  5176 ?        Ss   05:00   0:00 /sbin/wpa_supplicant -u -s -O /run/wpa_supplicant\\nroot       605  0.0  0.3 491900 16812 ?        Ssl  05:00   0:00 /usr/sbin/NetworkManager --no-daemon\\navahi      606  0.0  0.0  47256  3292 ?        Ss   05:00   0:00 avahi-daemon: running [khyaathipython.local]\\nroot       610  0.0  0.2 503716 11156 ?        Ssl  05:00   0:00 /usr/lib/udisks2/udisksd\\nroot       613  0.0  0.1 353524  9160 ?        Ssl  05:00   0:00 /usr/sbin/ModemManager\\nsyslog     616  0.0  0.0 263036  4384 ?        Ssl  05:00   0:00 /usr/sbin/rsyslogd -n\\nroot       620  0.0  0.3 177612 17176 ?        Ssl  05:00   0:00 /usr/bin/python3 /usr/bin/networkd-dispatcher --run-startup-triggers\\nroot       634  0.0  0.2 303704 10220 ?        Ssl  05:00   0:01 /usr/lib/policykit-1/polkitd --no-debug\\navahi      668  0.0  0.0  47076   340 ?        S    05:00   0:00 avahi-daemon: chroot helper\\npostgres   679  0.0  0.5 326664 26988 ?        S    05:00   0:00 /usr/lib/postgresql/10/bin/postgres -D /var/lib/postgresql/10/main -c config_file=/etc/postgresql/10/main/postgresql.conf\\nkhyaath+   685  0.0  0.4  62176 20300 ?        Ss   05:00   0:01 /home/khyaathipython/pgmanagement/bin/python /home/khyaathipython/pgmanagement/bin/gunicorn --access-logfile - --workers 3 --bind 0.0.0.0:9000 pgmanagement.wsgi:application\\nroot       705  0.0  0.1 308184  8008 ?        Ssl  05:00   0:00 /usr/sbin/gdm3\\nroot       706  0.0  0.1  72296  6424 ?        Ss   05:00   0:00 /usr/sbin/sshd -D\\nroot       712  0.0  0.1 261552  8392 ?        Sl   05:00   0:00 gdm-session-worker [pam/gdm-launch-environment]\\nroot       722  0.0  0.0 146920  1528 ?        Ss   05:00   0:00 nginx: master process /usr/sbin/nginx -g daemon on; master_process on;\\nwww-data   723  0.0  0.1 149596  6408 ?        S    05:00   0:00 nginx: worker process\\nwhoopsie   762  0.0  0.2 462180 12616 ?        Ssl  05:00   0:00 /usr/bin/whoopsie -f\\npostgres   765  0.0  0.1 326664  6188 ?        Ss   05:00   0:00 postgres: 10/main: checkpointer process   \\npostgres   766  0.0  0.0 326664  4236 ?        Ss   05:00   0:00 postgres: 10/main: writer process   \\npostgres   767  0.0  0.1 326664  9140 ?        Ss   05:00   0:00 postgres: 10/main: wal writer process   \\npostgres   768  0.0  0.1 327100  6684 ?        Ss   05:00   0:00 postgres: 10/main: autovacuum launcher process   \\npostgres   769  0.0  0.0 181588  3452 ?        Ss   05:00   0:00 postgres: 10/main: stats collector process   \\npostgres   770  0.0  0.0 326956  4980 ?        Ss   05:00   0:00 postgres: 10/main: bgworker: logical replication launcher   \\ngdm        771  0.0  0.1  77036  8112 ?        Ss   05:00   0:00 /lib/systemd/systemd --user\\nkernoops   783  0.0  0.0  56936  2624 ?        Ss   05:00   0:00 /usr/sbin/kerneloops --test\\nkernoops   785  0.0  0.0  56936   424 ?        Ss   05:00   0:00 /usr/sbin/kerneloops\\ngdm        786  0.0  0.0 113940  2492 ?        S    05:00   0:00 (sd-pam)\\ngdm        830  0.0  0.1 197796  5600 tty1     Ssl+ 05:00   0:00 /usr/lib/gdm3/gdm-wayland-session gnome-session --autostart /usr/share/gdm/greeter/autostart\\ngdm        834  0.0  0.0  50360  4736 ?        Ss   05:00   0:00 /usr/bin/dbus-daemon --session --address=systemd: --nofork --nopidfile --systemd-activation --syslog-only\\ngdm        875  0.0  0.2 558948 13980 tty1     Sl+  05:00   0:00 /usr/lib/gnome-session/gnome-session-binary --autostart /usr/share/gdm/greeter/autostart\\ngdm        891  0.1  4.1 2925112 208336 tty1   Sl+  05:00   0:21 /usr/bin/gnome-shell\\nroot       906  0.0  0.1 322320  8636 ?        Ssl  05:00   0:00 /usr/lib/upower/upowerd\\ngdm        968  0.0  0.7 202692 35768 tty1     S+   05:00   0:00 /usr/bin/Xwayland :1024 -rootless -terminate -accessx -core -listen 4 -listen 5 -displayfd 6\\ngdm       1074  0.0  0.1 349400  6548 ?        Ssl  05:00   0:00 /usr/lib/at-spi2-core/at-spi-bus-launcher\\ngdm       1088  0.0  0.0  49928  3892 ?        S    05:00   0:00 /usr/bin/dbus-daemon --config-file=/usr/share/defaults/at-spi2/accessibility.conf --nofork --print-address 3\\ngdm       1103  0.0  0.1 220760  6960 ?        Sl   05:00   0:00 /usr/lib/at-spi2-core/at-spi2-registryd --use-gnome-session\\ngdm       1279  0.0  0.2 1153424 11096 ?       Ssl  05:00   0:00 /usr/bin/pulseaudio --daemonize=no\\nrtkit     1286  0.0  0.0 183504  2936 ?        SNsl 05:00   0:00 /usr/lib/rtkit/rtkit-daemon\\ngdm       1297  0.0  0.1 361356  7732 tty1     Sl   05:00   0:00 ibus-daemon --xim --panel disable\\ngdm       1300  0.0  0.1 280740  5780 tty1     Sl   05:00   0:00 /usr/lib/ibus/ibus-dconf\\ngdm       1303  0.0  0.9 471640 47212 tty1     Sl   05:00   0:00 /usr/lib/ibus/ibus-x11 --kill-daemon\\ngdm       1307  0.0  0.1 278556  5928 ?        Sl   05:00   0:00 /usr/lib/ibus/ibus-portal\\nroot      1319  0.0  0.1 296772  7236 ?        Ssl  05:00   0:00 /usr/lib/x86_64-linux-gnu/boltd\\ngdm       1320  0.0  0.4 494568 22052 tty1     Sl+  05:00   0:00 /usr/lib/gnome-settings-daemon/gsd-xsettings\\nroot      1321  0.1  1.4 522404 71732 ?        Ssl  05:00   0:22 /usr/lib/packagekit/packagekitd\\ngdm       1325  0.0  0.1 278152  5896 tty1     Sl+  05:00   0:00 /usr/lib/gnome-settings-daemon/gsd-a11y-settings\\ngdm       1327  0.0  0.3 343668 20148 tty1     Sl+  05:00   0:00 /usr/lib/gnome-settings-daemon/gsd-clipboard\\ngdm       1333  0.0  0.4 741912 22992 tty1     Sl+  05:00   0:00 /usr/lib/gnome-settings-daemon/gsd-color\\ngdm       1336  0.0  0.2 393704 13712 tty1     Sl+  05:00   0:00 /usr/lib/gnome-settings-daemon/gsd-datetime\\ngdm       1339  0.0  0.1 283736  5580 tty1     Sl+  05:00   0:00 /usr/lib/gnome-settings-daemon/gsd-housekeeping\\ngdm       1340  0.0  0.4 497980 20636 tty1     Sl+  05:00   0:00 /usr/lib/gnome-settings-daemon/gsd-keyboard\\ngdm       1344  0.0  0.4 1079720 23324 tty1    Sl+  05:00   0:00 /usr/lib/gnome-settings-daemon/gsd-media-keys\\ngdm       1345  0.0  0.0 201996  4504 tty1     Sl+  05:00   0:00 /usr/lib/gnome-settings-daemon/gsd-mouse\\ngdm       1353  0.0  0.4 517344 22384 tty1     Sl+  05:00   0:00 /usr/lib/gnome-settings-daemon/gsd-power\\ngdm       1355  0.0  0.1 267004  8704 tty1     Sl+  05:00   0:00 /usr/lib/gnome-settings-daemon/gsd-print-notifications\\ngdm       1361  0.0  0.0 202016  4756 tty1     Sl+  05:00   0:00 /usr/lib/gnome-settings-daemon/gsd-rfkill\\ngdm       1368  0.0  0.0 275732  4804 tty1     Sl+  05:00   0:00 /usr/lib/gnome-settings-daemon/gsd-screensaver-proxy\\ngdm       1373  0.0  0.1 305096  8128 tty1     Sl+  05:00   0:00 /usr/lib/gnome-settings-daemon/gsd-sharing\\ngdm       1385  0.0  0.1 377924  7936 tty1     Sl+  05:00   0:00 /usr/lib/gnome-settings-daemon/gsd-smartcard\\ngdm       1392  0.0  0.1 332856  7992 tty1     Sl+  05:00   0:00 /usr/lib/gnome-settings-daemon/gsd-sound\\ngdm       1395  0.0  0.4 428680 21328 tty1     Sl+  05:00   0:00 /usr/lib/gnome-settings-daemon/gsd-wacom\\ncolord    1422  0.0  0.2 677436 14364 ?        Ssl  05:00   0:00 /usr/lib/colord/colord\\ngdm       1457  0.0  0.1 204888  6612 tty1     Sl   05:00   0:00 /usr/lib/ibus/ibus-engine-simple\\nroot      1773  0.0  0.1 267740  8536 ?        Sl   05:21   0:00 gdm-session-worker [pam/gdm-password]\\nkhyaath+  1776  0.0  0.1  77064  8240 ?        Ss   05:21   0:00 /lib/systemd/systemd --user\\nkhyaath+  1777  0.0  0.0 195948  2596 ?        S    05:21   0:00 (sd-pam)\\nkhyaath+  1790  0.0  0.1 362108  8024 ?        Sl   05:21   0:00 /usr/bin/gnome-keyring-daemon --daemonize --login\\nkhyaath+  1794  0.0  0.1 212128  5980 tty2     Ssl+ 05:21   0:00 /usr/lib/gdm3/gdm-x-session --run-script env GNOME_SHELL_SESSION_MODE=ubuntu gnome-session --session=ubuntu\\nkhyaath+  1796  1.8  2.8 519508 143744 tty2    Sl+  05:21   3:29 /usr/lib/xorg/Xorg vt2 -displayfd 3 -auth /run/user/1000/gdm/Xauthority -background none -noreset -keeptty -verbose 3\\nkhyaath+  1801  0.0  0.1  51736  6344 ?        Ss   05:21   0:00 /usr/bin/dbus-daemon --session --address=systemd: --nofork --nopidfile --systemd-activation --syslog-only\\nkhyaath+  1805  0.0  0.2 632952 14160 tty2     Sl+  05:21   0:00 /usr/lib/gnome-session/gnome-session-binary --session=ubuntu\\nkhyaath+  1899  0.0  0.0  11304   320 ?        Ss   05:21   0:00 /usr/bin/ssh-agent /usr/bin/im-launch env GNOME_SHELL_SESSION_MODE=ubuntu gnome-session --session=ubuntu\\nkhyaath+  1901  0.0  0.1 349292  6560 ?        Ssl  05:21   0:00 /usr/lib/at-spi2-core/at-spi-bus-launcher\\nkhyaath+  1906  0.0  0.0  49928  4408 ?        S    05:21   0:00 /usr/bin/dbus-daemon --config-file=/usr/share/defaults/at-spi2/accessibility.conf --nofork --print-address 3\\nkhyaath+  1909  0.0  0.1 220776  6832 ?        Sl   05:21   0:01 /usr/lib/at-spi2-core/at-spi2-registryd --use-gnome-session\\nkhyaath+  1927 10.0  6.9 3040260 354952 tty2   Rl+  05:21  18:47 /usr/bin/gnome-shell\\nkhyaath+  1933  0.0  0.1 291964  6840 ?        Ssl  05:21   0:00 /usr/lib/gvfs/gvfsd\\nkhyaath+  1938  0.0  0.1 416112  5364 ?        Sl   05:21   0:00 /usr/lib/gvfs/gvfsd-fuse /run/user/1000/gvfs -f -o big_writes\\nkhyaath+  1949  0.0  0.2 1172272 12020 ?       S<l  05:21   0:00 /usr/bin/pulseaudio --start --log-target=syslog\\nkhyaath+  1959  0.1  0.1 361920  8260 tty2     Rl   05:21   0:18 ibus-daemon --xim --panel disable\\nkhyaath+  1963  0.0  0.1 280748  6768 tty2     Sl   05:21   0:00 /usr/lib/ibus/ibus-dconf\\nkhyaath+  1966  0.0  0.4 343896 20716 tty2     Sl   05:21   0:00 /usr/lib/ibus/ibus-x11 --kill-daemon\\nkhyaath+  1968  0.0  0.1 278688  6048 ?        Sl   05:21   0:00 /usr/lib/ibus/ibus-portal\\nkhyaath+  1978  0.0  0.4 689620 20536 ?        Sl   05:21   0:00 /usr/lib/gnome-shell/gnome-shell-calendar-server\\nkhyaath+  1982  0.0  0.5 978916 25380 ?        Ssl  05:21   0:00 /usr/lib/evolution/evolution-source-registry\\nkhyaath+  1991  0.0  0.6 848008 30760 ?        Sl   05:21   0:00 /usr/lib/gnome-online-accounts/goa-daemon\\nkhyaath+  2000  0.0  0.1 188016  5204 ?        Sl   05:21   0:00 /usr/lib/dconf/dconf-service\\nkhyaath+  2008  0.0  0.1 377088  7676 ?        Sl   05:21   0:00 /usr/lib/gnome-online-accounts/goa-identity-service\\nkhyaath+  2009  0.0  0.1 306440  8864 ?        Ssl  05:21   0:00 /usr/lib/gvfs/gvfs-udisks2-volume-monitor\\nkhyaath+  2019  0.0  0.1 274044  6092 ?        Ssl  05:21   0:00 /usr/lib/gvfs/gvfs-goa-volume-monitor\\nkhyaath+  2023  0.0  0.1 288656  6708 ?        Ssl  05:21   0:00 /usr/lib/gvfs/gvfs-gphoto2-volume-monitor\\nkhyaath+  2027  0.0  0.1 378812  7856 ?        Ssl  05:21   0:00 /usr/lib/gvfs/gvfs-afc-volume-monitor\\nkhyaath+  2032  0.0  0.0 275868  4844 ?        Ssl  05:21   0:00 /usr/lib/gvfs/gvfs-mtp-volume-monitor\\nkhyaath+  2036  0.0  0.4 517112 22364 tty2     Sl+  05:21   0:00 /usr/lib/gnome-settings-daemon/gsd-power\\nkhyaath+  2038  0.0  0.1 349312 10132 tty2     Sl+  05:21   0:00 /usr/lib/gnome-settings-daemon/gsd-print-notifications\\nkhyaath+  2039  0.0  0.1 423344  5884 tty2     Sl+  05:21   0:00 /usr/lib/gnome-settings-daemon/gsd-rfkill\\nkhyaath+  2040  0.0  0.0 275732  4764 tty2     Sl+  05:21   0:00 /usr/lib/gnome-settings-daemon/gsd-screensaver-proxy\\nkhyaath+  2043  0.0  0.1 452828  9168 tty2     Sl+  05:21   0:00 /usr/lib/gnome-settings-daemon/gsd-sharing\\nkhyaath+  2048  0.0  0.4 494412 21940 tty2     Sl+  05:21   0:00 /usr/lib/gnome-settings-daemon/gsd-xsettings\\nkhyaath+  2051  0.0  0.1 332852  8020 tty2     Sl+  05:21   0:00 /usr/lib/gnome-settings-daemon/gsd-sound\\nkhyaath+  2053  0.0  0.4 428344 21068 tty2     Sl+  05:21   0:00 /usr/lib/gnome-settings-daemon/gsd-wacom\\nkhyaath+  2055  0.0  0.1 377928  7868 tty2     Sl+  05:21   0:00 /usr/lib/gnome-settings-daemon/gsd-smartcard\\nkhyaath+  2070  0.0  0.3 343496 20012 tty2     Sl+  05:21   0:00 /usr/lib/gnome-settings-daemon/gsd-clipboard\\nkhyaath+  2071  0.0  0.1 278152  5896 tty2     Sl+  05:21   0:00 /usr/lib/gnome-settings-daemon/gsd-a11y-settings\\nkhyaath+  2073  0.0  0.2 469732 13652 tty2     Sl+  05:21   0:00 /usr/lib/gnome-settings-daemon/gsd-datetime\\nkhyaath+  2074  0.0  0.4 668096 22792 tty2     Sl+  05:21   0:01 /usr/lib/gnome-settings-daemon/gsd-color\\nkhyaath+  2076  0.0  0.4 497888 20548 tty2     Sl+  05:21   0:00 /usr/lib/gnome-settings-daemon/gsd-keyboard\\nkhyaath+  2082  0.0  0.1 364576  7328 tty2     Sl+  05:21   0:00 /usr/lib/gnome-settings-daemon/gsd-housekeeping\\nkhyaath+  2084  0.0  0.1 278156  5896 tty2     Sl+  05:21   0:00 /usr/lib/gnome-settings-daemon/gsd-mouse\\nkhyaath+  2088  0.0  0.4 792536 21844 tty2     Sl+  05:21   0:00 /usr/lib/gnome-settings-daemon/gsd-media-keys\\nkhyaath+  2113  0.0  0.2 508752 12828 tty2     Sl+  05:21   0:00 /usr/lib/gnome-settings-daemon/gsd-printer\\nkhyaath+  2134  0.0  3.4 1129384 175288 tty2   SLl+ 05:21   0:10 /usr/bin/gnome-software --gapplication-service\\nkhyaath+  2136  0.0  1.0 828744 51372 tty2     Sl+  05:21   0:02 nautilus-desktop\\nkhyaath+  2139  0.0  0.1 271932  6336 tty2     Sl+  05:21   0:00 /usr/lib/gnome-disk-utility/gsd-disk-utility-notify\\nkhyaath+  2159  0.0  0.1 368240  7440 ?        Sl   05:21   0:00 /usr/lib/gvfs/gvfsd-trash --spawner :1.13 /org/gtk/gvfs/exec_spaw/0\\nkhyaath+  2170  0.0  1.3 892156 67300 ?        Ssl  05:21   0:00 /usr/lib/evolution/evolution-calendar-factory\\nkhyaath+  2185  0.0  1.2 931088 62512 ?        Sl   05:21   0:00 /usr/lib/evolution/evolution-calendar-factory-subprocess --factory all --bus-name org.gnome.evolution.dataserver.Subprocess.Backend.Calendarx2170x2 --own-path /org/gnome/evolution/dataserver/Subprocess/Backend/Calendar/2170/2\\nkhyaath+  2188  0.0  0.1 204884  6616 tty2     Sl   05:21   0:04 /usr/lib/ibus/ibus-engine-simple\\nkhyaath+  2201  0.0  0.4 732668 23852 ?        Ssl  05:21   0:00 /usr/lib/evolution/evolution-addressbook-factory\\nkhyaath+  2210  0.0  0.5 886108 26568 ?        Sl   05:21   0:00 /usr/lib/evolution/evolution-addressbook-factory-subprocess --factory all --bus-name org.gnome.evolution.dataserver.Subprocess.Backend.AddressBookx2201x2 --own-path /org/gnome/evolution/dataserver/Subprocess/Backend/AddressBook/2201/2\\nroot      2234  0.0  0.4 559508 21500 ?        Ssl  05:21   0:00 /usr/lib/fwupd/fwupd\\nkhyaath+  2268  0.0  0.7 800396 37784 ?        Ssl  05:21   0:05 /usr/lib/gnome-terminal/gnome-terminal-server\\nkhyaath+  2278  0.0  0.1  29952  5368 pts/0    Ss   05:21   0:00 bash\\nkhyaath+  2635  0.0  0.4 665224 24876 tty2     Sl+  05:22   0:00 update-notifier\\nkhyaath+  2702  0.0  0.1 204400  5868 ?        Ssl  05:22   0:00 /usr/lib/gvfs/gvfsd-metadata\\nkhyaath+  2732  0.1  3.0 969436 154780 tty2    SNl+ 05:23   0:12 /usr/bin/python3 /usr/bin/update-manager --no-update --no-focus-on-map\\nkhyaath+  2761  0.0  0.6 861496 31772 tty2     Sl+  05:23   0:00 /usr/lib/deja-dup/deja-dup-monitor\\nkhyaath+  2776  0.0  0.1  29952  5528 pts/1    Ss   05:23   0:00 bash\\nkhyaath+  3099  0.0  1.0 996596 55740 ?        Sl   06:30   0:05 /usr/bin/nautilus --gapplication-service\\nkhyaath+  3124  0.0  0.1 152560  6368 ?        Sl   06:30   0:00 /usr/lib/libreoffice/program/oosplash --writer file:///home/khyaathipython/batch56/Assignments.odt\\nkhyaath+  3142  0.0  3.6 1234184 185028 ?      Sl   06:30   0:05 /usr/lib/libreoffice/program/soffice.bin --writer file:///home/khyaathipython/batch56/Assignments.odt --splash-pipe=5\\nroot      3378  0.0  0.1  25660  6132 ?        S    07:09   0:00 /sbin/dhclient -d -q -sf /usr/lib/NetworkManager/nm-dhcp-helper -pf /run/dhclient-enp0s3.pid -lf /var/lib/NetworkManager/dhclient-2b11a3ca-ca14-376e-b6c9-ee3156761222-enp0s3.lease -cf /var/lib/NetworkManager/dhclient-enp0s3.conf enp0s3\\nkhyaath+  3393  0.2  1.2 364524 64172 pts/0    Sl+  07:09   0:10 /home/khyaathipython/anaconda3/bin/python /home/khyaathipython/anaconda3/bin/ipython notebook\\nkhyaath+  3556  0.0  0.8 639552 43796 ?        Ssl  07:10   0:00 /home/khyaathipython/anaconda3/bin/python -m ipykernel_launcher -f /run/user/1000/jupyter/kernel-a129e291-7324-4e19-bd00-83f07d5386eb.json\\nkhyaath+  3619  0.0  0.7 126708 36812 ?        S    07:16   0:00 /home/khyaathipython/pgmanagement/bin/python /home/khyaathipython/pgmanagement/bin/gunicorn --access-logfile - --workers 3 --bind 0.0.0.0:9000 pgmanagement.wsgi:application\\nkhyaath+  3620  0.0  0.7 126704 36808 ?        S    07:16   0:00 /home/khyaathipython/pgmanagement/bin/python /home/khyaathipython/pgmanagement/bin/gunicorn --access-logfile - --workers 3 --bind 0.0.0.0:9000 pgmanagement.wsgi:application\\nkhyaath+  3624  0.0  0.7 126704 36808 ?        S    07:16   0:00 /home/khyaathipython/pgmanagement/bin/python /home/khyaathipython/pgmanagement/bin/gunicorn --access-logfile - --workers 3 --bind 0.0.0.0:9000 pgmanagement.wsgi:application\\nroot      4162  0.0  0.0      0     0 ?        I    07:20   0:00 [kworker/u2:3]\\nroot      5066  0.0  0.4 660200 21988 ?        Ssl  07:21   0:00 /usr/lib/snapd/snapd\\nroot      6054  0.0  0.1 107680  8068 ?        Ss   07:21   0:00 /usr/sbin/cupsd -l\\nroot      6055  0.0  0.2 303652 10948 ?        Ssl  07:21   0:00 /usr/sbin/cups-browsed\\nkhyaath+ 21547  0.0  0.8 640208 44832 ?        Ssl  07:23   0:01 /home/khyaathipython/anaconda3/bin/python -m ipykernel_launcher -f /run/user/1000/jupyter/kernel-6d397a5d-3e1b-4618-b21e-8f9240b8a335.json\\nroot     21692  0.0  0.0      0     0 ?        I    07:38   0:00 [kworker/0:0]\\nroot     21786  0.0  0.0      0     0 ?        I    07:59   0:00 [kworker/u2:1]\\nroot     21826  0.0  0.0      0     0 ?        I    08:12   0:00 [kworker/u2:0]\\nkhyaath+ 21857  0.0  0.0  11304  1564 ?        S    08:18   0:00 /usr/bin/ssh-agent -D -a /run/user/1000/keyring/.ssh\\nroot     22257  0.0  0.0      0     0 ?        I    08:24   0:00 [kworker/u2:2]\\nkhyaath+ 22259  1.0  1.2 363356 63144 pts/1    Sl+  08:24   0:02 /home/khyaathipython/anaconda3/bin/python /home/khyaathipython/anaconda3/bin/ipython notebook\\nkhyaath+ 22362  6.1  5.1 1792556 260752 ?      Ssl  08:24   0:12 /usr/lib/firefox/firefox -new-tab http://localhost:8889/tree?token=b997832765f4aa950a65d8412b0ad546f8a99dbbfed9c183\\nkhyaath+ 22452  8.5  4.7 1664868 243440 ?      Rl   08:24   0:17 /usr/lib/firefox/firefox -contentproc -childID 1 -isForBrowser -prefsLen 1 -prefMapSize 174364 -parentBuildID 20190315140653 -greomni /usr/lib/firefox/omni.ja -appomni /usr/lib/firefox/browser/omni.ja -appdir /usr/lib/firefox/browser 22362 true tab\\nkhyaath+ 22484  0.3  2.0 1516884 106140 ?      Sl   08:24   0:00 /usr/lib/firefox/firefox -contentproc -childID 2 -isForBrowser -prefsLen 5402 -prefMapSize 174364 -parentBuildID 20190315140653 -greomni /usr/lib/firefox/omni.ja -appomni /usr/lib/firefox/browser/omni.ja -appdir /usr/lib/firefox/browser 22362 true tab\\nkhyaath+ 22524  0.1  1.5 1499460 78504 ?       Sl   08:24   0:00 /usr/lib/firefox/firefox -contentproc -childID 3 -isForBrowser -prefsLen 6272 -prefMapSize 174364 -parentBuildID 20190315140653 -greomni /usr/lib/firefox/omni.ja -appomni /usr/lib/firefox/browser/omni.ja -appdir /usr/lib/firefox/browser 22362 true tab\\nkhyaath+ 22555  0.6  1.0 802636 52284 ?        Ssl  08:24   0:01 /home/khyaathipython/anaconda3/bin/python -m ipykernel_launcher -f /run/user/1000/jupyter/kernel-8fab2891-927a-45b0-bb85-040e7f5d75d0.json\\nroot     22582  0.0  0.1 107776  7204 ?        Ss   08:25   0:00 sshd: khyaathipython [priv]\\nkhyaath+ 22649  0.0  0.1 110076  6300 ?        S    08:25   0:00 sshd: khyaathipython@notty\\nkhyaath+ 22681  0.0  0.0  46772  3616 ?        Rs   08:27   0:00 ps -aux\\n'\n"
     ]
    }
   ],
   "source": [
    "print(res)"
   ]
  },
  {
   "cell_type": "code",
   "execution_count": 10,
   "metadata": {},
   "outputs": [
    {
     "name": "stdout",
     "output_type": "stream",
     "text": [
      "b'1\\n10\\n1074\\n1088\\n11\\n1103\\n114\\n12\\n1279\\n1286\\n1297\\n13\\n1300\\n1303\\n1307\\n1319\\n1320\\n1321\\n1325\\n1327\\n1333\\n1336\\n1339\\n1340\\n1344\\n1345\\n1353\\n1355\\n1361\\n1368\\n1373\\n1385\\n1392\\n1395\\n14\\n1422\\n1457\\n15\\n154\\n155\\n156\\n16\\n17\\n177\\n1773\\n1776\\n1777\\n178\\n1790\\n1794\\n1796\\n18\\n1801\\n1805\\n1899\\n19\\n1901\\n1906\\n1909\\n1927\\n1933\\n1938\\n1949\\n1959\\n1963\\n1966\\n1968\\n1978\\n1982\\n1991\\n2\\n20\\n2000\\n2008\\n2009\\n2019\\n2023\\n2027\\n2032\\n2036\\n2038\\n2039\\n2040\\n2043\\n2048\\n2051\\n2053\\n2055\\n2070\\n2071\\n2073\\n2074\\n2076\\n2082\\n2084\\n2088\\n21\\n2113\\n2134\\n2136\\n2139\\n2159\\n21692\\n217\\n2170\\n21826\\n2185\\n21857\\n2188\\n22\\n2201\\n2210\\n22257\\n22259\\n2234\\n22362\\n22452\\n22484\\n22524\\n22555\\n22582\\n22649\\n2268\\n22683\\n22685\\n22687\\n22688\\n2278\\n23\\n236\\n24\\n25\\n26\\n2635\\n27\\n270\\n2702\\n271\\n272\\n2732\\n275\\n2761\\n2776\\n28\\n282\\n283\\n284\\n285\\n286\\n287\\n288\\n289\\n29\\n290\\n291\\n292\\n293\\n294\\n295\\n296\\n297\\n298\\n299\\n30\\n300\\n301\\n302\\n303\\n3099\\n3124\\n3142\\n32\\n321\\n324\\n3378\\n34\\n35\\n3619\\n3620\\n3624\\n4\\n4162\\n442\\n443\\n5066\\n549\\n550\\n555\\n556\\n557\\n6\\n604\\n605\\n6054\\n6055\\n606\\n610\\n613\\n616\\n620\\n634\\n668\\n679\\n685\\n7\\n705\\n706\\n712\\n722\\n723\\n762\\n765\\n766\\n767\\n768\\n769\\n77\\n770\\n771\\n78\\n783\\n785\\n786\\n79\\n8\\n80\\n81\\n82\\n830\\n834\\n875\\n88\\n891\\n9\\n906\\n968\\n97\\nacpi\\nasound\\nbuddyinfo\\nbus\\ncgroups\\ncmdline\\nconsoles\\ncpuinfo\\ncrypto\\ndevices\\ndiskstats\\ndma\\ndriver\\nexecdomains\\nfb\\nfilesystems\\nfs\\ninterrupts\\niomem\\nioports\\nirq\\nkallsyms\\nkcore\\nkeys\\nkey-users\\nkmsg\\nkpagecgroup\\nkpagecount\\nkpageflags\\nloadavg\\nlocks\\nmdstat\\nmeminfo\\nmisc\\nmodules\\nmounts\\nmtrr\\nnet\\npagetypeinfo\\npartitions\\nsched_debug\\nschedstat\\nscsi\\nself\\nslabinfo\\nsoftirqs\\nstat\\nswaps\\nsys\\nsysrq-trigger\\nsysvipc\\nthread-self\\ntimer_list\\ntty\\nuptime\\nversion\\nversion_signature\\nvmallocinfo\\nvmstat\\nzoneinfo\\n'\n"
     ]
    }
   ],
   "source": [
    "inp,outp,errp = ssh.exec_command(\"echo python|sudo -S ls /proc\")\n",
    "print(outp.read())\n"
   ]
  },
  {
   "cell_type": "code",
   "execution_count": 11,
   "metadata": {},
   "outputs": [],
   "source": [
    "sftp = ssh.open_sftp()"
   ]
  },
  {
   "cell_type": "code",
   "execution_count": 12,
   "metadata": {},
   "outputs": [
    {
     "data": {
      "text/plain": [
       "<SFTPAttributes: [ size=44 uid=1000 gid=1000 mode=0o100664 atime=1553223750 mtime=1553223750 ]>"
      ]
     },
     "execution_count": 12,
     "metadata": {},
     "output_type": "execute_result"
    }
   ],
   "source": [
    "sftp.put(\"/home/khyaathipython/local/a.py\",\"/home/khyaathipython/remote/a1.py\")"
   ]
  },
  {
   "cell_type": "code",
   "execution_count": 13,
   "metadata": {},
   "outputs": [],
   "source": [
    "sftp.get(\"/home/khyaathipython/remote/a1.py\",\"/home/khyaathipython/local/a2.py\",)"
   ]
  },
  {
   "cell_type": "code",
   "execution_count": null,
   "metadata": {},
   "outputs": [],
   "source": []
  }
 ],
 "metadata": {
  "kernelspec": {
   "display_name": "Python 3",
   "language": "python",
   "name": "python3"
  },
  "language_info": {
   "codemirror_mode": {
    "name": "ipython",
    "version": 3
   },
   "file_extension": ".py",
   "mimetype": "text/x-python",
   "name": "python",
   "nbconvert_exporter": "python",
   "pygments_lexer": "ipython3",
   "version": "3.7.0"
  }
 },
 "nbformat": 4,
 "nbformat_minor": 2
}
