{
 "cells": [
  {
   "cell_type": "code",
   "execution_count": 1,
   "metadata": {},
   "outputs": [],
   "source": [
    "import os"
   ]
  },
  {
   "cell_type": "code",
   "execution_count": 3,
   "metadata": {},
   "outputs": [
    {
     "data": {
      "text/plain": [
       "0"
      ]
     },
     "execution_count": 3,
     "metadata": {},
     "output_type": "execute_result"
    }
   ],
   "source": [
    "os.system(\"mkdir folder1\")"
   ]
  },
  {
   "cell_type": "code",
   "execution_count": 4,
   "metadata": {},
   "outputs": [
    {
     "data": {
      "text/plain": [
       "256"
      ]
     },
     "execution_count": 4,
     "metadata": {},
     "output_type": "execute_result"
    }
   ],
   "source": [
    "os.system(\"mkdir folder1\")"
   ]
  },
  {
   "cell_type": "code",
   "execution_count": 6,
   "metadata": {},
   "outputs": [
    {
     "data": {
      "text/plain": [
       "'.'"
      ]
     },
     "execution_count": 6,
     "metadata": {},
     "output_type": "execute_result"
    }
   ],
   "source": [
    "os.curdir"
   ]
  },
  {
   "cell_type": "code",
   "execution_count": 7,
   "metadata": {},
   "outputs": [],
   "source": [
    "os.mkdir(\"folder2\")"
   ]
  },
  {
   "cell_type": "code",
   "execution_count": 8,
   "metadata": {},
   "outputs": [],
   "source": [
    "os.rmdir(\"folder1\")"
   ]
  },
  {
   "cell_type": "code",
   "execution_count": 9,
   "metadata": {},
   "outputs": [
    {
     "data": {
      "text/plain": [
       "0"
      ]
     },
     "execution_count": 9,
     "metadata": {},
     "output_type": "execute_result"
    }
   ],
   "source": [
    "os.system(\"rm -rf folder2\")"
   ]
  },
  {
   "cell_type": "code",
   "execution_count": 10,
   "metadata": {},
   "outputs": [
    {
     "data": {
      "text/plain": [
       "0"
      ]
     },
     "execution_count": 10,
     "metadata": {},
     "output_type": "execute_result"
    }
   ],
   "source": [
    "os.system(\"ls -l\")"
   ]
  },
  {
   "cell_type": "code",
   "execution_count": 12,
   "metadata": {},
   "outputs": [],
   "source": [
    "from subprocess import check_output"
   ]
  },
  {
   "cell_type": "code",
   "execution_count": 14,
   "metadata": {},
   "outputs": [],
   "source": [
    "res = check_output([\"ls\", \"-l\"])"
   ]
  },
  {
   "cell_type": "code",
   "execution_count": 15,
   "metadata": {},
   "outputs": [
    {
     "name": "stdout",
     "output_type": "stream",
     "text": [
      "b'total 10120\\n-rw-rw-r-- 1 khyaathipython khyaathipython     185 Mar 18 09:02 app.py\\n-rw-rw-r-- 1 khyaathipython khyaathipython      14 Feb  8 08:42 a.py\\n-rw-r--r-- 1 khyaathipython khyaathipython   27269 Mar  6 08:42 Assignments.odt\\n-rw-r--r-- 1 khyaathipython khyaathipython      21 Feb 18 09:12 a.txt\\n-rw-rw-r-- 1 khyaathipython khyaathipython     182 Mar 15 09:07 cls1.py\\n-rw-r--r-- 1 khyaathipython khyaathipython   52987 Mar  2 09:33 comprehensions.ipynb\\n-rw-r--r-- 1 khyaathipython khyaathipython   38200 Feb 22 08:15 conditional statements.ipynb\\n-rw-r--r-- 1 khyaathipython khyaathipython      21 Mar 11 09:06 data1.csv\\n-rw-r--r-- 1 khyaathipython khyaathipython      54 Mar 15 08:34 data1.txt\\n-rw-r--r-- 1 khyaathipython khyaathipython    8379 Mar 14 08:32 database operations.ipynb\\n-rw-r--r-- 1 khyaathipython khyaathipython    1285 Mar 13 08:56 data.csv\\n-rw-r--r-- 1 khyaathipython khyaathipython      80 Mar 12 08:37 data.json\\n-rw-r--r-- 1 khyaathipython khyaathipython   89270 Feb 19 08:26 datatypes.ipynb\\n-rw-r--r-- 1 khyaathipython khyaathipython      65 Mar 12 08:47 data.yaml\\n-rw-r--r-- 1 khyaathipython khyaathipython    8192 Mar 13 08:51 db1.sqlite3\\n-rw-rw-r-- 1 khyaathipython khyaathipython   22961 Feb 18 09:20 db.jpg\\n-rw-r--r-- 1 khyaathipython khyaathipython    2527 Mar 19 08:15 debice automation.ipynb\\n-rw-rw-r-- 1 khyaathipython khyaathipython     186 Mar  8 08:42 dict_1.py\\n-rw-r--r-- 1 khyaathipython khyaathipython   46000 Mar  8 09:24 dictionary.ipynb\\n-rw-r--r-- 1 khyaathipython khyaathipython   43309 Mar 15 08:49 exception handling.ipynb\\n-rw-rw-r-- 1 khyaathipython khyaathipython   38198 Feb 12 08:48 exection process.jpg\\n-rw-rw-r-- 1 khyaathipython khyaathipython     773 Mar 15 08:33 exp1.py\\n-rw-rw-r-- 1 khyaathipython khyaathipython     141 Mar 15 09:01 exp2.py\\n-rw-rw-r-- 1 khyaathipython khyaathipython   24381 Mar 11 08:58 file_op.jpg\\n-rw-r--r-- 1 khyaathipython khyaathipython  160130 Mar 13 09:07 files.ipynb\\n-rw-rw-r-- 1 khyaathipython khyaathipython   36166 Feb 26 09:14 fun1.jpg\\n-rw-rw-r-- 1 khyaathipython khyaathipython   34212 Feb 27 08:51 fun2.jpg\\n-rw-rw-r-- 1 khyaathipython khyaathipython   38939 Feb 27 08:52 fun3.jpg\\n-rw-rw-r-- 1 khyaathipython khyaathipython   81426 Feb 27 09:10 fun4.jpg\\n-rw-r--r-- 1 khyaathipython khyaathipython   66961 Mar 17 07:43 functions.ipynb\\n-rw-rw-r-- 1 khyaathipython khyaathipython     348 Feb 25 08:57 fun.py\\n-rw-rw-r-- 1 khyaathipython khyaathipython      69 Feb 13 08:31 hello1.py\\n-rw-rw-r-- 1 khyaathipython khyaathipython      18 Feb 12 08:38 hello.html\\n-rw-r--r-- 1 khyaathipython khyaathipython   17291 Feb  8 09:07 hello.ipynb\\n-rw-rw-r-- 1 khyaathipython khyaathipython   39662 Feb 13 07:25 int_mem1.jpg\\n-rw-rw-r-- 1 khyaathipython khyaathipython   31581 Feb 12 09:00 int_mem.jpg\\n-rw-rw-r-- 1 khyaathipython khyaathipython   20632 Mar  1 08:36 list append.jpg\\n-rw-rw-r-- 1 khyaathipython khyaathipython   21454 Mar  1 08:39 list append with list copy.jpg\\n-rw-rw-r-- 1 khyaathipython khyaathipython   21454 Mar  1 08:38 list append with reference.jpg\\n-rw-rw-r-- 1 khyaathipython khyaathipython   49229 Feb 13 08:56 list_mem1.jpg\\n-rw-r--r-- 1 khyaathipython khyaathipython   40559 Mar  8 08:33 lists.ipynb\\n-rw-r--r-- 1 khyaathipython khyaathipython   49350 Feb 23 09:05 looping statements.ipynb\\n-rw-rw-r-- 1 khyaathipython khyaathipython     113 Mar 18 09:01 mod1.py\\ndrwxr-xr-x 4 khyaathipython khyaathipython    4096 Mar 11 08:42 modules\\n-rw-r--r-- 1 khyaathipython khyaathipython  114286 Mar 18 09:06 oops.ipynb\\n-rw-rw-r-- 1 khyaathipython khyaathipython 8716904 Mar 12 08:45 Practical Python and OpenCV.pdf\\n-rw-rw-r-- 1 khyaathipython khyaathipython   21508 Feb 13 07:28 program dealting with sdecondary media.jpg\\ndrwxr-xr-x 2 khyaathipython khyaathipython    4096 Mar 18 09:02 __pycache__\\n-rw-rw-r-- 1 khyaathipython khyaathipython    3805 Feb  8 09:04 python course content\\n-rw-r--r-- 1 khyaathipython khyaathipython    9333 Feb 13 09:03 python features.ipynb\\n-rw-r--r-- 1 khyaathipython khyaathipython      10 Feb  8 09:09 README.md\\n-rw-r--r-- 1 khyaathipython khyaathipython   22957 Mar  9 09:12 set.ipynb\\n-rw-r--r-- 1 khyaathipython khyaathipython   93209 Mar  7 09:06 string functions.ipynb\\n-rw-rw-r-- 1 khyaathipython khyaathipython   54744 Feb 13 08:44 string_mem1.jpg\\n-rw-rw-r-- 1 khyaathipython khyaathipython   42581 Feb 13 08:36 string_mem.jpg\\n-rw-r--r-- 1 khyaathipython khyaathipython   13444 Feb 28 09:05 strings.ipynb\\n-rw-r--r-- 1 khyaathipython khyaathipython     555 Feb 12 08:20 Untitled.ipynb\\n'\n"
     ]
    }
   ],
   "source": [
    "print(res)"
   ]
  },
  {
   "cell_type": "code",
   "execution_count": 17,
   "metadata": {},
   "outputs": [
    {
     "name": "stdout",
     "output_type": "stream",
     "text": [
      "b'USER       PID %CPU %MEM    VSZ   RSS TTY      STAT START   TIME COMMAND'\n"
     ]
    }
   ],
   "source": [
    "all_processes=check_output([\"ps\", \"-aux\"])\n",
    "                            \n",
    "for i in all_processes.splitlines():\n",
    "    print(i)\n",
    "    break"
   ]
  },
  {
   "cell_type": "code",
   "execution_count": 19,
   "metadata": {},
   "outputs": [
    {
     "name": "stdout",
     "output_type": "stream",
     "text": [
      "b'khyaath+  2168  0.9  1.4 697648 75040 tty2     Sl+  08:18   0:01 /usr/bin/mono /usr/lib/pinta/Pinta.exe'\n"
     ]
    }
   ],
   "source": [
    "all_processes=check_output([\"ps\", \"-aux\"])\n",
    "                            \n",
    "for i in all_processes.splitlines():\n",
    "    if b'pinta' in i:\n",
    "        print(i)"
   ]
  },
  {
   "cell_type": "code",
   "execution_count": 20,
   "metadata": {},
   "outputs": [
    {
     "name": "stdout",
     "output_type": "stream",
     "text": [
      "[b'khyaath+', b'2168', b'0.8', b'1.4', b'697648', b'75040', b'tty2', b'Sl+', b'08:18', b'0:01', b'/usr/bin/mono', b'/usr/lib/pinta/Pinta.exe']\n"
     ]
    }
   ],
   "source": [
    "all_processes=check_output([\"ps\", \"-aux\"])\n",
    "                            \n",
    "for i in all_processes.splitlines():\n",
    "    if b'pinta' in i:\n",
    "        print(i.split())"
   ]
  },
  {
   "cell_type": "code",
   "execution_count": 21,
   "metadata": {},
   "outputs": [
    {
     "name": "stdout",
     "output_type": "stream",
     "text": [
      "b'2168'\n"
     ]
    }
   ],
   "source": [
    "all_processes=check_output([\"ps\", \"-aux\"])\n",
    "                            \n",
    "for i in all_processes.splitlines():\n",
    "    if b'pinta' in i:\n",
    "        print(i.split()[1])"
   ]
  },
  {
   "cell_type": "code",
   "execution_count": 26,
   "metadata": {},
   "outputs": [],
   "source": [
    "all_processes=check_output([\"ps\", \"-aux\"])\n",
    "                            \n",
    "for i in all_processes.splitlines():\n",
    "    if b'pinta' in i:\n",
    "        process_id = i.split()[1]\n",
    "        s=\"%s\"%process_id\n",
    "        s1 = s[1:].strip(\"'\")\n",
    "        os.system(\"kill -9 %s\"%s1)\n",
    "        "
   ]
  },
  {
   "cell_type": "code",
   "execution_count": 27,
   "metadata": {},
   "outputs": [
    {
     "name": "stdout",
     "output_type": "stream",
     "text": [
      "<github.MainClass.Github object at 0x7f860c1ca470>\n"
     ]
    }
   ],
   "source": [
    "username=\"sandeepkumar406\"\n",
    "password=\"sandy1989!\"\n",
    "from github import Github\n",
    "git = Github(username, password)\n",
    "print(git)"
   ]
  },
  {
   "cell_type": "code",
   "execution_count": 29,
   "metadata": {},
   "outputs": [],
   "source": [
    "user=git.get_user()"
   ]
  },
  {
   "cell_type": "code",
   "execution_count": 30,
   "metadata": {},
   "outputs": [
    {
     "data": {
      "text/plain": [
       "AuthenticatedUser(login=None)"
      ]
     },
     "execution_count": 30,
     "metadata": {},
     "output_type": "execute_result"
    }
   ],
   "source": [
    "user"
   ]
  },
  {
   "cell_type": "code",
   "execution_count": 32,
   "metadata": {},
   "outputs": [
    {
     "data": {
      "text/plain": [
       "Repository(full_name=\"sandeepkumar406/repo1\")"
      ]
     },
     "execution_count": 32,
     "metadata": {},
     "output_type": "execute_result"
    }
   ],
   "source": [
    "user.create_repo(\"repo1\")"
   ]
  },
  {
   "cell_type": "code",
   "execution_count": 33,
   "metadata": {},
   "outputs": [],
   "source": [
    "repo2 = user.create_repo(\"repo2\")"
   ]
  },
  {
   "cell_type": "code",
   "execution_count": 34,
   "metadata": {},
   "outputs": [
    {
     "data": {
      "text/plain": [
       "Repository(full_name=\"sandeepkumar406/repo2\")"
      ]
     },
     "execution_count": 34,
     "metadata": {},
     "output_type": "execute_result"
    }
   ],
   "source": [
    "repo2"
   ]
  },
  {
   "cell_type": "code",
   "execution_count": 36,
   "metadata": {},
   "outputs": [
    {
     "data": {
      "text/plain": [
       "{'content': ContentFile(path=\"f1\"),\n",
       " 'commit': Commit(sha=\"20a97fc2842900e42746a60ee85fafb446a393ff\")}"
      ]
     },
     "execution_count": 36,
     "metadata": {},
     "output_type": "execute_result"
    }
   ],
   "source": [
    "repo2.create_file(\"f1\",\"data\",\"commit message\")"
   ]
  },
  {
   "cell_type": "code",
   "execution_count": 37,
   "metadata": {},
   "outputs": [],
   "source": [
    "import requests"
   ]
  },
  {
   "cell_type": "code",
   "execution_count": 40,
   "metadata": {},
   "outputs": [
    {
     "name": "stdout",
     "output_type": "stream",
     "text": [
      "<Response [200]>\n"
     ]
    }
   ],
   "source": [
    "url = \"http://api.github.com/users/sandeepkumar406/repos\"\n",
    "resp = requests.get(url)\n",
    "print(resp)"
   ]
  },
  {
   "cell_type": "code",
   "execution_count": 41,
   "metadata": {},
   "outputs": [
    {
     "data": {
      "text/plain": [
       "[{'id': 176411567,\n",
       "  'node_id': 'MDEwOlJlcG9zaXRvcnkxNzY0MTE1Njc=',\n",
       "  'name': 'repo1',\n",
       "  'full_name': 'sandeepkumar406/repo1',\n",
       "  'private': False,\n",
       "  'owner': {'login': 'sandeepkumar406',\n",
       "   'id': 47802595,\n",
       "   'node_id': 'MDQ6VXNlcjQ3ODAyNTk1',\n",
       "   'avatar_url': 'https://avatars2.githubusercontent.com/u/47802595?v=4',\n",
       "   'gravatar_id': '',\n",
       "   'url': 'https://api.github.com/users/sandeepkumar406',\n",
       "   'html_url': 'https://github.com/sandeepkumar406',\n",
       "   'followers_url': 'https://api.github.com/users/sandeepkumar406/followers',\n",
       "   'following_url': 'https://api.github.com/users/sandeepkumar406/following{/other_user}',\n",
       "   'gists_url': 'https://api.github.com/users/sandeepkumar406/gists{/gist_id}',\n",
       "   'starred_url': 'https://api.github.com/users/sandeepkumar406/starred{/owner}{/repo}',\n",
       "   'subscriptions_url': 'https://api.github.com/users/sandeepkumar406/subscriptions',\n",
       "   'organizations_url': 'https://api.github.com/users/sandeepkumar406/orgs',\n",
       "   'repos_url': 'https://api.github.com/users/sandeepkumar406/repos',\n",
       "   'events_url': 'https://api.github.com/users/sandeepkumar406/events{/privacy}',\n",
       "   'received_events_url': 'https://api.github.com/users/sandeepkumar406/received_events',\n",
       "   'type': 'User',\n",
       "   'site_admin': False},\n",
       "  'html_url': 'https://github.com/sandeepkumar406/repo1',\n",
       "  'description': None,\n",
       "  'fork': False,\n",
       "  'url': 'https://api.github.com/repos/sandeepkumar406/repo1',\n",
       "  'forks_url': 'https://api.github.com/repos/sandeepkumar406/repo1/forks',\n",
       "  'keys_url': 'https://api.github.com/repos/sandeepkumar406/repo1/keys{/key_id}',\n",
       "  'collaborators_url': 'https://api.github.com/repos/sandeepkumar406/repo1/collaborators{/collaborator}',\n",
       "  'teams_url': 'https://api.github.com/repos/sandeepkumar406/repo1/teams',\n",
       "  'hooks_url': 'https://api.github.com/repos/sandeepkumar406/repo1/hooks',\n",
       "  'issue_events_url': 'https://api.github.com/repos/sandeepkumar406/repo1/issues/events{/number}',\n",
       "  'events_url': 'https://api.github.com/repos/sandeepkumar406/repo1/events',\n",
       "  'assignees_url': 'https://api.github.com/repos/sandeepkumar406/repo1/assignees{/user}',\n",
       "  'branches_url': 'https://api.github.com/repos/sandeepkumar406/repo1/branches{/branch}',\n",
       "  'tags_url': 'https://api.github.com/repos/sandeepkumar406/repo1/tags',\n",
       "  'blobs_url': 'https://api.github.com/repos/sandeepkumar406/repo1/git/blobs{/sha}',\n",
       "  'git_tags_url': 'https://api.github.com/repos/sandeepkumar406/repo1/git/tags{/sha}',\n",
       "  'git_refs_url': 'https://api.github.com/repos/sandeepkumar406/repo1/git/refs{/sha}',\n",
       "  'trees_url': 'https://api.github.com/repos/sandeepkumar406/repo1/git/trees{/sha}',\n",
       "  'statuses_url': 'https://api.github.com/repos/sandeepkumar406/repo1/statuses/{sha}',\n",
       "  'languages_url': 'https://api.github.com/repos/sandeepkumar406/repo1/languages',\n",
       "  'stargazers_url': 'https://api.github.com/repos/sandeepkumar406/repo1/stargazers',\n",
       "  'contributors_url': 'https://api.github.com/repos/sandeepkumar406/repo1/contributors',\n",
       "  'subscribers_url': 'https://api.github.com/repos/sandeepkumar406/repo1/subscribers',\n",
       "  'subscription_url': 'https://api.github.com/repos/sandeepkumar406/repo1/subscription',\n",
       "  'commits_url': 'https://api.github.com/repos/sandeepkumar406/repo1/commits{/sha}',\n",
       "  'git_commits_url': 'https://api.github.com/repos/sandeepkumar406/repo1/git/commits{/sha}',\n",
       "  'comments_url': 'https://api.github.com/repos/sandeepkumar406/repo1/comments{/number}',\n",
       "  'issue_comment_url': 'https://api.github.com/repos/sandeepkumar406/repo1/issues/comments{/number}',\n",
       "  'contents_url': 'https://api.github.com/repos/sandeepkumar406/repo1/contents/{+path}',\n",
       "  'compare_url': 'https://api.github.com/repos/sandeepkumar406/repo1/compare/{base}...{head}',\n",
       "  'merges_url': 'https://api.github.com/repos/sandeepkumar406/repo1/merges',\n",
       "  'archive_url': 'https://api.github.com/repos/sandeepkumar406/repo1/{archive_format}{/ref}',\n",
       "  'downloads_url': 'https://api.github.com/repos/sandeepkumar406/repo1/downloads',\n",
       "  'issues_url': 'https://api.github.com/repos/sandeepkumar406/repo1/issues{/number}',\n",
       "  'pulls_url': 'https://api.github.com/repos/sandeepkumar406/repo1/pulls{/number}',\n",
       "  'milestones_url': 'https://api.github.com/repos/sandeepkumar406/repo1/milestones{/number}',\n",
       "  'notifications_url': 'https://api.github.com/repos/sandeepkumar406/repo1/notifications{?since,all,participating}',\n",
       "  'labels_url': 'https://api.github.com/repos/sandeepkumar406/repo1/labels{/name}',\n",
       "  'releases_url': 'https://api.github.com/repos/sandeepkumar406/repo1/releases{/id}',\n",
       "  'deployments_url': 'https://api.github.com/repos/sandeepkumar406/repo1/deployments',\n",
       "  'created_at': '2019-03-19T02:58:57Z',\n",
       "  'updated_at': '2019-03-19T02:58:57Z',\n",
       "  'pushed_at': '2019-03-19T02:58:57Z',\n",
       "  'git_url': 'git://github.com/sandeepkumar406/repo1.git',\n",
       "  'ssh_url': 'git@github.com:sandeepkumar406/repo1.git',\n",
       "  'clone_url': 'https://github.com/sandeepkumar406/repo1.git',\n",
       "  'svn_url': 'https://github.com/sandeepkumar406/repo1',\n",
       "  'homepage': None,\n",
       "  'size': 0,\n",
       "  'stargazers_count': 0,\n",
       "  'watchers_count': 0,\n",
       "  'language': None,\n",
       "  'has_issues': True,\n",
       "  'has_projects': True,\n",
       "  'has_downloads': True,\n",
       "  'has_wiki': True,\n",
       "  'has_pages': False,\n",
       "  'forks_count': 0,\n",
       "  'mirror_url': None,\n",
       "  'archived': False,\n",
       "  'open_issues_count': 0,\n",
       "  'license': None,\n",
       "  'forks': 0,\n",
       "  'open_issues': 0,\n",
       "  'watchers': 0,\n",
       "  'default_branch': 'master'},\n",
       " {'id': 176411637,\n",
       "  'node_id': 'MDEwOlJlcG9zaXRvcnkxNzY0MTE2Mzc=',\n",
       "  'name': 'repo2',\n",
       "  'full_name': 'sandeepkumar406/repo2',\n",
       "  'private': False,\n",
       "  'owner': {'login': 'sandeepkumar406',\n",
       "   'id': 47802595,\n",
       "   'node_id': 'MDQ6VXNlcjQ3ODAyNTk1',\n",
       "   'avatar_url': 'https://avatars2.githubusercontent.com/u/47802595?v=4',\n",
       "   'gravatar_id': '',\n",
       "   'url': 'https://api.github.com/users/sandeepkumar406',\n",
       "   'html_url': 'https://github.com/sandeepkumar406',\n",
       "   'followers_url': 'https://api.github.com/users/sandeepkumar406/followers',\n",
       "   'following_url': 'https://api.github.com/users/sandeepkumar406/following{/other_user}',\n",
       "   'gists_url': 'https://api.github.com/users/sandeepkumar406/gists{/gist_id}',\n",
       "   'starred_url': 'https://api.github.com/users/sandeepkumar406/starred{/owner}{/repo}',\n",
       "   'subscriptions_url': 'https://api.github.com/users/sandeepkumar406/subscriptions',\n",
       "   'organizations_url': 'https://api.github.com/users/sandeepkumar406/orgs',\n",
       "   'repos_url': 'https://api.github.com/users/sandeepkumar406/repos',\n",
       "   'events_url': 'https://api.github.com/users/sandeepkumar406/events{/privacy}',\n",
       "   'received_events_url': 'https://api.github.com/users/sandeepkumar406/received_events',\n",
       "   'type': 'User',\n",
       "   'site_admin': False},\n",
       "  'html_url': 'https://github.com/sandeepkumar406/repo2',\n",
       "  'description': None,\n",
       "  'fork': False,\n",
       "  'url': 'https://api.github.com/repos/sandeepkumar406/repo2',\n",
       "  'forks_url': 'https://api.github.com/repos/sandeepkumar406/repo2/forks',\n",
       "  'keys_url': 'https://api.github.com/repos/sandeepkumar406/repo2/keys{/key_id}',\n",
       "  'collaborators_url': 'https://api.github.com/repos/sandeepkumar406/repo2/collaborators{/collaborator}',\n",
       "  'teams_url': 'https://api.github.com/repos/sandeepkumar406/repo2/teams',\n",
       "  'hooks_url': 'https://api.github.com/repos/sandeepkumar406/repo2/hooks',\n",
       "  'issue_events_url': 'https://api.github.com/repos/sandeepkumar406/repo2/issues/events{/number}',\n",
       "  'events_url': 'https://api.github.com/repos/sandeepkumar406/repo2/events',\n",
       "  'assignees_url': 'https://api.github.com/repos/sandeepkumar406/repo2/assignees{/user}',\n",
       "  'branches_url': 'https://api.github.com/repos/sandeepkumar406/repo2/branches{/branch}',\n",
       "  'tags_url': 'https://api.github.com/repos/sandeepkumar406/repo2/tags',\n",
       "  'blobs_url': 'https://api.github.com/repos/sandeepkumar406/repo2/git/blobs{/sha}',\n",
       "  'git_tags_url': 'https://api.github.com/repos/sandeepkumar406/repo2/git/tags{/sha}',\n",
       "  'git_refs_url': 'https://api.github.com/repos/sandeepkumar406/repo2/git/refs{/sha}',\n",
       "  'trees_url': 'https://api.github.com/repos/sandeepkumar406/repo2/git/trees{/sha}',\n",
       "  'statuses_url': 'https://api.github.com/repos/sandeepkumar406/repo2/statuses/{sha}',\n",
       "  'languages_url': 'https://api.github.com/repos/sandeepkumar406/repo2/languages',\n",
       "  'stargazers_url': 'https://api.github.com/repos/sandeepkumar406/repo2/stargazers',\n",
       "  'contributors_url': 'https://api.github.com/repos/sandeepkumar406/repo2/contributors',\n",
       "  'subscribers_url': 'https://api.github.com/repos/sandeepkumar406/repo2/subscribers',\n",
       "  'subscription_url': 'https://api.github.com/repos/sandeepkumar406/repo2/subscription',\n",
       "  'commits_url': 'https://api.github.com/repos/sandeepkumar406/repo2/commits{/sha}',\n",
       "  'git_commits_url': 'https://api.github.com/repos/sandeepkumar406/repo2/git/commits{/sha}',\n",
       "  'comments_url': 'https://api.github.com/repos/sandeepkumar406/repo2/comments{/number}',\n",
       "  'issue_comment_url': 'https://api.github.com/repos/sandeepkumar406/repo2/issues/comments{/number}',\n",
       "  'contents_url': 'https://api.github.com/repos/sandeepkumar406/repo2/contents/{+path}',\n",
       "  'compare_url': 'https://api.github.com/repos/sandeepkumar406/repo2/compare/{base}...{head}',\n",
       "  'merges_url': 'https://api.github.com/repos/sandeepkumar406/repo2/merges',\n",
       "  'archive_url': 'https://api.github.com/repos/sandeepkumar406/repo2/{archive_format}{/ref}',\n",
       "  'downloads_url': 'https://api.github.com/repos/sandeepkumar406/repo2/downloads',\n",
       "  'issues_url': 'https://api.github.com/repos/sandeepkumar406/repo2/issues{/number}',\n",
       "  'pulls_url': 'https://api.github.com/repos/sandeepkumar406/repo2/pulls{/number}',\n",
       "  'milestones_url': 'https://api.github.com/repos/sandeepkumar406/repo2/milestones{/number}',\n",
       "  'notifications_url': 'https://api.github.com/repos/sandeepkumar406/repo2/notifications{?since,all,participating}',\n",
       "  'labels_url': 'https://api.github.com/repos/sandeepkumar406/repo2/labels{/name}',\n",
       "  'releases_url': 'https://api.github.com/repos/sandeepkumar406/repo2/releases{/id}',\n",
       "  'deployments_url': 'https://api.github.com/repos/sandeepkumar406/repo2/deployments',\n",
       "  'created_at': '2019-03-19T02:59:22Z',\n",
       "  'updated_at': '2019-03-19T03:02:20Z',\n",
       "  'pushed_at': '2019-03-19T03:02:18Z',\n",
       "  'git_url': 'git://github.com/sandeepkumar406/repo2.git',\n",
       "  'ssh_url': 'git@github.com:sandeepkumar406/repo2.git',\n",
       "  'clone_url': 'https://github.com/sandeepkumar406/repo2.git',\n",
       "  'svn_url': 'https://github.com/sandeepkumar406/repo2',\n",
       "  'homepage': None,\n",
       "  'size': 0,\n",
       "  'stargazers_count': 0,\n",
       "  'watchers_count': 0,\n",
       "  'language': None,\n",
       "  'has_issues': True,\n",
       "  'has_projects': True,\n",
       "  'has_downloads': True,\n",
       "  'has_wiki': True,\n",
       "  'has_pages': False,\n",
       "  'forks_count': 0,\n",
       "  'mirror_url': None,\n",
       "  'archived': False,\n",
       "  'open_issues_count': 0,\n",
       "  'license': None,\n",
       "  'forks': 0,\n",
       "  'open_issues': 0,\n",
       "  'watchers': 0,\n",
       "  'default_branch': 'master'},\n",
       " {'id': 171598221,\n",
       "  'node_id': 'MDEwOlJlcG9zaXRvcnkxNzE1OTgyMjE=',\n",
       "  'name': 'sandeep_python',\n",
       "  'full_name': 'sandeepkumar406/sandeep_python',\n",
       "  'private': False,\n",
       "  'owner': {'login': 'sandeepkumar406',\n",
       "   'id': 47802595,\n",
       "   'node_id': 'MDQ6VXNlcjQ3ODAyNTk1',\n",
       "   'avatar_url': 'https://avatars2.githubusercontent.com/u/47802595?v=4',\n",
       "   'gravatar_id': '',\n",
       "   'url': 'https://api.github.com/users/sandeepkumar406',\n",
       "   'html_url': 'https://github.com/sandeepkumar406',\n",
       "   'followers_url': 'https://api.github.com/users/sandeepkumar406/followers',\n",
       "   'following_url': 'https://api.github.com/users/sandeepkumar406/following{/other_user}',\n",
       "   'gists_url': 'https://api.github.com/users/sandeepkumar406/gists{/gist_id}',\n",
       "   'starred_url': 'https://api.github.com/users/sandeepkumar406/starred{/owner}{/repo}',\n",
       "   'subscriptions_url': 'https://api.github.com/users/sandeepkumar406/subscriptions',\n",
       "   'organizations_url': 'https://api.github.com/users/sandeepkumar406/orgs',\n",
       "   'repos_url': 'https://api.github.com/users/sandeepkumar406/repos',\n",
       "   'events_url': 'https://api.github.com/users/sandeepkumar406/events{/privacy}',\n",
       "   'received_events_url': 'https://api.github.com/users/sandeepkumar406/received_events',\n",
       "   'type': 'User',\n",
       "   'site_admin': False},\n",
       "  'html_url': 'https://github.com/sandeepkumar406/sandeep_python',\n",
       "  'description': None,\n",
       "  'fork': False,\n",
       "  'url': 'https://api.github.com/repos/sandeepkumar406/sandeep_python',\n",
       "  'forks_url': 'https://api.github.com/repos/sandeepkumar406/sandeep_python/forks',\n",
       "  'keys_url': 'https://api.github.com/repos/sandeepkumar406/sandeep_python/keys{/key_id}',\n",
       "  'collaborators_url': 'https://api.github.com/repos/sandeepkumar406/sandeep_python/collaborators{/collaborator}',\n",
       "  'teams_url': 'https://api.github.com/repos/sandeepkumar406/sandeep_python/teams',\n",
       "  'hooks_url': 'https://api.github.com/repos/sandeepkumar406/sandeep_python/hooks',\n",
       "  'issue_events_url': 'https://api.github.com/repos/sandeepkumar406/sandeep_python/issues/events{/number}',\n",
       "  'events_url': 'https://api.github.com/repos/sandeepkumar406/sandeep_python/events',\n",
       "  'assignees_url': 'https://api.github.com/repos/sandeepkumar406/sandeep_python/assignees{/user}',\n",
       "  'branches_url': 'https://api.github.com/repos/sandeepkumar406/sandeep_python/branches{/branch}',\n",
       "  'tags_url': 'https://api.github.com/repos/sandeepkumar406/sandeep_python/tags',\n",
       "  'blobs_url': 'https://api.github.com/repos/sandeepkumar406/sandeep_python/git/blobs{/sha}',\n",
       "  'git_tags_url': 'https://api.github.com/repos/sandeepkumar406/sandeep_python/git/tags{/sha}',\n",
       "  'git_refs_url': 'https://api.github.com/repos/sandeepkumar406/sandeep_python/git/refs{/sha}',\n",
       "  'trees_url': 'https://api.github.com/repos/sandeepkumar406/sandeep_python/git/trees{/sha}',\n",
       "  'statuses_url': 'https://api.github.com/repos/sandeepkumar406/sandeep_python/statuses/{sha}',\n",
       "  'languages_url': 'https://api.github.com/repos/sandeepkumar406/sandeep_python/languages',\n",
       "  'stargazers_url': 'https://api.github.com/repos/sandeepkumar406/sandeep_python/stargazers',\n",
       "  'contributors_url': 'https://api.github.com/repos/sandeepkumar406/sandeep_python/contributors',\n",
       "  'subscribers_url': 'https://api.github.com/repos/sandeepkumar406/sandeep_python/subscribers',\n",
       "  'subscription_url': 'https://api.github.com/repos/sandeepkumar406/sandeep_python/subscription',\n",
       "  'commits_url': 'https://api.github.com/repos/sandeepkumar406/sandeep_python/commits{/sha}',\n",
       "  'git_commits_url': 'https://api.github.com/repos/sandeepkumar406/sandeep_python/git/commits{/sha}',\n",
       "  'comments_url': 'https://api.github.com/repos/sandeepkumar406/sandeep_python/comments{/number}',\n",
       "  'issue_comment_url': 'https://api.github.com/repos/sandeepkumar406/sandeep_python/issues/comments{/number}',\n",
       "  'contents_url': 'https://api.github.com/repos/sandeepkumar406/sandeep_python/contents/{+path}',\n",
       "  'compare_url': 'https://api.github.com/repos/sandeepkumar406/sandeep_python/compare/{base}...{head}',\n",
       "  'merges_url': 'https://api.github.com/repos/sandeepkumar406/sandeep_python/merges',\n",
       "  'archive_url': 'https://api.github.com/repos/sandeepkumar406/sandeep_python/{archive_format}{/ref}',\n",
       "  'downloads_url': 'https://api.github.com/repos/sandeepkumar406/sandeep_python/downloads',\n",
       "  'issues_url': 'https://api.github.com/repos/sandeepkumar406/sandeep_python/issues{/number}',\n",
       "  'pulls_url': 'https://api.github.com/repos/sandeepkumar406/sandeep_python/pulls{/number}',\n",
       "  'milestones_url': 'https://api.github.com/repos/sandeepkumar406/sandeep_python/milestones{/number}',\n",
       "  'notifications_url': 'https://api.github.com/repos/sandeepkumar406/sandeep_python/notifications{?since,all,participating}',\n",
       "  'labels_url': 'https://api.github.com/repos/sandeepkumar406/sandeep_python/labels{/name}',\n",
       "  'releases_url': 'https://api.github.com/repos/sandeepkumar406/sandeep_python/releases{/id}',\n",
       "  'deployments_url': 'https://api.github.com/repos/sandeepkumar406/sandeep_python/deployments',\n",
       "  'created_at': '2019-02-20T04:02:16Z',\n",
       "  'updated_at': '2019-02-25T15:13:29Z',\n",
       "  'pushed_at': '2019-02-25T15:13:28Z',\n",
       "  'git_url': 'git://github.com/sandeepkumar406/sandeep_python.git',\n",
       "  'ssh_url': 'git@github.com:sandeepkumar406/sandeep_python.git',\n",
       "  'clone_url': 'https://github.com/sandeepkumar406/sandeep_python.git',\n",
       "  'svn_url': 'https://github.com/sandeepkumar406/sandeep_python',\n",
       "  'homepage': None,\n",
       "  'size': 3,\n",
       "  'stargazers_count': 0,\n",
       "  'watchers_count': 0,\n",
       "  'language': 'Jupyter Notebook',\n",
       "  'has_issues': True,\n",
       "  'has_projects': True,\n",
       "  'has_downloads': True,\n",
       "  'has_wiki': True,\n",
       "  'has_pages': False,\n",
       "  'forks_count': 0,\n",
       "  'mirror_url': None,\n",
       "  'archived': False,\n",
       "  'open_issues_count': 0,\n",
       "  'license': None,\n",
       "  'forks': 0,\n",
       "  'open_issues': 0,\n",
       "  'watchers': 0,\n",
       "  'default_branch': 'master'},\n",
       " {'id': 171587151,\n",
       "  'node_id': 'MDEwOlJlcG9zaXRvcnkxNzE1ODcxNTE=',\n",
       "  'name': 'sandy_python',\n",
       "  'full_name': 'sandeepkumar406/sandy_python',\n",
       "  'private': False,\n",
       "  'owner': {'login': 'sandeepkumar406',\n",
       "   'id': 47802595,\n",
       "   'node_id': 'MDQ6VXNlcjQ3ODAyNTk1',\n",
       "   'avatar_url': 'https://avatars2.githubusercontent.com/u/47802595?v=4',\n",
       "   'gravatar_id': '',\n",
       "   'url': 'https://api.github.com/users/sandeepkumar406',\n",
       "   'html_url': 'https://github.com/sandeepkumar406',\n",
       "   'followers_url': 'https://api.github.com/users/sandeepkumar406/followers',\n",
       "   'following_url': 'https://api.github.com/users/sandeepkumar406/following{/other_user}',\n",
       "   'gists_url': 'https://api.github.com/users/sandeepkumar406/gists{/gist_id}',\n",
       "   'starred_url': 'https://api.github.com/users/sandeepkumar406/starred{/owner}{/repo}',\n",
       "   'subscriptions_url': 'https://api.github.com/users/sandeepkumar406/subscriptions',\n",
       "   'organizations_url': 'https://api.github.com/users/sandeepkumar406/orgs',\n",
       "   'repos_url': 'https://api.github.com/users/sandeepkumar406/repos',\n",
       "   'events_url': 'https://api.github.com/users/sandeepkumar406/events{/privacy}',\n",
       "   'received_events_url': 'https://api.github.com/users/sandeepkumar406/received_events',\n",
       "   'type': 'User',\n",
       "   'site_admin': False},\n",
       "  'html_url': 'https://github.com/sandeepkumar406/sandy_python',\n",
       "  'description': None,\n",
       "  'fork': False,\n",
       "  'url': 'https://api.github.com/repos/sandeepkumar406/sandy_python',\n",
       "  'forks_url': 'https://api.github.com/repos/sandeepkumar406/sandy_python/forks',\n",
       "  'keys_url': 'https://api.github.com/repos/sandeepkumar406/sandy_python/keys{/key_id}',\n",
       "  'collaborators_url': 'https://api.github.com/repos/sandeepkumar406/sandy_python/collaborators{/collaborator}',\n",
       "  'teams_url': 'https://api.github.com/repos/sandeepkumar406/sandy_python/teams',\n",
       "  'hooks_url': 'https://api.github.com/repos/sandeepkumar406/sandy_python/hooks',\n",
       "  'issue_events_url': 'https://api.github.com/repos/sandeepkumar406/sandy_python/issues/events{/number}',\n",
       "  'events_url': 'https://api.github.com/repos/sandeepkumar406/sandy_python/events',\n",
       "  'assignees_url': 'https://api.github.com/repos/sandeepkumar406/sandy_python/assignees{/user}',\n",
       "  'branches_url': 'https://api.github.com/repos/sandeepkumar406/sandy_python/branches{/branch}',\n",
       "  'tags_url': 'https://api.github.com/repos/sandeepkumar406/sandy_python/tags',\n",
       "  'blobs_url': 'https://api.github.com/repos/sandeepkumar406/sandy_python/git/blobs{/sha}',\n",
       "  'git_tags_url': 'https://api.github.com/repos/sandeepkumar406/sandy_python/git/tags{/sha}',\n",
       "  'git_refs_url': 'https://api.github.com/repos/sandeepkumar406/sandy_python/git/refs{/sha}',\n",
       "  'trees_url': 'https://api.github.com/repos/sandeepkumar406/sandy_python/git/trees{/sha}',\n",
       "  'statuses_url': 'https://api.github.com/repos/sandeepkumar406/sandy_python/statuses/{sha}',\n",
       "  'languages_url': 'https://api.github.com/repos/sandeepkumar406/sandy_python/languages',\n",
       "  'stargazers_url': 'https://api.github.com/repos/sandeepkumar406/sandy_python/stargazers',\n",
       "  'contributors_url': 'https://api.github.com/repos/sandeepkumar406/sandy_python/contributors',\n",
       "  'subscribers_url': 'https://api.github.com/repos/sandeepkumar406/sandy_python/subscribers',\n",
       "  'subscription_url': 'https://api.github.com/repos/sandeepkumar406/sandy_python/subscription',\n",
       "  'commits_url': 'https://api.github.com/repos/sandeepkumar406/sandy_python/commits{/sha}',\n",
       "  'git_commits_url': 'https://api.github.com/repos/sandeepkumar406/sandy_python/git/commits{/sha}',\n",
       "  'comments_url': 'https://api.github.com/repos/sandeepkumar406/sandy_python/comments{/number}',\n",
       "  'issue_comment_url': 'https://api.github.com/repos/sandeepkumar406/sandy_python/issues/comments{/number}',\n",
       "  'contents_url': 'https://api.github.com/repos/sandeepkumar406/sandy_python/contents/{+path}',\n",
       "  'compare_url': 'https://api.github.com/repos/sandeepkumar406/sandy_python/compare/{base}...{head}',\n",
       "  'merges_url': 'https://api.github.com/repos/sandeepkumar406/sandy_python/merges',\n",
       "  'archive_url': 'https://api.github.com/repos/sandeepkumar406/sandy_python/{archive_format}{/ref}',\n",
       "  'downloads_url': 'https://api.github.com/repos/sandeepkumar406/sandy_python/downloads',\n",
       "  'issues_url': 'https://api.github.com/repos/sandeepkumar406/sandy_python/issues{/number}',\n",
       "  'pulls_url': 'https://api.github.com/repos/sandeepkumar406/sandy_python/pulls{/number}',\n",
       "  'milestones_url': 'https://api.github.com/repos/sandeepkumar406/sandy_python/milestones{/number}',\n",
       "  'notifications_url': 'https://api.github.com/repos/sandeepkumar406/sandy_python/notifications{?since,all,participating}',\n",
       "  'labels_url': 'https://api.github.com/repos/sandeepkumar406/sandy_python/labels{/name}',\n",
       "  'releases_url': 'https://api.github.com/repos/sandeepkumar406/sandy_python/releases{/id}',\n",
       "  'deployments_url': 'https://api.github.com/repos/sandeepkumar406/sandy_python/deployments',\n",
       "  'created_at': '2019-02-20T02:35:02Z',\n",
       "  'updated_at': '2019-02-20T02:35:05Z',\n",
       "  'pushed_at': '2019-02-20T02:35:04Z',\n",
       "  'git_url': 'git://github.com/sandeepkumar406/sandy_python.git',\n",
       "  'ssh_url': 'git@github.com:sandeepkumar406/sandy_python.git',\n",
       "  'clone_url': 'https://github.com/sandeepkumar406/sandy_python.git',\n",
       "  'svn_url': 'https://github.com/sandeepkumar406/sandy_python',\n",
       "  'homepage': None,\n",
       "  'size': 0,\n",
       "  'stargazers_count': 0,\n",
       "  'watchers_count': 0,\n",
       "  'language': None,\n",
       "  'has_issues': True,\n",
       "  'has_projects': True,\n",
       "  'has_downloads': True,\n",
       "  'has_wiki': True,\n",
       "  'has_pages': False,\n",
       "  'forks_count': 0,\n",
       "  'mirror_url': None,\n",
       "  'archived': False,\n",
       "  'open_issues_count': 0,\n",
       "  'license': None,\n",
       "  'forks': 0,\n",
       "  'open_issues': 0,\n",
       "  'watchers': 0,\n",
       "  'default_branch': 'master'}]"
      ]
     },
     "execution_count": 41,
     "metadata": {},
     "output_type": "execute_result"
    }
   ],
   "source": [
    "resp.json()"
   ]
  },
  {
   "cell_type": "code",
   "execution_count": 42,
   "metadata": {},
   "outputs": [
    {
     "name": "stdout",
     "output_type": "stream",
     "text": [
      "<Response [401]>\n"
     ]
    }
   ],
   "source": [
    "url = \"http://api.github.com/user/repos\"\n",
    "resp = requests.post(url,json={\"name\":\"repo3\"})\n",
    "print(resp)"
   ]
  },
  {
   "cell_type": "code",
   "execution_count": 43,
   "metadata": {},
   "outputs": [
    {
     "data": {
      "text/plain": [
       "{'message': 'Requires authentication',\n",
       " 'documentation_url': 'https://developer.github.com/v3/repos/#list-your-repositories'}"
      ]
     },
     "execution_count": 43,
     "metadata": {},
     "output_type": "execute_result"
    }
   ],
   "source": [
    "resp.json()"
   ]
  },
  {
   "cell_type": "code",
   "execution_count": 44,
   "metadata": {},
   "outputs": [
    {
     "name": "stdout",
     "output_type": "stream",
     "text": [
      "<Response [200]>\n"
     ]
    }
   ],
   "source": [
    "url = \"http://api.github.com/user/repos\"\n",
    "resp = requests.post(url,json={\"name\":\"repo3\"},auth=(username,password))\n",
    "print(resp)"
   ]
  },
  {
   "cell_type": "code",
   "execution_count": 45,
   "metadata": {},
   "outputs": [
    {
     "data": {
      "text/plain": [
       "[{'id': 171591570,\n",
       "  'node_id': 'MDEwOlJlcG9zaXRvcnkxNzE1OTE1NzA=',\n",
       "  'name': 'gitsession',\n",
       "  'full_name': 'sambapython/gitsession',\n",
       "  'private': False,\n",
       "  'owner': {'login': 'sambapython',\n",
       "   'id': 17271714,\n",
       "   'node_id': 'MDQ6VXNlcjE3MjcxNzE0',\n",
       "   'avatar_url': 'https://avatars1.githubusercontent.com/u/17271714?v=4',\n",
       "   'gravatar_id': '',\n",
       "   'url': 'https://api.github.com/users/sambapython',\n",
       "   'html_url': 'https://github.com/sambapython',\n",
       "   'followers_url': 'https://api.github.com/users/sambapython/followers',\n",
       "   'following_url': 'https://api.github.com/users/sambapython/following{/other_user}',\n",
       "   'gists_url': 'https://api.github.com/users/sambapython/gists{/gist_id}',\n",
       "   'starred_url': 'https://api.github.com/users/sambapython/starred{/owner}{/repo}',\n",
       "   'subscriptions_url': 'https://api.github.com/users/sambapython/subscriptions',\n",
       "   'organizations_url': 'https://api.github.com/users/sambapython/orgs',\n",
       "   'repos_url': 'https://api.github.com/users/sambapython/repos',\n",
       "   'events_url': 'https://api.github.com/users/sambapython/events{/privacy}',\n",
       "   'received_events_url': 'https://api.github.com/users/sambapython/received_events',\n",
       "   'type': 'User',\n",
       "   'site_admin': False},\n",
       "  'html_url': 'https://github.com/sambapython/gitsession',\n",
       "  'description': None,\n",
       "  'fork': False,\n",
       "  'url': 'https://api.github.com/repos/sambapython/gitsession',\n",
       "  'forks_url': 'https://api.github.com/repos/sambapython/gitsession/forks',\n",
       "  'keys_url': 'https://api.github.com/repos/sambapython/gitsession/keys{/key_id}',\n",
       "  'collaborators_url': 'https://api.github.com/repos/sambapython/gitsession/collaborators{/collaborator}',\n",
       "  'teams_url': 'https://api.github.com/repos/sambapython/gitsession/teams',\n",
       "  'hooks_url': 'https://api.github.com/repos/sambapython/gitsession/hooks',\n",
       "  'issue_events_url': 'https://api.github.com/repos/sambapython/gitsession/issues/events{/number}',\n",
       "  'events_url': 'https://api.github.com/repos/sambapython/gitsession/events',\n",
       "  'assignees_url': 'https://api.github.com/repos/sambapython/gitsession/assignees{/user}',\n",
       "  'branches_url': 'https://api.github.com/repos/sambapython/gitsession/branches{/branch}',\n",
       "  'tags_url': 'https://api.github.com/repos/sambapython/gitsession/tags',\n",
       "  'blobs_url': 'https://api.github.com/repos/sambapython/gitsession/git/blobs{/sha}',\n",
       "  'git_tags_url': 'https://api.github.com/repos/sambapython/gitsession/git/tags{/sha}',\n",
       "  'git_refs_url': 'https://api.github.com/repos/sambapython/gitsession/git/refs{/sha}',\n",
       "  'trees_url': 'https://api.github.com/repos/sambapython/gitsession/git/trees{/sha}',\n",
       "  'statuses_url': 'https://api.github.com/repos/sambapython/gitsession/statuses/{sha}',\n",
       "  'languages_url': 'https://api.github.com/repos/sambapython/gitsession/languages',\n",
       "  'stargazers_url': 'https://api.github.com/repos/sambapython/gitsession/stargazers',\n",
       "  'contributors_url': 'https://api.github.com/repos/sambapython/gitsession/contributors',\n",
       "  'subscribers_url': 'https://api.github.com/repos/sambapython/gitsession/subscribers',\n",
       "  'subscription_url': 'https://api.github.com/repos/sambapython/gitsession/subscription',\n",
       "  'commits_url': 'https://api.github.com/repos/sambapython/gitsession/commits{/sha}',\n",
       "  'git_commits_url': 'https://api.github.com/repos/sambapython/gitsession/git/commits{/sha}',\n",
       "  'comments_url': 'https://api.github.com/repos/sambapython/gitsession/comments{/number}',\n",
       "  'issue_comment_url': 'https://api.github.com/repos/sambapython/gitsession/issues/comments{/number}',\n",
       "  'contents_url': 'https://api.github.com/repos/sambapython/gitsession/contents/{+path}',\n",
       "  'compare_url': 'https://api.github.com/repos/sambapython/gitsession/compare/{base}...{head}',\n",
       "  'merges_url': 'https://api.github.com/repos/sambapython/gitsession/merges',\n",
       "  'archive_url': 'https://api.github.com/repos/sambapython/gitsession/{archive_format}{/ref}',\n",
       "  'downloads_url': 'https://api.github.com/repos/sambapython/gitsession/downloads',\n",
       "  'issues_url': 'https://api.github.com/repos/sambapython/gitsession/issues{/number}',\n",
       "  'pulls_url': 'https://api.github.com/repos/sambapython/gitsession/pulls{/number}',\n",
       "  'milestones_url': 'https://api.github.com/repos/sambapython/gitsession/milestones{/number}',\n",
       "  'notifications_url': 'https://api.github.com/repos/sambapython/gitsession/notifications{?since,all,participating}',\n",
       "  'labels_url': 'https://api.github.com/repos/sambapython/gitsession/labels{/name}',\n",
       "  'releases_url': 'https://api.github.com/repos/sambapython/gitsession/releases{/id}',\n",
       "  'deployments_url': 'https://api.github.com/repos/sambapython/gitsession/deployments',\n",
       "  'created_at': '2019-02-20T03:08:32Z',\n",
       "  'updated_at': '2019-02-20T03:56:38Z',\n",
       "  'pushed_at': '2019-02-20T03:56:36Z',\n",
       "  'git_url': 'git://github.com/sambapython/gitsession.git',\n",
       "  'ssh_url': 'git@github.com:sambapython/gitsession.git',\n",
       "  'clone_url': 'https://github.com/sambapython/gitsession.git',\n",
       "  'svn_url': 'https://github.com/sambapython/gitsession',\n",
       "  'homepage': None,\n",
       "  'size': 0,\n",
       "  'stargazers_count': 0,\n",
       "  'watchers_count': 0,\n",
       "  'language': 'Python',\n",
       "  'has_issues': True,\n",
       "  'has_projects': True,\n",
       "  'has_downloads': True,\n",
       "  'has_wiki': True,\n",
       "  'has_pages': False,\n",
       "  'forks_count': 0,\n",
       "  'mirror_url': None,\n",
       "  'archived': False,\n",
       "  'open_issues_count': 0,\n",
       "  'license': None,\n",
       "  'forks': 0,\n",
       "  'open_issues': 0,\n",
       "  'watchers': 0,\n",
       "  'default_branch': 'master',\n",
       "  'permissions': {'admin': False, 'push': True, 'pull': True}},\n",
       " {'id': 176411567,\n",
       "  'node_id': 'MDEwOlJlcG9zaXRvcnkxNzY0MTE1Njc=',\n",
       "  'name': 'repo1',\n",
       "  'full_name': 'sandeepkumar406/repo1',\n",
       "  'private': False,\n",
       "  'owner': {'login': 'sandeepkumar406',\n",
       "   'id': 47802595,\n",
       "   'node_id': 'MDQ6VXNlcjQ3ODAyNTk1',\n",
       "   'avatar_url': 'https://avatars2.githubusercontent.com/u/47802595?v=4',\n",
       "   'gravatar_id': '',\n",
       "   'url': 'https://api.github.com/users/sandeepkumar406',\n",
       "   'html_url': 'https://github.com/sandeepkumar406',\n",
       "   'followers_url': 'https://api.github.com/users/sandeepkumar406/followers',\n",
       "   'following_url': 'https://api.github.com/users/sandeepkumar406/following{/other_user}',\n",
       "   'gists_url': 'https://api.github.com/users/sandeepkumar406/gists{/gist_id}',\n",
       "   'starred_url': 'https://api.github.com/users/sandeepkumar406/starred{/owner}{/repo}',\n",
       "   'subscriptions_url': 'https://api.github.com/users/sandeepkumar406/subscriptions',\n",
       "   'organizations_url': 'https://api.github.com/users/sandeepkumar406/orgs',\n",
       "   'repos_url': 'https://api.github.com/users/sandeepkumar406/repos',\n",
       "   'events_url': 'https://api.github.com/users/sandeepkumar406/events{/privacy}',\n",
       "   'received_events_url': 'https://api.github.com/users/sandeepkumar406/received_events',\n",
       "   'type': 'User',\n",
       "   'site_admin': False},\n",
       "  'html_url': 'https://github.com/sandeepkumar406/repo1',\n",
       "  'description': None,\n",
       "  'fork': False,\n",
       "  'url': 'https://api.github.com/repos/sandeepkumar406/repo1',\n",
       "  'forks_url': 'https://api.github.com/repos/sandeepkumar406/repo1/forks',\n",
       "  'keys_url': 'https://api.github.com/repos/sandeepkumar406/repo1/keys{/key_id}',\n",
       "  'collaborators_url': 'https://api.github.com/repos/sandeepkumar406/repo1/collaborators{/collaborator}',\n",
       "  'teams_url': 'https://api.github.com/repos/sandeepkumar406/repo1/teams',\n",
       "  'hooks_url': 'https://api.github.com/repos/sandeepkumar406/repo1/hooks',\n",
       "  'issue_events_url': 'https://api.github.com/repos/sandeepkumar406/repo1/issues/events{/number}',\n",
       "  'events_url': 'https://api.github.com/repos/sandeepkumar406/repo1/events',\n",
       "  'assignees_url': 'https://api.github.com/repos/sandeepkumar406/repo1/assignees{/user}',\n",
       "  'branches_url': 'https://api.github.com/repos/sandeepkumar406/repo1/branches{/branch}',\n",
       "  'tags_url': 'https://api.github.com/repos/sandeepkumar406/repo1/tags',\n",
       "  'blobs_url': 'https://api.github.com/repos/sandeepkumar406/repo1/git/blobs{/sha}',\n",
       "  'git_tags_url': 'https://api.github.com/repos/sandeepkumar406/repo1/git/tags{/sha}',\n",
       "  'git_refs_url': 'https://api.github.com/repos/sandeepkumar406/repo1/git/refs{/sha}',\n",
       "  'trees_url': 'https://api.github.com/repos/sandeepkumar406/repo1/git/trees{/sha}',\n",
       "  'statuses_url': 'https://api.github.com/repos/sandeepkumar406/repo1/statuses/{sha}',\n",
       "  'languages_url': 'https://api.github.com/repos/sandeepkumar406/repo1/languages',\n",
       "  'stargazers_url': 'https://api.github.com/repos/sandeepkumar406/repo1/stargazers',\n",
       "  'contributors_url': 'https://api.github.com/repos/sandeepkumar406/repo1/contributors',\n",
       "  'subscribers_url': 'https://api.github.com/repos/sandeepkumar406/repo1/subscribers',\n",
       "  'subscription_url': 'https://api.github.com/repos/sandeepkumar406/repo1/subscription',\n",
       "  'commits_url': 'https://api.github.com/repos/sandeepkumar406/repo1/commits{/sha}',\n",
       "  'git_commits_url': 'https://api.github.com/repos/sandeepkumar406/repo1/git/commits{/sha}',\n",
       "  'comments_url': 'https://api.github.com/repos/sandeepkumar406/repo1/comments{/number}',\n",
       "  'issue_comment_url': 'https://api.github.com/repos/sandeepkumar406/repo1/issues/comments{/number}',\n",
       "  'contents_url': 'https://api.github.com/repos/sandeepkumar406/repo1/contents/{+path}',\n",
       "  'compare_url': 'https://api.github.com/repos/sandeepkumar406/repo1/compare/{base}...{head}',\n",
       "  'merges_url': 'https://api.github.com/repos/sandeepkumar406/repo1/merges',\n",
       "  'archive_url': 'https://api.github.com/repos/sandeepkumar406/repo1/{archive_format}{/ref}',\n",
       "  'downloads_url': 'https://api.github.com/repos/sandeepkumar406/repo1/downloads',\n",
       "  'issues_url': 'https://api.github.com/repos/sandeepkumar406/repo1/issues{/number}',\n",
       "  'pulls_url': 'https://api.github.com/repos/sandeepkumar406/repo1/pulls{/number}',\n",
       "  'milestones_url': 'https://api.github.com/repos/sandeepkumar406/repo1/milestones{/number}',\n",
       "  'notifications_url': 'https://api.github.com/repos/sandeepkumar406/repo1/notifications{?since,all,participating}',\n",
       "  'labels_url': 'https://api.github.com/repos/sandeepkumar406/repo1/labels{/name}',\n",
       "  'releases_url': 'https://api.github.com/repos/sandeepkumar406/repo1/releases{/id}',\n",
       "  'deployments_url': 'https://api.github.com/repos/sandeepkumar406/repo1/deployments',\n",
       "  'created_at': '2019-03-19T02:58:57Z',\n",
       "  'updated_at': '2019-03-19T02:58:57Z',\n",
       "  'pushed_at': '2019-03-19T02:58:57Z',\n",
       "  'git_url': 'git://github.com/sandeepkumar406/repo1.git',\n",
       "  'ssh_url': 'git@github.com:sandeepkumar406/repo1.git',\n",
       "  'clone_url': 'https://github.com/sandeepkumar406/repo1.git',\n",
       "  'svn_url': 'https://github.com/sandeepkumar406/repo1',\n",
       "  'homepage': None,\n",
       "  'size': 0,\n",
       "  'stargazers_count': 0,\n",
       "  'watchers_count': 0,\n",
       "  'language': None,\n",
       "  'has_issues': True,\n",
       "  'has_projects': True,\n",
       "  'has_downloads': True,\n",
       "  'has_wiki': True,\n",
       "  'has_pages': False,\n",
       "  'forks_count': 0,\n",
       "  'mirror_url': None,\n",
       "  'archived': False,\n",
       "  'open_issues_count': 0,\n",
       "  'license': None,\n",
       "  'forks': 0,\n",
       "  'open_issues': 0,\n",
       "  'watchers': 0,\n",
       "  'default_branch': 'master',\n",
       "  'permissions': {'admin': True, 'push': True, 'pull': True}},\n",
       " {'id': 176411637,\n",
       "  'node_id': 'MDEwOlJlcG9zaXRvcnkxNzY0MTE2Mzc=',\n",
       "  'name': 'repo2',\n",
       "  'full_name': 'sandeepkumar406/repo2',\n",
       "  'private': False,\n",
       "  'owner': {'login': 'sandeepkumar406',\n",
       "   'id': 47802595,\n",
       "   'node_id': 'MDQ6VXNlcjQ3ODAyNTk1',\n",
       "   'avatar_url': 'https://avatars2.githubusercontent.com/u/47802595?v=4',\n",
       "   'gravatar_id': '',\n",
       "   'url': 'https://api.github.com/users/sandeepkumar406',\n",
       "   'html_url': 'https://github.com/sandeepkumar406',\n",
       "   'followers_url': 'https://api.github.com/users/sandeepkumar406/followers',\n",
       "   'following_url': 'https://api.github.com/users/sandeepkumar406/following{/other_user}',\n",
       "   'gists_url': 'https://api.github.com/users/sandeepkumar406/gists{/gist_id}',\n",
       "   'starred_url': 'https://api.github.com/users/sandeepkumar406/starred{/owner}{/repo}',\n",
       "   'subscriptions_url': 'https://api.github.com/users/sandeepkumar406/subscriptions',\n",
       "   'organizations_url': 'https://api.github.com/users/sandeepkumar406/orgs',\n",
       "   'repos_url': 'https://api.github.com/users/sandeepkumar406/repos',\n",
       "   'events_url': 'https://api.github.com/users/sandeepkumar406/events{/privacy}',\n",
       "   'received_events_url': 'https://api.github.com/users/sandeepkumar406/received_events',\n",
       "   'type': 'User',\n",
       "   'site_admin': False},\n",
       "  'html_url': 'https://github.com/sandeepkumar406/repo2',\n",
       "  'description': None,\n",
       "  'fork': False,\n",
       "  'url': 'https://api.github.com/repos/sandeepkumar406/repo2',\n",
       "  'forks_url': 'https://api.github.com/repos/sandeepkumar406/repo2/forks',\n",
       "  'keys_url': 'https://api.github.com/repos/sandeepkumar406/repo2/keys{/key_id}',\n",
       "  'collaborators_url': 'https://api.github.com/repos/sandeepkumar406/repo2/collaborators{/collaborator}',\n",
       "  'teams_url': 'https://api.github.com/repos/sandeepkumar406/repo2/teams',\n",
       "  'hooks_url': 'https://api.github.com/repos/sandeepkumar406/repo2/hooks',\n",
       "  'issue_events_url': 'https://api.github.com/repos/sandeepkumar406/repo2/issues/events{/number}',\n",
       "  'events_url': 'https://api.github.com/repos/sandeepkumar406/repo2/events',\n",
       "  'assignees_url': 'https://api.github.com/repos/sandeepkumar406/repo2/assignees{/user}',\n",
       "  'branches_url': 'https://api.github.com/repos/sandeepkumar406/repo2/branches{/branch}',\n",
       "  'tags_url': 'https://api.github.com/repos/sandeepkumar406/repo2/tags',\n",
       "  'blobs_url': 'https://api.github.com/repos/sandeepkumar406/repo2/git/blobs{/sha}',\n",
       "  'git_tags_url': 'https://api.github.com/repos/sandeepkumar406/repo2/git/tags{/sha}',\n",
       "  'git_refs_url': 'https://api.github.com/repos/sandeepkumar406/repo2/git/refs{/sha}',\n",
       "  'trees_url': 'https://api.github.com/repos/sandeepkumar406/repo2/git/trees{/sha}',\n",
       "  'statuses_url': 'https://api.github.com/repos/sandeepkumar406/repo2/statuses/{sha}',\n",
       "  'languages_url': 'https://api.github.com/repos/sandeepkumar406/repo2/languages',\n",
       "  'stargazers_url': 'https://api.github.com/repos/sandeepkumar406/repo2/stargazers',\n",
       "  'contributors_url': 'https://api.github.com/repos/sandeepkumar406/repo2/contributors',\n",
       "  'subscribers_url': 'https://api.github.com/repos/sandeepkumar406/repo2/subscribers',\n",
       "  'subscription_url': 'https://api.github.com/repos/sandeepkumar406/repo2/subscription',\n",
       "  'commits_url': 'https://api.github.com/repos/sandeepkumar406/repo2/commits{/sha}',\n",
       "  'git_commits_url': 'https://api.github.com/repos/sandeepkumar406/repo2/git/commits{/sha}',\n",
       "  'comments_url': 'https://api.github.com/repos/sandeepkumar406/repo2/comments{/number}',\n",
       "  'issue_comment_url': 'https://api.github.com/repos/sandeepkumar406/repo2/issues/comments{/number}',\n",
       "  'contents_url': 'https://api.github.com/repos/sandeepkumar406/repo2/contents/{+path}',\n",
       "  'compare_url': 'https://api.github.com/repos/sandeepkumar406/repo2/compare/{base}...{head}',\n",
       "  'merges_url': 'https://api.github.com/repos/sandeepkumar406/repo2/merges',\n",
       "  'archive_url': 'https://api.github.com/repos/sandeepkumar406/repo2/{archive_format}{/ref}',\n",
       "  'downloads_url': 'https://api.github.com/repos/sandeepkumar406/repo2/downloads',\n",
       "  'issues_url': 'https://api.github.com/repos/sandeepkumar406/repo2/issues{/number}',\n",
       "  'pulls_url': 'https://api.github.com/repos/sandeepkumar406/repo2/pulls{/number}',\n",
       "  'milestones_url': 'https://api.github.com/repos/sandeepkumar406/repo2/milestones{/number}',\n",
       "  'notifications_url': 'https://api.github.com/repos/sandeepkumar406/repo2/notifications{?since,all,participating}',\n",
       "  'labels_url': 'https://api.github.com/repos/sandeepkumar406/repo2/labels{/name}',\n",
       "  'releases_url': 'https://api.github.com/repos/sandeepkumar406/repo2/releases{/id}',\n",
       "  'deployments_url': 'https://api.github.com/repos/sandeepkumar406/repo2/deployments',\n",
       "  'created_at': '2019-03-19T02:59:22Z',\n",
       "  'updated_at': '2019-03-19T03:02:20Z',\n",
       "  'pushed_at': '2019-03-19T03:02:18Z',\n",
       "  'git_url': 'git://github.com/sandeepkumar406/repo2.git',\n",
       "  'ssh_url': 'git@github.com:sandeepkumar406/repo2.git',\n",
       "  'clone_url': 'https://github.com/sandeepkumar406/repo2.git',\n",
       "  'svn_url': 'https://github.com/sandeepkumar406/repo2',\n",
       "  'homepage': None,\n",
       "  'size': 0,\n",
       "  'stargazers_count': 0,\n",
       "  'watchers_count': 0,\n",
       "  'language': None,\n",
       "  'has_issues': True,\n",
       "  'has_projects': True,\n",
       "  'has_downloads': True,\n",
       "  'has_wiki': True,\n",
       "  'has_pages': False,\n",
       "  'forks_count': 0,\n",
       "  'mirror_url': None,\n",
       "  'archived': False,\n",
       "  'open_issues_count': 0,\n",
       "  'license': None,\n",
       "  'forks': 0,\n",
       "  'open_issues': 0,\n",
       "  'watchers': 0,\n",
       "  'default_branch': 'master',\n",
       "  'permissions': {'admin': True, 'push': True, 'pull': True}},\n",
       " {'id': 171598221,\n",
       "  'node_id': 'MDEwOlJlcG9zaXRvcnkxNzE1OTgyMjE=',\n",
       "  'name': 'sandeep_python',\n",
       "  'full_name': 'sandeepkumar406/sandeep_python',\n",
       "  'private': False,\n",
       "  'owner': {'login': 'sandeepkumar406',\n",
       "   'id': 47802595,\n",
       "   'node_id': 'MDQ6VXNlcjQ3ODAyNTk1',\n",
       "   'avatar_url': 'https://avatars2.githubusercontent.com/u/47802595?v=4',\n",
       "   'gravatar_id': '',\n",
       "   'url': 'https://api.github.com/users/sandeepkumar406',\n",
       "   'html_url': 'https://github.com/sandeepkumar406',\n",
       "   'followers_url': 'https://api.github.com/users/sandeepkumar406/followers',\n",
       "   'following_url': 'https://api.github.com/users/sandeepkumar406/following{/other_user}',\n",
       "   'gists_url': 'https://api.github.com/users/sandeepkumar406/gists{/gist_id}',\n",
       "   'starred_url': 'https://api.github.com/users/sandeepkumar406/starred{/owner}{/repo}',\n",
       "   'subscriptions_url': 'https://api.github.com/users/sandeepkumar406/subscriptions',\n",
       "   'organizations_url': 'https://api.github.com/users/sandeepkumar406/orgs',\n",
       "   'repos_url': 'https://api.github.com/users/sandeepkumar406/repos',\n",
       "   'events_url': 'https://api.github.com/users/sandeepkumar406/events{/privacy}',\n",
       "   'received_events_url': 'https://api.github.com/users/sandeepkumar406/received_events',\n",
       "   'type': 'User',\n",
       "   'site_admin': False},\n",
       "  'html_url': 'https://github.com/sandeepkumar406/sandeep_python',\n",
       "  'description': None,\n",
       "  'fork': False,\n",
       "  'url': 'https://api.github.com/repos/sandeepkumar406/sandeep_python',\n",
       "  'forks_url': 'https://api.github.com/repos/sandeepkumar406/sandeep_python/forks',\n",
       "  'keys_url': 'https://api.github.com/repos/sandeepkumar406/sandeep_python/keys{/key_id}',\n",
       "  'collaborators_url': 'https://api.github.com/repos/sandeepkumar406/sandeep_python/collaborators{/collaborator}',\n",
       "  'teams_url': 'https://api.github.com/repos/sandeepkumar406/sandeep_python/teams',\n",
       "  'hooks_url': 'https://api.github.com/repos/sandeepkumar406/sandeep_python/hooks',\n",
       "  'issue_events_url': 'https://api.github.com/repos/sandeepkumar406/sandeep_python/issues/events{/number}',\n",
       "  'events_url': 'https://api.github.com/repos/sandeepkumar406/sandeep_python/events',\n",
       "  'assignees_url': 'https://api.github.com/repos/sandeepkumar406/sandeep_python/assignees{/user}',\n",
       "  'branches_url': 'https://api.github.com/repos/sandeepkumar406/sandeep_python/branches{/branch}',\n",
       "  'tags_url': 'https://api.github.com/repos/sandeepkumar406/sandeep_python/tags',\n",
       "  'blobs_url': 'https://api.github.com/repos/sandeepkumar406/sandeep_python/git/blobs{/sha}',\n",
       "  'git_tags_url': 'https://api.github.com/repos/sandeepkumar406/sandeep_python/git/tags{/sha}',\n",
       "  'git_refs_url': 'https://api.github.com/repos/sandeepkumar406/sandeep_python/git/refs{/sha}',\n",
       "  'trees_url': 'https://api.github.com/repos/sandeepkumar406/sandeep_python/git/trees{/sha}',\n",
       "  'statuses_url': 'https://api.github.com/repos/sandeepkumar406/sandeep_python/statuses/{sha}',\n",
       "  'languages_url': 'https://api.github.com/repos/sandeepkumar406/sandeep_python/languages',\n",
       "  'stargazers_url': 'https://api.github.com/repos/sandeepkumar406/sandeep_python/stargazers',\n",
       "  'contributors_url': 'https://api.github.com/repos/sandeepkumar406/sandeep_python/contributors',\n",
       "  'subscribers_url': 'https://api.github.com/repos/sandeepkumar406/sandeep_python/subscribers',\n",
       "  'subscription_url': 'https://api.github.com/repos/sandeepkumar406/sandeep_python/subscription',\n",
       "  'commits_url': 'https://api.github.com/repos/sandeepkumar406/sandeep_python/commits{/sha}',\n",
       "  'git_commits_url': 'https://api.github.com/repos/sandeepkumar406/sandeep_python/git/commits{/sha}',\n",
       "  'comments_url': 'https://api.github.com/repos/sandeepkumar406/sandeep_python/comments{/number}',\n",
       "  'issue_comment_url': 'https://api.github.com/repos/sandeepkumar406/sandeep_python/issues/comments{/number}',\n",
       "  'contents_url': 'https://api.github.com/repos/sandeepkumar406/sandeep_python/contents/{+path}',\n",
       "  'compare_url': 'https://api.github.com/repos/sandeepkumar406/sandeep_python/compare/{base}...{head}',\n",
       "  'merges_url': 'https://api.github.com/repos/sandeepkumar406/sandeep_python/merges',\n",
       "  'archive_url': 'https://api.github.com/repos/sandeepkumar406/sandeep_python/{archive_format}{/ref}',\n",
       "  'downloads_url': 'https://api.github.com/repos/sandeepkumar406/sandeep_python/downloads',\n",
       "  'issues_url': 'https://api.github.com/repos/sandeepkumar406/sandeep_python/issues{/number}',\n",
       "  'pulls_url': 'https://api.github.com/repos/sandeepkumar406/sandeep_python/pulls{/number}',\n",
       "  'milestones_url': 'https://api.github.com/repos/sandeepkumar406/sandeep_python/milestones{/number}',\n",
       "  'notifications_url': 'https://api.github.com/repos/sandeepkumar406/sandeep_python/notifications{?since,all,participating}',\n",
       "  'labels_url': 'https://api.github.com/repos/sandeepkumar406/sandeep_python/labels{/name}',\n",
       "  'releases_url': 'https://api.github.com/repos/sandeepkumar406/sandeep_python/releases{/id}',\n",
       "  'deployments_url': 'https://api.github.com/repos/sandeepkumar406/sandeep_python/deployments',\n",
       "  'created_at': '2019-02-20T04:02:16Z',\n",
       "  'updated_at': '2019-02-25T15:13:29Z',\n",
       "  'pushed_at': '2019-02-25T15:13:28Z',\n",
       "  'git_url': 'git://github.com/sandeepkumar406/sandeep_python.git',\n",
       "  'ssh_url': 'git@github.com:sandeepkumar406/sandeep_python.git',\n",
       "  'clone_url': 'https://github.com/sandeepkumar406/sandeep_python.git',\n",
       "  'svn_url': 'https://github.com/sandeepkumar406/sandeep_python',\n",
       "  'homepage': None,\n",
       "  'size': 3,\n",
       "  'stargazers_count': 0,\n",
       "  'watchers_count': 0,\n",
       "  'language': 'Jupyter Notebook',\n",
       "  'has_issues': True,\n",
       "  'has_projects': True,\n",
       "  'has_downloads': True,\n",
       "  'has_wiki': True,\n",
       "  'has_pages': False,\n",
       "  'forks_count': 0,\n",
       "  'mirror_url': None,\n",
       "  'archived': False,\n",
       "  'open_issues_count': 0,\n",
       "  'license': None,\n",
       "  'forks': 0,\n",
       "  'open_issues': 0,\n",
       "  'watchers': 0,\n",
       "  'default_branch': 'master',\n",
       "  'permissions': {'admin': True, 'push': True, 'pull': True}},\n",
       " {'id': 171587151,\n",
       "  'node_id': 'MDEwOlJlcG9zaXRvcnkxNzE1ODcxNTE=',\n",
       "  'name': 'sandy_python',\n",
       "  'full_name': 'sandeepkumar406/sandy_python',\n",
       "  'private': False,\n",
       "  'owner': {'login': 'sandeepkumar406',\n",
       "   'id': 47802595,\n",
       "   'node_id': 'MDQ6VXNlcjQ3ODAyNTk1',\n",
       "   'avatar_url': 'https://avatars2.githubusercontent.com/u/47802595?v=4',\n",
       "   'gravatar_id': '',\n",
       "   'url': 'https://api.github.com/users/sandeepkumar406',\n",
       "   'html_url': 'https://github.com/sandeepkumar406',\n",
       "   'followers_url': 'https://api.github.com/users/sandeepkumar406/followers',\n",
       "   'following_url': 'https://api.github.com/users/sandeepkumar406/following{/other_user}',\n",
       "   'gists_url': 'https://api.github.com/users/sandeepkumar406/gists{/gist_id}',\n",
       "   'starred_url': 'https://api.github.com/users/sandeepkumar406/starred{/owner}{/repo}',\n",
       "   'subscriptions_url': 'https://api.github.com/users/sandeepkumar406/subscriptions',\n",
       "   'organizations_url': 'https://api.github.com/users/sandeepkumar406/orgs',\n",
       "   'repos_url': 'https://api.github.com/users/sandeepkumar406/repos',\n",
       "   'events_url': 'https://api.github.com/users/sandeepkumar406/events{/privacy}',\n",
       "   'received_events_url': 'https://api.github.com/users/sandeepkumar406/received_events',\n",
       "   'type': 'User',\n",
       "   'site_admin': False},\n",
       "  'html_url': 'https://github.com/sandeepkumar406/sandy_python',\n",
       "  'description': None,\n",
       "  'fork': False,\n",
       "  'url': 'https://api.github.com/repos/sandeepkumar406/sandy_python',\n",
       "  'forks_url': 'https://api.github.com/repos/sandeepkumar406/sandy_python/forks',\n",
       "  'keys_url': 'https://api.github.com/repos/sandeepkumar406/sandy_python/keys{/key_id}',\n",
       "  'collaborators_url': 'https://api.github.com/repos/sandeepkumar406/sandy_python/collaborators{/collaborator}',\n",
       "  'teams_url': 'https://api.github.com/repos/sandeepkumar406/sandy_python/teams',\n",
       "  'hooks_url': 'https://api.github.com/repos/sandeepkumar406/sandy_python/hooks',\n",
       "  'issue_events_url': 'https://api.github.com/repos/sandeepkumar406/sandy_python/issues/events{/number}',\n",
       "  'events_url': 'https://api.github.com/repos/sandeepkumar406/sandy_python/events',\n",
       "  'assignees_url': 'https://api.github.com/repos/sandeepkumar406/sandy_python/assignees{/user}',\n",
       "  'branches_url': 'https://api.github.com/repos/sandeepkumar406/sandy_python/branches{/branch}',\n",
       "  'tags_url': 'https://api.github.com/repos/sandeepkumar406/sandy_python/tags',\n",
       "  'blobs_url': 'https://api.github.com/repos/sandeepkumar406/sandy_python/git/blobs{/sha}',\n",
       "  'git_tags_url': 'https://api.github.com/repos/sandeepkumar406/sandy_python/git/tags{/sha}',\n",
       "  'git_refs_url': 'https://api.github.com/repos/sandeepkumar406/sandy_python/git/refs{/sha}',\n",
       "  'trees_url': 'https://api.github.com/repos/sandeepkumar406/sandy_python/git/trees{/sha}',\n",
       "  'statuses_url': 'https://api.github.com/repos/sandeepkumar406/sandy_python/statuses/{sha}',\n",
       "  'languages_url': 'https://api.github.com/repos/sandeepkumar406/sandy_python/languages',\n",
       "  'stargazers_url': 'https://api.github.com/repos/sandeepkumar406/sandy_python/stargazers',\n",
       "  'contributors_url': 'https://api.github.com/repos/sandeepkumar406/sandy_python/contributors',\n",
       "  'subscribers_url': 'https://api.github.com/repos/sandeepkumar406/sandy_python/subscribers',\n",
       "  'subscription_url': 'https://api.github.com/repos/sandeepkumar406/sandy_python/subscription',\n",
       "  'commits_url': 'https://api.github.com/repos/sandeepkumar406/sandy_python/commits{/sha}',\n",
       "  'git_commits_url': 'https://api.github.com/repos/sandeepkumar406/sandy_python/git/commits{/sha}',\n",
       "  'comments_url': 'https://api.github.com/repos/sandeepkumar406/sandy_python/comments{/number}',\n",
       "  'issue_comment_url': 'https://api.github.com/repos/sandeepkumar406/sandy_python/issues/comments{/number}',\n",
       "  'contents_url': 'https://api.github.com/repos/sandeepkumar406/sandy_python/contents/{+path}',\n",
       "  'compare_url': 'https://api.github.com/repos/sandeepkumar406/sandy_python/compare/{base}...{head}',\n",
       "  'merges_url': 'https://api.github.com/repos/sandeepkumar406/sandy_python/merges',\n",
       "  'archive_url': 'https://api.github.com/repos/sandeepkumar406/sandy_python/{archive_format}{/ref}',\n",
       "  'downloads_url': 'https://api.github.com/repos/sandeepkumar406/sandy_python/downloads',\n",
       "  'issues_url': 'https://api.github.com/repos/sandeepkumar406/sandy_python/issues{/number}',\n",
       "  'pulls_url': 'https://api.github.com/repos/sandeepkumar406/sandy_python/pulls{/number}',\n",
       "  'milestones_url': 'https://api.github.com/repos/sandeepkumar406/sandy_python/milestones{/number}',\n",
       "  'notifications_url': 'https://api.github.com/repos/sandeepkumar406/sandy_python/notifications{?since,all,participating}',\n",
       "  'labels_url': 'https://api.github.com/repos/sandeepkumar406/sandy_python/labels{/name}',\n",
       "  'releases_url': 'https://api.github.com/repos/sandeepkumar406/sandy_python/releases{/id}',\n",
       "  'deployments_url': 'https://api.github.com/repos/sandeepkumar406/sandy_python/deployments',\n",
       "  'created_at': '2019-02-20T02:35:02Z',\n",
       "  'updated_at': '2019-02-20T02:35:05Z',\n",
       "  'pushed_at': '2019-02-20T02:35:04Z',\n",
       "  'git_url': 'git://github.com/sandeepkumar406/sandy_python.git',\n",
       "  'ssh_url': 'git@github.com:sandeepkumar406/sandy_python.git',\n",
       "  'clone_url': 'https://github.com/sandeepkumar406/sandy_python.git',\n",
       "  'svn_url': 'https://github.com/sandeepkumar406/sandy_python',\n",
       "  'homepage': None,\n",
       "  'size': 0,\n",
       "  'stargazers_count': 0,\n",
       "  'watchers_count': 0,\n",
       "  'language': None,\n",
       "  'has_issues': True,\n",
       "  'has_projects': True,\n",
       "  'has_downloads': True,\n",
       "  'has_wiki': True,\n",
       "  'has_pages': False,\n",
       "  'forks_count': 0,\n",
       "  'mirror_url': None,\n",
       "  'archived': False,\n",
       "  'open_issues_count': 0,\n",
       "  'license': None,\n",
       "  'forks': 0,\n",
       "  'open_issues': 0,\n",
       "  'watchers': 0,\n",
       "  'default_branch': 'master',\n",
       "  'permissions': {'admin': True, 'push': True, 'pull': True}}]"
      ]
     },
     "execution_count": 45,
     "metadata": {},
     "output_type": "execute_result"
    }
   ],
   "source": [
    "resp.json()"
   ]
  },
  {
   "cell_type": "code",
   "execution_count": 48,
   "metadata": {},
   "outputs": [
    {
     "name": "stdout",
     "output_type": "stream",
     "text": [
      "<Response [200]>\n"
     ]
    }
   ],
   "source": [
    "url = \"http://api.github.com/orgs/org1sandeep/repos\"\n",
    "resp = requests.post(url,json={\"name\":\"repo4\"},auth=(username,password))\n",
    "print(resp)"
   ]
  },
  {
   "cell_type": "code",
   "execution_count": null,
   "metadata": {},
   "outputs": [],
   "source": []
  }
 ],
 "metadata": {
  "kernelspec": {
   "display_name": "Python 3",
   "language": "python",
   "name": "python3"
  },
  "language_info": {
   "codemirror_mode": {
    "name": "ipython",
    "version": 3
   },
   "file_extension": ".py",
   "mimetype": "text/x-python",
   "name": "python",
   "nbconvert_exporter": "python",
   "pygments_lexer": "ipython3",
   "version": "3.7.0"
  }
 },
 "nbformat": 4,
 "nbformat_minor": 2
}
