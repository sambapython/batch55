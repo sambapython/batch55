{
 "cells": [
  {
   "cell_type": "code",
   "execution_count": 1,
   "metadata": {},
   "outputs": [
    {
     "name": "stdout",
     "output_type": "stream",
     "text": [
      "this is class\n"
     ]
    }
   ],
   "source": [
    "def fun():\n",
    "    print(\"fun\")\n",
    "class cls:\n",
    "    print(\"this is class\")"
   ]
  },
  {
   "cell_type": "code",
   "execution_count": 2,
   "metadata": {},
   "outputs": [
    {
     "name": "stdout",
     "output_type": "stream",
     "text": [
      "this is class\n",
      "1000 2000\n"
     ]
    }
   ],
   "source": [
    "def fun():\n",
    "    print(\"fun\")\n",
    "class cls:\n",
    "    print(\"this is class\")\n",
    "    a=1000\n",
    "    b=2000\n",
    "    print(a,b)"
   ]
  },
  {
   "cell_type": "code",
   "execution_count": 3,
   "metadata": {},
   "outputs": [
    {
     "name": "stdout",
     "output_type": "stream",
     "text": [
      "this is class\n",
      "1000 2000\n"
     ]
    }
   ],
   "source": [
    "def fun():\n",
    "    print(\"fun\")\n",
    "class cls:\n",
    "    print(\"this is class\")\n",
    "    a=1000\n",
    "    b=2000\n",
    "    print(a,b)\n",
    "    def fun1(x):\n",
    "        print(\"this is fun1 inside class\")"
   ]
  },
  {
   "cell_type": "code",
   "execution_count": 4,
   "metadata": {},
   "outputs": [],
   "source": [
    "def fun():\n",
    "    print(\"fun\")\n",
    "class cls:\n",
    "    a=1000\n",
    "    b=2000\n",
    "    def fun1(x):\n",
    "        print(\"this is fun1 inside class\")\n",
    "    "
   ]
  },
  {
   "cell_type": "code",
   "execution_count": 5,
   "metadata": {},
   "outputs": [
    {
     "ename": "NameError",
     "evalue": "name 'a' is not defined",
     "output_type": "error",
     "traceback": [
      "\u001b[0;31m---------------------------------------------------------------------------\u001b[0m",
      "\u001b[0;31mNameError\u001b[0m                                 Traceback (most recent call last)",
      "\u001b[0;32m<ipython-input-5-663059f4f0d8>\u001b[0m in \u001b[0;36m<module>\u001b[0;34m()\u001b[0m\n\u001b[1;32m      6\u001b[0m     \u001b[0;32mdef\u001b[0m \u001b[0mfun1\u001b[0m\u001b[0;34m(\u001b[0m\u001b[0mx\u001b[0m\u001b[0;34m)\u001b[0m\u001b[0;34m:\u001b[0m\u001b[0;34m\u001b[0m\u001b[0m\n\u001b[1;32m      7\u001b[0m         \u001b[0mprint\u001b[0m\u001b[0;34m(\u001b[0m\u001b[0;34m\"this is fun1 inside class\"\u001b[0m\u001b[0;34m)\u001b[0m\u001b[0;34m\u001b[0m\u001b[0m\n\u001b[0;32m----> 8\u001b[0;31m \u001b[0mprint\u001b[0m\u001b[0;34m(\u001b[0m\u001b[0ma\u001b[0m\u001b[0;34m,\u001b[0m\u001b[0mb\u001b[0m\u001b[0;34m)\u001b[0m\u001b[0;34m\u001b[0m\u001b[0m\n\u001b[0m",
      "\u001b[0;31mNameError\u001b[0m: name 'a' is not defined"
     ]
    }
   ],
   "source": [
    "def fun():\n",
    "    print(\"fun\")\n",
    "class cls:\n",
    "    a=1000\n",
    "    b=2000\n",
    "    def fun1(x):\n",
    "        print(\"this is fun1 inside class\")\n",
    "print(a,b)"
   ]
  },
  {
   "cell_type": "code",
   "execution_count": 6,
   "metadata": {},
   "outputs": [
    {
     "name": "stdout",
     "output_type": "stream",
     "text": [
      "1000 2000\n"
     ]
    }
   ],
   "source": [
    "def fun():\n",
    "    print(\"fun\")\n",
    "class cls:\n",
    "    a=1000\n",
    "    b=2000\n",
    "    def fun1(x):\n",
    "        print(\"this is fun1 inside class\")\n",
    "print(cls.a,cls.b)"
   ]
  },
  {
   "cell_type": "code",
   "execution_count": 8,
   "metadata": {},
   "outputs": [
    {
     "name": "stdout",
     "output_type": "stream",
     "text": [
      "1000 2000\n",
      "x= 200\n",
      "this is fun1 inside class\n",
      "None\n"
     ]
    }
   ],
   "source": [
    "def fun():\n",
    "    print(\"fun\")\n",
    "class cls:\n",
    "    a=1000\n",
    "    b=2000\n",
    "    def fun1(x):\n",
    "        print(\"x=\",x)\n",
    "        print(\"this is fun1 inside class\")\n",
    "print(cls.a,cls.b)\n",
    "print(cls.fun1(200))"
   ]
  },
  {
   "cell_type": "code",
   "execution_count": 9,
   "metadata": {},
   "outputs": [
    {
     "name": "stdout",
     "output_type": "stream",
     "text": [
      "1000 2000\n",
      "x= <__main__.cls object at 0x7fe304330e10>\n",
      "this is fun1 inside class\n",
      "None\n"
     ]
    }
   ],
   "source": [
    "def fun():\n",
    "    print(\"fun\")\n",
    "class cls:\n",
    "    a=1000\n",
    "    b=2000\n",
    "    def fun1(x):\n",
    "        print(\"x=\",x)\n",
    "        print(\"this is fun1 inside class\")\n",
    "cls_inst = cls()\n",
    "print(cls.a,cls.b)\n",
    "print(cls.fun1(cls_inst))"
   ]
  },
  {
   "cell_type": "code",
   "execution_count": 1,
   "metadata": {},
   "outputs": [
    {
     "name": "stdout",
     "output_type": "stream",
     "text": [
      "Jay\n"
     ]
    }
   ],
   "source": [
    "class Emp:\n",
    "    name=\"Jay\"\n",
    "    age=23\n",
    "    sal=23456\n",
    "    company_name=\"Khyaathi\"\n",
    "    compnay_address=\"MAithrivanam\"\n",
    "    def sal_cal(x):\n",
    "        print(\"this is sal calculation\")\n",
    "print(Emp.name)"
   ]
  },
  {
   "cell_type": "code",
   "execution_count": 2,
   "metadata": {},
   "outputs": [
    {
     "name": "stdout",
     "output_type": "stream",
     "text": [
      "Jay\n",
      "<__main__.Emp object at 0x7fc05c2da128>\n",
      "this is sal calculation\n"
     ]
    }
   ],
   "source": [
    "class Emp:\n",
    "    name=\"Jay\"\n",
    "    age=23\n",
    "    sal=23456\n",
    "    company_name=\"Khyaathi\"\n",
    "    compnay_address=\"MAithrivanam\"\n",
    "    def sal_cal(x):\n",
    "        print(x)\n",
    "        print(\"this is sal calculation\")\n",
    "print(Emp.name)\n",
    "jay=Emp()\n",
    "Emp.sal_cal(jay)"
   ]
  },
  {
   "cell_type": "code",
   "execution_count": 3,
   "metadata": {},
   "outputs": [
    {
     "name": "stdout",
     "output_type": "stream",
     "text": [
      "Jay\n",
      "<__main__.Emp object at 0x7fc05c2da438>\n",
      "this is sal calculation\n",
      "Jay\n",
      "Khyaathi\n"
     ]
    }
   ],
   "source": [
    "class Emp:\n",
    "    name=\"Jay\"\n",
    "    age=23\n",
    "    sal=23456\n",
    "    company_name=\"Khyaathi\"\n",
    "    compnay_address=\"MAithrivanam\"\n",
    "    def sal_cal(x):\n",
    "        print(x)\n",
    "        print(\"this is sal calculation\")\n",
    "print(Emp.name)\n",
    "jay=Emp()\n",
    "Emp.sal_cal(jay)\n",
    "print(jay.name)\n",
    "print(jay.company_name)"
   ]
  },
  {
   "cell_type": "code",
   "execution_count": 4,
   "metadata": {},
   "outputs": [
    {
     "name": "stdout",
     "output_type": "stream",
     "text": [
      "Jay\n",
      "<__main__.Emp object at 0x7fc05c374e48>\n",
      "this is sal calculation\n",
      "Jay\n",
      "Khyaathi\n",
      "<__main__.Emp object at 0x7fc05c374e48>\n",
      "this is sal calculation\n"
     ]
    }
   ],
   "source": [
    "class Emp:\n",
    "    name=\"Jay\"\n",
    "    age=23\n",
    "    sal=23456\n",
    "    company_name=\"Khyaathi\"\n",
    "    compnay_address=\"MAithrivanam\"\n",
    "    def sal_cal(x):\n",
    "        print(x)\n",
    "        print(\"this is sal calculation\")\n",
    "print(Emp.name)\n",
    "jay=Emp()\n",
    "Emp.sal_cal(jay)\n",
    "print(jay.name)\n",
    "print(jay.company_name)\n",
    "jay.sal_cal()"
   ]
  },
  {
   "cell_type": "code",
   "execution_count": 5,
   "metadata": {},
   "outputs": [
    {
     "ename": "TypeError",
     "evalue": "fun() missing 1 required positional argument: 'x'",
     "output_type": "error",
     "traceback": [
      "\u001b[0;31m---------------------------------------------------------------------------\u001b[0m",
      "\u001b[0;31mTypeError\u001b[0m                                 Traceback (most recent call last)",
      "\u001b[0;32m<ipython-input-5-16952a0473e5>\u001b[0m in \u001b[0;36m<module>\u001b[0;34m()\u001b[0m\n\u001b[1;32m      1\u001b[0m \u001b[0;32mdef\u001b[0m \u001b[0mfun\u001b[0m\u001b[0;34m(\u001b[0m\u001b[0mx\u001b[0m\u001b[0;34m)\u001b[0m\u001b[0;34m:\u001b[0m\u001b[0;34m\u001b[0m\u001b[0m\n\u001b[1;32m      2\u001b[0m     \u001b[0mprint\u001b[0m\u001b[0;34m(\u001b[0m\u001b[0mx\u001b[0m\u001b[0;34m)\u001b[0m\u001b[0;34m\u001b[0m\u001b[0m\n\u001b[0;32m----> 3\u001b[0;31m \u001b[0mfun\u001b[0m\u001b[0;34m(\u001b[0m\u001b[0;34m)\u001b[0m\u001b[0;34m\u001b[0m\u001b[0m\n\u001b[0m",
      "\u001b[0;31mTypeError\u001b[0m: fun() missing 1 required positional argument: 'x'"
     ]
    }
   ],
   "source": [
    "def fun(x):\n",
    "    print(x)\n",
    "fun()"
   ]
  },
  {
   "cell_type": "code",
   "execution_count": 6,
   "metadata": {},
   "outputs": [
    {
     "name": "stdout",
     "output_type": "stream",
     "text": [
      "Jay\n",
      "x= <__main__.Emp object at 0x7fc05f467dd8>\n",
      "this is sal calculation\n",
      "Jay\n",
      "Khyaathi\n",
      "x= <__main__.Emp object at 0x7fc05f467dd8>\n",
      "this is sal calculation\n"
     ]
    }
   ],
   "source": [
    "class Emp:\n",
    "    name=\"Jay\"\n",
    "    age=23\n",
    "    sal=23456\n",
    "    company_name=\"Khyaathi\"\n",
    "    compnay_address=\"MAithrivanam\"\n",
    "    def sal_cal(x):\n",
    "        print(\"x=\",x)\n",
    "        print(\"this is sal calculation\")\n",
    "print(Emp.name)\n",
    "jay=Emp()\n",
    "Emp.sal_cal(jay)\n",
    "print(jay.name)\n",
    "print(jay.company_name)\n",
    "jay.sal_cal()"
   ]
  },
  {
   "cell_type": "code",
   "execution_count": 7,
   "metadata": {},
   "outputs": [
    {
     "name": "stdout",
     "output_type": "stream",
     "text": [
      "Jay\n",
      "x= <__main__.Emp object at 0x7fc05c2da080>\n",
      "this is sal calculation\n",
      "Jay\n",
      "Khyaathi\n"
     ]
    },
    {
     "ename": "TypeError",
     "evalue": "sal_cal() takes 1 positional argument but 2 were given",
     "output_type": "error",
     "traceback": [
      "\u001b[0;31m---------------------------------------------------------------------------\u001b[0m",
      "\u001b[0;31mTypeError\u001b[0m                                 Traceback (most recent call last)",
      "\u001b[0;32m<ipython-input-7-20a9fc55d0c7>\u001b[0m in \u001b[0;36m<module>\u001b[0;34m()\u001b[0m\n\u001b[1;32m     13\u001b[0m \u001b[0mprint\u001b[0m\u001b[0;34m(\u001b[0m\u001b[0mjay\u001b[0m\u001b[0;34m.\u001b[0m\u001b[0mname\u001b[0m\u001b[0;34m)\u001b[0m\u001b[0;34m\u001b[0m\u001b[0m\n\u001b[1;32m     14\u001b[0m \u001b[0mprint\u001b[0m\u001b[0;34m(\u001b[0m\u001b[0mjay\u001b[0m\u001b[0;34m.\u001b[0m\u001b[0mcompany_name\u001b[0m\u001b[0;34m)\u001b[0m\u001b[0;34m\u001b[0m\u001b[0m\n\u001b[0;32m---> 15\u001b[0;31m \u001b[0mjay\u001b[0m\u001b[0;34m.\u001b[0m\u001b[0msal_cal\u001b[0m\u001b[0;34m(\u001b[0m\u001b[0;36m10\u001b[0m\u001b[0;34m)\u001b[0m\u001b[0;34m\u001b[0m\u001b[0m\n\u001b[0m",
      "\u001b[0;31mTypeError\u001b[0m: sal_cal() takes 1 positional argument but 2 were given"
     ]
    }
   ],
   "source": [
    "class Emp:\n",
    "    name=\"Jay\"\n",
    "    age=23\n",
    "    sal=23456\n",
    "    company_name=\"Khyaathi\"\n",
    "    compnay_address=\"MAithrivanam\"\n",
    "    def sal_cal(x):\n",
    "        print(\"x=\",x)\n",
    "        print(\"this is sal calculation\")\n",
    "print(Emp.name)\n",
    "jay=Emp()\n",
    "Emp.sal_cal(jay)\n",
    "print(jay.name)\n",
    "print(jay.company_name)\n",
    "jay.sal_cal(10)"
   ]
  },
  {
   "cell_type": "code",
   "execution_count": 10,
   "metadata": {},
   "outputs": [
    {
     "name": "stdout",
     "output_type": "stream",
     "text": [
      "Jay\n",
      "x= <__main__.Emp object at 0x7fc05c25a358>\n",
      "y= 10\n",
      "this is sal calculation\n",
      "Jay\n",
      "Khyaathi\n",
      "x= <__main__.Emp object at 0x7fc05c25a358>\n",
      "y= 10\n",
      "this is sal calculation\n"
     ]
    }
   ],
   "source": [
    "class Emp:\n",
    "    name=\"Jay\"\n",
    "    age=23\n",
    "    sal=23456\n",
    "    company_name=\"Khyaathi\"\n",
    "    compnay_address=\"MAithrivanam\"\n",
    "    def sal_cal(x,y):\n",
    "        print(\"x=\",x)\n",
    "        print(\"y=\",y)\n",
    "        print(\"this is sal calculation\")\n",
    "print(Emp.name)\n",
    "jay=Emp()\n",
    "Emp.sal_cal(jay,10)\n",
    "print(jay.name)\n",
    "print(jay.company_name)\n",
    "jay.sal_cal(10)"
   ]
  },
  {
   "cell_type": "code",
   "execution_count": 13,
   "metadata": {},
   "outputs": [
    {
     "ename": "AttributeError",
     "evalue": "'Emp' object has no attribute 'name'",
     "output_type": "error",
     "traceback": [
      "\u001b[0;31m---------------------------------------------------------------------------\u001b[0m",
      "\u001b[0;31mAttributeError\u001b[0m                            Traceback (most recent call last)",
      "\u001b[0;32m<ipython-input-13-7e616f5f4758>\u001b[0m in \u001b[0;36m<module>\u001b[0;34m()\u001b[0m\n\u001b[1;32m     16\u001b[0m \u001b[0mvedha\u001b[0m\u001b[0;34m.\u001b[0m\u001b[0msal\u001b[0m\u001b[0;34m=\u001b[0m\u001b[0;36m234567\u001b[0m\u001b[0;34m\u001b[0m\u001b[0m\n\u001b[1;32m     17\u001b[0m \u001b[0mvedha\u001b[0m\u001b[0;34m.\u001b[0m\u001b[0mage\u001b[0m\u001b[0;34m=\u001b[0m\u001b[0;36m11\u001b[0m\u001b[0;34m\u001b[0m\u001b[0m\n\u001b[0;32m---> 18\u001b[0;31m \u001b[0mprint\u001b[0m\u001b[0;34m(\u001b[0m\u001b[0mvedha\u001b[0m\u001b[0;34m.\u001b[0m\u001b[0mname\u001b[0m\u001b[0;34m)\u001b[0m\u001b[0;34m\u001b[0m\u001b[0m\n\u001b[0m",
      "\u001b[0;31mAttributeError\u001b[0m: 'Emp' object has no attribute 'name'"
     ]
    }
   ],
   "source": [
    "class Emp:\n",
    "    company_name=\"Khyaathi\"\n",
    "    compnay_address=\"MAithrivanam\"\n",
    "    def sal_cal(x,y):\n",
    "        print(\"x=\",x)\n",
    "        print(\"y=\",y)\n",
    "        print(\"this is sal calculation\")\n",
    "jay=Emp()\n",
    "jay.name=\"JAYARAM\"\n",
    "jay.age=2.3\n",
    "jay.sal=1234567\n",
    "sai=Emp()\n",
    "sai.name=\"SAI LAXMI\"\n",
    "sai.age=29\n",
    "vedha=Emp()\n",
    "vedha.sal=234567\n",
    "vedha.age=11\n",
    "print(vedha.name)"
   ]
  },
  {
   "cell_type": "code",
   "execution_count": 14,
   "metadata": {},
   "outputs": [
    {
     "name": "stdout",
     "output_type": "stream",
     "text": [
      "JAYARAM\n"
     ]
    },
    {
     "ename": "AttributeError",
     "evalue": "'Emp' object has no attribute 'name'",
     "output_type": "error",
     "traceback": [
      "\u001b[0;31m---------------------------------------------------------------------------\u001b[0m",
      "\u001b[0;31mAttributeError\u001b[0m                            Traceback (most recent call last)",
      "\u001b[0;32m<ipython-input-14-5a770d48ca68>\u001b[0m in \u001b[0;36m<module>\u001b[0;34m()\u001b[0m\n\u001b[1;32m     17\u001b[0m \u001b[0mvedha\u001b[0m\u001b[0;34m.\u001b[0m\u001b[0mage\u001b[0m\u001b[0;34m=\u001b[0m\u001b[0;36m11\u001b[0m\u001b[0;34m\u001b[0m\u001b[0m\n\u001b[1;32m     18\u001b[0m \u001b[0mprint\u001b[0m\u001b[0;34m(\u001b[0m\u001b[0mjay\u001b[0m\u001b[0;34m.\u001b[0m\u001b[0mname\u001b[0m\u001b[0;34m)\u001b[0m\u001b[0;34m\u001b[0m\u001b[0m\n\u001b[0;32m---> 19\u001b[0;31m \u001b[0mprint\u001b[0m\u001b[0;34m(\u001b[0m\u001b[0mvedha\u001b[0m\u001b[0;34m.\u001b[0m\u001b[0mname\u001b[0m\u001b[0;34m)\u001b[0m\u001b[0;34m\u001b[0m\u001b[0m\n\u001b[0m",
      "\u001b[0;31mAttributeError\u001b[0m: 'Emp' object has no attribute 'name'"
     ]
    }
   ],
   "source": [
    "class Emp:\n",
    "    company_name=\"Khyaathi\"\n",
    "    compnay_address=\"MAithrivanam\"\n",
    "    def sal_cal(x,y):\n",
    "        print(\"x=\",x)\n",
    "        print(\"y=\",y)\n",
    "        print(\"this is sal calculation\")\n",
    "jay=Emp()\n",
    "jay.name=\"JAYARAM\"\n",
    "jay.age=2.3\n",
    "jay.sal=1234567\n",
    "sai=Emp()\n",
    "sai.name=\"SAI LAXMI\"\n",
    "sai.age=29\n",
    "vedha=Emp()\n",
    "vedha.sal=234567\n",
    "vedha.age=11\n",
    "print(jay.name)\n",
    "print(vedha.name)"
   ]
  },
  {
   "cell_type": "code",
   "execution_count": 16,
   "metadata": {},
   "outputs": [
    {
     "name": "stdout",
     "output_type": "stream",
     "text": [
      "JAYARAM\n",
      "VEDHANVESH\n"
     ]
    }
   ],
   "source": [
    "class Emp:\n",
    "    company_name=\"Khyaathi\"\n",
    "    compnay_address=\"MAithrivanam\"\n",
    "    def sal_cal(x,y):\n",
    "        print(\"x=\",x)\n",
    "        print(\"y=\",y)\n",
    "        print(\"this is sal calculation\")\n",
    "jay=Emp()\n",
    "jay.name=\"JAYARAM\"\n",
    "jay.age=2.3\n",
    "jay.sal=1234567\n",
    "sai=Emp()\n",
    "sai.name=\"SAI LAXMI\"\n",
    "sai.age=29\n",
    "sai.sal=123456\n",
    "vedha=Emp()\n",
    "vedha.sal=234567\n",
    "vedha.age=11\n",
    "vedha.name=\"VEDHANVESH\"\n",
    "print(jay.name)\n",
    "print(vedha.name)"
   ]
  },
  {
   "cell_type": "code",
   "execution_count": 17,
   "metadata": {},
   "outputs": [
    {
     "name": "stdout",
     "output_type": "stream",
     "text": [
      "('SAI LAXMI', 123456, 29)\n",
      "('JAYARAM', 1234567, 2.3)\n",
      "('VEDHANVESH', 234567, 11)\n"
     ]
    }
   ],
   "source": [
    "class Emp:\n",
    "    company_name=\"Khyaathi\"\n",
    "    compnay_address=\"MAithrivanam\"\n",
    "    def get(x):\n",
    "        return x.name,x.sal,x.age\n",
    "jay=Emp()\n",
    "jay.name=\"JAYARAM\"\n",
    "jay.age=2.3\n",
    "jay.sal=1234567\n",
    "sai=Emp()\n",
    "sai.name=\"SAI LAXMI\"\n",
    "sai.age=29\n",
    "sai.sal=123456\n",
    "vedha=Emp()\n",
    "vedha.sal=234567\n",
    "vedha.age=11\n",
    "vedha.name=\"VEDHANVESH\"\n",
    "print(sai.get())\n",
    "print(jay.get())\n",
    "print(vedha.get())"
   ]
  },
  {
   "cell_type": "code",
   "execution_count": 19,
   "metadata": {},
   "outputs": [
    {
     "name": "stdout",
     "output_type": "stream",
     "text": [
      "('SAI LAXMI', 123456, 29, 'Khyaathi', 'MAithrivanam')\n",
      "('SAI LAXMI', 123456, 29, 'Khyaathi', 'MAithrivanam')\n",
      "('JAYARAM', 1234567, 2.3, 'Khyaathi', 'MAithrivanam')\n",
      "('JAYARAM', 1234567, 2.3, 'Khyaathi', 'MAithrivanam')\n",
      "('VEDHANVESH', 234567, 11, 'Khyaathi', 'MAithrivanam')\n",
      "('VEDHANVESH', 234567, 11, 'Khyaathi', 'MAithrivanam')\n"
     ]
    }
   ],
   "source": [
    "class Emp:\n",
    "    company_name=\"Khyaathi\"\n",
    "    compnay_address=\"MAithrivanam\"\n",
    "    def get(x):\n",
    "        return x.name,x.sal,x.age,x.company_name,x.compnay_address\n",
    "jay=Emp()\n",
    "jay.name=\"JAYARAM\"\n",
    "jay.age=2.3\n",
    "jay.sal=1234567\n",
    "sai=Emp()\n",
    "sai.name=\"SAI LAXMI\"\n",
    "sai.age=29\n",
    "sai.sal=123456\n",
    "vedha=Emp()\n",
    "vedha.sal=234567\n",
    "vedha.age=11\n",
    "vedha.name=\"VEDHANVESH\"\n",
    "print(sai.get())\n",
    "print(Emp.get(sai))\n",
    "print(jay.get())\n",
    "print(Emp.get(jay))\n",
    "print(vedha.get())\n",
    "print(Emp.get(vedha))"
   ]
  },
  {
   "cell_type": "code",
   "execution_count": 20,
   "metadata": {},
   "outputs": [
    {
     "name": "stdout",
     "output_type": "stream",
     "text": [
      "('SAI LAXMI', 123456, 29, 'Khyaathi', 'MAithrivanam')\n",
      "('JAYARAM', 1234567, 2.3, 'Khyaathi', 'MAithrivanam')\n",
      "('VEDHANVESH', 2345678, 11, 'Khyaathi', 'MAithrivanam')\n"
     ]
    }
   ],
   "source": [
    "class Emp:\n",
    "    company_name=\"Khyaathi\"\n",
    "    compnay_address=\"MAithrivanam\"\n",
    "    def get(x):\n",
    "        return x.name,x.sal,x.age,x.company_name,x.compnay_address\n",
    "    def set_data(x,e_name,e_age,e_sal):\n",
    "        x.name=e_name\n",
    "        x.sal=e_sal\n",
    "        x.age=e_age\n",
    "        \n",
    "jay=Emp()\n",
    "jay.set_data(\"JAYARAM\", 2.3,1234567)\n",
    "#jay.name=\"JAYARAM\"\n",
    "#jay.age=2.3\n",
    "#jay.sal=1234567\n",
    "sai=Emp()\n",
    "sai.set_data(\"SAI LAXMI\",29,123456)\n",
    "#sai.name=\"SAI LAXMI\"\n",
    "#sai.age=29\n",
    "#sai.sal=123456\n",
    "vedha=Emp()\n",
    "vedha.set_data(\"VEDHANVESH\",11,2345678)\n",
    "#vedha.sal=234567\n",
    "#vedha.age=11\n",
    "#vedha.name=\"VEDHANVESH\"\n",
    "print(sai.get())\n",
    "print(jay.get())\n",
    "print(vedha.get())\n"
   ]
  },
  {
   "cell_type": "code",
   "execution_count": 21,
   "metadata": {},
   "outputs": [
    {
     "name": "stdout",
     "output_type": "stream",
     "text": [
      "('SAI LAXMI', 123456, 29, 'Khyaathi', 'MAithrivanam')\n",
      "('JAYARAM', 1234567, 2.3, 'Khyaathi', 'MAithrivanam')\n",
      "('VEDHANVESH', 2345678, 11, 'Khyaathi', 'MAithrivanam')\n"
     ]
    }
   ],
   "source": [
    "class Emp:\n",
    "    company_name=\"Khyaathi\"\n",
    "    compnay_address=\"MAithrivanam\"\n",
    "    def get(x):\n",
    "        return x.name,x.sal,x.age,x.company_name,x.compnay_address\n",
    "    def set_data(x,e_name,e_age,e_sal):\n",
    "        x.name=e_name\n",
    "        x.sal=e_sal\n",
    "        x.age=e_age\n",
    "jay=Emp()\n",
    "jay.set_data(\"JAYARAM\", 2.3,1234567)\n",
    "sai=Emp()\n",
    "sai.set_data(\"SAI LAXMI\",29,123456)\n",
    "vedha=Emp()\n",
    "vedha.set_data(\"VEDHANVESH\",11,2345678)\n",
    "print(sai.get())\n",
    "print(jay.get())\n",
    "print(vedha.get())\n"
   ]
  },
  {
   "cell_type": "code",
   "execution_count": 22,
   "metadata": {},
   "outputs": [
    {
     "name": "stdout",
     "output_type": "stream",
     "text": [
      "('SAI LAXMI', 123456, 29, 'Khyaathi', 'MAithrivanam')\n",
      "('JAYARAM', 1234567, 2.3, 'Khyaathi', 'MAithrivanam')\n",
      "('VEDHANVESH', 2345678, 11, 'Khyaathi', 'MAithrivanam')\n"
     ]
    }
   ],
   "source": [
    "class Emp:\n",
    "    company_name=\"Khyaathi\"\n",
    "    compnay_address=\"MAithrivanam\"\n",
    "    def get(self):\n",
    "        return self.name,self.sal,self.age,self.company_name,self.compnay_address\n",
    "    def set_data(self,e_name,e_age,e_sal):\n",
    "        self.name=e_name\n",
    "        self.sal=e_sal\n",
    "        self.age=e_age\n",
    "jay=Emp()\n",
    "jay.set_data(\"JAYARAM\", 2.3,1234567)\n",
    "sai=Emp()\n",
    "sai.set_data(\"SAI LAXMI\",29,123456)\n",
    "vedha=Emp()\n",
    "vedha.set_data(\"VEDHANVESH\",11,2345678)\n",
    "print(sai.get())\n",
    "print(jay.get())\n",
    "print(vedha.get())\n"
   ]
  },
  {
   "cell_type": "code",
   "execution_count": 25,
   "metadata": {},
   "outputs": [
    {
     "name": "stdout",
     "output_type": "stream",
     "text": [
      "purchasing 6S for the cost of:45000\n",
      "selling 6S for the cost of: 90000, with the discount:5\n"
     ]
    }
   ],
   "source": [
    "# product, class attributes: discount, data object attributes: name, cost price, sales price, category\n",
    "#operations: sales, purchase, delivery\n",
    "class Product:\n",
    "    discount=5\n",
    "    def sales(self):\n",
    "        print(\"selling %s for the cost of: %s, with the discount:%s\"%(self.name,self.sales_price,self.discount))\n",
    "    def purchase(self):\n",
    "        print(\"purchasing %s for the cost of:%s\"%(self.name,self.cost_price))\n",
    "    def delivery(self):\n",
    "        pass\n",
    "    def set_data(self,p_name,p_cost_price,p_sales_price,p_category):\n",
    "        self.name=p_name\n",
    "        self.cost_price=p_cost_price\n",
    "        self.sales_price=p_sales_price\n",
    "        self.category=p_category\n",
    "        \n",
    "iphone=Product()\n",
    "iphone.set_data(\"6S\",45000,90000,\"cell\")\n",
    "iphone.purchase()\n",
    "iphone.sales()"
   ]
  },
  {
   "cell_type": "code",
   "execution_count": 26,
   "metadata": {},
   "outputs": [
    {
     "name": "stdout",
     "output_type": "stream",
     "text": [
      "purchasing 6S for the cost of:45000\n",
      "selling 6S for the cost of: 90000, with the discount:5\n"
     ]
    },
    {
     "ename": "AttributeError",
     "evalue": "'Product' object has no attribute 'name'",
     "output_type": "error",
     "traceback": [
      "\u001b[0;31m---------------------------------------------------------------------------\u001b[0m",
      "\u001b[0;31mAttributeError\u001b[0m                            Traceback (most recent call last)",
      "\u001b[0;32m<ipython-input-26-86d3f8ea0e81>\u001b[0m in \u001b[0;36m<module>\u001b[0;34m()\u001b[0m\n\u001b[1;32m     20\u001b[0m \u001b[0miphone\u001b[0m\u001b[0;34m.\u001b[0m\u001b[0msales\u001b[0m\u001b[0;34m(\u001b[0m\u001b[0;34m)\u001b[0m\u001b[0;34m\u001b[0m\u001b[0m\n\u001b[1;32m     21\u001b[0m \u001b[0mredme\u001b[0m\u001b[0;34m=\u001b[0m\u001b[0mProduct\u001b[0m\u001b[0;34m(\u001b[0m\u001b[0;34m)\u001b[0m\u001b[0;34m\u001b[0m\u001b[0m\n\u001b[0;32m---> 22\u001b[0;31m \u001b[0mredme\u001b[0m\u001b[0;34m.\u001b[0m\u001b[0msales\u001b[0m\u001b[0;34m(\u001b[0m\u001b[0;34m)\u001b[0m\u001b[0;34m\u001b[0m\u001b[0m\n\u001b[0m",
      "\u001b[0;32m<ipython-input-26-86d3f8ea0e81>\u001b[0m in \u001b[0;36msales\u001b[0;34m(self)\u001b[0m\n\u001b[1;32m      4\u001b[0m     \u001b[0mdiscount\u001b[0m\u001b[0;34m=\u001b[0m\u001b[0;36m5\u001b[0m\u001b[0;34m\u001b[0m\u001b[0m\n\u001b[1;32m      5\u001b[0m     \u001b[0;32mdef\u001b[0m \u001b[0msales\u001b[0m\u001b[0;34m(\u001b[0m\u001b[0mself\u001b[0m\u001b[0;34m)\u001b[0m\u001b[0;34m:\u001b[0m\u001b[0;34m\u001b[0m\u001b[0m\n\u001b[0;32m----> 6\u001b[0;31m         \u001b[0mprint\u001b[0m\u001b[0;34m(\u001b[0m\u001b[0;34m\"selling %s for the cost of: %s, with the discount:%s\"\u001b[0m\u001b[0;34m%\u001b[0m\u001b[0;34m(\u001b[0m\u001b[0mself\u001b[0m\u001b[0;34m.\u001b[0m\u001b[0mname\u001b[0m\u001b[0;34m,\u001b[0m\u001b[0mself\u001b[0m\u001b[0;34m.\u001b[0m\u001b[0msales_price\u001b[0m\u001b[0;34m,\u001b[0m\u001b[0mself\u001b[0m\u001b[0;34m.\u001b[0m\u001b[0mdiscount\u001b[0m\u001b[0;34m)\u001b[0m\u001b[0;34m)\u001b[0m\u001b[0;34m\u001b[0m\u001b[0m\n\u001b[0m\u001b[1;32m      7\u001b[0m     \u001b[0;32mdef\u001b[0m \u001b[0mpurchase\u001b[0m\u001b[0;34m(\u001b[0m\u001b[0mself\u001b[0m\u001b[0;34m)\u001b[0m\u001b[0;34m:\u001b[0m\u001b[0;34m\u001b[0m\u001b[0m\n\u001b[1;32m      8\u001b[0m         \u001b[0mprint\u001b[0m\u001b[0;34m(\u001b[0m\u001b[0;34m\"purchasing %s for the cost of:%s\"\u001b[0m\u001b[0;34m%\u001b[0m\u001b[0;34m(\u001b[0m\u001b[0mself\u001b[0m\u001b[0;34m.\u001b[0m\u001b[0mname\u001b[0m\u001b[0;34m,\u001b[0m\u001b[0mself\u001b[0m\u001b[0;34m.\u001b[0m\u001b[0mcost_price\u001b[0m\u001b[0;34m)\u001b[0m\u001b[0;34m)\u001b[0m\u001b[0;34m\u001b[0m\u001b[0m\n",
      "\u001b[0;31mAttributeError\u001b[0m: 'Product' object has no attribute 'name'"
     ]
    }
   ],
   "source": [
    "# product, class attributes: discount, data object attributes: name, cost price, sales price, category\n",
    "#operations: sales, purchase, delivery\n",
    "class Product:\n",
    "    discount=5\n",
    "    def sales(self):\n",
    "        print(\"selling %s for the cost of: %s, with the discount:%s\"%(self.name,self.sales_price,self.discount))\n",
    "    def purchase(self):\n",
    "        print(\"purchasing %s for the cost of:%s\"%(self.name,self.cost_price))\n",
    "    def delivery(self):\n",
    "        pass\n",
    "    def set_data(self,p_name,p_cost_price,p_sales_price,p_category):\n",
    "        self.name=p_name\n",
    "        self.cost_price=p_cost_price\n",
    "        self.sales_price=p_sales_price\n",
    "        self.category=p_category\n",
    "        \n",
    "iphone=Product()\n",
    "iphone.set_data(\"6S\",45000,90000,\"cell\")\n",
    "iphone.purchase()\n",
    "iphone.sales()\n",
    "redme=Product()\n",
    "redme.sales()"
   ]
  },
  {
   "cell_type": "code",
   "execution_count": 27,
   "metadata": {},
   "outputs": [
    {
     "name": "stdout",
     "output_type": "stream",
     "text": [
      "this is class\n"
     ]
    }
   ],
   "source": [
    "class Emp:\n",
    "    print(\"this is class\")\n",
    "    def get(self):\n",
    "        print(\"this is get method\")\n"
   ]
  },
  {
   "cell_type": "code",
   "execution_count": 28,
   "metadata": {},
   "outputs": [
    {
     "name": "stdout",
     "output_type": "stream",
     "text": [
      "this is class\n"
     ]
    }
   ],
   "source": [
    "class Emp:\n",
    "    print(\"this is class\")\n",
    "    def get(self):\n",
    "        print(\"this is get method\")\n",
    "    def __init__(self):\n",
    "        print(\"this is init\")\n"
   ]
  },
  {
   "cell_type": "code",
   "execution_count": 29,
   "metadata": {},
   "outputs": [
    {
     "name": "stdout",
     "output_type": "stream",
     "text": [
      "this is class\n",
      "this is init\n"
     ]
    }
   ],
   "source": [
    "class Emp:\n",
    "    print(\"this is class\")\n",
    "    def get(self):\n",
    "        print(\"this is get method\")\n",
    "    def __init__(self):\n",
    "        print(\"this is init\")\n",
    "sai=Emp()"
   ]
  },
  {
   "cell_type": "code",
   "execution_count": 30,
   "metadata": {},
   "outputs": [
    {
     "name": "stdout",
     "output_type": "stream",
     "text": [
      "this is class\n",
      "this is init\n",
      "this is init\n",
      "this is init\n"
     ]
    }
   ],
   "source": [
    "class Emp:\n",
    "    print(\"this is class\")\n",
    "    def get(self):\n",
    "        print(\"this is get method\")\n",
    "    def __init__(self):\n",
    "        print(\"this is init\")\n",
    "sai=Emp()\n",
    "jay=Emp()\n",
    "vedha=Emp()"
   ]
  },
  {
   "cell_type": "code",
   "execution_count": 31,
   "metadata": {},
   "outputs": [
    {
     "name": "stdout",
     "output_type": "stream",
     "text": [
      "this is class\n",
      "10\n",
      "this is init\n",
      "20\n",
      "this is init\n",
      "30\n",
      "this is init\n"
     ]
    }
   ],
   "source": [
    "class Emp:\n",
    "    print(\"this is class\")\n",
    "    def get(self):\n",
    "        print(\"this is get method\")\n",
    "    def __init__(self,x):\n",
    "        print(x)\n",
    "        print(\"this is init\")\n",
    "sai=Emp(10)\n",
    "jay=Emp(20)\n",
    "vedha=Emp(30)"
   ]
  },
  {
   "cell_type": "code",
   "execution_count": 32,
   "metadata": {},
   "outputs": [],
   "source": [
    "class Emp:\n",
    "    def get(self):\n",
    "        print(\"this is get method\")\n",
    "    def __init__(self,name,age,sal):\n",
    "        self.name=name\n",
    "        self.age=age\n",
    "        self.sal=sal\n",
    "        \n",
    "sai=Emp(\"SAILAXMI\",29,23456)\n",
    "jay=Emp(\"JAYARAM\",23,345678)\n",
    "vedha=Emp(\"VEDHANVESH\",25,345678)"
   ]
  },
  {
   "cell_type": "code",
   "execution_count": 33,
   "metadata": {},
   "outputs": [
    {
     "name": "stdout",
     "output_type": "stream",
     "text": [
      "purchasing 6S for the cost of:45000\n",
      "selling 6S for the cost of: 90000, with the discount:5\n"
     ]
    },
    {
     "ename": "TypeError",
     "evalue": "__init__() missing 4 required positional arguments: 'p_name', 'p_cost_price', 'p_sales_price', and 'p_category'",
     "output_type": "error",
     "traceback": [
      "\u001b[0;31m---------------------------------------------------------------------------\u001b[0m",
      "\u001b[0;31mTypeError\u001b[0m                                 Traceback (most recent call last)",
      "\u001b[0;32m<ipython-input-33-786e6f6b3de9>\u001b[0m in \u001b[0;36m<module>\u001b[0;34m()\u001b[0m\n\u001b[1;32m     18\u001b[0m \u001b[0miphone\u001b[0m\u001b[0;34m.\u001b[0m\u001b[0mpurchase\u001b[0m\u001b[0;34m(\u001b[0m\u001b[0;34m)\u001b[0m\u001b[0;34m\u001b[0m\u001b[0m\n\u001b[1;32m     19\u001b[0m \u001b[0miphone\u001b[0m\u001b[0;34m.\u001b[0m\u001b[0msales\u001b[0m\u001b[0;34m(\u001b[0m\u001b[0;34m)\u001b[0m\u001b[0;34m\u001b[0m\u001b[0m\n\u001b[0;32m---> 20\u001b[0;31m \u001b[0mredme\u001b[0m\u001b[0;34m=\u001b[0m\u001b[0mProduct\u001b[0m\u001b[0;34m(\u001b[0m\u001b[0;34m)\u001b[0m\u001b[0;34m\u001b[0m\u001b[0m\n\u001b[0m\u001b[1;32m     21\u001b[0m \u001b[0mredme\u001b[0m\u001b[0;34m.\u001b[0m\u001b[0msales\u001b[0m\u001b[0;34m(\u001b[0m\u001b[0;34m)\u001b[0m\u001b[0;34m\u001b[0m\u001b[0m\n",
      "\u001b[0;31mTypeError\u001b[0m: __init__() missing 4 required positional arguments: 'p_name', 'p_cost_price', 'p_sales_price', and 'p_category'"
     ]
    }
   ],
   "source": [
    "# product, class attributes: discount, data object attributes: name, cost price, sales price, category\n",
    "#operations: sales, purchase, delivery\n",
    "class Product:\n",
    "    discount=5\n",
    "    def sales(self):\n",
    "        print(\"selling %s for the cost of: %s, with the discount:%s\"%(self.name,self.sales_price,self.discount))\n",
    "    def purchase(self):\n",
    "        print(\"purchasing %s for the cost of:%s\"%(self.name,self.cost_price))\n",
    "    def delivery(self):\n",
    "        pass\n",
    "    def __init__(self,p_name,p_cost_price,p_sales_price,p_category):\n",
    "        self.name=p_name\n",
    "        self.cost_price=p_cost_price\n",
    "        self.sales_price=p_sales_price\n",
    "        self.category=p_category\n",
    "        \n",
    "iphone=Product(\"6S\",45000,90000,\"cell\")\n",
    "iphone.purchase()\n",
    "iphone.sales()\n",
    "redme=Product()\n",
    "redme.sales()"
   ]
  },
  {
   "cell_type": "code",
   "execution_count": 34,
   "metadata": {},
   "outputs": [
    {
     "name": "stdout",
     "output_type": "stream",
     "text": [
      "purchasing 6S for the cost of:45000\n",
      "selling 6S for the cost of: 90000, with the discount:5\n",
      "selling REDME 7 for the cost of: 8000, with the discount:5\n"
     ]
    }
   ],
   "source": [
    "# product, class attributes: discount, data object attributes: name, cost price, sales price, category\n",
    "#operations: sales, purchase, delivery\n",
    "class Product:\n",
    "    discount=5\n",
    "    def sales(self):\n",
    "        print(\"selling %s for the cost of: %s, with the discount:%s\"%(self.name,self.sales_price,self.discount))\n",
    "    def purchase(self):\n",
    "        print(\"purchasing %s for the cost of:%s\"%(self.name,self.cost_price))\n",
    "    def delivery(self):\n",
    "        pass\n",
    "    def __init__(self,p_name,p_cost_price,p_sales_price,p_category):\n",
    "        #constructor\n",
    "        self.name=p_name\n",
    "        self.cost_price=p_cost_price\n",
    "        self.sales_price=p_sales_price\n",
    "        self.category=p_category\n",
    "        \n",
    "iphone=Product(\"6S\",45000,90000,\"cell\")\n",
    "iphone.purchase()\n",
    "iphone.sales()\n",
    "redme=Product(\"REDME 7\",5700,8000,\"cell\")\n",
    "redme.sales()"
   ]
  },
  {
   "cell_type": "code",
   "execution_count": 1,
   "metadata": {},
   "outputs": [
    {
     "name": "stdout",
     "output_type": "stream",
     "text": [
      "10\n"
     ]
    }
   ],
   "source": [
    "def fun(x):\n",
    "    print(x)\n",
    "fun(10)"
   ]
  },
  {
   "cell_type": "code",
   "execution_count": 2,
   "metadata": {},
   "outputs": [
    {
     "name": "stdout",
     "output_type": "stream",
     "text": [
      "10\n"
     ]
    }
   ],
   "source": [
    "class Emp:\n",
    "    def fun(x):\n",
    "        print(x)\n",
    "Emp.fun(10)"
   ]
  },
  {
   "cell_type": "code",
   "execution_count": 3,
   "metadata": {},
   "outputs": [
    {
     "data": {
      "text/plain": [
       "int"
      ]
     },
     "execution_count": 3,
     "metadata": {},
     "output_type": "execute_result"
    }
   ],
   "source": [
    "a=10\n",
    "int"
   ]
  },
  {
   "cell_type": "code",
   "execution_count": 4,
   "metadata": {},
   "outputs": [
    {
     "name": "stdout",
     "output_type": "stream",
     "text": [
      "purchasing 6S for the cost of:45000\n",
      "selling 6S for the cost of: 90000, with the discount:5\n",
      "selling REDME 7 for the cost of: 8000, with the discount:5\n"
     ]
    }
   ],
   "source": [
    "# product, class attributes: discount, data object attributes: name, cost price, sales price, category\n",
    "#operations: sales, purchase, delivery\n",
    "class Product:\n",
    "    discount=5\n",
    "    def sales(self):\n",
    "        print(\"selling %s for the cost of: %s, with the discount:%s\"%(self.name,self.sales_price,self.discount))\n",
    "    def purchase(self):\n",
    "        print(\"purchasing %s for the cost of:%s\"%(self.name,self.cost_price))\n",
    "    def delivery(self):\n",
    "        pass\n",
    "    def __init__(self,p_name,p_cost_price,p_sales_price,p_category):\n",
    "        #constructor\n",
    "        self.name=p_name\n",
    "        self.cost_price=p_cost_price\n",
    "        self.sales_price=p_sales_price\n",
    "        self.category=p_category\n",
    "        \n",
    "iphone=Product(\"6S\",45000,90000,\"cell\")\n",
    "iphone.purchase()\n",
    "iphone.sales()\n",
    "redme=Product(\"REDME 7\",5700,8000,\"cell\")\n",
    "redme.sales()"
   ]
  },
  {
   "cell_type": "code",
   "execution_count": 5,
   "metadata": {},
   "outputs": [],
   "source": [
    "l=[1,2,3,4]"
   ]
  },
  {
   "cell_type": "code",
   "execution_count": 6,
   "metadata": {},
   "outputs": [],
   "source": [
    "s=\"sdfds\""
   ]
  },
  {
   "cell_type": "code",
   "execution_count": 7,
   "metadata": {},
   "outputs": [],
   "source": [
    "l=[1,2,3,4]\n",
    "l.reverse()"
   ]
  },
  {
   "cell_type": "code",
   "execution_count": 8,
   "metadata": {},
   "outputs": [],
   "source": [
    "a=10"
   ]
  },
  {
   "cell_type": "code",
   "execution_count": 9,
   "metadata": {},
   "outputs": [
    {
     "data": {
      "text/plain": [
       "__main__.Product"
      ]
     },
     "execution_count": 9,
     "metadata": {},
     "output_type": "execute_result"
    }
   ],
   "source": [
    "type(iphone)"
   ]
  },
  {
   "cell_type": "code",
   "execution_count": 10,
   "metadata": {},
   "outputs": [
    {
     "data": {
      "text/plain": [
       "int"
      ]
     },
     "execution_count": 10,
     "metadata": {},
     "output_type": "execute_result"
    }
   ],
   "source": [
    "a=10\n",
    "type(a)"
   ]
  },
  {
   "cell_type": "code",
   "execution_count": 11,
   "metadata": {},
   "outputs": [
    {
     "data": {
      "text/plain": [
       "30"
      ]
     },
     "execution_count": 11,
     "metadata": {},
     "output_type": "execute_result"
    }
   ],
   "source": [
    "a=10\n",
    "b=20\n",
    "a+b"
   ]
  },
  {
   "cell_type": "code",
   "execution_count": 12,
   "metadata": {},
   "outputs": [
    {
     "name": "stdout",
     "output_type": "stream",
     "text": [
      "1\n",
      "2\n",
      "3\n",
      "4\n"
     ]
    }
   ],
   "source": [
    "l=[1,2,3,4]\n",
    "for i in l:\n",
    "    print(i)"
   ]
  },
  {
   "cell_type": "code",
   "execution_count": 13,
   "metadata": {},
   "outputs": [
    {
     "ename": "TypeError",
     "evalue": "unsupported operand type(s) for +: 'Product' and 'Product'",
     "output_type": "error",
     "traceback": [
      "\u001b[0;31m---------------------------------------------------------------------------\u001b[0m",
      "\u001b[0;31mTypeError\u001b[0m                                 Traceback (most recent call last)",
      "\u001b[0;32m<ipython-input-13-a790b3369776>\u001b[0m in \u001b[0;36m<module>\u001b[0;34m()\u001b[0m\n\u001b[1;32m     18\u001b[0m \u001b[0miphone\u001b[0m\u001b[0;34m=\u001b[0m\u001b[0mProduct\u001b[0m\u001b[0;34m(\u001b[0m\u001b[0;34m\"6S\"\u001b[0m\u001b[0;34m,\u001b[0m\u001b[0;36m45000\u001b[0m\u001b[0;34m,\u001b[0m\u001b[0;36m90000\u001b[0m\u001b[0;34m,\u001b[0m\u001b[0;34m\"cell\"\u001b[0m\u001b[0;34m)\u001b[0m\u001b[0;34m\u001b[0m\u001b[0m\n\u001b[1;32m     19\u001b[0m \u001b[0mredme\u001b[0m\u001b[0;34m=\u001b[0m\u001b[0mProduct\u001b[0m\u001b[0;34m(\u001b[0m\u001b[0;34m\"REDME 7\"\u001b[0m\u001b[0;34m,\u001b[0m\u001b[0;36m5700\u001b[0m\u001b[0;34m,\u001b[0m\u001b[0;36m8000\u001b[0m\u001b[0;34m,\u001b[0m\u001b[0;34m\"cell\"\u001b[0m\u001b[0;34m)\u001b[0m\u001b[0;34m\u001b[0m\u001b[0m\n\u001b[0;32m---> 20\u001b[0;31m \u001b[0miphone\u001b[0m\u001b[0;34m+\u001b[0m\u001b[0mredme\u001b[0m\u001b[0;34m\u001b[0m\u001b[0m\n\u001b[0m",
      "\u001b[0;31mTypeError\u001b[0m: unsupported operand type(s) for +: 'Product' and 'Product'"
     ]
    }
   ],
   "source": [
    "# product, class attributes: discount, data object attributes: name, cost price, sales price, category\n",
    "#operations: sales, purchase, delivery\n",
    "class Product:\n",
    "    discount=5\n",
    "    def sales(self):\n",
    "        print(\"selling %s for the cost of: %s, with the discount:%s\"%(self.name,self.sales_price,self.discount))\n",
    "    def purchase(self):\n",
    "        print(\"purchasing %s for the cost of:%s\"%(self.name,self.cost_price))\n",
    "    def delivery(self):\n",
    "        pass\n",
    "    def __init__(self,p_name,p_cost_price,p_sales_price,p_category):\n",
    "        #constructor\n",
    "        self.name=p_name\n",
    "        self.cost_price=p_cost_price\n",
    "        self.sales_price=p_sales_price\n",
    "        self.category=p_category\n",
    "        \n",
    "iphone=Product(\"6S\",45000,90000,\"cell\")\n",
    "redme=Product(\"REDME 7\",5700,8000,\"cell\")\n",
    "iphone+redme"
   ]
  },
  {
   "cell_type": "code",
   "execution_count": 14,
   "metadata": {},
   "outputs": [
    {
     "ename": "TypeError",
     "evalue": "unsupported operand type(s) for +: 'dict' and 'dict'",
     "output_type": "error",
     "traceback": [
      "\u001b[0;31m---------------------------------------------------------------------------\u001b[0m",
      "\u001b[0;31mTypeError\u001b[0m                                 Traceback (most recent call last)",
      "\u001b[0;32m<ipython-input-14-4a6f9d2294a7>\u001b[0m in \u001b[0;36m<module>\u001b[0;34m()\u001b[0m\n\u001b[1;32m      1\u001b[0m \u001b[0md1\u001b[0m\u001b[0;34m=\u001b[0m\u001b[0;34m{\u001b[0m\u001b[0;36m1\u001b[0m\u001b[0;34m:\u001b[0m\u001b[0;36m2\u001b[0m\u001b[0;34m}\u001b[0m\u001b[0;34m\u001b[0m\u001b[0m\n\u001b[1;32m      2\u001b[0m \u001b[0md2\u001b[0m\u001b[0;34m=\u001b[0m\u001b[0;34m{\u001b[0m\u001b[0;36m3\u001b[0m\u001b[0;34m:\u001b[0m\u001b[0;34m\"4\"\u001b[0m\u001b[0;34m}\u001b[0m\u001b[0;34m\u001b[0m\u001b[0m\n\u001b[0;32m----> 3\u001b[0;31m \u001b[0md1\u001b[0m\u001b[0;34m+\u001b[0m\u001b[0md2\u001b[0m\u001b[0;34m\u001b[0m\u001b[0m\n\u001b[0m",
      "\u001b[0;31mTypeError\u001b[0m: unsupported operand type(s) for +: 'dict' and 'dict'"
     ]
    }
   ],
   "source": [
    "d1={1:2}\n",
    "d2={3:\"4\"}\n",
    "d1+d2"
   ]
  },
  {
   "cell_type": "code",
   "execution_count": 15,
   "metadata": {},
   "outputs": [
    {
     "data": {
      "text/plain": [
       "20"
      ]
     },
     "execution_count": 15,
     "metadata": {},
     "output_type": "execute_result"
    }
   ],
   "source": [
    "# product, class attributes: discount, data object attributes: name, cost price, sales price, category\n",
    "#operations: sales, purchase, delivery\n",
    "class Product:\n",
    "    discount=5\n",
    "    def sales(self):\n",
    "        print(\"selling %s for the cost of: %s, with the discount:%s\"%(self.name,self.sales_price,self.discount))\n",
    "    def purchase(self):\n",
    "        print(\"purchasing %s for the cost of:%s\"%(self.name,self.cost_price))\n",
    "    def delivery(self):\n",
    "        pass\n",
    "    def __init__(self,p_name,p_cost_price,p_sales_price,p_category):\n",
    "        #constructor\n",
    "        self.name=p_name\n",
    "        self.cost_price=p_cost_price\n",
    "        self.sales_price=p_sales_price\n",
    "        self.category=p_category\n",
    "    def __add__(self1,self2):\n",
    "        return 20\n",
    "        \n",
    "iphone=Product(\"6S\",45000,90000,\"cell\")\n",
    "redme=Product(\"REDME 7\",5700,8000,\"cell\")\n",
    "iphone+redme"
   ]
  },
  {
   "cell_type": "code",
   "execution_count": 16,
   "metadata": {},
   "outputs": [
    {
     "data": {
      "text/plain": [
       "['6S', 'REDME 7']"
      ]
     },
     "execution_count": 16,
     "metadata": {},
     "output_type": "execute_result"
    }
   ],
   "source": [
    "# product, class attributes: discount, data object attributes: name, cost price, sales price, category\n",
    "#operations: sales, purchase, delivery\n",
    "class Product:\n",
    "    discount=5\n",
    "    def sales(self):\n",
    "        print(\"selling %s for the cost of: %s, with the discount:%s\"%(self.name,self.sales_price,self.discount))\n",
    "    def purchase(self):\n",
    "        print(\"purchasing %s for the cost of:%s\"%(self.name,self.cost_price))\n",
    "    def delivery(self):\n",
    "        pass\n",
    "    def __init__(self,p_name,p_cost_price,p_sales_price,p_category):\n",
    "        #constructor\n",
    "        self.name=p_name\n",
    "        self.cost_price=p_cost_price\n",
    "        self.sales_price=p_sales_price\n",
    "        self.category=p_category\n",
    "    def __add__(self1,self2):\n",
    "        return [self1.name,self2.name]\n",
    "        \n",
    "iphone=Product(\"6S\",45000,90000,\"cell\")\n",
    "redme=Product(\"REDME 7\",5700,8000,\"cell\")\n",
    "iphone+redme"
   ]
  },
  {
   "cell_type": "code",
   "execution_count": 18,
   "metadata": {},
   "outputs": [
    {
     "data": {
      "text/plain": [
       "'6S,REDME 7'"
      ]
     },
     "execution_count": 18,
     "metadata": {},
     "output_type": "execute_result"
    }
   ],
   "source": [
    "# product, class attributes: discount, data object attributes: name, cost price, sales price, category\n",
    "#operations: sales, purchase, delivery\n",
    "class Product:\n",
    "    discount=5\n",
    "    def sales(self):\n",
    "        print(\"selling %s for the cost of: %s, with the discount:%s\"%(self.name,self.sales_price,self.discount))\n",
    "    def purchase(self):\n",
    "        print(\"purchasing %s for the cost of:%s\"%(self.name,self.cost_price))\n",
    "    def delivery(self):\n",
    "        pass\n",
    "    def __init__(self,p_name,p_cost_price,p_sales_price,p_category):\n",
    "        #constructor\n",
    "        self.name=p_name\n",
    "        self.cost_price=p_cost_price\n",
    "        self.sales_price=p_sales_price\n",
    "        self.category=p_category\n",
    "    def __add__(self1,self2):\n",
    "        return self1.name+\",\"+self2.name\n",
    "        \n",
    "iphone=Product(\"6S\",45000,90000,\"cell\")\n",
    "redme=Product(\"REDME 7\",5700,8000,\"cell\")\n",
    "iphone+redme"
   ]
  },
  {
   "cell_type": "code",
   "execution_count": 19,
   "metadata": {},
   "outputs": [],
   "source": [
    "a=10\n",
    "b=20"
   ]
  },
  {
   "cell_type": "code",
   "execution_count": 20,
   "metadata": {},
   "outputs": [
    {
     "data": {
      "text/plain": [
       "30"
      ]
     },
     "execution_count": 20,
     "metadata": {},
     "output_type": "execute_result"
    }
   ],
   "source": [
    "a+b"
   ]
  },
  {
   "cell_type": "code",
   "execution_count": 21,
   "metadata": {},
   "outputs": [],
   "source": [
    "s1=\"sdfsd\"\n",
    "s2=\"sfsd\""
   ]
  },
  {
   "cell_type": "code",
   "execution_count": 22,
   "metadata": {},
   "outputs": [
    {
     "data": {
      "text/plain": [
       "'sdfsdsfsd'"
      ]
     },
     "execution_count": 22,
     "metadata": {},
     "output_type": "execute_result"
    }
   ],
   "source": [
    "s1+s2"
   ]
  },
  {
   "cell_type": "code",
   "execution_count": 23,
   "metadata": {},
   "outputs": [
    {
     "name": "stdout",
     "output_type": "stream",
     "text": [
      "6S,REDME 7\n",
      "30\n"
     ]
    }
   ],
   "source": [
    "# product, class attributes: discount, data object attributes: name, cost price, sales price, category\n",
    "#operations: sales, purchase, delivery\n",
    "class Product:\n",
    "    discount=5\n",
    "    def sales(self):\n",
    "        print(\"selling %s for the cost of: %s, with the discount:%s\"%(self.name,self.sales_price,self.discount))\n",
    "    def purchase(self):\n",
    "        print(\"purchasing %s for the cost of:%s\"%(self.name,self.cost_price))\n",
    "    def delivery(self):\n",
    "        pass\n",
    "    def __init__(self,p_name,p_cost_price,p_sales_price,p_category):\n",
    "        #constructor\n",
    "        self.name=p_name\n",
    "        self.cost_price=p_cost_price\n",
    "        self.sales_price=p_sales_price\n",
    "        self.category=p_category\n",
    "    def __add__(self1,self2):\n",
    "        return self1.name+\",\"+self2.name\n",
    "    def __sub__(self1,self2):\n",
    "        return 30\n",
    "        \n",
    "iphone=Product(\"6S\",45000,90000,\"cell\")\n",
    "redme=Product(\"REDME 7\",5700,8000,\"cell\")\n",
    "print(iphone+redme)\n",
    "print(iphone-redme)"
   ]
  },
  {
   "cell_type": "code",
   "execution_count": 24,
   "metadata": {},
   "outputs": [],
   "source": [
    "a=10"
   ]
  },
  {
   "cell_type": "code",
   "execution_count": 25,
   "metadata": {},
   "outputs": [
    {
     "name": "stdout",
     "output_type": "stream",
     "text": [
      "['__abs__', '__add__', '__and__', '__bool__', '__ceil__', '__class__', '__delattr__', '__dir__', '__divmod__', '__doc__', '__eq__', '__float__', '__floor__', '__floordiv__', '__format__', '__ge__', '__getattribute__', '__getnewargs__', '__gt__', '__hash__', '__index__', '__init__', '__init_subclass__', '__int__', '__invert__', '__le__', '__lshift__', '__lt__', '__mod__', '__mul__', '__ne__', '__neg__', '__new__', '__or__', '__pos__', '__pow__', '__radd__', '__rand__', '__rdivmod__', '__reduce__', '__reduce_ex__', '__repr__', '__rfloordiv__', '__rlshift__', '__rmod__', '__rmul__', '__ror__', '__round__', '__rpow__', '__rrshift__', '__rshift__', '__rsub__', '__rtruediv__', '__rxor__', '__setattr__', '__sizeof__', '__str__', '__sub__', '__subclasshook__', '__truediv__', '__trunc__', '__xor__', 'bit_length', 'conjugate', 'denominator', 'from_bytes', 'imag', 'numerator', 'real', 'to_bytes']\n"
     ]
    }
   ],
   "source": [
    "print(dir(a))"
   ]
  },
  {
   "cell_type": "code",
   "execution_count": 26,
   "metadata": {},
   "outputs": [
    {
     "data": {
      "text/plain": [
       "6"
      ]
     },
     "execution_count": 26,
     "metadata": {},
     "output_type": "execute_result"
    }
   ],
   "source": [
    "s=\"python\"\n",
    "len(s)"
   ]
  },
  {
   "cell_type": "code",
   "execution_count": 27,
   "metadata": {},
   "outputs": [
    {
     "name": "stdout",
     "output_type": "stream",
     "text": [
      "6S,REDME 7\n",
      "30\n"
     ]
    },
    {
     "ename": "TypeError",
     "evalue": "object of type 'Product' has no len()",
     "output_type": "error",
     "traceback": [
      "\u001b[0;31m---------------------------------------------------------------------------\u001b[0m",
      "\u001b[0;31mTypeError\u001b[0m                                 Traceback (most recent call last)",
      "\u001b[0;32m<ipython-input-27-9873acb379a3>\u001b[0m in \u001b[0;36m<module>\u001b[0;34m()\u001b[0m\n\u001b[1;32m     24\u001b[0m \u001b[0mprint\u001b[0m\u001b[0;34m(\u001b[0m\u001b[0miphone\u001b[0m\u001b[0;34m+\u001b[0m\u001b[0mredme\u001b[0m\u001b[0;34m)\u001b[0m\u001b[0;34m\u001b[0m\u001b[0m\n\u001b[1;32m     25\u001b[0m \u001b[0mprint\u001b[0m\u001b[0;34m(\u001b[0m\u001b[0miphone\u001b[0m\u001b[0;34m-\u001b[0m\u001b[0mredme\u001b[0m\u001b[0;34m)\u001b[0m\u001b[0;34m\u001b[0m\u001b[0m\n\u001b[0;32m---> 26\u001b[0;31m \u001b[0mlen\u001b[0m\u001b[0;34m(\u001b[0m\u001b[0miphone\u001b[0m\u001b[0;34m)\u001b[0m\u001b[0;34m\u001b[0m\u001b[0m\n\u001b[0m",
      "\u001b[0;31mTypeError\u001b[0m: object of type 'Product' has no len()"
     ]
    }
   ],
   "source": [
    "# product, class attributes: discount, data object attributes: name, cost price, sales price, category\n",
    "#operations: sales, purchase, delivery\n",
    "class Product:\n",
    "    discount=5\n",
    "    def sales(self):\n",
    "        print(\"selling %s for the cost of: %s, with the discount:%s\"%(self.name,self.sales_price,self.discount))\n",
    "    def purchase(self):\n",
    "        print(\"purchasing %s for the cost of:%s\"%(self.name,self.cost_price))\n",
    "    def delivery(self):\n",
    "        pass\n",
    "    def __init__(self,p_name,p_cost_price,p_sales_price,p_category):\n",
    "        #constructor\n",
    "        self.name=p_name\n",
    "        self.cost_price=p_cost_price\n",
    "        self.sales_price=p_sales_price\n",
    "        self.category=p_category\n",
    "    def __add__(self1,self2):\n",
    "        return self1.name+\",\"+self2.name\n",
    "    def __sub__(self1,self2):\n",
    "        return 30\n",
    "        \n",
    "iphone=Product(\"6S\",45000,90000,\"cell\")\n",
    "redme=Product(\"REDME 7\",5700,8000,\"cell\")\n",
    "print(iphone+redme)\n",
    "print(iphone-redme)\n",
    "len(iphone)"
   ]
  },
  {
   "cell_type": "code",
   "execution_count": 28,
   "metadata": {},
   "outputs": [
    {
     "ename": "TypeError",
     "evalue": "object of type 'int' has no len()",
     "output_type": "error",
     "traceback": [
      "\u001b[0;31m---------------------------------------------------------------------------\u001b[0m",
      "\u001b[0;31mTypeError\u001b[0m                                 Traceback (most recent call last)",
      "\u001b[0;32m<ipython-input-28-a4774ebe235f>\u001b[0m in \u001b[0;36m<module>\u001b[0;34m()\u001b[0m\n\u001b[0;32m----> 1\u001b[0;31m \u001b[0mlen\u001b[0m\u001b[0;34m(\u001b[0m\u001b[0;36m1000\u001b[0m\u001b[0;34m)\u001b[0m\u001b[0;34m\u001b[0m\u001b[0m\n\u001b[0m",
      "\u001b[0;31mTypeError\u001b[0m: object of type 'int' has no len()"
     ]
    }
   ],
   "source": [
    "len(1000)"
   ]
  },
  {
   "cell_type": "code",
   "execution_count": 29,
   "metadata": {},
   "outputs": [
    {
     "name": "stdout",
     "output_type": "stream",
     "text": [
      "6S,REDME 7\n",
      "30\n",
      "10\n"
     ]
    }
   ],
   "source": [
    "# product, class attributes: discount, data object attributes: name, cost price, sales price, category\n",
    "#operations: sales, purchase, delivery\n",
    "class Product:\n",
    "    discount=5\n",
    "    def sales(self):\n",
    "        print(\"selling %s for the cost of: %s, with the discount:%s\"%(self.name,self.sales_price,self.discount))\n",
    "    def purchase(self):\n",
    "        print(\"purchasing %s for the cost of:%s\"%(self.name,self.cost_price))\n",
    "    def delivery(self):\n",
    "        pass\n",
    "    def __init__(self,p_name,p_cost_price,p_sales_price,p_category):\n",
    "        #constructor\n",
    "        self.name=p_name\n",
    "        self.cost_price=p_cost_price\n",
    "        self.sales_price=p_sales_price\n",
    "        self.category=p_category\n",
    "    def __add__(self1,self2):\n",
    "        return self1.name+\",\"+self2.name\n",
    "    def __sub__(self1,self2):\n",
    "        return 30\n",
    "    def __len__(self):\n",
    "        return 10\n",
    "        \n",
    "iphone=Product(\"6S\",45000,90000,\"cell\")\n",
    "redme=Product(\"REDME 7\",5700,8000,\"cell\")\n",
    "print(iphone+redme)\n",
    "print(iphone-redme)\n",
    "print(len(iphone))"
   ]
  },
  {
   "cell_type": "code",
   "execution_count": 30,
   "metadata": {
    "scrolled": false
   },
   "outputs": [
    {
     "data": {
      "text/plain": [
       "{'name': '6S', 'cost_price': 45000, 'sales_price': 90000, 'category': 'cell'}"
      ]
     },
     "execution_count": 30,
     "metadata": {},
     "output_type": "execute_result"
    }
   ],
   "source": [
    "iphone.__dict__"
   ]
  },
  {
   "cell_type": "code",
   "execution_count": 31,
   "metadata": {},
   "outputs": [
    {
     "name": "stdout",
     "output_type": "stream",
     "text": [
      "6S,REDME 7\n",
      "30\n",
      "4\n"
     ]
    }
   ],
   "source": [
    "# product, class attributes: discount, data object attributes: name, cost price, sales price, category\n",
    "#operations: sales, purchase, delivery\n",
    "class Product:\n",
    "    discount=5\n",
    "    def sales(self):\n",
    "        print(\"selling %s for the cost of: %s, with the discount:%s\"%(self.name,self.sales_price,self.discount))\n",
    "    def purchase(self):\n",
    "        print(\"purchasing %s for the cost of:%s\"%(self.name,self.cost_price))\n",
    "    def delivery(self):\n",
    "        pass\n",
    "    def __init__(self,p_name,p_cost_price,p_sales_price,p_category):\n",
    "        #constructor\n",
    "        self.name=p_name\n",
    "        self.cost_price=p_cost_price\n",
    "        self.sales_price=p_sales_price\n",
    "        self.category=p_category\n",
    "    def __add__(self1,self2):\n",
    "        return self1.name+\",\"+self2.name\n",
    "    def __sub__(self1,self2):\n",
    "        return 30\n",
    "    def __len__(self):\n",
    "        return len(self.__dict__)\n",
    "        \n",
    "iphone=Product(\"6S\",45000,90000,\"cell\")\n",
    "redme=Product(\"REDME 7\",5700,8000,\"cell\")\n",
    "print(iphone+redme)\n",
    "print(iphone-redme)\n",
    "print(len(iphone))"
   ]
  },
  {
   "cell_type": "code",
   "execution_count": 32,
   "metadata": {},
   "outputs": [
    {
     "name": "stdout",
     "output_type": "stream",
     "text": [
      "s\n",
      "f\n",
      "s\n",
      "d\n"
     ]
    }
   ],
   "source": [
    "for i in \"sfsd\":\n",
    "    print(i)"
   ]
  },
  {
   "cell_type": "code",
   "execution_count": 33,
   "metadata": {},
   "outputs": [
    {
     "ename": "TypeError",
     "evalue": "'int' object is not iterable",
     "output_type": "error",
     "traceback": [
      "\u001b[0;31m---------------------------------------------------------------------------\u001b[0m",
      "\u001b[0;31mTypeError\u001b[0m                                 Traceback (most recent call last)",
      "\u001b[0;32m<ipython-input-33-d84c485ddbc3>\u001b[0m in \u001b[0;36m<module>\u001b[0;34m()\u001b[0m\n\u001b[0;32m----> 1\u001b[0;31m \u001b[0;32mfor\u001b[0m \u001b[0mi\u001b[0m \u001b[0;32min\u001b[0m \u001b[0;36m1000\u001b[0m\u001b[0;34m:\u001b[0m\u001b[0;34m\u001b[0m\u001b[0m\n\u001b[0m\u001b[1;32m      2\u001b[0m     \u001b[0mprint\u001b[0m\u001b[0;34m(\u001b[0m\u001b[0mi\u001b[0m\u001b[0;34m)\u001b[0m\u001b[0;34m\u001b[0m\u001b[0m\n",
      "\u001b[0;31mTypeError\u001b[0m: 'int' object is not iterable"
     ]
    }
   ],
   "source": [
    "for i in 1000:\n",
    "    print(i)"
   ]
  },
  {
   "cell_type": "code",
   "execution_count": 34,
   "metadata": {},
   "outputs": [
    {
     "name": "stdout",
     "output_type": "stream",
     "text": [
      "6S,REDME 7\n",
      "30\n",
      "4\n"
     ]
    },
    {
     "ename": "TypeError",
     "evalue": "'Product' object is not iterable",
     "output_type": "error",
     "traceback": [
      "\u001b[0;31m---------------------------------------------------------------------------\u001b[0m",
      "\u001b[0;31mTypeError\u001b[0m                                 Traceback (most recent call last)",
      "\u001b[0;32m<ipython-input-34-d5b51bf86909>\u001b[0m in \u001b[0;36m<module>\u001b[0;34m()\u001b[0m\n\u001b[1;32m     27\u001b[0m \u001b[0mprint\u001b[0m\u001b[0;34m(\u001b[0m\u001b[0miphone\u001b[0m\u001b[0;34m-\u001b[0m\u001b[0mredme\u001b[0m\u001b[0;34m)\u001b[0m\u001b[0;34m\u001b[0m\u001b[0m\n\u001b[1;32m     28\u001b[0m \u001b[0mprint\u001b[0m\u001b[0;34m(\u001b[0m\u001b[0mlen\u001b[0m\u001b[0;34m(\u001b[0m\u001b[0miphone\u001b[0m\u001b[0;34m)\u001b[0m\u001b[0;34m)\u001b[0m\u001b[0;34m\u001b[0m\u001b[0m\n\u001b[0;32m---> 29\u001b[0;31m \u001b[0;32mfor\u001b[0m \u001b[0mi\u001b[0m \u001b[0;32min\u001b[0m \u001b[0miphone\u001b[0m\u001b[0;34m:\u001b[0m\u001b[0;34m\u001b[0m\u001b[0m\n\u001b[0m\u001b[1;32m     30\u001b[0m     \u001b[0mprint\u001b[0m\u001b[0;34m(\u001b[0m\u001b[0mi\u001b[0m\u001b[0;34m)\u001b[0m\u001b[0;34m\u001b[0m\u001b[0m\n",
      "\u001b[0;31mTypeError\u001b[0m: 'Product' object is not iterable"
     ]
    }
   ],
   "source": [
    "# product, class attributes: discount, data object attributes: name, cost price, sales price, category\n",
    "#operations: sales, purchase, delivery\n",
    "class Product:\n",
    "    discount=5\n",
    "    def sales(self):\n",
    "        print(\"selling %s for the cost of: %s, with the discount:%s\"%(self.name,self.sales_price,self.discount))\n",
    "    def purchase(self):\n",
    "        print(\"purchasing %s for the cost of:%s\"%(self.name,self.cost_price))\n",
    "    def delivery(self):\n",
    "        pass\n",
    "    def __init__(self,p_name,p_cost_price,p_sales_price,p_category):\n",
    "        #constructor\n",
    "        self.name=p_name\n",
    "        self.cost_price=p_cost_price\n",
    "        self.sales_price=p_sales_price\n",
    "        self.category=p_category\n",
    "    def __add__(self1,self2):\n",
    "        return self1.name+\",\"+self2.name\n",
    "    def __sub__(self1,self2):\n",
    "        return 30\n",
    "    def __len__(self):\n",
    "        return len(self.__dict__)\n",
    "        \n",
    "iphone=Product(\"6S\",45000,90000,\"cell\")\n",
    "redme=Product(\"REDME 7\",5700,8000,\"cell\")\n",
    "print(iphone+redme)\n",
    "print(iphone-redme)\n",
    "print(len(iphone))\n",
    "for i in iphone:\n",
    "    print(i)"
   ]
  },
  {
   "cell_type": "code",
   "execution_count": 35,
   "metadata": {},
   "outputs": [
    {
     "name": "stdout",
     "output_type": "stream",
     "text": [
      "6S,REDME 7\n",
      "30\n",
      "4\n",
      "10\n",
      "29\n",
      "30\n",
      "40\n"
     ]
    }
   ],
   "source": [
    "# product, class attributes: discount, data object attributes: name, cost price, sales price, category\n",
    "#operations: sales, purchase, delivery\n",
    "class Product:\n",
    "    discount=5\n",
    "    def sales(self):\n",
    "        print(\"selling %s for the cost of: %s, with the discount:%s\"%(self.name,self.sales_price,self.discount))\n",
    "    def purchase(self):\n",
    "        print(\"purchasing %s for the cost of:%s\"%(self.name,self.cost_price))\n",
    "    def delivery(self):\n",
    "        pass\n",
    "    def __init__(self,p_name,p_cost_price,p_sales_price,p_category):\n",
    "        #constructor\n",
    "        self.name=p_name\n",
    "        self.cost_price=p_cost_price\n",
    "        self.sales_price=p_sales_price\n",
    "        self.category=p_category\n",
    "    def __add__(self1,self2):\n",
    "        return self1.name+\",\"+self2.name\n",
    "    def __sub__(self1,self2):\n",
    "        return 30\n",
    "    def __len__(self):\n",
    "        return len(self.__dict__)\n",
    "    def __iter__(self):\n",
    "        yield 10\n",
    "        yield 29\n",
    "        yield 30\n",
    "        yield 40\n",
    "iphone=Product(\"6S\",45000,90000,\"cell\")\n",
    "redme=Product(\"REDME 7\",5700,8000,\"cell\")\n",
    "print(iphone+redme)\n",
    "print(iphone-redme)\n",
    "print(len(iphone))\n",
    "for i in iphone:\n",
    "    print(i)"
   ]
  },
  {
   "cell_type": "code",
   "execution_count": 36,
   "metadata": {},
   "outputs": [
    {
     "name": "stdout",
     "output_type": "stream",
     "text": [
      "6S,REDME 7\n",
      "30\n",
      "4\n",
      "name\n",
      "cost_price\n",
      "sales_price\n",
      "category\n"
     ]
    }
   ],
   "source": [
    "# product, class attributes: discount, data object attributes: name, cost price, sales price, category\n",
    "#operations: sales, purchase, delivery\n",
    "class Product:\n",
    "    discount=5\n",
    "    def sales(self):\n",
    "        print(\"selling %s for the cost of: %s, with the discount:%s\"%(self.name,self.sales_price,self.discount))\n",
    "    def purchase(self):\n",
    "        print(\"purchasing %s for the cost of:%s\"%(self.name,self.cost_price))\n",
    "    def delivery(self):\n",
    "        pass\n",
    "    def __init__(self,p_name,p_cost_price,p_sales_price,p_category):\n",
    "        #constructor\n",
    "        self.name=p_name\n",
    "        self.cost_price=p_cost_price\n",
    "        self.sales_price=p_sales_price\n",
    "        self.category=p_category\n",
    "    def __add__(self1,self2):\n",
    "        return self1.name+\",\"+self2.name\n",
    "    def __sub__(self1,self2):\n",
    "        return 30\n",
    "    def __len__(self):\n",
    "        return len(self.__dict__)\n",
    "    def __iter__(self):\n",
    "        for i in self.__dict__:\n",
    "            yield i\n",
    "iphone=Product(\"6S\",45000,90000,\"cell\")\n",
    "redme=Product(\"REDME 7\",5700,8000,\"cell\")\n",
    "print(iphone+redme)\n",
    "print(iphone-redme)\n",
    "print(len(iphone))\n",
    "for i in iphone:\n",
    "    print(i)"
   ]
  },
  {
   "cell_type": "code",
   "execution_count": 37,
   "metadata": {},
   "outputs": [
    {
     "name": "stdout",
     "output_type": "stream",
     "text": [
      "6S,REDME 7\n",
      "30\n",
      "4\n",
      "('name', '6S')\n",
      "('cost_price', 45000)\n",
      "('sales_price', 90000)\n",
      "('category', 'cell')\n"
     ]
    }
   ],
   "source": [
    "# product, class attributes: discount, data object attributes: name, cost price, sales price, category\n",
    "#operations: sales, purchase, delivery\n",
    "class Product:\n",
    "    discount=5\n",
    "    def sales(self):\n",
    "        print(\"selling %s for the cost of: %s, with the discount:%s\"%(self.name,self.sales_price,self.discount))\n",
    "    def purchase(self):\n",
    "        print(\"purchasing %s for the cost of:%s\"%(self.name,self.cost_price))\n",
    "    def delivery(self):\n",
    "        pass\n",
    "    def __init__(self,p_name,p_cost_price,p_sales_price,p_category):\n",
    "        #constructor\n",
    "        self.name=p_name\n",
    "        self.cost_price=p_cost_price\n",
    "        self.sales_price=p_sales_price\n",
    "        self.category=p_category\n",
    "    def __add__(self1,self2):\n",
    "        return self1.name+\",\"+self2.name\n",
    "    def __sub__(self1,self2):\n",
    "        return 30\n",
    "    def __len__(self):\n",
    "        return len(self.__dict__)\n",
    "    def __iter__(self):\n",
    "        for i in self.__dict__.items():\n",
    "            yield i\n",
    "iphone=Product(\"6S\",45000,90000,\"cell\")\n",
    "redme=Product(\"REDME 7\",5700,8000,\"cell\")\n",
    "print(iphone+redme)\n",
    "print(iphone-redme)\n",
    "print(len(iphone))\n",
    "for i in iphone:\n",
    "    print(i)"
   ]
  },
  {
   "cell_type": "code",
   "execution_count": 39,
   "metadata": {},
   "outputs": [
    {
     "data": {
      "text/plain": [
       "9"
      ]
     },
     "execution_count": 39,
     "metadata": {},
     "output_type": "execute_result"
    }
   ],
   "source": [
    "len(\"afdsdasda\")"
   ]
  },
  {
   "cell_type": "code",
   "execution_count": 40,
   "metadata": {},
   "outputs": [
    {
     "data": {
      "text/plain": [
       "['__add__',\n",
       " '__class__',\n",
       " '__delattr__',\n",
       " '__dict__',\n",
       " '__dir__',\n",
       " '__doc__',\n",
       " '__eq__',\n",
       " '__format__',\n",
       " '__ge__',\n",
       " '__getattribute__',\n",
       " '__gt__',\n",
       " '__hash__',\n",
       " '__init__',\n",
       " '__init_subclass__',\n",
       " '__iter__',\n",
       " '__le__',\n",
       " '__len__',\n",
       " '__lt__',\n",
       " '__module__',\n",
       " '__ne__',\n",
       " '__new__',\n",
       " '__reduce__',\n",
       " '__reduce_ex__',\n",
       " '__repr__',\n",
       " '__setattr__',\n",
       " '__sizeof__',\n",
       " '__str__',\n",
       " '__sub__',\n",
       " '__subclasshook__',\n",
       " '__weakref__',\n",
       " 'category',\n",
       " 'cost_price',\n",
       " 'delivery',\n",
       " 'discount',\n",
       " 'name',\n",
       " 'purchase',\n",
       " 'sales',\n",
       " 'sales_price']"
      ]
     },
     "execution_count": 40,
     "metadata": {},
     "output_type": "execute_result"
    }
   ],
   "source": [
    "dir(iphone)"
   ]
  },
  {
   "cell_type": "code",
   "execution_count": 41,
   "metadata": {},
   "outputs": [
    {
     "name": "stdout",
     "output_type": "stream",
     "text": [
      "6S,REDME 7\n",
      "30\n",
      "4\n",
      "('name', '6S')\n",
      "('cost_price', 45000)\n",
      "('sales_price', 90000)\n",
      "('category', 'cell')\n",
      "<__main__.Product object at 0x7f149c3badd8>\n"
     ]
    }
   ],
   "source": [
    "# product, class attributes: discount, data object attributes: name, cost price, sales price, category\n",
    "#operations: sales, purchase, delivery\n",
    "class Product:\n",
    "    discount=5\n",
    "    def sales(self):\n",
    "        print(\"selling %s for the cost of: %s, with the discount:%s\"%(self.name,self.sales_price,self.discount))\n",
    "    def purchase(self):\n",
    "        print(\"purchasing %s for the cost of:%s\"%(self.name,self.cost_price))\n",
    "    def delivery(self):\n",
    "        pass\n",
    "    def __init__(self,p_name,p_cost_price,p_sales_price,p_category):\n",
    "        #constructor\n",
    "        self.name=p_name\n",
    "        self.cost_price=p_cost_price\n",
    "        self.sales_price=p_sales_price\n",
    "        self.category=p_category\n",
    "    def __add__(self1,self2):\n",
    "        return self1.name+\",\"+self2.name\n",
    "    def __sub__(self1,self2):\n",
    "        return 30\n",
    "    def __len__(self):\n",
    "        return len(self.__dict__)\n",
    "    def __iter__(self):\n",
    "        for i in self.__dict__.items():\n",
    "            yield i\n",
    "iphone=Product(\"6S\",45000,90000,\"cell\")\n",
    "redme=Product(\"REDME 7\",5700,8000,\"cell\")\n",
    "print(iphone+redme)\n",
    "print(iphone-redme)\n",
    "print(len(iphone))\n",
    "for i in iphone:\n",
    "    print(i)\n",
    "print(str(iphone))"
   ]
  },
  {
   "cell_type": "code",
   "execution_count": 42,
   "metadata": {},
   "outputs": [
    {
     "name": "stdout",
     "output_type": "stream",
     "text": [
      "6S,REDME 7\n",
      "30\n",
      "4\n",
      "('name', '6S')\n",
      "('cost_price', 45000)\n",
      "('sales_price', 90000)\n",
      "('category', 'cell')\n",
      "<__main__.Product object at 0x7f149c3b6208>\n",
      "NotImplemented\n"
     ]
    }
   ],
   "source": [
    "# product, class attributes: discount, data object attributes: name, cost price, sales price, category\n",
    "#operations: sales, purchase, delivery\n",
    "class Product:\n",
    "    discount=5\n",
    "    def sales(self):\n",
    "        print(\"selling %s for the cost of: %s, with the discount:%s\"%(self.name,self.sales_price,self.discount))\n",
    "    def purchase(self):\n",
    "        print(\"purchasing %s for the cost of:%s\"%(self.name,self.cost_price))\n",
    "    def delivery(self):\n",
    "        pass\n",
    "    def __init__(self,p_name,p_cost_price,p_sales_price,p_category):\n",
    "        #constructor\n",
    "        self.name=p_name\n",
    "        self.cost_price=p_cost_price\n",
    "        self.sales_price=p_sales_price\n",
    "        self.category=p_category\n",
    "    def __add__(self1,self2):\n",
    "        return self1.name+\",\"+self2.name\n",
    "    def __sub__(self1,self2):\n",
    "        return 30\n",
    "    def __len__(self):\n",
    "        return len(self.__dict__)\n",
    "    def __iter__(self):\n",
    "        for i in self.__dict__.items():\n",
    "            yield i\n",
    "iphone=Product(\"6S\",45000,90000,\"cell\")\n",
    "redme=Product(\"REDME 7\",5700,8000,\"cell\")\n",
    "print(iphone+redme)\n",
    "print(iphone-redme)\n",
    "print(len(iphone))\n",
    "for i in iphone:\n",
    "    print(i)\n",
    "print(str(iphone))\n",
    "print(iphone.__lt__(redme))"
   ]
  },
  {
   "cell_type": "code",
   "execution_count": 43,
   "metadata": {},
   "outputs": [
    {
     "data": {
      "text/plain": [
       "['__add__',\n",
       " '__class__',\n",
       " '__delattr__',\n",
       " '__dict__',\n",
       " '__dir__',\n",
       " '__doc__',\n",
       " '__eq__',\n",
       " '__format__',\n",
       " '__ge__',\n",
       " '__getattribute__',\n",
       " '__gt__',\n",
       " '__hash__',\n",
       " '__init__',\n",
       " '__init_subclass__',\n",
       " '__iter__',\n",
       " '__le__',\n",
       " '__len__',\n",
       " '__lt__',\n",
       " '__module__',\n",
       " '__ne__',\n",
       " '__new__',\n",
       " '__reduce__',\n",
       " '__reduce_ex__',\n",
       " '__repr__',\n",
       " '__setattr__',\n",
       " '__sizeof__',\n",
       " '__str__',\n",
       " '__sub__',\n",
       " '__subclasshook__',\n",
       " '__weakref__',\n",
       " 'category',\n",
       " 'cost_price',\n",
       " 'delivery',\n",
       " 'discount',\n",
       " 'name',\n",
       " 'purchase',\n",
       " 'sales',\n",
       " 'sales_price']"
      ]
     },
     "execution_count": 43,
     "metadata": {},
     "output_type": "execute_result"
    }
   ],
   "source": [
    "dir(iphone)"
   ]
  },
  {
   "cell_type": "code",
   "execution_count": 44,
   "metadata": {},
   "outputs": [
    {
     "data": {
      "text/plain": [
       "object"
      ]
     },
     "execution_count": 44,
     "metadata": {},
     "output_type": "execute_result"
    }
   ],
   "source": [
    "object"
   ]
  },
  {
   "cell_type": "code",
   "execution_count": 45,
   "metadata": {},
   "outputs": [
    {
     "name": "stdout",
     "output_type": "stream",
     "text": [
      "this is op1\n",
      "this is op1\n"
     ]
    }
   ],
   "source": [
    "class c1:\n",
    "    def op1(self):\n",
    "        print(\"this is op1\")\n",
    "class c2:\n",
    "    def op2(self):\n",
    "        print(\"this is op1\")\n",
    "o1=c1()\n",
    "o2=c2()\n",
    "o1.op1()\n",
    "o2.op2()"
   ]
  },
  {
   "cell_type": "code",
   "execution_count": 46,
   "metadata": {},
   "outputs": [
    {
     "name": "stdout",
     "output_type": "stream",
     "text": [
      "this is op1\n",
      "this is op1\n"
     ]
    },
    {
     "ename": "AttributeError",
     "evalue": "'c2' object has no attribute 'op1'",
     "output_type": "error",
     "traceback": [
      "\u001b[0;31m---------------------------------------------------------------------------\u001b[0m",
      "\u001b[0;31mAttributeError\u001b[0m                            Traceback (most recent call last)",
      "\u001b[0;32m<ipython-input-46-b755c31c0ba4>\u001b[0m in \u001b[0;36m<module>\u001b[0;34m()\u001b[0m\n\u001b[1;32m      9\u001b[0m \u001b[0mo1\u001b[0m\u001b[0;34m.\u001b[0m\u001b[0mop1\u001b[0m\u001b[0;34m(\u001b[0m\u001b[0;34m)\u001b[0m\u001b[0;34m\u001b[0m\u001b[0m\n\u001b[1;32m     10\u001b[0m \u001b[0mo2\u001b[0m\u001b[0;34m.\u001b[0m\u001b[0mop2\u001b[0m\u001b[0;34m(\u001b[0m\u001b[0;34m)\u001b[0m\u001b[0;34m\u001b[0m\u001b[0m\n\u001b[0;32m---> 11\u001b[0;31m \u001b[0mo2\u001b[0m\u001b[0;34m.\u001b[0m\u001b[0mop1\u001b[0m\u001b[0;34m(\u001b[0m\u001b[0;34m)\u001b[0m\u001b[0;34m\u001b[0m\u001b[0m\n\u001b[0m",
      "\u001b[0;31mAttributeError\u001b[0m: 'c2' object has no attribute 'op1'"
     ]
    }
   ],
   "source": [
    "class c1:\n",
    "    def op1(self):\n",
    "        print(\"this is op1\")\n",
    "class c2:\n",
    "    def op2(self):\n",
    "        print(\"this is op1\")\n",
    "o1=c1()\n",
    "o2=c2()\n",
    "o1.op1()\n",
    "o2.op2()\n",
    "o2.op1()"
   ]
  },
  {
   "cell_type": "code",
   "execution_count": 47,
   "metadata": {},
   "outputs": [
    {
     "name": "stdout",
     "output_type": "stream",
     "text": [
      "this is op1\n",
      "this is op1\n"
     ]
    },
    {
     "ename": "AttributeError",
     "evalue": "'c2' object has no attribute 'op1'",
     "output_type": "error",
     "traceback": [
      "\u001b[0;31m---------------------------------------------------------------------------\u001b[0m",
      "\u001b[0;31mAttributeError\u001b[0m                            Traceback (most recent call last)",
      "\u001b[0;32m<ipython-input-47-b755c31c0ba4>\u001b[0m in \u001b[0;36m<module>\u001b[0;34m()\u001b[0m\n\u001b[1;32m      9\u001b[0m \u001b[0mo1\u001b[0m\u001b[0;34m.\u001b[0m\u001b[0mop1\u001b[0m\u001b[0;34m(\u001b[0m\u001b[0;34m)\u001b[0m\u001b[0;34m\u001b[0m\u001b[0m\n\u001b[1;32m     10\u001b[0m \u001b[0mo2\u001b[0m\u001b[0;34m.\u001b[0m\u001b[0mop2\u001b[0m\u001b[0;34m(\u001b[0m\u001b[0;34m)\u001b[0m\u001b[0;34m\u001b[0m\u001b[0m\n\u001b[0;32m---> 11\u001b[0;31m \u001b[0mo2\u001b[0m\u001b[0;34m.\u001b[0m\u001b[0mop1\u001b[0m\u001b[0;34m(\u001b[0m\u001b[0;34m)\u001b[0m\u001b[0;34m\u001b[0m\u001b[0m\n\u001b[0m",
      "\u001b[0;31mAttributeError\u001b[0m: 'c2' object has no attribute 'op1'"
     ]
    }
   ],
   "source": [
    "class c1:\n",
    "    def op1(self):\n",
    "        print(\"this is op1\")\n",
    "class c2:\n",
    "    def op2(self):\n",
    "        print(\"this is op1\")\n",
    "o1=c1()\n",
    "o2=c2()\n",
    "o1.op1()\n",
    "o2.op2()\n",
    "o2.op1()"
   ]
  },
  {
   "cell_type": "code",
   "execution_count": 48,
   "metadata": {},
   "outputs": [
    {
     "name": "stdout",
     "output_type": "stream",
     "text": [
      "this is op1\n",
      "this is op1\n"
     ]
    },
    {
     "ename": "AttributeError",
     "evalue": "'c2' object has no attribute 'op1'",
     "output_type": "error",
     "traceback": [
      "\u001b[0;31m---------------------------------------------------------------------------\u001b[0m",
      "\u001b[0;31mAttributeError\u001b[0m                            Traceback (most recent call last)",
      "\u001b[0;32m<ipython-input-48-f0668e13f327>\u001b[0m in \u001b[0;36m<module>\u001b[0;34m()\u001b[0m\n\u001b[1;32m     11\u001b[0m \u001b[0mo1\u001b[0m\u001b[0;34m.\u001b[0m\u001b[0mop1\u001b[0m\u001b[0;34m(\u001b[0m\u001b[0;34m)\u001b[0m\u001b[0;34m\u001b[0m\u001b[0m\n\u001b[1;32m     12\u001b[0m \u001b[0mo2\u001b[0m\u001b[0;34m.\u001b[0m\u001b[0mop2\u001b[0m\u001b[0;34m(\u001b[0m\u001b[0;34m)\u001b[0m\u001b[0;34m\u001b[0m\u001b[0m\n\u001b[0;32m---> 13\u001b[0;31m \u001b[0mo2\u001b[0m\u001b[0;34m.\u001b[0m\u001b[0mop1\u001b[0m\u001b[0;34m(\u001b[0m\u001b[0;34m)\u001b[0m\u001b[0;34m\u001b[0m\u001b[0m\n\u001b[0m",
      "\u001b[0;31mAttributeError\u001b[0m: 'c2' object has no attribute 'op1'"
     ]
    }
   ],
   "source": [
    "class c1:\n",
    "    \n",
    "    def op1(self):\n",
    "        print(\"this is op1\")\n",
    "class c2:\n",
    "    \n",
    "    def op2(self):\n",
    "        print(\"this is op1\")\n",
    "o1=c1()\n",
    "o2=c2()\n",
    "o1.op1()\n",
    "o2.op2()\n",
    "o2.op1()"
   ]
  },
  {
   "cell_type": "code",
   "execution_count": 51,
   "metadata": {},
   "outputs": [
    {
     "name": "stdout",
     "output_type": "stream",
     "text": [
      "this is op1\n",
      "this is op1\n"
     ]
    }
   ],
   "source": [
    "class c1:\n",
    "    def op1(self):\n",
    "        print(\"this is op1\")\n",
    "class c2(c1):\n",
    "    \n",
    "    def op2(self):\n",
    "        print(\"this is op1\")\n",
    "o2=c2()\n",
    "o2.op2()\n",
    "o2.op1()"
   ]
  },
  {
   "cell_type": "code",
   "execution_count": 53,
   "metadata": {},
   "outputs": [
    {
     "name": "stdout",
     "output_type": "stream",
     "text": [
      "this is op2\n"
     ]
    }
   ],
   "source": [
    "class c1:\n",
    "    def op1(self):\n",
    "        print(\"this is op1\")\n",
    "class c2:\n",
    "    def op2(self):\n",
    "        print(\"this is op2\")\n",
    "    def operations(self):\n",
    "        self.op2()\n",
    "o2=c2()\n",
    "o2.operations()"
   ]
  },
  {
   "cell_type": "code",
   "execution_count": 54,
   "metadata": {},
   "outputs": [
    {
     "name": "stdout",
     "output_type": "stream",
     "text": [
      "this is op2\n"
     ]
    },
    {
     "ename": "AttributeError",
     "evalue": "'c2' object has no attribute 'op1'",
     "output_type": "error",
     "traceback": [
      "\u001b[0;31m---------------------------------------------------------------------------\u001b[0m",
      "\u001b[0;31mAttributeError\u001b[0m                            Traceback (most recent call last)",
      "\u001b[0;32m<ipython-input-54-785f72a646c2>\u001b[0m in \u001b[0;36m<module>\u001b[0;34m()\u001b[0m\n\u001b[1;32m      9\u001b[0m         \u001b[0mself\u001b[0m\u001b[0;34m.\u001b[0m\u001b[0mop1\u001b[0m\u001b[0;34m(\u001b[0m\u001b[0;34m)\u001b[0m\u001b[0;34m\u001b[0m\u001b[0m\n\u001b[1;32m     10\u001b[0m \u001b[0mo2\u001b[0m\u001b[0;34m=\u001b[0m\u001b[0mc2\u001b[0m\u001b[0;34m(\u001b[0m\u001b[0;34m)\u001b[0m\u001b[0;34m\u001b[0m\u001b[0m\n\u001b[0;32m---> 11\u001b[0;31m \u001b[0mo2\u001b[0m\u001b[0;34m.\u001b[0m\u001b[0moperations\u001b[0m\u001b[0;34m(\u001b[0m\u001b[0;34m)\u001b[0m\u001b[0;34m\u001b[0m\u001b[0m\n\u001b[0m",
      "\u001b[0;32m<ipython-input-54-785f72a646c2>\u001b[0m in \u001b[0;36moperations\u001b[0;34m(self)\u001b[0m\n\u001b[1;32m      7\u001b[0m     \u001b[0;32mdef\u001b[0m \u001b[0moperations\u001b[0m\u001b[0;34m(\u001b[0m\u001b[0mself\u001b[0m\u001b[0;34m)\u001b[0m\u001b[0;34m:\u001b[0m\u001b[0;34m\u001b[0m\u001b[0m\n\u001b[1;32m      8\u001b[0m         \u001b[0mself\u001b[0m\u001b[0;34m.\u001b[0m\u001b[0mop2\u001b[0m\u001b[0;34m(\u001b[0m\u001b[0;34m)\u001b[0m\u001b[0;34m\u001b[0m\u001b[0m\n\u001b[0;32m----> 9\u001b[0;31m         \u001b[0mself\u001b[0m\u001b[0;34m.\u001b[0m\u001b[0mop1\u001b[0m\u001b[0;34m(\u001b[0m\u001b[0;34m)\u001b[0m\u001b[0;34m\u001b[0m\u001b[0m\n\u001b[0m\u001b[1;32m     10\u001b[0m \u001b[0mo2\u001b[0m\u001b[0;34m=\u001b[0m\u001b[0mc2\u001b[0m\u001b[0;34m(\u001b[0m\u001b[0;34m)\u001b[0m\u001b[0;34m\u001b[0m\u001b[0m\n\u001b[1;32m     11\u001b[0m \u001b[0mo2\u001b[0m\u001b[0;34m.\u001b[0m\u001b[0moperations\u001b[0m\u001b[0;34m(\u001b[0m\u001b[0;34m)\u001b[0m\u001b[0;34m\u001b[0m\u001b[0m\n",
      "\u001b[0;31mAttributeError\u001b[0m: 'c2' object has no attribute 'op1'"
     ]
    }
   ],
   "source": [
    "class c1:\n",
    "    def op1(self):\n",
    "        print(\"this is op1\")\n",
    "class c2:\n",
    "    def op2(self):\n",
    "        print(\"this is op2\")\n",
    "    def operations(self):\n",
    "        self.op2()\n",
    "        self.op1()\n",
    "o2=c2()\n",
    "o2.operations()"
   ]
  },
  {
   "cell_type": "code",
   "execution_count": 55,
   "metadata": {},
   "outputs": [
    {
     "name": "stdout",
     "output_type": "stream",
     "text": [
      "this is op2\n",
      "this is op1\n"
     ]
    }
   ],
   "source": [
    "class c1:\n",
    "    def op1(self):\n",
    "        print(\"this is op1\")\n",
    "class c2(c1):\n",
    "    def op2(self):\n",
    "        print(\"this is op2\")\n",
    "    def operations(self):\n",
    "        self.op2()\n",
    "        self.op1()\n",
    "o2=c2()\n",
    "o2.operations()"
   ]
  },
  {
   "cell_type": "code",
   "execution_count": 56,
   "metadata": {},
   "outputs": [
    {
     "name": "stdout",
     "output_type": "stream",
     "text": [
      "this is op2 in c2\n",
      "this is op1 in c2\n"
     ]
    }
   ],
   "source": [
    "class c1:\n",
    "    def op1(self):\n",
    "        print(\"this is op1 in c1\")\n",
    "class c2(c1):\n",
    "    def op2(self):\n",
    "        print(\"this is op2 in c2\")\n",
    "    def op1(self):\n",
    "        print(\"this is op1 in c2\")\n",
    "    def operations(self):\n",
    "        self.op2()\n",
    "        self.op1()\n",
    "o2=c2()\n",
    "o2.operations()"
   ]
  },
  {
   "cell_type": "code",
   "execution_count": 59,
   "metadata": {},
   "outputs": [
    {
     "name": "stdout",
     "output_type": "stream",
     "text": [
      "this is op2 in c2\n",
      "this is op1 in c2\n",
      "this is op3 in c1\n"
     ]
    }
   ],
   "source": [
    "class c1:\n",
    "    def op1(self):\n",
    "        print(\"this is op1 in c1\")\n",
    "    def op3(self):\n",
    "        print(\"this is op3 in c1\")\n",
    "class c3:\n",
    "    def op3(self):\n",
    "        print(\"this is op3 in c3\")\n",
    "        \n",
    "class c2(c1,c3):\n",
    "    def op2(self):\n",
    "        print(\"this is op2 in c2\")\n",
    "    def op1(self):\n",
    "        print(\"this is op1 in c2\")\n",
    "    def operations(self):\n",
    "        self.op2()\n",
    "        self.op1()\n",
    "        self.op3()\n",
    "o2=c2()\n",
    "o2.operations()"
   ]
  },
  {
   "cell_type": "code",
   "execution_count": 60,
   "metadata": {},
   "outputs": [
    {
     "name": "stdout",
     "output_type": "stream",
     "text": [
      "this is op2 in c2\n",
      "this is op1 in c2\n",
      "this is op3 in c1\n"
     ]
    }
   ],
   "source": [
    "class c1:\n",
    "    def op1(self):\n",
    "        print(\"this is op1 in c1\")\n",
    "    def op3(self):\n",
    "        print(\"this is op3 in c1\")\n",
    "class c3:\n",
    "    def op3(self):\n",
    "        print(\"this is op3 in c3\")\n",
    "        \n",
    "class c2(c1,c3):\n",
    "    def op2(self):\n",
    "        print(\"this is op2 in c2\")\n",
    "    def op1(self):\n",
    "        print(\"this is op1 in c2\")\n",
    "    def operations(self):\n",
    "        self.op2()\n",
    "        self.op1()\n",
    "        self.op3()\n",
    "o2=c2()\n",
    "o2.operations()"
   ]
  },
  {
   "cell_type": "code",
   "execution_count": 61,
   "metadata": {},
   "outputs": [
    {
     "ename": "TypeError",
     "evalue": "__init__() missing 1 required positional argument: 'a'",
     "output_type": "error",
     "traceback": [
      "\u001b[0;31m---------------------------------------------------------------------------\u001b[0m",
      "\u001b[0;31mTypeError\u001b[0m                                 Traceback (most recent call last)",
      "\u001b[0;32m<ipython-input-61-0efe87cb730a>\u001b[0m in \u001b[0;36m<module>\u001b[0;34m()\u001b[0m\n\u001b[1;32m      4\u001b[0m \u001b[0;32mclass\u001b[0m \u001b[0mc2\u001b[0m\u001b[0;34m(\u001b[0m\u001b[0mc1\u001b[0m\u001b[0;34m)\u001b[0m\u001b[0;34m:\u001b[0m\u001b[0;34m\u001b[0m\u001b[0m\n\u001b[1;32m      5\u001b[0m     \u001b[0;32mpass\u001b[0m\u001b[0;34m\u001b[0m\u001b[0m\n\u001b[0;32m----> 6\u001b[0;31m \u001b[0mo2\u001b[0m\u001b[0;34m=\u001b[0m\u001b[0mc2\u001b[0m\u001b[0;34m(\u001b[0m\u001b[0;34m)\u001b[0m\u001b[0;34m\u001b[0m\u001b[0m\n\u001b[0m",
      "\u001b[0;31mTypeError\u001b[0m: __init__() missing 1 required positional argument: 'a'"
     ]
    }
   ],
   "source": [
    "class c1:\n",
    "    def __init__(self,a):\n",
    "        self.a=a\n",
    "class c2(c1):\n",
    "    pass\n",
    "o2=c2()"
   ]
  },
  {
   "cell_type": "code",
   "execution_count": 62,
   "metadata": {},
   "outputs": [],
   "source": [
    "class c1:\n",
    "    def __init__(self,a):\n",
    "        self.a=a\n",
    "class c2(c1):\n",
    "    pass\n",
    "o2=c2(20)"
   ]
  },
  {
   "cell_type": "code",
   "execution_count": 63,
   "metadata": {},
   "outputs": [
    {
     "name": "stdout",
     "output_type": "stream",
     "text": [
      "20\n"
     ]
    }
   ],
   "source": [
    "class c1:\n",
    "    def __init__(self,a):\n",
    "        self.a=a\n",
    "class c2(c1):\n",
    "    def __init__(self,b):\n",
    "        self.b=b\n",
    "    def get(self):\n",
    "        return self.b\n",
    "o2=c2(20)\n",
    "print(o2.get())"
   ]
  },
  {
   "cell_type": "code",
   "execution_count": 64,
   "metadata": {},
   "outputs": [
    {
     "ename": "AttributeError",
     "evalue": "'c2' object has no attribute 'a'",
     "output_type": "error",
     "traceback": [
      "\u001b[0;31m---------------------------------------------------------------------------\u001b[0m",
      "\u001b[0;31mAttributeError\u001b[0m                            Traceback (most recent call last)",
      "\u001b[0;32m<ipython-input-64-32489363db93>\u001b[0m in \u001b[0;36m<module>\u001b[0;34m()\u001b[0m\n\u001b[1;32m      8\u001b[0m         \u001b[0;32mreturn\u001b[0m \u001b[0mself\u001b[0m\u001b[0;34m.\u001b[0m\u001b[0mb\u001b[0m\u001b[0;34m,\u001b[0m\u001b[0mself\u001b[0m\u001b[0;34m.\u001b[0m\u001b[0ma\u001b[0m\u001b[0;34m\u001b[0m\u001b[0m\n\u001b[1;32m      9\u001b[0m \u001b[0mo2\u001b[0m\u001b[0;34m=\u001b[0m\u001b[0mc2\u001b[0m\u001b[0;34m(\u001b[0m\u001b[0;36m20\u001b[0m\u001b[0;34m)\u001b[0m\u001b[0;34m\u001b[0m\u001b[0m\n\u001b[0;32m---> 10\u001b[0;31m \u001b[0mprint\u001b[0m\u001b[0;34m(\u001b[0m\u001b[0mo2\u001b[0m\u001b[0;34m.\u001b[0m\u001b[0mget\u001b[0m\u001b[0;34m(\u001b[0m\u001b[0;34m)\u001b[0m\u001b[0;34m)\u001b[0m\u001b[0;34m\u001b[0m\u001b[0m\n\u001b[0m",
      "\u001b[0;32m<ipython-input-64-32489363db93>\u001b[0m in \u001b[0;36mget\u001b[0;34m(self)\u001b[0m\n\u001b[1;32m      6\u001b[0m         \u001b[0mself\u001b[0m\u001b[0;34m.\u001b[0m\u001b[0mb\u001b[0m\u001b[0;34m=\u001b[0m\u001b[0mb\u001b[0m\u001b[0;34m\u001b[0m\u001b[0m\n\u001b[1;32m      7\u001b[0m     \u001b[0;32mdef\u001b[0m \u001b[0mget\u001b[0m\u001b[0;34m(\u001b[0m\u001b[0mself\u001b[0m\u001b[0;34m)\u001b[0m\u001b[0;34m:\u001b[0m\u001b[0;34m\u001b[0m\u001b[0m\n\u001b[0;32m----> 8\u001b[0;31m         \u001b[0;32mreturn\u001b[0m \u001b[0mself\u001b[0m\u001b[0;34m.\u001b[0m\u001b[0mb\u001b[0m\u001b[0;34m,\u001b[0m\u001b[0mself\u001b[0m\u001b[0;34m.\u001b[0m\u001b[0ma\u001b[0m\u001b[0;34m\u001b[0m\u001b[0m\n\u001b[0m\u001b[1;32m      9\u001b[0m \u001b[0mo2\u001b[0m\u001b[0;34m=\u001b[0m\u001b[0mc2\u001b[0m\u001b[0;34m(\u001b[0m\u001b[0;36m20\u001b[0m\u001b[0;34m)\u001b[0m\u001b[0;34m\u001b[0m\u001b[0m\n\u001b[1;32m     10\u001b[0m \u001b[0mprint\u001b[0m\u001b[0;34m(\u001b[0m\u001b[0mo2\u001b[0m\u001b[0;34m.\u001b[0m\u001b[0mget\u001b[0m\u001b[0;34m(\u001b[0m\u001b[0;34m)\u001b[0m\u001b[0;34m)\u001b[0m\u001b[0;34m\u001b[0m\u001b[0m\n",
      "\u001b[0;31mAttributeError\u001b[0m: 'c2' object has no attribute 'a'"
     ]
    }
   ],
   "source": [
    "class c1:\n",
    "    def __init__(self,a):\n",
    "        self.a=a\n",
    "class c2(c1):\n",
    "    def __init__(self,b):\n",
    "        self.b=b\n",
    "    def get(self):\n",
    "        return self.b,self.a\n",
    "o2=c2(20)\n",
    "print(o2.get())"
   ]
  },
  {
   "cell_type": "code",
   "execution_count": 66,
   "metadata": {},
   "outputs": [
    {
     "name": "stdout",
     "output_type": "stream",
     "text": [
      "30\n"
     ]
    }
   ],
   "source": [
    "class c1:\n",
    "    def __init__(self,a):\n",
    "        self.a=a\n",
    "class c2(c1):\n",
    "    def __init__(self,b):\n",
    "        self.b=b\n",
    "        \n",
    "    def get(self):\n",
    "        return self.b\n",
    "o2=c2(20)\n",
    "o2.__init__(30)\n",
    "print(o2.get())"
   ]
  },
  {
   "cell_type": "code",
   "execution_count": 68,
   "metadata": {},
   "outputs": [
    {
     "name": "stdout",
     "output_type": "stream",
     "text": [
      "(20, 30)\n"
     ]
    }
   ],
   "source": [
    "class c1:\n",
    "    def __init__(self,a):\n",
    "        self.a=a\n",
    "class c2(c1):\n",
    "    def __init__(self,b,a):\n",
    "        self.b=b\n",
    "        self.a=a\n",
    "    def get(self):\n",
    "        return self.b,self.a\n",
    "o2=c2(20,30)\n",
    "print(o2.get())"
   ]
  },
  {
   "cell_type": "code",
   "execution_count": 69,
   "metadata": {},
   "outputs": [
    {
     "ename": "TypeError",
     "evalue": "__init__() missing 1 required positional argument: 'a'",
     "output_type": "error",
     "traceback": [
      "\u001b[0;31m---------------------------------------------------------------------------\u001b[0m",
      "\u001b[0;31mTypeError\u001b[0m                                 Traceback (most recent call last)",
      "\u001b[0;32m<ipython-input-69-ecbb2e990edb>\u001b[0m in \u001b[0;36m<module>\u001b[0;34m()\u001b[0m\n\u001b[1;32m      9\u001b[0m     \u001b[0;32mdef\u001b[0m \u001b[0mget\u001b[0m\u001b[0;34m(\u001b[0m\u001b[0mself\u001b[0m\u001b[0;34m)\u001b[0m\u001b[0;34m:\u001b[0m\u001b[0;34m\u001b[0m\u001b[0m\n\u001b[1;32m     10\u001b[0m         \u001b[0;32mreturn\u001b[0m \u001b[0mself\u001b[0m\u001b[0;34m.\u001b[0m\u001b[0mb\u001b[0m\u001b[0;34m,\u001b[0m\u001b[0mself\u001b[0m\u001b[0;34m.\u001b[0m\u001b[0ma\u001b[0m\u001b[0;34m\u001b[0m\u001b[0m\n\u001b[0;32m---> 11\u001b[0;31m \u001b[0mo2\u001b[0m\u001b[0;34m=\u001b[0m\u001b[0mc2\u001b[0m\u001b[0;34m(\u001b[0m\u001b[0;36m20\u001b[0m\u001b[0;34m,\u001b[0m\u001b[0;36m30\u001b[0m\u001b[0;34m)\u001b[0m\u001b[0;34m\u001b[0m\u001b[0m\n\u001b[0m\u001b[1;32m     12\u001b[0m \u001b[0mprint\u001b[0m\u001b[0;34m(\u001b[0m\u001b[0mo2\u001b[0m\u001b[0;34m.\u001b[0m\u001b[0mget\u001b[0m\u001b[0;34m(\u001b[0m\u001b[0;34m)\u001b[0m\u001b[0;34m)\u001b[0m\u001b[0;34m\u001b[0m\u001b[0m\n",
      "\u001b[0;32m<ipython-input-69-ecbb2e990edb>\u001b[0m in \u001b[0;36m__init__\u001b[0;34m(self, b, a)\u001b[0m\n\u001b[1;32m      5\u001b[0m     \u001b[0;32mdef\u001b[0m \u001b[0m__init__\u001b[0m\u001b[0;34m(\u001b[0m\u001b[0mself\u001b[0m\u001b[0;34m,\u001b[0m\u001b[0mb\u001b[0m\u001b[0;34m,\u001b[0m\u001b[0ma\u001b[0m\u001b[0;34m)\u001b[0m\u001b[0;34m:\u001b[0m\u001b[0;34m\u001b[0m\u001b[0m\n\u001b[1;32m      6\u001b[0m         \u001b[0mself\u001b[0m\u001b[0;34m.\u001b[0m\u001b[0mb\u001b[0m\u001b[0;34m=\u001b[0m\u001b[0mb\u001b[0m\u001b[0;34m\u001b[0m\u001b[0m\n\u001b[0;32m----> 7\u001b[0;31m         \u001b[0mself\u001b[0m\u001b[0;34m.\u001b[0m\u001b[0m__init__\u001b[0m\u001b[0;34m(\u001b[0m\u001b[0ma\u001b[0m\u001b[0;34m)\u001b[0m\u001b[0;34m\u001b[0m\u001b[0m\n\u001b[0m\u001b[1;32m      8\u001b[0m         \u001b[0;31m#self.a=a\u001b[0m\u001b[0;34m\u001b[0m\u001b[0;34m\u001b[0m\u001b[0m\n\u001b[1;32m      9\u001b[0m     \u001b[0;32mdef\u001b[0m \u001b[0mget\u001b[0m\u001b[0;34m(\u001b[0m\u001b[0mself\u001b[0m\u001b[0;34m)\u001b[0m\u001b[0;34m:\u001b[0m\u001b[0;34m\u001b[0m\u001b[0m\n",
      "\u001b[0;31mTypeError\u001b[0m: __init__() missing 1 required positional argument: 'a'"
     ]
    }
   ],
   "source": [
    "class c1:\n",
    "    def __init__(self,a):\n",
    "        self.a=a\n",
    "class c2(c1):\n",
    "    def __init__(self,b,a):\n",
    "        self.b=b\n",
    "        self.__init__(a)\n",
    "        #self.a=a\n",
    "    def get(self):\n",
    "        return self.b,self.a\n",
    "o2=c2(20,30)\n",
    "print(o2.get())"
   ]
  },
  {
   "cell_type": "code",
   "execution_count": 70,
   "metadata": {},
   "outputs": [
    {
     "name": "stdout",
     "output_type": "stream",
     "text": [
      "(20, 30)\n"
     ]
    }
   ],
   "source": [
    "class c1:\n",
    "    def __init__(self,a):\n",
    "        self.a=a\n",
    "class c2(c1):\n",
    "    def __init__(self,b,a):\n",
    "        self.b=b\n",
    "        c1.__init__(self, a)\n",
    "        #self.a=a\n",
    "    def get(self):\n",
    "        return self.b,self.a\n",
    "o2=c2(20,30)\n",
    "print(o2.get())"
   ]
  },
  {
   "cell_type": "code",
   "execution_count": null,
   "metadata": {},
   "outputs": [],
   "source": []
  }
 ],
 "metadata": {
  "kernelspec": {
   "display_name": "Python 3",
   "language": "python",
   "name": "python3"
  },
  "language_info": {
   "codemirror_mode": {
    "name": "ipython",
    "version": 3
   },
   "file_extension": ".py",
   "mimetype": "text/x-python",
   "name": "python",
   "nbconvert_exporter": "python",
   "pygments_lexer": "ipython3",
   "version": "3.7.0"
  }
 },
 "nbformat": 4,
 "nbformat_minor": 2
}
