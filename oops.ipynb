{
 "cells": [
  {
   "cell_type": "code",
   "execution_count": 1,
   "metadata": {},
   "outputs": [
    {
     "name": "stdout",
     "output_type": "stream",
     "text": [
      "this is class\n"
     ]
    }
   ],
   "source": [
    "def fun():\n",
    "    print(\"fun\")\n",
    "class cls:\n",
    "    print(\"this is class\")"
   ]
  },
  {
   "cell_type": "code",
   "execution_count": 2,
   "metadata": {},
   "outputs": [
    {
     "name": "stdout",
     "output_type": "stream",
     "text": [
      "this is class\n",
      "1000 2000\n"
     ]
    }
   ],
   "source": [
    "def fun():\n",
    "    print(\"fun\")\n",
    "class cls:\n",
    "    print(\"this is class\")\n",
    "    a=1000\n",
    "    b=2000\n",
    "    print(a,b)"
   ]
  },
  {
   "cell_type": "code",
   "execution_count": 3,
   "metadata": {},
   "outputs": [
    {
     "name": "stdout",
     "output_type": "stream",
     "text": [
      "this is class\n",
      "1000 2000\n"
     ]
    }
   ],
   "source": [
    "def fun():\n",
    "    print(\"fun\")\n",
    "class cls:\n",
    "    print(\"this is class\")\n",
    "    a=1000\n",
    "    b=2000\n",
    "    print(a,b)\n",
    "    def fun1(x):\n",
    "        print(\"this is fun1 inside class\")"
   ]
  },
  {
   "cell_type": "code",
   "execution_count": 4,
   "metadata": {},
   "outputs": [],
   "source": [
    "def fun():\n",
    "    print(\"fun\")\n",
    "class cls:\n",
    "    a=1000\n",
    "    b=2000\n",
    "    def fun1(x):\n",
    "        print(\"this is fun1 inside class\")\n",
    "    "
   ]
  },
  {
   "cell_type": "code",
   "execution_count": 5,
   "metadata": {},
   "outputs": [
    {
     "ename": "NameError",
     "evalue": "name 'a' is not defined",
     "output_type": "error",
     "traceback": [
      "\u001b[0;31m---------------------------------------------------------------------------\u001b[0m",
      "\u001b[0;31mNameError\u001b[0m                                 Traceback (most recent call last)",
      "\u001b[0;32m<ipython-input-5-663059f4f0d8>\u001b[0m in \u001b[0;36m<module>\u001b[0;34m()\u001b[0m\n\u001b[1;32m      6\u001b[0m     \u001b[0;32mdef\u001b[0m \u001b[0mfun1\u001b[0m\u001b[0;34m(\u001b[0m\u001b[0mx\u001b[0m\u001b[0;34m)\u001b[0m\u001b[0;34m:\u001b[0m\u001b[0;34m\u001b[0m\u001b[0m\n\u001b[1;32m      7\u001b[0m         \u001b[0mprint\u001b[0m\u001b[0;34m(\u001b[0m\u001b[0;34m\"this is fun1 inside class\"\u001b[0m\u001b[0;34m)\u001b[0m\u001b[0;34m\u001b[0m\u001b[0m\n\u001b[0;32m----> 8\u001b[0;31m \u001b[0mprint\u001b[0m\u001b[0;34m(\u001b[0m\u001b[0ma\u001b[0m\u001b[0;34m,\u001b[0m\u001b[0mb\u001b[0m\u001b[0;34m)\u001b[0m\u001b[0;34m\u001b[0m\u001b[0m\n\u001b[0m",
      "\u001b[0;31mNameError\u001b[0m: name 'a' is not defined"
     ]
    }
   ],
   "source": [
    "def fun():\n",
    "    print(\"fun\")\n",
    "class cls:\n",
    "    a=1000\n",
    "    b=2000\n",
    "    def fun1(x):\n",
    "        print(\"this is fun1 inside class\")\n",
    "print(a,b)"
   ]
  },
  {
   "cell_type": "code",
   "execution_count": 6,
   "metadata": {},
   "outputs": [
    {
     "name": "stdout",
     "output_type": "stream",
     "text": [
      "1000 2000\n"
     ]
    }
   ],
   "source": [
    "def fun():\n",
    "    print(\"fun\")\n",
    "class cls:\n",
    "    a=1000\n",
    "    b=2000\n",
    "    def fun1(x):\n",
    "        print(\"this is fun1 inside class\")\n",
    "print(cls.a,cls.b)"
   ]
  },
  {
   "cell_type": "code",
   "execution_count": 8,
   "metadata": {},
   "outputs": [
    {
     "name": "stdout",
     "output_type": "stream",
     "text": [
      "1000 2000\n",
      "x= 200\n",
      "this is fun1 inside class\n",
      "None\n"
     ]
    }
   ],
   "source": [
    "def fun():\n",
    "    print(\"fun\")\n",
    "class cls:\n",
    "    a=1000\n",
    "    b=2000\n",
    "    def fun1(x):\n",
    "        print(\"x=\",x)\n",
    "        print(\"this is fun1 inside class\")\n",
    "print(cls.a,cls.b)\n",
    "print(cls.fun1(200))"
   ]
  },
  {
   "cell_type": "code",
   "execution_count": 9,
   "metadata": {},
   "outputs": [
    {
     "name": "stdout",
     "output_type": "stream",
     "text": [
      "1000 2000\n",
      "x= <__main__.cls object at 0x7fe304330e10>\n",
      "this is fun1 inside class\n",
      "None\n"
     ]
    }
   ],
   "source": [
    "def fun():\n",
    "    print(\"fun\")\n",
    "class cls:\n",
    "    a=1000\n",
    "    b=2000\n",
    "    def fun1(x):\n",
    "        print(\"x=\",x)\n",
    "        print(\"this is fun1 inside class\")\n",
    "cls_inst = cls()\n",
    "print(cls.a,cls.b)\n",
    "print(cls.fun1(cls_inst))"
   ]
  },
  {
   "cell_type": "code",
   "execution_count": 1,
   "metadata": {},
   "outputs": [
    {
     "name": "stdout",
     "output_type": "stream",
     "text": [
      "Jay\n"
     ]
    }
   ],
   "source": [
    "class Emp:\n",
    "    name=\"Jay\"\n",
    "    age=23\n",
    "    sal=23456\n",
    "    company_name=\"Khyaathi\"\n",
    "    compnay_address=\"MAithrivanam\"\n",
    "    def sal_cal(x):\n",
    "        print(\"this is sal calculation\")\n",
    "print(Emp.name)"
   ]
  },
  {
   "cell_type": "code",
   "execution_count": 2,
   "metadata": {},
   "outputs": [
    {
     "name": "stdout",
     "output_type": "stream",
     "text": [
      "Jay\n",
      "<__main__.Emp object at 0x7fc05c2da128>\n",
      "this is sal calculation\n"
     ]
    }
   ],
   "source": [
    "class Emp:\n",
    "    name=\"Jay\"\n",
    "    age=23\n",
    "    sal=23456\n",
    "    company_name=\"Khyaathi\"\n",
    "    compnay_address=\"MAithrivanam\"\n",
    "    def sal_cal(x):\n",
    "        print(x)\n",
    "        print(\"this is sal calculation\")\n",
    "print(Emp.name)\n",
    "jay=Emp()\n",
    "Emp.sal_cal(jay)"
   ]
  },
  {
   "cell_type": "code",
   "execution_count": 3,
   "metadata": {},
   "outputs": [
    {
     "name": "stdout",
     "output_type": "stream",
     "text": [
      "Jay\n",
      "<__main__.Emp object at 0x7fc05c2da438>\n",
      "this is sal calculation\n",
      "Jay\n",
      "Khyaathi\n"
     ]
    }
   ],
   "source": [
    "class Emp:\n",
    "    name=\"Jay\"\n",
    "    age=23\n",
    "    sal=23456\n",
    "    company_name=\"Khyaathi\"\n",
    "    compnay_address=\"MAithrivanam\"\n",
    "    def sal_cal(x):\n",
    "        print(x)\n",
    "        print(\"this is sal calculation\")\n",
    "print(Emp.name)\n",
    "jay=Emp()\n",
    "Emp.sal_cal(jay)\n",
    "print(jay.name)\n",
    "print(jay.company_name)"
   ]
  },
  {
   "cell_type": "code",
   "execution_count": 4,
   "metadata": {},
   "outputs": [
    {
     "name": "stdout",
     "output_type": "stream",
     "text": [
      "Jay\n",
      "<__main__.Emp object at 0x7fc05c374e48>\n",
      "this is sal calculation\n",
      "Jay\n",
      "Khyaathi\n",
      "<__main__.Emp object at 0x7fc05c374e48>\n",
      "this is sal calculation\n"
     ]
    }
   ],
   "source": [
    "class Emp:\n",
    "    name=\"Jay\"\n",
    "    age=23\n",
    "    sal=23456\n",
    "    company_name=\"Khyaathi\"\n",
    "    compnay_address=\"MAithrivanam\"\n",
    "    def sal_cal(x):\n",
    "        print(x)\n",
    "        print(\"this is sal calculation\")\n",
    "print(Emp.name)\n",
    "jay=Emp()\n",
    "Emp.sal_cal(jay)\n",
    "print(jay.name)\n",
    "print(jay.company_name)\n",
    "jay.sal_cal()"
   ]
  },
  {
   "cell_type": "code",
   "execution_count": 5,
   "metadata": {},
   "outputs": [
    {
     "ename": "TypeError",
     "evalue": "fun() missing 1 required positional argument: 'x'",
     "output_type": "error",
     "traceback": [
      "\u001b[0;31m---------------------------------------------------------------------------\u001b[0m",
      "\u001b[0;31mTypeError\u001b[0m                                 Traceback (most recent call last)",
      "\u001b[0;32m<ipython-input-5-16952a0473e5>\u001b[0m in \u001b[0;36m<module>\u001b[0;34m()\u001b[0m\n\u001b[1;32m      1\u001b[0m \u001b[0;32mdef\u001b[0m \u001b[0mfun\u001b[0m\u001b[0;34m(\u001b[0m\u001b[0mx\u001b[0m\u001b[0;34m)\u001b[0m\u001b[0;34m:\u001b[0m\u001b[0;34m\u001b[0m\u001b[0m\n\u001b[1;32m      2\u001b[0m     \u001b[0mprint\u001b[0m\u001b[0;34m(\u001b[0m\u001b[0mx\u001b[0m\u001b[0;34m)\u001b[0m\u001b[0;34m\u001b[0m\u001b[0m\n\u001b[0;32m----> 3\u001b[0;31m \u001b[0mfun\u001b[0m\u001b[0;34m(\u001b[0m\u001b[0;34m)\u001b[0m\u001b[0;34m\u001b[0m\u001b[0m\n\u001b[0m",
      "\u001b[0;31mTypeError\u001b[0m: fun() missing 1 required positional argument: 'x'"
     ]
    }
   ],
   "source": [
    "def fun(x):\n",
    "    print(x)\n",
    "fun()"
   ]
  },
  {
   "cell_type": "code",
   "execution_count": 6,
   "metadata": {},
   "outputs": [
    {
     "name": "stdout",
     "output_type": "stream",
     "text": [
      "Jay\n",
      "x= <__main__.Emp object at 0x7fc05f467dd8>\n",
      "this is sal calculation\n",
      "Jay\n",
      "Khyaathi\n",
      "x= <__main__.Emp object at 0x7fc05f467dd8>\n",
      "this is sal calculation\n"
     ]
    }
   ],
   "source": [
    "class Emp:\n",
    "    name=\"Jay\"\n",
    "    age=23\n",
    "    sal=23456\n",
    "    company_name=\"Khyaathi\"\n",
    "    compnay_address=\"MAithrivanam\"\n",
    "    def sal_cal(x):\n",
    "        print(\"x=\",x)\n",
    "        print(\"this is sal calculation\")\n",
    "print(Emp.name)\n",
    "jay=Emp()\n",
    "Emp.sal_cal(jay)\n",
    "print(jay.name)\n",
    "print(jay.company_name)\n",
    "jay.sal_cal()"
   ]
  },
  {
   "cell_type": "code",
   "execution_count": 7,
   "metadata": {},
   "outputs": [
    {
     "name": "stdout",
     "output_type": "stream",
     "text": [
      "Jay\n",
      "x= <__main__.Emp object at 0x7fc05c2da080>\n",
      "this is sal calculation\n",
      "Jay\n",
      "Khyaathi\n"
     ]
    },
    {
     "ename": "TypeError",
     "evalue": "sal_cal() takes 1 positional argument but 2 were given",
     "output_type": "error",
     "traceback": [
      "\u001b[0;31m---------------------------------------------------------------------------\u001b[0m",
      "\u001b[0;31mTypeError\u001b[0m                                 Traceback (most recent call last)",
      "\u001b[0;32m<ipython-input-7-20a9fc55d0c7>\u001b[0m in \u001b[0;36m<module>\u001b[0;34m()\u001b[0m\n\u001b[1;32m     13\u001b[0m \u001b[0mprint\u001b[0m\u001b[0;34m(\u001b[0m\u001b[0mjay\u001b[0m\u001b[0;34m.\u001b[0m\u001b[0mname\u001b[0m\u001b[0;34m)\u001b[0m\u001b[0;34m\u001b[0m\u001b[0m\n\u001b[1;32m     14\u001b[0m \u001b[0mprint\u001b[0m\u001b[0;34m(\u001b[0m\u001b[0mjay\u001b[0m\u001b[0;34m.\u001b[0m\u001b[0mcompany_name\u001b[0m\u001b[0;34m)\u001b[0m\u001b[0;34m\u001b[0m\u001b[0m\n\u001b[0;32m---> 15\u001b[0;31m \u001b[0mjay\u001b[0m\u001b[0;34m.\u001b[0m\u001b[0msal_cal\u001b[0m\u001b[0;34m(\u001b[0m\u001b[0;36m10\u001b[0m\u001b[0;34m)\u001b[0m\u001b[0;34m\u001b[0m\u001b[0m\n\u001b[0m",
      "\u001b[0;31mTypeError\u001b[0m: sal_cal() takes 1 positional argument but 2 were given"
     ]
    }
   ],
   "source": [
    "class Emp:\n",
    "    name=\"Jay\"\n",
    "    age=23\n",
    "    sal=23456\n",
    "    company_name=\"Khyaathi\"\n",
    "    compnay_address=\"MAithrivanam\"\n",
    "    def sal_cal(x):\n",
    "        print(\"x=\",x)\n",
    "        print(\"this is sal calculation\")\n",
    "print(Emp.name)\n",
    "jay=Emp()\n",
    "Emp.sal_cal(jay)\n",
    "print(jay.name)\n",
    "print(jay.company_name)\n",
    "jay.sal_cal(10)"
   ]
  },
  {
   "cell_type": "code",
   "execution_count": 10,
   "metadata": {},
   "outputs": [
    {
     "name": "stdout",
     "output_type": "stream",
     "text": [
      "Jay\n",
      "x= <__main__.Emp object at 0x7fc05c25a358>\n",
      "y= 10\n",
      "this is sal calculation\n",
      "Jay\n",
      "Khyaathi\n",
      "x= <__main__.Emp object at 0x7fc05c25a358>\n",
      "y= 10\n",
      "this is sal calculation\n"
     ]
    }
   ],
   "source": [
    "class Emp:\n",
    "    name=\"Jay\"\n",
    "    age=23\n",
    "    sal=23456\n",
    "    company_name=\"Khyaathi\"\n",
    "    compnay_address=\"MAithrivanam\"\n",
    "    def sal_cal(x,y):\n",
    "        print(\"x=\",x)\n",
    "        print(\"y=\",y)\n",
    "        print(\"this is sal calculation\")\n",
    "print(Emp.name)\n",
    "jay=Emp()\n",
    "Emp.sal_cal(jay,10)\n",
    "print(jay.name)\n",
    "print(jay.company_name)\n",
    "jay.sal_cal(10)"
   ]
  },
  {
   "cell_type": "code",
   "execution_count": 13,
   "metadata": {},
   "outputs": [
    {
     "ename": "AttributeError",
     "evalue": "'Emp' object has no attribute 'name'",
     "output_type": "error",
     "traceback": [
      "\u001b[0;31m---------------------------------------------------------------------------\u001b[0m",
      "\u001b[0;31mAttributeError\u001b[0m                            Traceback (most recent call last)",
      "\u001b[0;32m<ipython-input-13-7e616f5f4758>\u001b[0m in \u001b[0;36m<module>\u001b[0;34m()\u001b[0m\n\u001b[1;32m     16\u001b[0m \u001b[0mvedha\u001b[0m\u001b[0;34m.\u001b[0m\u001b[0msal\u001b[0m\u001b[0;34m=\u001b[0m\u001b[0;36m234567\u001b[0m\u001b[0;34m\u001b[0m\u001b[0m\n\u001b[1;32m     17\u001b[0m \u001b[0mvedha\u001b[0m\u001b[0;34m.\u001b[0m\u001b[0mage\u001b[0m\u001b[0;34m=\u001b[0m\u001b[0;36m11\u001b[0m\u001b[0;34m\u001b[0m\u001b[0m\n\u001b[0;32m---> 18\u001b[0;31m \u001b[0mprint\u001b[0m\u001b[0;34m(\u001b[0m\u001b[0mvedha\u001b[0m\u001b[0;34m.\u001b[0m\u001b[0mname\u001b[0m\u001b[0;34m)\u001b[0m\u001b[0;34m\u001b[0m\u001b[0m\n\u001b[0m",
      "\u001b[0;31mAttributeError\u001b[0m: 'Emp' object has no attribute 'name'"
     ]
    }
   ],
   "source": [
    "class Emp:\n",
    "    company_name=\"Khyaathi\"\n",
    "    compnay_address=\"MAithrivanam\"\n",
    "    def sal_cal(x,y):\n",
    "        print(\"x=\",x)\n",
    "        print(\"y=\",y)\n",
    "        print(\"this is sal calculation\")\n",
    "jay=Emp()\n",
    "jay.name=\"JAYARAM\"\n",
    "jay.age=2.3\n",
    "jay.sal=1234567\n",
    "sai=Emp()\n",
    "sai.name=\"SAI LAXMI\"\n",
    "sai.age=29\n",
    "vedha=Emp()\n",
    "vedha.sal=234567\n",
    "vedha.age=11\n",
    "print(vedha.name)"
   ]
  },
  {
   "cell_type": "code",
   "execution_count": 14,
   "metadata": {},
   "outputs": [
    {
     "name": "stdout",
     "output_type": "stream",
     "text": [
      "JAYARAM\n"
     ]
    },
    {
     "ename": "AttributeError",
     "evalue": "'Emp' object has no attribute 'name'",
     "output_type": "error",
     "traceback": [
      "\u001b[0;31m---------------------------------------------------------------------------\u001b[0m",
      "\u001b[0;31mAttributeError\u001b[0m                            Traceback (most recent call last)",
      "\u001b[0;32m<ipython-input-14-5a770d48ca68>\u001b[0m in \u001b[0;36m<module>\u001b[0;34m()\u001b[0m\n\u001b[1;32m     17\u001b[0m \u001b[0mvedha\u001b[0m\u001b[0;34m.\u001b[0m\u001b[0mage\u001b[0m\u001b[0;34m=\u001b[0m\u001b[0;36m11\u001b[0m\u001b[0;34m\u001b[0m\u001b[0m\n\u001b[1;32m     18\u001b[0m \u001b[0mprint\u001b[0m\u001b[0;34m(\u001b[0m\u001b[0mjay\u001b[0m\u001b[0;34m.\u001b[0m\u001b[0mname\u001b[0m\u001b[0;34m)\u001b[0m\u001b[0;34m\u001b[0m\u001b[0m\n\u001b[0;32m---> 19\u001b[0;31m \u001b[0mprint\u001b[0m\u001b[0;34m(\u001b[0m\u001b[0mvedha\u001b[0m\u001b[0;34m.\u001b[0m\u001b[0mname\u001b[0m\u001b[0;34m)\u001b[0m\u001b[0;34m\u001b[0m\u001b[0m\n\u001b[0m",
      "\u001b[0;31mAttributeError\u001b[0m: 'Emp' object has no attribute 'name'"
     ]
    }
   ],
   "source": [
    "class Emp:\n",
    "    company_name=\"Khyaathi\"\n",
    "    compnay_address=\"MAithrivanam\"\n",
    "    def sal_cal(x,y):\n",
    "        print(\"x=\",x)\n",
    "        print(\"y=\",y)\n",
    "        print(\"this is sal calculation\")\n",
    "jay=Emp()\n",
    "jay.name=\"JAYARAM\"\n",
    "jay.age=2.3\n",
    "jay.sal=1234567\n",
    "sai=Emp()\n",
    "sai.name=\"SAI LAXMI\"\n",
    "sai.age=29\n",
    "vedha=Emp()\n",
    "vedha.sal=234567\n",
    "vedha.age=11\n",
    "print(jay.name)\n",
    "print(vedha.name)"
   ]
  },
  {
   "cell_type": "code",
   "execution_count": 16,
   "metadata": {},
   "outputs": [
    {
     "name": "stdout",
     "output_type": "stream",
     "text": [
      "JAYARAM\n",
      "VEDHANVESH\n"
     ]
    }
   ],
   "source": [
    "class Emp:\n",
    "    company_name=\"Khyaathi\"\n",
    "    compnay_address=\"MAithrivanam\"\n",
    "    def sal_cal(x,y):\n",
    "        print(\"x=\",x)\n",
    "        print(\"y=\",y)\n",
    "        print(\"this is sal calculation\")\n",
    "jay=Emp()\n",
    "jay.name=\"JAYARAM\"\n",
    "jay.age=2.3\n",
    "jay.sal=1234567\n",
    "sai=Emp()\n",
    "sai.name=\"SAI LAXMI\"\n",
    "sai.age=29\n",
    "sai.sal=123456\n",
    "vedha=Emp()\n",
    "vedha.sal=234567\n",
    "vedha.age=11\n",
    "vedha.name=\"VEDHANVESH\"\n",
    "print(jay.name)\n",
    "print(vedha.name)"
   ]
  },
  {
   "cell_type": "code",
   "execution_count": 17,
   "metadata": {},
   "outputs": [
    {
     "name": "stdout",
     "output_type": "stream",
     "text": [
      "('SAI LAXMI', 123456, 29)\n",
      "('JAYARAM', 1234567, 2.3)\n",
      "('VEDHANVESH', 234567, 11)\n"
     ]
    }
   ],
   "source": [
    "class Emp:\n",
    "    company_name=\"Khyaathi\"\n",
    "    compnay_address=\"MAithrivanam\"\n",
    "    def get(x):\n",
    "        return x.name,x.sal,x.age\n",
    "jay=Emp()\n",
    "jay.name=\"JAYARAM\"\n",
    "jay.age=2.3\n",
    "jay.sal=1234567\n",
    "sai=Emp()\n",
    "sai.name=\"SAI LAXMI\"\n",
    "sai.age=29\n",
    "sai.sal=123456\n",
    "vedha=Emp()\n",
    "vedha.sal=234567\n",
    "vedha.age=11\n",
    "vedha.name=\"VEDHANVESH\"\n",
    "print(sai.get())\n",
    "print(jay.get())\n",
    "print(vedha.get())"
   ]
  },
  {
   "cell_type": "code",
   "execution_count": 19,
   "metadata": {},
   "outputs": [
    {
     "name": "stdout",
     "output_type": "stream",
     "text": [
      "('SAI LAXMI', 123456, 29, 'Khyaathi', 'MAithrivanam')\n",
      "('SAI LAXMI', 123456, 29, 'Khyaathi', 'MAithrivanam')\n",
      "('JAYARAM', 1234567, 2.3, 'Khyaathi', 'MAithrivanam')\n",
      "('JAYARAM', 1234567, 2.3, 'Khyaathi', 'MAithrivanam')\n",
      "('VEDHANVESH', 234567, 11, 'Khyaathi', 'MAithrivanam')\n",
      "('VEDHANVESH', 234567, 11, 'Khyaathi', 'MAithrivanam')\n"
     ]
    }
   ],
   "source": [
    "class Emp:\n",
    "    company_name=\"Khyaathi\"\n",
    "    compnay_address=\"MAithrivanam\"\n",
    "    def get(x):\n",
    "        return x.name,x.sal,x.age,x.company_name,x.compnay_address\n",
    "jay=Emp()\n",
    "jay.name=\"JAYARAM\"\n",
    "jay.age=2.3\n",
    "jay.sal=1234567\n",
    "sai=Emp()\n",
    "sai.name=\"SAI LAXMI\"\n",
    "sai.age=29\n",
    "sai.sal=123456\n",
    "vedha=Emp()\n",
    "vedha.sal=234567\n",
    "vedha.age=11\n",
    "vedha.name=\"VEDHANVESH\"\n",
    "print(sai.get())\n",
    "print(Emp.get(sai))\n",
    "print(jay.get())\n",
    "print(Emp.get(jay))\n",
    "print(vedha.get())\n",
    "print(Emp.get(vedha))"
   ]
  },
  {
   "cell_type": "code",
   "execution_count": 20,
   "metadata": {},
   "outputs": [
    {
     "name": "stdout",
     "output_type": "stream",
     "text": [
      "('SAI LAXMI', 123456, 29, 'Khyaathi', 'MAithrivanam')\n",
      "('JAYARAM', 1234567, 2.3, 'Khyaathi', 'MAithrivanam')\n",
      "('VEDHANVESH', 2345678, 11, 'Khyaathi', 'MAithrivanam')\n"
     ]
    }
   ],
   "source": [
    "class Emp:\n",
    "    company_name=\"Khyaathi\"\n",
    "    compnay_address=\"MAithrivanam\"\n",
    "    def get(x):\n",
    "        return x.name,x.sal,x.age,x.company_name,x.compnay_address\n",
    "    def set_data(x,e_name,e_age,e_sal):\n",
    "        x.name=e_name\n",
    "        x.sal=e_sal\n",
    "        x.age=e_age\n",
    "        \n",
    "jay=Emp()\n",
    "jay.set_data(\"JAYARAM\", 2.3,1234567)\n",
    "#jay.name=\"JAYARAM\"\n",
    "#jay.age=2.3\n",
    "#jay.sal=1234567\n",
    "sai=Emp()\n",
    "sai.set_data(\"SAI LAXMI\",29,123456)\n",
    "#sai.name=\"SAI LAXMI\"\n",
    "#sai.age=29\n",
    "#sai.sal=123456\n",
    "vedha=Emp()\n",
    "vedha.set_data(\"VEDHANVESH\",11,2345678)\n",
    "#vedha.sal=234567\n",
    "#vedha.age=11\n",
    "#vedha.name=\"VEDHANVESH\"\n",
    "print(sai.get())\n",
    "print(jay.get())\n",
    "print(vedha.get())\n"
   ]
  },
  {
   "cell_type": "code",
   "execution_count": 21,
   "metadata": {},
   "outputs": [
    {
     "name": "stdout",
     "output_type": "stream",
     "text": [
      "('SAI LAXMI', 123456, 29, 'Khyaathi', 'MAithrivanam')\n",
      "('JAYARAM', 1234567, 2.3, 'Khyaathi', 'MAithrivanam')\n",
      "('VEDHANVESH', 2345678, 11, 'Khyaathi', 'MAithrivanam')\n"
     ]
    }
   ],
   "source": [
    "class Emp:\n",
    "    company_name=\"Khyaathi\"\n",
    "    compnay_address=\"MAithrivanam\"\n",
    "    def get(x):\n",
    "        return x.name,x.sal,x.age,x.company_name,x.compnay_address\n",
    "    def set_data(x,e_name,e_age,e_sal):\n",
    "        x.name=e_name\n",
    "        x.sal=e_sal\n",
    "        x.age=e_age\n",
    "jay=Emp()\n",
    "jay.set_data(\"JAYARAM\", 2.3,1234567)\n",
    "sai=Emp()\n",
    "sai.set_data(\"SAI LAXMI\",29,123456)\n",
    "vedha=Emp()\n",
    "vedha.set_data(\"VEDHANVESH\",11,2345678)\n",
    "print(sai.get())\n",
    "print(jay.get())\n",
    "print(vedha.get())\n"
   ]
  },
  {
   "cell_type": "code",
   "execution_count": 22,
   "metadata": {},
   "outputs": [
    {
     "name": "stdout",
     "output_type": "stream",
     "text": [
      "('SAI LAXMI', 123456, 29, 'Khyaathi', 'MAithrivanam')\n",
      "('JAYARAM', 1234567, 2.3, 'Khyaathi', 'MAithrivanam')\n",
      "('VEDHANVESH', 2345678, 11, 'Khyaathi', 'MAithrivanam')\n"
     ]
    }
   ],
   "source": [
    "class Emp:\n",
    "    company_name=\"Khyaathi\"\n",
    "    compnay_address=\"MAithrivanam\"\n",
    "    def get(self):\n",
    "        return self.name,self.sal,self.age,self.company_name,self.compnay_address\n",
    "    def set_data(self,e_name,e_age,e_sal):\n",
    "        self.name=e_name\n",
    "        self.sal=e_sal\n",
    "        self.age=e_age\n",
    "jay=Emp()\n",
    "jay.set_data(\"JAYARAM\", 2.3,1234567)\n",
    "sai=Emp()\n",
    "sai.set_data(\"SAI LAXMI\",29,123456)\n",
    "vedha=Emp()\n",
    "vedha.set_data(\"VEDHANVESH\",11,2345678)\n",
    "print(sai.get())\n",
    "print(jay.get())\n",
    "print(vedha.get())\n"
   ]
  },
  {
   "cell_type": "code",
   "execution_count": 25,
   "metadata": {},
   "outputs": [
    {
     "name": "stdout",
     "output_type": "stream",
     "text": [
      "purchasing 6S for the cost of:45000\n",
      "selling 6S for the cost of: 90000, with the discount:5\n"
     ]
    }
   ],
   "source": [
    "# product, class attributes: discount, data object attributes: name, cost price, sales price, category\n",
    "#operations: sales, purchase, delivery\n",
    "class Product:\n",
    "    discount=5\n",
    "    def sales(self):\n",
    "        print(\"selling %s for the cost of: %s, with the discount:%s\"%(self.name,self.sales_price,self.discount))\n",
    "    def purchase(self):\n",
    "        print(\"purchasing %s for the cost of:%s\"%(self.name,self.cost_price))\n",
    "    def delivery(self):\n",
    "        pass\n",
    "    def set_data(self,p_name,p_cost_price,p_sales_price,p_category):\n",
    "        self.name=p_name\n",
    "        self.cost_price=p_cost_price\n",
    "        self.sales_price=p_sales_price\n",
    "        self.category=p_category\n",
    "        \n",
    "iphone=Product()\n",
    "iphone.set_data(\"6S\",45000,90000,\"cell\")\n",
    "iphone.purchase()\n",
    "iphone.sales()"
   ]
  },
  {
   "cell_type": "code",
   "execution_count": 26,
   "metadata": {},
   "outputs": [
    {
     "name": "stdout",
     "output_type": "stream",
     "text": [
      "purchasing 6S for the cost of:45000\n",
      "selling 6S for the cost of: 90000, with the discount:5\n"
     ]
    },
    {
     "ename": "AttributeError",
     "evalue": "'Product' object has no attribute 'name'",
     "output_type": "error",
     "traceback": [
      "\u001b[0;31m---------------------------------------------------------------------------\u001b[0m",
      "\u001b[0;31mAttributeError\u001b[0m                            Traceback (most recent call last)",
      "\u001b[0;32m<ipython-input-26-86d3f8ea0e81>\u001b[0m in \u001b[0;36m<module>\u001b[0;34m()\u001b[0m\n\u001b[1;32m     20\u001b[0m \u001b[0miphone\u001b[0m\u001b[0;34m.\u001b[0m\u001b[0msales\u001b[0m\u001b[0;34m(\u001b[0m\u001b[0;34m)\u001b[0m\u001b[0;34m\u001b[0m\u001b[0m\n\u001b[1;32m     21\u001b[0m \u001b[0mredme\u001b[0m\u001b[0;34m=\u001b[0m\u001b[0mProduct\u001b[0m\u001b[0;34m(\u001b[0m\u001b[0;34m)\u001b[0m\u001b[0;34m\u001b[0m\u001b[0m\n\u001b[0;32m---> 22\u001b[0;31m \u001b[0mredme\u001b[0m\u001b[0;34m.\u001b[0m\u001b[0msales\u001b[0m\u001b[0;34m(\u001b[0m\u001b[0;34m)\u001b[0m\u001b[0;34m\u001b[0m\u001b[0m\n\u001b[0m",
      "\u001b[0;32m<ipython-input-26-86d3f8ea0e81>\u001b[0m in \u001b[0;36msales\u001b[0;34m(self)\u001b[0m\n\u001b[1;32m      4\u001b[0m     \u001b[0mdiscount\u001b[0m\u001b[0;34m=\u001b[0m\u001b[0;36m5\u001b[0m\u001b[0;34m\u001b[0m\u001b[0m\n\u001b[1;32m      5\u001b[0m     \u001b[0;32mdef\u001b[0m \u001b[0msales\u001b[0m\u001b[0;34m(\u001b[0m\u001b[0mself\u001b[0m\u001b[0;34m)\u001b[0m\u001b[0;34m:\u001b[0m\u001b[0;34m\u001b[0m\u001b[0m\n\u001b[0;32m----> 6\u001b[0;31m         \u001b[0mprint\u001b[0m\u001b[0;34m(\u001b[0m\u001b[0;34m\"selling %s for the cost of: %s, with the discount:%s\"\u001b[0m\u001b[0;34m%\u001b[0m\u001b[0;34m(\u001b[0m\u001b[0mself\u001b[0m\u001b[0;34m.\u001b[0m\u001b[0mname\u001b[0m\u001b[0;34m,\u001b[0m\u001b[0mself\u001b[0m\u001b[0;34m.\u001b[0m\u001b[0msales_price\u001b[0m\u001b[0;34m,\u001b[0m\u001b[0mself\u001b[0m\u001b[0;34m.\u001b[0m\u001b[0mdiscount\u001b[0m\u001b[0;34m)\u001b[0m\u001b[0;34m)\u001b[0m\u001b[0;34m\u001b[0m\u001b[0m\n\u001b[0m\u001b[1;32m      7\u001b[0m     \u001b[0;32mdef\u001b[0m \u001b[0mpurchase\u001b[0m\u001b[0;34m(\u001b[0m\u001b[0mself\u001b[0m\u001b[0;34m)\u001b[0m\u001b[0;34m:\u001b[0m\u001b[0;34m\u001b[0m\u001b[0m\n\u001b[1;32m      8\u001b[0m         \u001b[0mprint\u001b[0m\u001b[0;34m(\u001b[0m\u001b[0;34m\"purchasing %s for the cost of:%s\"\u001b[0m\u001b[0;34m%\u001b[0m\u001b[0;34m(\u001b[0m\u001b[0mself\u001b[0m\u001b[0;34m.\u001b[0m\u001b[0mname\u001b[0m\u001b[0;34m,\u001b[0m\u001b[0mself\u001b[0m\u001b[0;34m.\u001b[0m\u001b[0mcost_price\u001b[0m\u001b[0;34m)\u001b[0m\u001b[0;34m)\u001b[0m\u001b[0;34m\u001b[0m\u001b[0m\n",
      "\u001b[0;31mAttributeError\u001b[0m: 'Product' object has no attribute 'name'"
     ]
    }
   ],
   "source": [
    "# product, class attributes: discount, data object attributes: name, cost price, sales price, category\n",
    "#operations: sales, purchase, delivery\n",
    "class Product:\n",
    "    discount=5\n",
    "    def sales(self):\n",
    "        print(\"selling %s for the cost of: %s, with the discount:%s\"%(self.name,self.sales_price,self.discount))\n",
    "    def purchase(self):\n",
    "        print(\"purchasing %s for the cost of:%s\"%(self.name,self.cost_price))\n",
    "    def delivery(self):\n",
    "        pass\n",
    "    def set_data(self,p_name,p_cost_price,p_sales_price,p_category):\n",
    "        self.name=p_name\n",
    "        self.cost_price=p_cost_price\n",
    "        self.sales_price=p_sales_price\n",
    "        self.category=p_category\n",
    "        \n",
    "iphone=Product()\n",
    "iphone.set_data(\"6S\",45000,90000,\"cell\")\n",
    "iphone.purchase()\n",
    "iphone.sales()\n",
    "redme=Product()\n",
    "redme.sales()"
   ]
  },
  {
   "cell_type": "code",
   "execution_count": 27,
   "metadata": {},
   "outputs": [
    {
     "name": "stdout",
     "output_type": "stream",
     "text": [
      "this is class\n"
     ]
    }
   ],
   "source": [
    "class Emp:\n",
    "    print(\"this is class\")\n",
    "    def get(self):\n",
    "        print(\"this is get method\")\n"
   ]
  },
  {
   "cell_type": "code",
   "execution_count": 28,
   "metadata": {},
   "outputs": [
    {
     "name": "stdout",
     "output_type": "stream",
     "text": [
      "this is class\n"
     ]
    }
   ],
   "source": [
    "class Emp:\n",
    "    print(\"this is class\")\n",
    "    def get(self):\n",
    "        print(\"this is get method\")\n",
    "    def __init__(self):\n",
    "        print(\"this is init\")\n"
   ]
  },
  {
   "cell_type": "code",
   "execution_count": 29,
   "metadata": {},
   "outputs": [
    {
     "name": "stdout",
     "output_type": "stream",
     "text": [
      "this is class\n",
      "this is init\n"
     ]
    }
   ],
   "source": [
    "class Emp:\n",
    "    print(\"this is class\")\n",
    "    def get(self):\n",
    "        print(\"this is get method\")\n",
    "    def __init__(self):\n",
    "        print(\"this is init\")\n",
    "sai=Emp()"
   ]
  },
  {
   "cell_type": "code",
   "execution_count": 30,
   "metadata": {},
   "outputs": [
    {
     "name": "stdout",
     "output_type": "stream",
     "text": [
      "this is class\n",
      "this is init\n",
      "this is init\n",
      "this is init\n"
     ]
    }
   ],
   "source": [
    "class Emp:\n",
    "    print(\"this is class\")\n",
    "    def get(self):\n",
    "        print(\"this is get method\")\n",
    "    def __init__(self):\n",
    "        print(\"this is init\")\n",
    "sai=Emp()\n",
    "jay=Emp()\n",
    "vedha=Emp()"
   ]
  },
  {
   "cell_type": "code",
   "execution_count": 31,
   "metadata": {},
   "outputs": [
    {
     "name": "stdout",
     "output_type": "stream",
     "text": [
      "this is class\n",
      "10\n",
      "this is init\n",
      "20\n",
      "this is init\n",
      "30\n",
      "this is init\n"
     ]
    }
   ],
   "source": [
    "class Emp:\n",
    "    print(\"this is class\")\n",
    "    def get(self):\n",
    "        print(\"this is get method\")\n",
    "    def __init__(self,x):\n",
    "        print(x)\n",
    "        print(\"this is init\")\n",
    "sai=Emp(10)\n",
    "jay=Emp(20)\n",
    "vedha=Emp(30)"
   ]
  },
  {
   "cell_type": "code",
   "execution_count": 32,
   "metadata": {},
   "outputs": [],
   "source": [
    "class Emp:\n",
    "    def get(self):\n",
    "        print(\"this is get method\")\n",
    "    def __init__(self,name,age,sal):\n",
    "        self.name=name\n",
    "        self.age=age\n",
    "        self.sal=sal\n",
    "        \n",
    "sai=Emp(\"SAILAXMI\",29,23456)\n",
    "jay=Emp(\"JAYARAM\",23,345678)\n",
    "vedha=Emp(\"VEDHANVESH\",25,345678)"
   ]
  },
  {
   "cell_type": "code",
   "execution_count": 33,
   "metadata": {},
   "outputs": [
    {
     "name": "stdout",
     "output_type": "stream",
     "text": [
      "purchasing 6S for the cost of:45000\n",
      "selling 6S for the cost of: 90000, with the discount:5\n"
     ]
    },
    {
     "ename": "TypeError",
     "evalue": "__init__() missing 4 required positional arguments: 'p_name', 'p_cost_price', 'p_sales_price', and 'p_category'",
     "output_type": "error",
     "traceback": [
      "\u001b[0;31m---------------------------------------------------------------------------\u001b[0m",
      "\u001b[0;31mTypeError\u001b[0m                                 Traceback (most recent call last)",
      "\u001b[0;32m<ipython-input-33-786e6f6b3de9>\u001b[0m in \u001b[0;36m<module>\u001b[0;34m()\u001b[0m\n\u001b[1;32m     18\u001b[0m \u001b[0miphone\u001b[0m\u001b[0;34m.\u001b[0m\u001b[0mpurchase\u001b[0m\u001b[0;34m(\u001b[0m\u001b[0;34m)\u001b[0m\u001b[0;34m\u001b[0m\u001b[0m\n\u001b[1;32m     19\u001b[0m \u001b[0miphone\u001b[0m\u001b[0;34m.\u001b[0m\u001b[0msales\u001b[0m\u001b[0;34m(\u001b[0m\u001b[0;34m)\u001b[0m\u001b[0;34m\u001b[0m\u001b[0m\n\u001b[0;32m---> 20\u001b[0;31m \u001b[0mredme\u001b[0m\u001b[0;34m=\u001b[0m\u001b[0mProduct\u001b[0m\u001b[0;34m(\u001b[0m\u001b[0;34m)\u001b[0m\u001b[0;34m\u001b[0m\u001b[0m\n\u001b[0m\u001b[1;32m     21\u001b[0m \u001b[0mredme\u001b[0m\u001b[0;34m.\u001b[0m\u001b[0msales\u001b[0m\u001b[0;34m(\u001b[0m\u001b[0;34m)\u001b[0m\u001b[0;34m\u001b[0m\u001b[0m\n",
      "\u001b[0;31mTypeError\u001b[0m: __init__() missing 4 required positional arguments: 'p_name', 'p_cost_price', 'p_sales_price', and 'p_category'"
     ]
    }
   ],
   "source": [
    "# product, class attributes: discount, data object attributes: name, cost price, sales price, category\n",
    "#operations: sales, purchase, delivery\n",
    "class Product:\n",
    "    discount=5\n",
    "    def sales(self):\n",
    "        print(\"selling %s for the cost of: %s, with the discount:%s\"%(self.name,self.sales_price,self.discount))\n",
    "    def purchase(self):\n",
    "        print(\"purchasing %s for the cost of:%s\"%(self.name,self.cost_price))\n",
    "    def delivery(self):\n",
    "        pass\n",
    "    def __init__(self,p_name,p_cost_price,p_sales_price,p_category):\n",
    "        self.name=p_name\n",
    "        self.cost_price=p_cost_price\n",
    "        self.sales_price=p_sales_price\n",
    "        self.category=p_category\n",
    "        \n",
    "iphone=Product(\"6S\",45000,90000,\"cell\")\n",
    "iphone.purchase()\n",
    "iphone.sales()\n",
    "redme=Product()\n",
    "redme.sales()"
   ]
  },
  {
   "cell_type": "code",
   "execution_count": 34,
   "metadata": {},
   "outputs": [
    {
     "name": "stdout",
     "output_type": "stream",
     "text": [
      "purchasing 6S for the cost of:45000\n",
      "selling 6S for the cost of: 90000, with the discount:5\n",
      "selling REDME 7 for the cost of: 8000, with the discount:5\n"
     ]
    }
   ],
   "source": [
    "# product, class attributes: discount, data object attributes: name, cost price, sales price, category\n",
    "#operations: sales, purchase, delivery\n",
    "class Product:\n",
    "    discount=5\n",
    "    def sales(self):\n",
    "        print(\"selling %s for the cost of: %s, with the discount:%s\"%(self.name,self.sales_price,self.discount))\n",
    "    def purchase(self):\n",
    "        print(\"purchasing %s for the cost of:%s\"%(self.name,self.cost_price))\n",
    "    def delivery(self):\n",
    "        pass\n",
    "    def __init__(self,p_name,p_cost_price,p_sales_price,p_category):\n",
    "        #constructor\n",
    "        self.name=p_name\n",
    "        self.cost_price=p_cost_price\n",
    "        self.sales_price=p_sales_price\n",
    "        self.category=p_category\n",
    "        \n",
    "iphone=Product(\"6S\",45000,90000,\"cell\")\n",
    "iphone.purchase()\n",
    "iphone.sales()\n",
    "redme=Product(\"REDME 7\",5700,8000,\"cell\")\n",
    "redme.sales()"
   ]
  },
  {
   "cell_type": "code",
   "execution_count": null,
   "metadata": {},
   "outputs": [],
   "source": []
  }
 ],
 "metadata": {
  "kernelspec": {
   "display_name": "Python 3",
   "language": "python",
   "name": "python3"
  },
  "language_info": {
   "codemirror_mode": {
    "name": "ipython",
    "version": 3
   },
   "file_extension": ".py",
   "mimetype": "text/x-python",
   "name": "python",
   "nbconvert_exporter": "python",
   "pygments_lexer": "ipython3",
   "version": "3.7.0"
  }
 },
 "nbformat": 4,
 "nbformat_minor": 2
}
