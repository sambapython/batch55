{
 "cells": [
  {
   "cell_type": "code",
   "execution_count": 1,
   "metadata": {},
   "outputs": [
    {
     "name": "stdout",
     "output_type": "stream",
     "text": [
      "this is class\n"
     ]
    }
   ],
   "source": [
    "def fun():\n",
    "    print(\"fun\")\n",
    "class cls:\n",
    "    print(\"this is class\")"
   ]
  },
  {
   "cell_type": "code",
   "execution_count": 2,
   "metadata": {},
   "outputs": [
    {
     "name": "stdout",
     "output_type": "stream",
     "text": [
      "this is class\n",
      "1000 2000\n"
     ]
    }
   ],
   "source": [
    "def fun():\n",
    "    print(\"fun\")\n",
    "class cls:\n",
    "    print(\"this is class\")\n",
    "    a=1000\n",
    "    b=2000\n",
    "    print(a,b)"
   ]
  },
  {
   "cell_type": "code",
   "execution_count": 3,
   "metadata": {},
   "outputs": [
    {
     "name": "stdout",
     "output_type": "stream",
     "text": [
      "this is class\n",
      "1000 2000\n"
     ]
    }
   ],
   "source": [
    "def fun():\n",
    "    print(\"fun\")\n",
    "class cls:\n",
    "    print(\"this is class\")\n",
    "    a=1000\n",
    "    b=2000\n",
    "    print(a,b)\n",
    "    def fun1(x):\n",
    "        print(\"this is fun1 inside class\")"
   ]
  },
  {
   "cell_type": "code",
   "execution_count": 4,
   "metadata": {},
   "outputs": [],
   "source": [
    "def fun():\n",
    "    print(\"fun\")\n",
    "class cls:\n",
    "    a=1000\n",
    "    b=2000\n",
    "    def fun1(x):\n",
    "        print(\"this is fun1 inside class\")\n",
    "    "
   ]
  },
  {
   "cell_type": "code",
   "execution_count": 5,
   "metadata": {},
   "outputs": [
    {
     "ename": "NameError",
     "evalue": "name 'a' is not defined",
     "output_type": "error",
     "traceback": [
      "\u001b[0;31m---------------------------------------------------------------------------\u001b[0m",
      "\u001b[0;31mNameError\u001b[0m                                 Traceback (most recent call last)",
      "\u001b[0;32m<ipython-input-5-663059f4f0d8>\u001b[0m in \u001b[0;36m<module>\u001b[0;34m()\u001b[0m\n\u001b[1;32m      6\u001b[0m     \u001b[0;32mdef\u001b[0m \u001b[0mfun1\u001b[0m\u001b[0;34m(\u001b[0m\u001b[0mx\u001b[0m\u001b[0;34m)\u001b[0m\u001b[0;34m:\u001b[0m\u001b[0;34m\u001b[0m\u001b[0m\n\u001b[1;32m      7\u001b[0m         \u001b[0mprint\u001b[0m\u001b[0;34m(\u001b[0m\u001b[0;34m\"this is fun1 inside class\"\u001b[0m\u001b[0;34m)\u001b[0m\u001b[0;34m\u001b[0m\u001b[0m\n\u001b[0;32m----> 8\u001b[0;31m \u001b[0mprint\u001b[0m\u001b[0;34m(\u001b[0m\u001b[0ma\u001b[0m\u001b[0;34m,\u001b[0m\u001b[0mb\u001b[0m\u001b[0;34m)\u001b[0m\u001b[0;34m\u001b[0m\u001b[0m\n\u001b[0m",
      "\u001b[0;31mNameError\u001b[0m: name 'a' is not defined"
     ]
    }
   ],
   "source": [
    "def fun():\n",
    "    print(\"fun\")\n",
    "class cls:\n",
    "    a=1000\n",
    "    b=2000\n",
    "    def fun1(x):\n",
    "        print(\"this is fun1 inside class\")\n",
    "print(a,b)"
   ]
  },
  {
   "cell_type": "code",
   "execution_count": 6,
   "metadata": {},
   "outputs": [
    {
     "name": "stdout",
     "output_type": "stream",
     "text": [
      "1000 2000\n"
     ]
    }
   ],
   "source": [
    "def fun():\n",
    "    print(\"fun\")\n",
    "class cls:\n",
    "    a=1000\n",
    "    b=2000\n",
    "    def fun1(x):\n",
    "        print(\"this is fun1 inside class\")\n",
    "print(cls.a,cls.b)"
   ]
  },
  {
   "cell_type": "code",
   "execution_count": 8,
   "metadata": {},
   "outputs": [
    {
     "name": "stdout",
     "output_type": "stream",
     "text": [
      "1000 2000\n",
      "x= 200\n",
      "this is fun1 inside class\n",
      "None\n"
     ]
    }
   ],
   "source": [
    "def fun():\n",
    "    print(\"fun\")\n",
    "class cls:\n",
    "    a=1000\n",
    "    b=2000\n",
    "    def fun1(x):\n",
    "        print(\"x=\",x)\n",
    "        print(\"this is fun1 inside class\")\n",
    "print(cls.a,cls.b)\n",
    "print(cls.fun1(200))"
   ]
  },
  {
   "cell_type": "code",
   "execution_count": 9,
   "metadata": {},
   "outputs": [
    {
     "name": "stdout",
     "output_type": "stream",
     "text": [
      "1000 2000\n",
      "x= <__main__.cls object at 0x7fe304330e10>\n",
      "this is fun1 inside class\n",
      "None\n"
     ]
    }
   ],
   "source": [
    "def fun():\n",
    "    print(\"fun\")\n",
    "class cls:\n",
    "    a=1000\n",
    "    b=2000\n",
    "    def fun1(x):\n",
    "        print(\"x=\",x)\n",
    "        print(\"this is fun1 inside class\")\n",
    "cls_inst = cls()\n",
    "print(cls.a,cls.b)\n",
    "print(cls.fun1(cls_inst))"
   ]
  },
  {
   "cell_type": "code",
   "execution_count": null,
   "metadata": {},
   "outputs": [],
   "source": []
  }
 ],
 "metadata": {
  "kernelspec": {
   "display_name": "Python 3",
   "language": "python",
   "name": "python3"
  },
  "language_info": {
   "codemirror_mode": {
    "name": "ipython",
    "version": 3
   },
   "file_extension": ".py",
   "mimetype": "text/x-python",
   "name": "python",
   "nbconvert_exporter": "python",
   "pygments_lexer": "ipython3",
   "version": "3.7.0"
  }
 },
 "nbformat": 4,
 "nbformat_minor": 2
}
