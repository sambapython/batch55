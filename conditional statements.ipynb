{
 "cells": [
  {
   "cell_type": "code",
   "execution_count": 1,
   "metadata": {},
   "outputs": [
    {
     "data": {
      "text/plain": [
       "True"
      ]
     },
     "execution_count": 1,
     "metadata": {},
     "output_type": "execute_result"
    }
   ],
   "source": [
    "\"python\" in \"python program\""
   ]
  },
  {
   "cell_type": "code",
   "execution_count": 2,
   "metadata": {},
   "outputs": [
    {
     "data": {
      "text/plain": [
       "False"
      ]
     },
     "execution_count": 2,
     "metadata": {},
     "output_type": "execute_result"
    }
   ],
   "source": [
    "[10] in [1,2,3,4,5]"
   ]
  },
  {
   "cell_type": "code",
   "execution_count": 3,
   "metadata": {},
   "outputs": [
    {
     "data": {
      "text/plain": [
       "True"
      ]
     },
     "execution_count": 3,
     "metadata": {},
     "output_type": "execute_result"
    }
   ],
   "source": [
    "\"name\" in {\"name\":\"sai\",\"sal\":2354324}"
   ]
  },
  {
   "cell_type": "code",
   "execution_count": 4,
   "metadata": {},
   "outputs": [
    {
     "data": {
      "text/plain": [
       "False"
      ]
     },
     "execution_count": 4,
     "metadata": {},
     "output_type": "execute_result"
    }
   ],
   "source": [
    "\"sai\" in {\"name\":\"sai\",\"sal\":2354324}"
   ]
  },
  {
   "cell_type": "code",
   "execution_count": 5,
   "metadata": {},
   "outputs": [
    {
     "data": {
      "text/plain": [
       "True"
      ]
     },
     "execution_count": 5,
     "metadata": {},
     "output_type": "execute_result"
    }
   ],
   "source": [
    "2 in {1,2,3,4}"
   ]
  },
  {
   "cell_type": "code",
   "execution_count": 6,
   "metadata": {},
   "outputs": [
    {
     "ename": "TypeError",
     "evalue": "argument of type 'int' is not iterable",
     "output_type": "error",
     "traceback": [
      "\u001b[0;31m---------------------------------------------------------------------------\u001b[0m",
      "\u001b[0;31mTypeError\u001b[0m                                 Traceback (most recent call last)",
      "\u001b[0;32m<ipython-input-6-829b67b1922c>\u001b[0m in \u001b[0;36m<module>\u001b[0;34m()\u001b[0m\n\u001b[0;32m----> 1\u001b[0;31m \u001b[0;36m10\u001b[0m \u001b[0;32min\u001b[0m \u001b[0;36m1000\u001b[0m\u001b[0;34m\u001b[0m\u001b[0m\n\u001b[0m",
      "\u001b[0;31mTypeError\u001b[0m: argument of type 'int' is not iterable"
     ]
    }
   ],
   "source": [
    "10 in 1000"
   ]
  },
  {
   "cell_type": "code",
   "execution_count": 7,
   "metadata": {},
   "outputs": [
    {
     "data": {
      "text/plain": [
       "False"
      ]
     },
     "execution_count": 7,
     "metadata": {},
     "output_type": "execute_result"
    }
   ],
   "source": [
    "10 in (1,2,3,4,5)"
   ]
  },
  {
   "cell_type": "code",
   "execution_count": 8,
   "metadata": {},
   "outputs": [
    {
     "data": {
      "text/plain": [
       "False"
      ]
     },
     "execution_count": 8,
     "metadata": {},
     "output_type": "execute_result"
    }
   ],
   "source": [
    "10 in [1,2,3,4,5]"
   ]
  },
  {
   "cell_type": "code",
   "execution_count": 9,
   "metadata": {},
   "outputs": [
    {
     "data": {
      "text/plain": [
       "False"
      ]
     },
     "execution_count": 9,
     "metadata": {},
     "output_type": "execute_result"
    }
   ],
   "source": [
    "10 in {1,2,3,4,5}"
   ]
  },
  {
   "cell_type": "code",
   "execution_count": 10,
   "metadata": {},
   "outputs": [
    {
     "ename": "TypeError",
     "evalue": "argument of type 'int' is not iterable",
     "output_type": "error",
     "traceback": [
      "\u001b[0;31m---------------------------------------------------------------------------\u001b[0m",
      "\u001b[0;31mTypeError\u001b[0m                                 Traceback (most recent call last)",
      "\u001b[0;32m<ipython-input-10-7dcf9f3a25f1>\u001b[0m in \u001b[0;36m<module>\u001b[0;34m()\u001b[0m\n\u001b[0;32m----> 1\u001b[0;31m \u001b[0;36m10\u001b[0m \u001b[0;32min\u001b[0m \u001b[0;36m1\u001b[0m\u001b[0;34m,\u001b[0m\u001b[0;36m2\u001b[0m\u001b[0;34m,\u001b[0m\u001b[0;36m3\u001b[0m\u001b[0;34m,\u001b[0m\u001b[0;36m4\u001b[0m\u001b[0;34m,\u001b[0m\u001b[0;36m5\u001b[0m\u001b[0;34m\u001b[0m\u001b[0m\n\u001b[0m",
      "\u001b[0;31mTypeError\u001b[0m: argument of type 'int' is not iterable"
     ]
    }
   ],
   "source": [
    "10 in 1,2,3,4,5"
   ]
  },
  {
   "cell_type": "code",
   "execution_count": 11,
   "metadata": {},
   "outputs": [],
   "source": [
    "a=1,2,3,4"
   ]
  },
  {
   "cell_type": "code",
   "execution_count": 12,
   "metadata": {},
   "outputs": [
    {
     "data": {
      "text/plain": [
       "tuple"
      ]
     },
     "execution_count": 12,
     "metadata": {},
     "output_type": "execute_result"
    }
   ],
   "source": [
    "type(a)"
   ]
  },
  {
   "cell_type": "code",
   "execution_count": 13,
   "metadata": {},
   "outputs": [
    {
     "data": {
      "text/plain": [
       "False"
      ]
     },
     "execution_count": 13,
     "metadata": {},
     "output_type": "execute_result"
    }
   ],
   "source": [
    "a=1,2,3,4,5\n",
    "10 in a"
   ]
  },
  {
   "cell_type": "code",
   "execution_count": 14,
   "metadata": {},
   "outputs": [
    {
     "data": {
      "text/plain": [
       "False"
      ]
     },
     "execution_count": 14,
     "metadata": {},
     "output_type": "execute_result"
    }
   ],
   "source": [
    "a=10\n",
    "b=20\n",
    "a>b"
   ]
  },
  {
   "cell_type": "code",
   "execution_count": 15,
   "metadata": {},
   "outputs": [
    {
     "name": "stdout",
     "output_type": "stream",
     "text": [
      "True\n",
      "False\n",
      "True\n",
      "True\n"
     ]
    }
   ],
   "source": [
    "a=1000\n",
    "b=2000\n",
    "c=a\n",
    "d=1000\n",
    "print(a==d)\n",
    "print(a is d)\n",
    "print(a==c)\n",
    "print(a is c)"
   ]
  },
  {
   "cell_type": "code",
   "execution_count": 16,
   "metadata": {},
   "outputs": [
    {
     "data": {
      "text/plain": [
       "True"
      ]
     },
     "execution_count": 16,
     "metadata": {},
     "output_type": "execute_result"
    }
   ],
   "source": [
    "bool(10)"
   ]
  },
  {
   "cell_type": "code",
   "execution_count": 17,
   "metadata": {},
   "outputs": [
    {
     "data": {
      "text/plain": [
       "False"
      ]
     },
     "execution_count": 17,
     "metadata": {},
     "output_type": "execute_result"
    }
   ],
   "source": [
    "bool(0)"
   ]
  },
  {
   "cell_type": "code",
   "execution_count": 18,
   "metadata": {},
   "outputs": [
    {
     "data": {
      "text/plain": [
       "True"
      ]
     },
     "execution_count": 18,
     "metadata": {},
     "output_type": "execute_result"
    }
   ],
   "source": [
    "bool(1)"
   ]
  },
  {
   "cell_type": "code",
   "execution_count": 19,
   "metadata": {},
   "outputs": [
    {
     "data": {
      "text/plain": [
       "True"
      ]
     },
     "execution_count": 19,
     "metadata": {},
     "output_type": "execute_result"
    }
   ],
   "source": [
    "bool(-10)"
   ]
  },
  {
   "cell_type": "code",
   "execution_count": 20,
   "metadata": {},
   "outputs": [
    {
     "data": {
      "text/plain": [
       "True"
      ]
     },
     "execution_count": 20,
     "metadata": {},
     "output_type": "execute_result"
    }
   ],
   "source": [
    "bool(\"pythion\")"
   ]
  },
  {
   "cell_type": "code",
   "execution_count": 21,
   "metadata": {},
   "outputs": [
    {
     "data": {
      "text/plain": [
       "False"
      ]
     },
     "execution_count": 21,
     "metadata": {},
     "output_type": "execute_result"
    }
   ],
   "source": [
    "bool(\"\")"
   ]
  },
  {
   "cell_type": "code",
   "execution_count": 22,
   "metadata": {},
   "outputs": [
    {
     "data": {
      "text/plain": [
       "True"
      ]
     },
     "execution_count": 22,
     "metadata": {},
     "output_type": "execute_result"
    }
   ],
   "source": [
    "bool(\"0\")"
   ]
  },
  {
   "cell_type": "code",
   "execution_count": 23,
   "metadata": {},
   "outputs": [
    {
     "data": {
      "text/plain": [
       "True"
      ]
     },
     "execution_count": 23,
     "metadata": {},
     "output_type": "execute_result"
    }
   ],
   "source": [
    "bool([1,2,3,4,5])"
   ]
  },
  {
   "cell_type": "code",
   "execution_count": 24,
   "metadata": {},
   "outputs": [
    {
     "data": {
      "text/plain": [
       "False"
      ]
     },
     "execution_count": 24,
     "metadata": {},
     "output_type": "execute_result"
    }
   ],
   "source": [
    "bool([])"
   ]
  },
  {
   "cell_type": "code",
   "execution_count": 25,
   "metadata": {},
   "outputs": [
    {
     "data": {
      "text/plain": [
       "True"
      ]
     },
     "execution_count": 25,
     "metadata": {},
     "output_type": "execute_result"
    }
   ],
   "source": [
    "bool([0])"
   ]
  },
  {
   "cell_type": "code",
   "execution_count": 26,
   "metadata": {},
   "outputs": [
    {
     "data": {
      "text/plain": [
       "True"
      ]
     },
     "execution_count": 26,
     "metadata": {},
     "output_type": "execute_result"
    }
   ],
   "source": [
    "bool({1,2,3,4})"
   ]
  },
  {
   "cell_type": "code",
   "execution_count": 27,
   "metadata": {},
   "outputs": [
    {
     "data": {
      "text/plain": [
       "False"
      ]
     },
     "execution_count": 27,
     "metadata": {},
     "output_type": "execute_result"
    }
   ],
   "source": [
    "bool({})"
   ]
  },
  {
   "cell_type": "code",
   "execution_count": 28,
   "metadata": {},
   "outputs": [
    {
     "data": {
      "text/plain": [
       "True"
      ]
     },
     "execution_count": 28,
     "metadata": {},
     "output_type": "execute_result"
    }
   ],
   "source": [
    "bool({0})"
   ]
  },
  {
   "cell_type": "code",
   "execution_count": 29,
   "metadata": {},
   "outputs": [
    {
     "data": {
      "text/plain": [
       "False"
      ]
     },
     "execution_count": 29,
     "metadata": {},
     "output_type": "execute_result"
    }
   ],
   "source": [
    "bool(0.0)"
   ]
  },
  {
   "cell_type": "code",
   "execution_count": 30,
   "metadata": {},
   "outputs": [
    {
     "data": {
      "text/plain": [
       "True"
      ]
     },
     "execution_count": 30,
     "metadata": {},
     "output_type": "execute_result"
    }
   ],
   "source": [
    "bool(0.1)"
   ]
  },
  {
   "cell_type": "code",
   "execution_count": 31,
   "metadata": {},
   "outputs": [
    {
     "name": "stdout",
     "output_type": "stream",
     "text": [
      "a is big\n",
      "b is big\n"
     ]
    }
   ],
   "source": [
    "a=1000\n",
    "b=2000\n",
    "print(\"a is big\")\n",
    "print(\"b is big\")"
   ]
  },
  {
   "cell_type": "code",
   "execution_count": 32,
   "metadata": {},
   "outputs": [
    {
     "name": "stdout",
     "output_type": "stream",
     "text": [
      "welcome\n",
      "a is big\n",
      "b is big\n",
      "thank you!!\n"
     ]
    }
   ],
   "source": [
    "print(\"welcome\")\n",
    "a=1000\n",
    "b=2000\n",
    "print(\"a is big\")\n",
    "print(\"b is big\")\n",
    "print(\"thank you!!\")"
   ]
  },
  {
   "cell_type": "code",
   "execution_count": 33,
   "metadata": {},
   "outputs": [
    {
     "name": "stdout",
     "output_type": "stream",
     "text": [
      "welcome\n",
      "False\n",
      "b is big\n",
      "thank you!!\n"
     ]
    }
   ],
   "source": [
    "print(\"welcome\")\n",
    "a=1000\n",
    "b=2000\n",
    "print(a>b)\n",
    "if a>b:\n",
    "    print(\"a is big\")\n",
    "else:\n",
    "    print(\"b is big\")\n",
    "print(\"thank you!!\")"
   ]
  },
  {
   "cell_type": "code",
   "execution_count": 34,
   "metadata": {},
   "outputs": [
    {
     "name": "stdout",
     "output_type": "stream",
     "text": [
      "welcome\n",
      "False\n",
      "a is big\n",
      "thank you!!\n"
     ]
    }
   ],
   "source": [
    "print(\"welcome\")\n",
    "a=1000\n",
    "b=2000\n",
    "print(a>b)\n",
    "if a>b:\n",
    "    print(\"b is big\")\n",
    "else:\n",
    "    print(\"a is big\")\n",
    "print(\"thank you!!\")"
   ]
  },
  {
   "cell_type": "code",
   "execution_count": 35,
   "metadata": {},
   "outputs": [
    {
     "name": "stdout",
     "output_type": "stream",
     "text": [
      "welcome\n",
      "True\n",
      "b is big\n",
      "thank you!!\n"
     ]
    }
   ],
   "source": [
    "print(\"welcome\")\n",
    "a=1000\n",
    "b=2000\n",
    "print(a<b)\n",
    "if a<b:\n",
    "    print(\"b is big\")\n",
    "else:\n",
    "    print(\"a is big\")\n",
    "print(\"thank you!!\")"
   ]
  },
  {
   "cell_type": "code",
   "execution_count": 36,
   "metadata": {},
   "outputs": [
    {
     "ename": "IndentationError",
     "evalue": "expected an indented block (<ipython-input-36-11070cd5723a>, line 6)",
     "output_type": "error",
     "traceback": [
      "\u001b[0;36m  File \u001b[0;32m\"<ipython-input-36-11070cd5723a>\"\u001b[0;36m, line \u001b[0;32m6\u001b[0m\n\u001b[0;31m    print(\"b is big\")\u001b[0m\n\u001b[0m        ^\u001b[0m\n\u001b[0;31mIndentationError\u001b[0m\u001b[0;31m:\u001b[0m expected an indented block\n"
     ]
    }
   ],
   "source": [
    "print(\"welcome\")\n",
    "a=1000\n",
    "b=2000\n",
    "print(a<b)\n",
    "if a<b:\n",
    "print(\"b is big\")\n",
    "else:\n",
    "    print(\n",
    "        \"a is big\")\n",
    "print(\"thank you!!\")"
   ]
  },
  {
   "cell_type": "code",
   "execution_count": 37,
   "metadata": {},
   "outputs": [
    {
     "name": "stdout",
     "output_type": "stream",
     "text": [
      "welcome\n",
      "True\n",
      "thank you!!\n"
     ]
    }
   ],
   "source": [
    "print(\"welcome\")\n",
    "a=1000\n",
    "b=2000\n",
    "print(a<b)\n",
    "if a<b:\n",
    "    pass\n",
    "else:\n",
    "    print(\n",
    "        \"a is big\")\n",
    "print(\"thank you!!\")"
   ]
  },
  {
   "cell_type": "code",
   "execution_count": 38,
   "metadata": {},
   "outputs": [
    {
     "name": "stdout",
     "output_type": "stream",
     "text": [
      "welcome\n",
      "True\n",
      "b is big\n",
      "thank you!!\n"
     ]
    }
   ],
   "source": [
    "print(\"welcome\")\n",
    "a=1000\n",
    "b=2000\n",
    "print(a<b)\n",
    "if a<b:\n",
    "    pass\n",
    "    print(\"b is big\")\n",
    "else:\n",
    "    print(\"a is big\")\n",
    "print(\"thank you!!\")"
   ]
  },
  {
   "cell_type": "code",
   "execution_count": 39,
   "metadata": {},
   "outputs": [
    {
     "data": {
      "text/plain": [
       "6"
      ]
     },
     "execution_count": 39,
     "metadata": {},
     "output_type": "execute_result"
    }
   ],
   "source": [
    "s=\"python\"\n",
    "len(s)"
   ]
  },
  {
   "cell_type": "code",
   "execution_count": 40,
   "metadata": {},
   "outputs": [
    {
     "name": "stdout",
     "output_type": "stream",
     "text": [
      "Enter a string:python program\n",
      "14\n"
     ]
    }
   ],
   "source": [
    "s=input(\"Enter a string:\")\n",
    "print(len(s))"
   ]
  },
  {
   "cell_type": "code",
   "execution_count": 41,
   "metadata": {},
   "outputs": [
    {
     "name": "stdout",
     "output_type": "stream",
     "text": [
      "Enter a string:\n",
      "0\n"
     ]
    }
   ],
   "source": [
    "s=input(\"Enter a string:\")\n",
    "print(len(s))"
   ]
  },
  {
   "cell_type": "code",
   "execution_count": 42,
   "metadata": {},
   "outputs": [
    {
     "name": "stdout",
     "output_type": "stream",
     "text": [
      "4\n"
     ]
    }
   ],
   "source": [
    "a=\"4567\"\n",
    "print(len(a))"
   ]
  },
  {
   "cell_type": "code",
   "execution_count": 43,
   "metadata": {},
   "outputs": [
    {
     "name": "stdout",
     "output_type": "stream",
     "text": [
      "Enter a valid string:python program\n",
      "14\n"
     ]
    }
   ],
   "source": [
    "a=input(\"Enter a valid string:\")\n",
    "print(len(a))"
   ]
  },
  {
   "cell_type": "code",
   "execution_count": 44,
   "metadata": {},
   "outputs": [
    {
     "name": "stdout",
     "output_type": "stream",
     "text": [
      "Enter a valid string:\n",
      "0\n"
     ]
    }
   ],
   "source": [
    "a=input(\"Enter a valid string:\")\n",
    "print(len(a))"
   ]
  },
  {
   "cell_type": "code",
   "execution_count": 45,
   "metadata": {},
   "outputs": [
    {
     "name": "stdout",
     "output_type": "stream",
     "text": [
      "welcome\n",
      "enter string:pytyho\n",
      "6\n",
      "thank you!!\n"
     ]
    }
   ],
   "source": [
    "print(\"welcome\")\n",
    "s=input(\"enter string:\")\n",
    "if len(s)>0:\n",
    "    print(len(s))\n",
    "else:\n",
    "    print(\"not a valid strting\")\n",
    "print(\"thank you!!\")"
   ]
  },
  {
   "cell_type": "code",
   "execution_count": 46,
   "metadata": {},
   "outputs": [
    {
     "name": "stdout",
     "output_type": "stream",
     "text": [
      "welcome\n",
      "enter string:\n",
      "not a valid strting\n",
      "thank you!!\n"
     ]
    }
   ],
   "source": [
    "print(\"welcome\")\n",
    "s=input(\"enter string:\")\n",
    "if len(s)>0:\n",
    "    print(len(s))\n",
    "else:\n",
    "    print(\"not a valid strting\")\n",
    "print(\"thank you!!\")"
   ]
  },
  {
   "cell_type": "code",
   "execution_count": 47,
   "metadata": {},
   "outputs": [
    {
     "name": "stdout",
     "output_type": "stream",
     "text": [
      "welcome\n",
      "enter string:pythoin\n",
      "7\n"
     ]
    }
   ],
   "source": [
    "print(\"welcome\")\n",
    "s=input(\"enter string:\")\n",
    "len_s=len(s)\n",
    "print(len_s)"
   ]
  },
  {
   "cell_type": "code",
   "execution_count": 48,
   "metadata": {},
   "outputs": [
    {
     "name": "stdout",
     "output_type": "stream",
     "text": [
      "welcome\n",
      "enter string:\n",
      "0\n"
     ]
    }
   ],
   "source": [
    "print(\"welcome\")\n",
    "s=input(\"enter string:\")\n",
    "len_s=len(s)\n",
    "print(len_s)"
   ]
  },
  {
   "cell_type": "code",
   "execution_count": 49,
   "metadata": {},
   "outputs": [
    {
     "name": "stdout",
     "output_type": "stream",
     "text": [
      "welcome\n",
      "enter string:python\n",
      "6\n",
      "thank you!!\n"
     ]
    }
   ],
   "source": [
    "print(\"welcome\")\n",
    "s=input(\"enter string:\")\n",
    "len_s=len(s)\n",
    "if len_s==0:\n",
    "    print(\"invalid string\")\n",
    "else:\n",
    "    print(len_s)\n",
    "print(\"thank you!!\")"
   ]
  },
  {
   "cell_type": "code",
   "execution_count": 50,
   "metadata": {},
   "outputs": [
    {
     "name": "stdout",
     "output_type": "stream",
     "text": [
      "welcome\n",
      "enter string:\n",
      "invalid string\n",
      "thank you!!\n"
     ]
    }
   ],
   "source": [
    "print(\"welcome\")\n",
    "s=input(\"enter string:\")\n",
    "len_s=len(s)\n",
    "if len_s==0:\n",
    "    print(\"invalid string\")\n",
    "else:\n",
    "    print(len_s)\n",
    "print(\"thank you!!\")"
   ]
  },
  {
   "cell_type": "code",
   "execution_count": 51,
   "metadata": {},
   "outputs": [
    {
     "data": {
      "text/plain": [
       "True"
      ]
     },
     "execution_count": 51,
     "metadata": {},
     "output_type": "execute_result"
    }
   ],
   "source": [
    "bool(len_s==0)"
   ]
  },
  {
   "cell_type": "code",
   "execution_count": 52,
   "metadata": {},
   "outputs": [
    {
     "data": {
      "text/plain": [
       "True"
      ]
     },
     "execution_count": 52,
     "metadata": {},
     "output_type": "execute_result"
    }
   ],
   "source": [
    "bool(\"sdfds\")"
   ]
  },
  {
   "cell_type": "code",
   "execution_count": 53,
   "metadata": {},
   "outputs": [
    {
     "data": {
      "text/plain": [
       "False"
      ]
     },
     "execution_count": 53,
     "metadata": {},
     "output_type": "execute_result"
    }
   ],
   "source": [
    "bool(\"\")"
   ]
  },
  {
   "cell_type": "code",
   "execution_count": 54,
   "metadata": {},
   "outputs": [
    {
     "name": "stdout",
     "output_type": "stream",
     "text": [
      "welcome\n",
      "enter string:pytthon\n",
      "7\n",
      "thank you!!\n"
     ]
    }
   ],
   "source": [
    "print(\"welcome\")\n",
    "s=input(\"enter string:\")\n",
    "len_s=len(s)\n",
    "if bool(s):\n",
    "    print(len_s)\n",
    "else:\n",
    "    print(\"invalid string\")\n",
    "    \n",
    "print(\"thank you!!\")"
   ]
  },
  {
   "cell_type": "code",
   "execution_count": 55,
   "metadata": {},
   "outputs": [
    {
     "name": "stdout",
     "output_type": "stream",
     "text": [
      "welcome\n",
      "enter string:\n",
      "invalid string\n",
      "thank you!!\n"
     ]
    }
   ],
   "source": [
    "print(\"welcome\")\n",
    "s=input(\"enter string:\")\n",
    "len_s=len(s)\n",
    "if bool(s):\n",
    "    print(len_s)\n",
    "else:\n",
    "    print(\"invalid string\")\n",
    "    \n",
    "print(\"thank you!!\")"
   ]
  },
  {
   "cell_type": "code",
   "execution_count": 56,
   "metadata": {},
   "outputs": [
    {
     "name": "stdout",
     "output_type": "stream",
     "text": [
      "welcome\n",
      "enter string:python\n",
      "6\n",
      "thank you!!\n"
     ]
    }
   ],
   "source": [
    "print(\"welcome\")\n",
    "s=input(\"enter string:\")\n",
    "len_s=len(s)\n",
    "if bool(s:\n",
    "    print(len_s)\n",
    "else:\n",
    "    print(\"invalid string\")\n",
    "    \n",
    "print(\"thank you!!\")"
   ]
  },
  {
   "cell_type": "code",
   "execution_count": 57,
   "metadata": {},
   "outputs": [
    {
     "name": "stdout",
     "output_type": "stream",
     "text": [
      "welcome\n",
      "enter string:\n",
      "invalid string\n",
      "thank you!!\n"
     ]
    }
   ],
   "source": [
    "print(\"welcome\")\n",
    "s=input(\"enter string:\")\n",
    "len_s=len(s)\n",
    "if s:\n",
    "    print(len_s)\n",
    "else:\n",
    "    print(\"invalid string\")\n",
    "    \n",
    "print(\"thank you!!\")"
   ]
  },
  {
   "cell_type": "code",
   "execution_count": 58,
   "metadata": {},
   "outputs": [
    {
     "name": "stdout",
     "output_type": "stream",
     "text": [
      "welcome\n",
      "enter string:python\n",
      "6\n",
      "thank you!!\n"
     ]
    }
   ],
   "source": [
    "print(\"welcome\")\n",
    "s=input(\"enter string:\")\n",
    "if s:\n",
    "    len_s=len(s)\n",
    "    print(len_s)\n",
    "else:\n",
    "    print(\"invalid string\")\n",
    "    \n",
    "print(\"thank you!!\")"
   ]
  },
  {
   "cell_type": "code",
   "execution_count": 59,
   "metadata": {},
   "outputs": [
    {
     "name": "stdout",
     "output_type": "stream",
     "text": [
      "welcome\n",
      "enter string:\n",
      "invalid string\n",
      "thank you!!\n"
     ]
    }
   ],
   "source": [
    "print(\"welcome\")\n",
    "s=input(\"enter string:\")\n",
    "if s:\n",
    "    len_s=len(s)\n",
    "    print(len_s)\n",
    "else:\n",
    "    print(\"invalid string\")\n",
    "    \n",
    "print(\"thank you!!\")"
   ]
  },
  {
   "cell_type": "code",
   "execution_count": 60,
   "metadata": {},
   "outputs": [
    {
     "name": "stdout",
     "output_type": "stream",
     "text": [
      "welcome\n",
      "enter string:python\n",
      "6\n",
      "thank you!!\n"
     ]
    }
   ],
   "source": [
    "print(\"welcome\")\n",
    "s=input(\"enter string:\")\n",
    "if s:\n",
    "    print(len(s))\n",
    "else:\n",
    "    print(\"invalid string\")\n",
    "    \n",
    "print(\"thank you!!\")"
   ]
  },
  {
   "cell_type": "code",
   "execution_count": 61,
   "metadata": {},
   "outputs": [
    {
     "name": "stdout",
     "output_type": "stream",
     "text": [
      "welcome\n",
      "enter string:\n",
      "invalid string\n",
      "thank you!!\n"
     ]
    }
   ],
   "source": [
    "print(\"welcome\")\n",
    "s=input(\"enter string:\")\n",
    "if s:\n",
    "    print(len(s))\n",
    "else:\n",
    "    print(\"invalid string\")\n",
    "    \n",
    "print(\"thank you!!\")"
   ]
  },
  {
   "cell_type": "code",
   "execution_count": 62,
   "metadata": {},
   "outputs": [
    {
     "name": "stdout",
     "output_type": "stream",
     "text": [
      "welcome\n",
      "enter string:python\n",
      "6\n"
     ]
    }
   ],
   "source": [
    "print(\"welcome\")\n",
    "s=input(\"enter string:\")\n",
    "print(len(s) if s else \"invalid string\")"
   ]
  },
  {
   "cell_type": "code",
   "execution_count": 63,
   "metadata": {},
   "outputs": [
    {
     "name": "stdout",
     "output_type": "stream",
     "text": [
      "welcome\n",
      "enter string:\n",
      "invalid string\n"
     ]
    }
   ],
   "source": [
    "print(\"welcome\")\n",
    "s=input(\"enter string:\")\n",
    "print(len(s) if s else \"invalid string\")"
   ]
  },
  {
   "cell_type": "code",
   "execution_count": 64,
   "metadata": {},
   "outputs": [
    {
     "name": "stdout",
     "output_type": "stream",
     "text": [
      "welcome\n",
      "enter string:\n",
      "invalid string\n",
      "thank you!!\n"
     ]
    }
   ],
   "source": [
    "print(\"welcome\")\n",
    "s=input(\"enter string:\")\n",
    "if not s:\n",
    "    print(\"invalid string\")\n",
    "else:\n",
    "    print(len(s))\n",
    "    \n",
    "    \n",
    "print(\"thank you!!\")"
   ]
  },
  {
   "cell_type": "code",
   "execution_count": 65,
   "metadata": {},
   "outputs": [
    {
     "name": "stdout",
     "output_type": "stream",
     "text": [
      "welcome\n",
      "enter string:python\n",
      "6\n",
      "thank you!!\n"
     ]
    }
   ],
   "source": [
    "print(\"welcome\")\n",
    "s=input(\"enter string:\")\n",
    "if not s:\n",
    "    print(\"invalid string\")\n",
    "else:\n",
    "    print(len(s))\n",
    "    \n",
    "    \n",
    "print(\"thank you!!\")"
   ]
  },
  {
   "cell_type": "code",
   "execution_count": 66,
   "metadata": {},
   "outputs": [
    {
     "name": "stdout",
     "output_type": "stream",
     "text": [
      "0 is false\n"
     ]
    }
   ],
   "source": [
    "if 0:\n",
    "    print(\"0 is true\")\n",
    "else:\n",
    "    print(\"0 is false\")"
   ]
  },
  {
   "cell_type": "code",
   "execution_count": 68,
   "metadata": {},
   "outputs": [
    {
     "name": "stdout",
     "output_type": "stream",
     "text": [
      "True is true\n"
     ]
    }
   ],
   "source": [
    "if True:\n",
    "    print(\"True is true\")\n",
    "else:\n",
    "    print(\"True is false\")"
   ]
  },
  {
   "cell_type": "code",
   "execution_count": 70,
   "metadata": {},
   "outputs": [
    {
     "name": "stdout",
     "output_type": "stream",
     "text": [
      "False is false\n"
     ]
    }
   ],
   "source": [
    "if False:\n",
    "    print(\"False is true\")\n",
    "else:\n",
    "    print(\"False is false\")"
   ]
  },
  {
   "cell_type": "code",
   "execution_count": 1,
   "metadata": {},
   "outputs": [
    {
     "name": "stdout",
     "output_type": "stream",
     "text": [
      "Do you want to fight with pa now:\n",
      "\t1.yes\n",
      "\t2.no\n",
      "\t3.nutral\n"
     ]
    }
   ],
   "source": [
    "print(\"Do you want to fight with pa now:\\n\\t1.yes\\n\\t2.no\\n\\t3.nutral\")\n"
   ]
  },
  {
   "cell_type": "code",
   "execution_count": 2,
   "metadata": {},
   "outputs": [
    {
     "name": "stdout",
     "output_type": "stream",
     "text": [
      "welcome\n",
      "Do you want to fight with pa now:\n",
      "\t1.yes\n",
      "\t2.no\n",
      "\t3.nutral\n",
      "Enter an option:1\n",
      "yes i want to fight with pa\n",
      "Thank you!!\n"
     ]
    }
   ],
   "source": [
    "print(\"welcome\")\n",
    "print(\"Do you want to fight with pa now:\\n\\t1.yes\\n\\t2.no\\n\\t3.nutral\")\n",
    "opt=input(\"Enter an option:\")\n",
    "if opt==\"1\":\n",
    "    print(\"yes i want to fight with pa\")\n",
    "if opt==\"2\":\n",
    "    print(\"No i dont want to fight with pa\")\n",
    "if opt==\"3\":\n",
    "    print(\"I am nutral, let's see whats happen in the future\")\n",
    "print(\"Thank you!!\")"
   ]
  },
  {
   "cell_type": "code",
   "execution_count": 3,
   "metadata": {},
   "outputs": [
    {
     "name": "stdout",
     "output_type": "stream",
     "text": [
      "welcome\n",
      "Do you want to fight with pa now:\n",
      "\t1.yes\n",
      "\t2.no\n",
      "\t3.nutral\n",
      "Enter an option:2\n",
      "No i dont want to fight with pa\n",
      "Thank you!!\n"
     ]
    }
   ],
   "source": [
    "print(\"welcome\")\n",
    "print(\"Do you want to fight with pa now:\\n\\t1.yes\\n\\t2.no\\n\\t3.nutral\")\n",
    "opt=input(\"Enter an option:\")\n",
    "if opt==\"1\":\n",
    "    print(\"yes i want to fight with pa\")\n",
    "if opt==\"2\":\n",
    "    print(\"No i dont want to fight with pa\")\n",
    "if opt==\"3\":\n",
    "    print(\"I am nutral, let's see whats happen in the future\")\n",
    "print(\"Thank you!!\")"
   ]
  },
  {
   "cell_type": "code",
   "execution_count": 4,
   "metadata": {},
   "outputs": [
    {
     "name": "stdout",
     "output_type": "stream",
     "text": [
      "welcome\n",
      "Do you want to fight with pa now:\n",
      "\t1.yes\n",
      "\t2.no\n",
      "\t3.nutral\n",
      "Enter an option:3\n",
      "I am nutral, let's see whats happen in the future\n",
      "Thank you!!\n"
     ]
    }
   ],
   "source": [
    "print(\"welcome\")\n",
    "print(\"Do you want to fight with pa now:\\n\\t1.yes\\n\\t2.no\\n\\t3.nutral\")\n",
    "opt=input(\"Enter an option:\")\n",
    "if opt==\"1\":\n",
    "    print(\"yes i want to fight with pa\")\n",
    "if opt==\"2\":\n",
    "    print(\"No i dont want to fight with pa\")\n",
    "if opt==\"3\":\n",
    "    print(\"I am nutral, let's see whats happen in the future\")\n",
    "print(\"Thank you!!\")"
   ]
  },
  {
   "cell_type": "code",
   "execution_count": 5,
   "metadata": {},
   "outputs": [
    {
     "name": "stdout",
     "output_type": "stream",
     "text": [
      "welcome\n",
      "Do you want to fight with pa now:\n",
      "\t1.yes\n",
      "\t2.no\n",
      "\t3.nutral\n",
      "Enter an option:4\n",
      "Thank you!!\n"
     ]
    }
   ],
   "source": [
    "print(\"welcome\")\n",
    "print(\"Do you want to fight with pa now:\\n\\t1.yes\\n\\t2.no\\n\\t3.nutral\")\n",
    "opt=input(\"Enter an option:\")\n",
    "if opt==\"1\":\n",
    "    print(\"yes i want to fight with pa\")\n",
    "if opt==\"2\":\n",
    "    print(\"No i dont want to fight with pa\")\n",
    "if opt==\"3\":\n",
    "    print(\"I am nutral, let's see whats happen in the future\")\n",
    "print(\"Thank you!!\")"
   ]
  },
  {
   "cell_type": "code",
   "execution_count": 6,
   "metadata": {},
   "outputs": [
    {
     "name": "stdout",
     "output_type": "stream",
     "text": [
      "welcome\n",
      "Do you want to fight with pa now:\n",
      "\t1.yes\n",
      "\t2.no\n",
      "\t3.nutral\n",
      "Enter an option:4\n",
      "please enter 1 or 2 or 3\n",
      "Thank you!!\n"
     ]
    }
   ],
   "source": [
    "print(\"welcome\")\n",
    "print(\"Do you want to fight with pa now:\\n\\t1.yes\\n\\t2.no\\n\\t3.nutral\")\n",
    "opt=input(\"Enter an option:\")\n",
    "if opt==\"1\":\n",
    "    print(\"yes i want to fight with pa\")\n",
    "if opt==\"2\":\n",
    "    print(\"No i dont want to fight with pa\")\n",
    "if opt==\"3\":\n",
    "    print(\"I am nutral, let's see whats happen in the future\")\n",
    "else:\n",
    "    print(\"please enter 1 or 2 or 3\")\n",
    "print(\"Thank you!!\")"
   ]
  },
  {
   "cell_type": "code",
   "execution_count": 7,
   "metadata": {},
   "outputs": [
    {
     "name": "stdout",
     "output_type": "stream",
     "text": [
      "welcome\n",
      "Do you want to fight with pa now:\n",
      "\t1.yes\n",
      "\t2.no\n",
      "\t3.nutral\n",
      "Enter an option:3\n",
      "I am nutral, let's see whats happen in the future\n",
      "Thank you!!\n"
     ]
    }
   ],
   "source": [
    "print(\"welcome\")\n",
    "print(\"Do you want to fight with pa now:\\n\\t1.yes\\n\\t2.no\\n\\t3.nutral\")\n",
    "opt=input(\"Enter an option:\")\n",
    "if opt==\"1\":\n",
    "    print(\"yes i want to fight with pa\")\n",
    "if opt==\"2\":\n",
    "    print(\"No i dont want to fight with pa\")\n",
    "if opt==\"3\":\n",
    "    print(\"I am nutral, let's see whats happen in the future\")\n",
    "else:\n",
    "    print(\"please enter 1 or 2 or 3\")\n",
    "print(\"Thank you!!\")"
   ]
  },
  {
   "cell_type": "code",
   "execution_count": 8,
   "metadata": {},
   "outputs": [
    {
     "name": "stdout",
     "output_type": "stream",
     "text": [
      "welcome\n",
      "Do you want to fight with pa now:\n",
      "\t1.yes\n",
      "\t2.no\n",
      "\t3.nutral\n",
      "Enter an option:2\n",
      "No i dont want to fight with pa\n",
      "please enter 1 or 2 or 3\n",
      "Thank you!!\n"
     ]
    }
   ],
   "source": [
    "print(\"welcome\")\n",
    "print(\"Do you want to fight with pa now:\\n\\t1.yes\\n\\t2.no\\n\\t3.nutral\")\n",
    "opt=input(\"Enter an option:\")\n",
    "if opt==\"1\":\n",
    "    print(\"yes i want to fight with pa\")\n",
    "if opt==\"2\":\n",
    "    print(\"No i dont want to fight with pa\")\n",
    "if opt==\"3\":\n",
    "    print(\"I am nutral, let's see whats happen in the future\")\n",
    "else:\n",
    "    print(\"please enter 1 or 2 or 3\")\n",
    "print(\"Thank you!!\")"
   ]
  },
  {
   "cell_type": "code",
   "execution_count": 9,
   "metadata": {},
   "outputs": [
    {
     "name": "stdout",
     "output_type": "stream",
     "text": [
      "welcome\n",
      "Do you want to fight with pa now:\n",
      "\t1.yes\n",
      "\t2.no\n",
      "\t3.nutral\n",
      "Enter an option:1\n",
      "yes i want to fight with pa\n",
      "Thank you!!\n"
     ]
    }
   ],
   "source": [
    "print(\"welcome\")\n",
    "print(\"Do you want to fight with pa now:\\n\\t1.yes\\n\\t2.no\\n\\t3.nutral\")\n",
    "opt=input(\"Enter an option:\")\n",
    "if opt==\"1\":\n",
    "    print(\"yes i want to fight with pa\")\n",
    "elif opt==\"2\":\n",
    "    print(\"No i dont want to fight with pa\")\n",
    "elif opt==\"3\":\n",
    "    print(\"I am nutral, let's see whats happen in the future\")\n",
    "else:\n",
    "    print(\"please enter 1 or 2 or 3\")\n",
    "print(\"Thank you!!\")\n"
   ]
  },
  {
   "cell_type": "code",
   "execution_count": 10,
   "metadata": {},
   "outputs": [
    {
     "name": "stdout",
     "output_type": "stream",
     "text": [
      "welcome\n",
      "Do you want to fight with pa now:\n",
      "\t1.yes\n",
      "\t2.no\n",
      "\t3.nutral\n",
      "Enter an option:2\n",
      "No i dont want to fight with pa\n",
      "Thank you!!\n"
     ]
    }
   ],
   "source": [
    "print(\"welcome\")\n",
    "print(\"Do you want to fight with pa now:\\n\\t1.yes\\n\\t2.no\\n\\t3.nutral\")\n",
    "opt=input(\"Enter an option:\")\n",
    "if opt==\"1\":\n",
    "    print(\"yes i want to fight with pa\")\n",
    "elif opt==\"2\":\n",
    "    print(\"No i dont want to fight with pa\")\n",
    "elif opt==\"3\":\n",
    "    print(\"I am nutral, let's see whats happen in the future\")\n",
    "else:\n",
    "    print(\"please enter 1 or 2 or 3\")\n",
    "print(\"Thank you!!\")"
   ]
  },
  {
   "cell_type": "code",
   "execution_count": 11,
   "metadata": {},
   "outputs": [
    {
     "name": "stdout",
     "output_type": "stream",
     "text": [
      "welcome\n",
      "Do you want to fight with pa now:\n",
      "\t1.yes\n",
      "\t2.no\n",
      "\t3.nutral\n",
      "Enter an option:3\n",
      "I am nutral, let's see whats happen in the future\n",
      "Thank you!!\n"
     ]
    }
   ],
   "source": [
    "print(\"welcome\")\n",
    "print(\"Do you want to fight with pa now:\\n\\t1.yes\\n\\t2.no\\n\\t3.nutral\")\n",
    "opt=input(\"Enter an option:\")\n",
    "if opt==\"1\":\n",
    "    print(\"yes i want to fight with pa\")\n",
    "elif opt==\"2\":\n",
    "    print(\"No i dont want to fight with pa\")\n",
    "elif opt==\"3\":\n",
    "    print(\"I am nutral, let's see whats happen in the future\")\n",
    "else:\n",
    "    print(\"please enter 1 or 2 or 3\")\n",
    "print(\"Thank you!!\")"
   ]
  },
  {
   "cell_type": "code",
   "execution_count": 12,
   "metadata": {},
   "outputs": [
    {
     "name": "stdout",
     "output_type": "stream",
     "text": [
      "welcome\n",
      "Do you want to fight with pa now:\n",
      "\t1.yes\n",
      "\t2.no\n",
      "\t3.nutral\n",
      "Enter an option:4\n",
      "please enter 1 or 2 or 3\n",
      "Thank you!!\n"
     ]
    }
   ],
   "source": [
    "print(\"welcome\")\n",
    "print(\"Do you want to fight with pa now:\\n\\t1.yes\\n\\t2.no\\n\\t3.nutral\")\n",
    "opt=input(\"Enter an option:\")\n",
    "if opt==\"1\":\n",
    "    print(\"yes i want to fight with pa\")\n",
    "elif opt==\"2\":\n",
    "    print(\"No i dont want to fight with pa\")\n",
    "elif opt==\"3\":\n",
    "    print(\"I am nutral, let's see whats happen in the future\")\n",
    "else:\n",
    "    print(\"please enter 1 or 2 or 3\")\n",
    "print(\"Thank you!!\")"
   ]
  },
  {
   "cell_type": "code",
   "execution_count": null,
   "metadata": {},
   "outputs": [],
   "source": [
    "# vendor has four floorts: he want a software in the in the lift to guide the customers.\n",
    "# in the ground floor is a common. 1.kid--> we are going to first floor.\n",
    "# 1.men--> we are going to thrid floor\n",
    "# 3.women-->we are going to second floor\n",
    "# 4.gold--> we are ging to fourth floor"
   ]
  }
 ],
 "metadata": {
  "kernelspec": {
   "display_name": "Python 3",
   "language": "python",
   "name": "python3"
  },
  "language_info": {
   "codemirror_mode": {
    "name": "ipython",
    "version": 3
   },
   "file_extension": ".py",
   "mimetype": "text/x-python",
   "name": "python",
   "nbconvert_exporter": "python",
   "pygments_lexer": "ipython3",
   "version": "3.7.0"
  }
 },
 "nbformat": 4,
 "nbformat_minor": 2
}
