{
 "cells": [
  {
   "cell_type": "code",
   "execution_count": 2,
   "metadata": {},
   "outputs": [
    {
     "name": "stdout",
     "output_type": "stream",
     "text": [
      "res= <function outer.<locals>.inner at 0x7f9155bd7bf8>\n"
     ]
    }
   ],
   "source": [
    "#closure\n",
    "def outer(f):\n",
    "    def inner(a,b):\n",
    "        \n",
    "        return f(a,b)\n",
    "    return inner\n",
    "def fun(x,y):\n",
    "    return x+y\n",
    "res=outer(fun)\n",
    "print(\"res=\",res)"
   ]
  },
  {
   "cell_type": "code",
   "execution_count": 3,
   "metadata": {},
   "outputs": [
    {
     "name": "stdout",
     "output_type": "stream",
     "text": [
      "r1= 30\n"
     ]
    }
   ],
   "source": [
    "r1=res(10,20)\n",
    "print(\"r1=\",r1)"
   ]
  },
  {
   "cell_type": "code",
   "execution_count": 5,
   "metadata": {},
   "outputs": [
    {
     "name": "stdout",
     "output_type": "stream",
     "text": [
      "300\n",
      "-100\n",
      "20000\n"
     ]
    }
   ],
   "source": [
    "def result(f):\n",
    "    def inner(x,y):\n",
    "        return \"result=%s\"%(f(x,y))\n",
    "    return inner\n",
    "def add(a,b):\n",
    "    return a+b\n",
    "def sub(a,b):\n",
    "    return a-b\n",
    "def mul(a,b):\n",
    "    return a*b\n",
    "print(add(100,200))\n",
    "print(sub(100,200))\n",
    "print(mul(100,200))"
   ]
  },
  {
   "cell_type": "code",
   "execution_count": 6,
   "metadata": {},
   "outputs": [
    {
     "name": "stdout",
     "output_type": "stream",
     "text": [
      "result=300\n",
      "result=-100\n",
      "result=20000\n"
     ]
    }
   ],
   "source": [
    "def result(f):\n",
    "    def inner(x,y):\n",
    "        return \"result=%s\"%(f(x,y))\n",
    "    return inner\n",
    "@result\n",
    "def add(a,b):\n",
    "    return a+b\n",
    "@result\n",
    "def sub(a,b):\n",
    "    return a-b\n",
    "@result\n",
    "def mul(a,b):\n",
    "    return a*b\n",
    "print(add(100,200))\n",
    "print(sub(100,200))\n",
    "print(mul(100,200))"
   ]
  },
  {
   "cell_type": "code",
   "execution_count": 7,
   "metadata": {},
   "outputs": [],
   "source": [
    "def result(f):\n",
    "    def inner(x,y):\n",
    "        return \"result=%s\"%(f(x,y))\n",
    "    return inner\n",
    "def mul(a,b):\n",
    "    return a*b\n",
    "#mul(100,200)\n",
    "res=result(mul)\n",
    "r1=res(100,200)\n"
   ]
  },
  {
   "cell_type": "code",
   "execution_count": 8,
   "metadata": {},
   "outputs": [
    {
     "data": {
      "text/plain": [
       "'result=20000'"
      ]
     },
     "execution_count": 8,
     "metadata": {},
     "output_type": "execute_result"
    }
   ],
   "source": [
    "r1"
   ]
  },
  {
   "cell_type": "code",
   "execution_count": 9,
   "metadata": {},
   "outputs": [
    {
     "data": {
      "text/plain": [
       "'result=20000'"
      ]
     },
     "execution_count": 9,
     "metadata": {},
     "output_type": "execute_result"
    }
   ],
   "source": [
    "def result(f):\n",
    "    def inner(x,y):\n",
    "        return \"result=%s\"%(f(x,y))\n",
    "    return inner\n",
    "@result\n",
    "def mul(a,b):\n",
    "    return a*b\n",
    "mul(100,200)\n",
    "#res=result(mul)\n",
    "#r1=res(100,200)\n"
   ]
  },
  {
   "cell_type": "code",
   "execution_count": 11,
   "metadata": {},
   "outputs": [
    {
     "name": "stdout",
     "output_type": "stream",
     "text": [
      "result=20000\n",
      "None\n"
     ]
    }
   ],
   "source": [
    "def result(f):\n",
    "    def inner(x,y):\n",
    "        if isinstance(x,int) and isinstance(y,int):\n",
    "            return \"result=%s\"%(f(x,y))\n",
    "        else:\n",
    "            return None\n",
    "    return inner\n",
    "\n",
    "@result\n",
    "def mul(a,b):\n",
    "    return a*b\n",
    "print(mul(100,200))\n",
    "print(mul(\"st1\",\"st2\"))\n",
    "#res=result(mul)\n",
    "#r1=res(100,200)\n"
   ]
  },
  {
   "cell_type": "code",
   "execution_count": 12,
   "metadata": {},
   "outputs": [
    {
     "ename": "TypeError",
     "evalue": "'NoneType' object is not callable",
     "output_type": "error",
     "traceback": [
      "\u001b[0;31m---------------------------------------------------------------------------\u001b[0m",
      "\u001b[0;31mTypeError\u001b[0m                                 Traceback (most recent call last)",
      "\u001b[0;32m<ipython-input-12-f2caa751b912>\u001b[0m in \u001b[0;36m<module>\u001b[0;34m()\u001b[0m\n\u001b[1;32m     12\u001b[0m \u001b[0;31m#print(mul(\"st1\",\"st2\"))\u001b[0m\u001b[0;34m\u001b[0m\u001b[0;34m\u001b[0m\u001b[0m\n\u001b[1;32m     13\u001b[0m \u001b[0mres\u001b[0m\u001b[0;34m=\u001b[0m\u001b[0mresult\u001b[0m\u001b[0;34m(\u001b[0m\u001b[0mmul\u001b[0m\u001b[0;34m)\u001b[0m\u001b[0;34m\u001b[0m\u001b[0m\n\u001b[0;32m---> 14\u001b[0;31m \u001b[0mr1\u001b[0m\u001b[0;34m=\u001b[0m\u001b[0mres\u001b[0m\u001b[0;34m(\u001b[0m\u001b[0;36m100\u001b[0m\u001b[0;34m,\u001b[0m\u001b[0;36m200\u001b[0m\u001b[0;34m)\u001b[0m\u001b[0;34m\u001b[0m\u001b[0m\n\u001b[0m",
      "\u001b[0;31mTypeError\u001b[0m: 'NoneType' object is not callable"
     ]
    }
   ],
   "source": [
    "def result(f):\n",
    "    def inner(x,y):\n",
    "        if isinstance(x,int) and isinstance(y,int):\n",
    "            return \"result=%s\"%(f(x,y))\n",
    "        else:\n",
    "            return None\n",
    "    return None\n",
    "\n",
    "def mul(a,b):\n",
    "    return a*b\n",
    "#print(mul(100,200))\n",
    "#print(mul(\"st1\",\"st2\"))\n",
    "res=result(mul)\n",
    "r1=res(100,200)\n"
   ]
  },
  {
   "cell_type": "code",
   "execution_count": 13,
   "metadata": {},
   "outputs": [],
   "source": [
    "def result(f):\n",
    "    def inner(x,y):\n",
    "        if isinstance(x,int) and isinstance(y,int):\n",
    "            return \"result=%s\"%(f(x,y))\n",
    "        else:\n",
    "            return None\n",
    "    return inner\n",
    "\n",
    "def mul(a,b):\n",
    "    return a*b\n",
    "#print(mul(100,200))\n",
    "#print(mul(\"st1\",\"st2\"))\n",
    "res=result(mul)\n",
    "r1=res(100,200)\n"
   ]
  },
  {
   "cell_type": "code",
   "execution_count": 15,
   "metadata": {},
   "outputs": [
    {
     "name": "stdout",
     "output_type": "stream",
     "text": [
      "{'name': 'JAYARAM', 'doj': '2017-02-28', 'company_details': ['KHYAATHI', 'maithrivanam']}\n"
     ]
    }
   ],
   "source": [
    "class Emp:\n",
    "    company_name=\"KHYAATHI\"\n",
    "    company_address=\"maithrivanam\"\n",
    "    def __init__(self,name,doj):\n",
    "        self.name=name\n",
    "        self.doj=doj\n",
    "    def get(self):\n",
    "        data = self.__dict__\n",
    "        data.update({\"company_details\":[self.company_name,self.company_address]})\n",
    "        return data\n",
    "    def get_company_details(self):\n",
    "        return self.company_name,self.company_address\n",
    "jay=Emp(\"JAYARAM\",\"2017-02-28\")\n",
    "print(jay.get())"
   ]
  },
  {
   "cell_type": "code",
   "execution_count": 16,
   "metadata": {},
   "outputs": [
    {
     "name": "stdout",
     "output_type": "stream",
     "text": [
      "{'name': 'JAYARAM', 'doj': '2017-02-28', 'company_details': ['KHYAATHI', 'maithrivanam']}\n",
      "('KHYAATHI', 'maithrivanam')\n"
     ]
    }
   ],
   "source": [
    "class Emp:\n",
    "    company_name=\"KHYAATHI\"\n",
    "    company_address=\"maithrivanam\"\n",
    "    def __init__(self,name,doj):\n",
    "        self.name=name\n",
    "        self.doj=doj\n",
    "    def get(self): #instance method\n",
    "        data = self.__dict__\n",
    "        data.update({\"company_details\":[self.company_name,self.company_address]})\n",
    "        return data\n",
    "    def get_company_details(self):\n",
    "        return self.company_name,self.company_address\n",
    "jay=Emp(\"JAYARAM\",\"2017-02-28\")\n",
    "print(jay.get())\n",
    "print(jay.get_company_details())"
   ]
  },
  {
   "cell_type": "code",
   "execution_count": 17,
   "metadata": {},
   "outputs": [
    {
     "name": "stdout",
     "output_type": "stream",
     "text": [
      "self= <__main__.Emp object at 0x7f9155386e10>\n",
      "{'name': 'JAYARAM', 'doj': '2017-02-28', 'company_details': ['KHYAATHI', 'maithrivanam']}\n",
      "self= <class '__main__.Emp'>\n",
      "('KHYAATHI', 'maithrivanam')\n"
     ]
    }
   ],
   "source": [
    "class Emp:\n",
    "    company_name=\"KHYAATHI\"\n",
    "    company_address=\"maithrivanam\"\n",
    "    def __init__(self,name,doj):\n",
    "        self.name=name\n",
    "        self.doj=doj\n",
    "    def get(self): #instance method\n",
    "        print(\"self=\",self)\n",
    "        data = self.__dict__\n",
    "        data.update({\"company_details\":[self.company_name,self.company_address]})\n",
    "        return data\n",
    "    @classmethod\n",
    "    def get_company_details(self): #class method\n",
    "        print(\"self=\",self)\n",
    "        return self.company_name,self.company_address\n",
    "jay=Emp(\"JAYARAM\",\"2017-02-28\")\n",
    "print(jay.get())\n",
    "print(jay.get_company_details())"
   ]
  },
  {
   "cell_type": "code",
   "execution_count": 18,
   "metadata": {},
   "outputs": [
    {
     "name": "stdout",
     "output_type": "stream",
     "text": [
      "self= <__main__.Emp object at 0x7f9155310208>\n",
      "{'name': 'JAYARAM', 'doj': '2017-02-28', 'company_details': ['KHYAATHI', 'maithrivanam']}\n",
      "self= <class '__main__.Emp'>\n",
      "('KHYAATHI', 'maithrivanam')\n",
      "self= <class '__main__.Emp'>\n",
      "('KHYAATHI', 'maithrivanam')\n"
     ]
    }
   ],
   "source": [
    "class Emp:\n",
    "    company_name=\"KHYAATHI\"\n",
    "    company_address=\"maithrivanam\"\n",
    "    def __init__(self,name,doj):\n",
    "        self.name=name\n",
    "        self.doj=doj\n",
    "    def get(self): #instance method\n",
    "        print(\"self=\",self)\n",
    "        data = self.__dict__\n",
    "        data.update({\"company_details\":[self.company_name,self.company_address]})\n",
    "        return data\n",
    "    @classmethod\n",
    "    def get_company_details(self): #class method\n",
    "        print(\"self=\",self)\n",
    "        return self.company_name,self.company_address\n",
    "jay=Emp(\"JAYARAM\",\"2017-02-28\")\n",
    "print(jay.get())\n",
    "print(jay.get_company_details())\n",
    "print(Emp.get_company_details())"
   ]
  },
  {
   "cell_type": "code",
   "execution_count": 19,
   "metadata": {},
   "outputs": [
    {
     "name": "stdout",
     "output_type": "stream",
     "text": [
      "self= <__main__.Emp object at 0x7f9155310438>\n",
      "{'name': 'JAYARAM', 'doj': '2017-02-28', 'company_details': ['KHYAATHI', 'maithrivanam']}\n",
      "cls= <class '__main__.Emp'>\n",
      "('KHYAATHI', 'maithrivanam')\n",
      "cls= <class '__main__.Emp'>\n",
      "('KHYAATHI', 'maithrivanam')\n"
     ]
    }
   ],
   "source": [
    "class Emp:\n",
    "    company_name=\"KHYAATHI\"\n",
    "    company_address=\"maithrivanam\"\n",
    "    def __init__(self,name,doj):\n",
    "        self.name=name\n",
    "        self.doj=doj\n",
    "    def get(self): #instance method\n",
    "        print(\"self=\",self)\n",
    "        data = self.__dict__\n",
    "        data.update({\"company_details\":[self.company_name,self.company_address]})\n",
    "        return data\n",
    "    @classmethod\n",
    "    def get_company_details(cls): #class method\n",
    "        print(\"cls=\",cls)\n",
    "        return cls.company_name,cls.company_address\n",
    "jay=Emp(\"JAYARAM\",\"2017-02-28\")\n",
    "print(jay.get())\n",
    "print(jay.get_company_details())\n",
    "print(Emp.get_company_details())"
   ]
  },
  {
   "cell_type": "code",
   "execution_count": 21,
   "metadata": {},
   "outputs": [
    {
     "name": "stdout",
     "output_type": "stream",
     "text": [
      "self= <__main__.Emp object at 0x7f9155307748>\n",
      "{'name': 'JAYARAM', 'doj': '2017-02-28', 'company_details': ['KHYAATHI', 'maithrivanam']}\n",
      "self= <__main__.Emp object at 0x7f9155307748>\n",
      "('KHYAATHI', 'maithrivanam')\n"
     ]
    }
   ],
   "source": [
    "class Emp:\n",
    "    company_name=\"KHYAATHI\"\n",
    "    company_address=\"maithrivanam\"\n",
    "    def __init__(self,name,doj):\n",
    "        self.name=name\n",
    "        self.doj=doj\n",
    "    def get(self): #instance method\n",
    "        print(\"self=\",self)\n",
    "        data = self.__dict__\n",
    "        data.update({\"company_details\":[self.company_name,self.company_address]})\n",
    "        return data\n",
    "    def get_company_details(self): #class method\n",
    "        print(\"self=\",self)\n",
    "        return self.company_name,self.company_address\n",
    "jay=Emp(\"JAYARAM\",\"2017-02-28\")\n",
    "print(jay.get())\n",
    "print(jay.get_company_details())\n",
    "#print(Emp.get_company_details())"
   ]
  },
  {
   "cell_type": "code",
   "execution_count": 22,
   "metadata": {},
   "outputs": [
    {
     "name": "stdout",
     "output_type": "stream",
     "text": [
      "self= <__main__.Emp object at 0x7f9155307a90>\n",
      "{'name': 'JAYARAM', 'doj': '2017-02-28', 'company_details': ['KHYAATHI', 'maithrivanam']}\n",
      "self= <class '__main__.Emp'>\n",
      "('KHYAATHI', 'maithrivanam')\n",
      "self= <class '__main__.Emp'>\n",
      "('KHYAATHI', 'maithrivanam')\n"
     ]
    }
   ],
   "source": [
    "class Emp:\n",
    "    company_name=\"KHYAATHI\"\n",
    "    company_address=\"maithrivanam\"\n",
    "    def __init__(self,name,doj):\n",
    "        self.name=name\n",
    "        self.doj=doj\n",
    "    def get(self): #instance method\n",
    "        print(\"self=\",self)\n",
    "        data = self.__dict__\n",
    "        data.update({\"company_details\":[self.company_name,self.company_address]})\n",
    "        return data\n",
    "    @classmethod\n",
    "    def get_company_details(self): #class method\n",
    "        print(\"self=\",self)\n",
    "        return self.company_name,self.company_address\n",
    "jay=Emp(\"JAYARAM\",\"2017-02-28\")\n",
    "print(jay.get())\n",
    "print(jay.get_company_details())\n",
    "print(Emp.get_company_details())"
   ]
  },
  {
   "cell_type": "code",
   "execution_count": 23,
   "metadata": {},
   "outputs": [
    {
     "name": "stdout",
     "output_type": "stream",
     "text": [
      "self= <__main__.Emp object at 0x7f9155307be0>\n",
      "{'name': 'JAYARAM', 'doj': '2017-02-28', 'company_details': ['KHYAATHI', 'maithrivanam']}\n",
      "self= <class '__main__.Emp'>\n"
     ]
    },
    {
     "ename": "AttributeError",
     "evalue": "type object 'Emp' has no attribute 'name'",
     "output_type": "error",
     "traceback": [
      "\u001b[0;31m---------------------------------------------------------------------------\u001b[0m",
      "\u001b[0;31mAttributeError\u001b[0m                            Traceback (most recent call last)",
      "\u001b[0;32m<ipython-input-23-12d0124fbc59>\u001b[0m in \u001b[0;36m<module>\u001b[0;34m()\u001b[0m\n\u001b[1;32m     17\u001b[0m \u001b[0mjay\u001b[0m\u001b[0;34m=\u001b[0m\u001b[0mEmp\u001b[0m\u001b[0;34m(\u001b[0m\u001b[0;34m\"JAYARAM\"\u001b[0m\u001b[0;34m,\u001b[0m\u001b[0;34m\"2017-02-28\"\u001b[0m\u001b[0;34m)\u001b[0m\u001b[0;34m\u001b[0m\u001b[0m\n\u001b[1;32m     18\u001b[0m \u001b[0mprint\u001b[0m\u001b[0;34m(\u001b[0m\u001b[0mjay\u001b[0m\u001b[0;34m.\u001b[0m\u001b[0mget\u001b[0m\u001b[0;34m(\u001b[0m\u001b[0;34m)\u001b[0m\u001b[0;34m)\u001b[0m\u001b[0;34m\u001b[0m\u001b[0m\n\u001b[0;32m---> 19\u001b[0;31m \u001b[0mprint\u001b[0m\u001b[0;34m(\u001b[0m\u001b[0mjay\u001b[0m\u001b[0;34m.\u001b[0m\u001b[0mget_company_details\u001b[0m\u001b[0;34m(\u001b[0m\u001b[0;34m)\u001b[0m\u001b[0;34m)\u001b[0m\u001b[0;34m\u001b[0m\u001b[0m\n\u001b[0m\u001b[1;32m     20\u001b[0m \u001b[0;31m#print(Emp.get_company_details())\u001b[0m\u001b[0;34m\u001b[0m\u001b[0;34m\u001b[0m\u001b[0m\n",
      "\u001b[0;32m<ipython-input-23-12d0124fbc59>\u001b[0m in \u001b[0;36mget_company_details\u001b[0;34m(self)\u001b[0m\n\u001b[1;32m     13\u001b[0m     \u001b[0;32mdef\u001b[0m \u001b[0mget_company_details\u001b[0m\u001b[0;34m(\u001b[0m\u001b[0mself\u001b[0m\u001b[0;34m)\u001b[0m\u001b[0;34m:\u001b[0m \u001b[0;31m#class method\u001b[0m\u001b[0;34m\u001b[0m\u001b[0m\n\u001b[1;32m     14\u001b[0m         \u001b[0mprint\u001b[0m\u001b[0;34m(\u001b[0m\u001b[0;34m\"self=\"\u001b[0m\u001b[0;34m,\u001b[0m\u001b[0mself\u001b[0m\u001b[0;34m)\u001b[0m\u001b[0;34m\u001b[0m\u001b[0m\n\u001b[0;32m---> 15\u001b[0;31m         \u001b[0mprint\u001b[0m\u001b[0;34m(\u001b[0m\u001b[0mself\u001b[0m\u001b[0;34m.\u001b[0m\u001b[0mname\u001b[0m\u001b[0;34m)\u001b[0m\u001b[0;34m\u001b[0m\u001b[0m\n\u001b[0m\u001b[1;32m     16\u001b[0m         \u001b[0;32mreturn\u001b[0m \u001b[0mself\u001b[0m\u001b[0;34m.\u001b[0m\u001b[0mcompany_name\u001b[0m\u001b[0;34m,\u001b[0m\u001b[0mself\u001b[0m\u001b[0;34m.\u001b[0m\u001b[0mcompany_address\u001b[0m\u001b[0;34m\u001b[0m\u001b[0m\n\u001b[1;32m     17\u001b[0m \u001b[0mjay\u001b[0m\u001b[0;34m=\u001b[0m\u001b[0mEmp\u001b[0m\u001b[0;34m(\u001b[0m\u001b[0;34m\"JAYARAM\"\u001b[0m\u001b[0;34m,\u001b[0m\u001b[0;34m\"2017-02-28\"\u001b[0m\u001b[0;34m)\u001b[0m\u001b[0;34m\u001b[0m\u001b[0m\n",
      "\u001b[0;31mAttributeError\u001b[0m: type object 'Emp' has no attribute 'name'"
     ]
    }
   ],
   "source": [
    "class Emp:\n",
    "    company_name=\"KHYAATHI\"\n",
    "    company_address=\"maithrivanam\"\n",
    "    def __init__(self,name,doj):\n",
    "        self.name=name\n",
    "        self.doj=doj\n",
    "    def get(self): #instance method\n",
    "        print(\"self=\",self)\n",
    "        data = self.__dict__\n",
    "        data.update({\"company_details\":[self.company_name,self.company_address]})\n",
    "        return data\n",
    "    @classmethod\n",
    "    def get_company_details(self): #class method\n",
    "        print(\"self=\",self)\n",
    "        print(self.name)\n",
    "        return self.company_name,self.company_address\n",
    "jay=Emp(\"JAYARAM\",\"2017-02-28\")\n",
    "print(jay.get())\n",
    "print(jay.get_company_details())\n",
    "#print(Emp.get_company_details())"
   ]
  },
  {
   "cell_type": "code",
   "execution_count": 24,
   "metadata": {},
   "outputs": [
    {
     "name": "stdout",
     "output_type": "stream",
     "text": [
      "100 200\n",
      "None\n",
      "10 20\n",
      "None\n"
     ]
    }
   ],
   "source": [
    "class Emp:\n",
    "    company_name=\"KHYAATHI\"\n",
    "    company_address=\"maithrivanam\"\n",
    "    def __init__(self,name,doj):\n",
    "        self.name=name\n",
    "        self.doj=doj\n",
    "    def get(self): #instance method\n",
    "        print(\"self=\",self)\n",
    "        data = self.__dict__\n",
    "        data.update({\"company_details\":[self.company_name,self.company_address]})\n",
    "        return data\n",
    "    @classmethod\n",
    "    def get_company_details(self): #class method\n",
    "        return self.company_name,self.company_address\n",
    "    @staticmethod\n",
    "    def sta(x,y):\n",
    "        print(x,y)\n",
    "jay=Emp(\"JAYARAM\",\"2017-02-28\")\n",
    "print(jay.sta(100,200))\n",
    "print(Emp.sta(10,20))"
   ]
  },
  {
   "cell_type": "code",
   "execution_count": 27,
   "metadata": {},
   "outputs": [],
   "source": [
    "class Emp:\n",
    "    company_name=\"KHYAATHI\"\n",
    "    company_address=\"maithrivanam\"\n",
    "    def __init__(self,name,doj):\n",
    "        self.name=name\n",
    "        self.doj=doj\n",
    "    def get(self):\n",
    "        data = self.__dict__\n",
    "        data.update({\"company_details\":[self.company_name,self.company_address]})\n",
    "        return data\n",
    "    @classmethod\n",
    "    def get_company_details(self):\n",
    "        return self.company_name,self.company_address\n",
    "    @staticmethod\n",
    "    def sta(x,y):\n",
    "        print(x,y)\n"
   ]
  },
  {
   "cell_type": "code",
   "execution_count": 32,
   "metadata": {},
   "outputs": [
    {
     "name": "stdout",
     "output_type": "stream",
     "text": [
      "{'name': 'APPLE', 'dis': 10.0, 'cost': 100, 'profit': 20, 'sales': 130.0}\n"
     ]
    }
   ],
   "source": [
    "class Product:\n",
    "    def __init__(self,name,dis,cost,profit):\n",
    "        self.name=name\n",
    "        self.dis=cost*(dis/100)\n",
    "        self.cost=cost\n",
    "        self.profit=profit\n",
    "        self.sales = cost+profit+self.dis\n",
    "    def get(self):\n",
    "        return self.__dict__\n",
    "apple=Product(\"APPLE\",10,100,20)\n",
    "print(apple.get())"
   ]
  },
  {
   "cell_type": "code",
   "execution_count": 28,
   "metadata": {},
   "outputs": [
    {
     "data": {
      "text/plain": [
       "10.0"
      ]
     },
     "execution_count": 28,
     "metadata": {},
     "output_type": "execute_result"
    }
   ],
   "source": [
    "s=100\n",
    "100*0.1"
   ]
  },
  {
   "cell_type": "code",
   "execution_count": 34,
   "metadata": {},
   "outputs": [
    {
     "name": "stdout",
     "output_type": "stream",
     "text": [
      "{'name': 'APPLE', 'cost': 100, 'profit': 20, 'dis': 10.0, 'sales': 130.0}\n",
      "{'name': 'APPLE', 'cost': 100, 'profit': 20, 'dis': 5, 'sales': 130.0}\n"
     ]
    }
   ],
   "source": [
    "class Product:\n",
    "    def __init__(self,name,dis,cost,profit):\n",
    "        self.name=name\n",
    "        self.cost=cost\n",
    "        self.profit=profit\n",
    "        self.dis=self.cost*(dis/100)\n",
    "        self.sales = self.cost+self.profit+self.dis\n",
    "    def get(self):\n",
    "        return self.__dict__\n",
    "apple=Product(\"APPLE\",10,100,20)\n",
    "print(apple.get())\n",
    "apple.dis=5\n",
    "print(apple.get())"
   ]
  },
  {
   "cell_type": "code",
   "execution_count": 37,
   "metadata": {},
   "outputs": [
    {
     "name": "stdout",
     "output_type": "stream",
     "text": [
      "{'name': 'APPLE', 'cost': 100, 'profit': 20, 'dis': 10.0, 'sale_price': 130.0}\n",
      "{'name': 'APPLE', 'cost': 100, 'profit': 20, 'dis': 5, 'sale_price': 125}\n"
     ]
    }
   ],
   "source": [
    "class Product:\n",
    "    def __init__(self,name,dis,cost,profit):\n",
    "        self.name=name\n",
    "        self.cost=cost\n",
    "        self.profit=profit\n",
    "        self.dis=self.cost*(dis/100)\n",
    "    def sales(self):\n",
    "        return self.cost+self.profit+self.dis\n",
    "    def get(self):\n",
    "        data=self.__dict__\n",
    "        data.update({\"sale_price\":self.sales()})\n",
    "        return data\n",
    "apple=Product(\"APPLE\",10,100,20)\n",
    "print(apple.get())\n",
    "apple.dis=5\n",
    "print(apple.get())"
   ]
  },
  {
   "cell_type": "code",
   "execution_count": 40,
   "metadata": {},
   "outputs": [
    {
     "name": "stdout",
     "output_type": "stream",
     "text": [
      "130.0\n",
      "125\n"
     ]
    }
   ],
   "source": [
    "class Product:\n",
    "    def __init__(self,name,dis,cost,profit):\n",
    "        self.name=name\n",
    "        self.cost=cost\n",
    "        self.profit=profit\n",
    "        self.dis=self.cost*(dis/100)\n",
    "    @property\n",
    "    def sales(self):\n",
    "        return self.cost+self.profit+self.dis\n",
    "    def get_sales(self):\n",
    "        return self.sales\n",
    "apple=Product(\"APPLE\",10,100,20)\n",
    "print(apple.get_sales())\n",
    "apple.dis=5\n",
    "print(apple.get_sales())"
   ]
  },
  {
   "cell_type": "code",
   "execution_count": 41,
   "metadata": {},
   "outputs": [],
   "source": [
    "class Liscense:\n",
    "    def __init__(self,user):\n",
    "        self.user=user\n",
    "user1=Liscense(\"user1\")\n",
    "user2=Liscense(\"user2\")"
   ]
  },
  {
   "cell_type": "code",
   "execution_count": 42,
   "metadata": {},
   "outputs": [
    {
     "name": "stdout",
     "output_type": "stream",
     "text": [
      "user1\n",
      "user2\n"
     ]
    }
   ],
   "source": [
    "class Liscense(object):\n",
    "    def __init__(self,user):\n",
    "        self.user=user\n",
    "user1=Liscense(\"user1\")\n",
    "user2=Liscense(\"user2\")\n",
    "print(user1.user)\n",
    "print(user2.user)"
   ]
  },
  {
   "cell_type": "code",
   "execution_count": 44,
   "metadata": {},
   "outputs": [
    {
     "name": "stdout",
     "output_type": "stream",
     "text": [
      "this is new method\n",
      "this is new method\n"
     ]
    },
    {
     "ename": "AttributeError",
     "evalue": "'NoneType' object has no attribute 'user'",
     "output_type": "error",
     "traceback": [
      "\u001b[0;31m---------------------------------------------------------------------------\u001b[0m",
      "\u001b[0;31mAttributeError\u001b[0m                            Traceback (most recent call last)",
      "\u001b[0;32m<ipython-input-44-72176e1b4445>\u001b[0m in \u001b[0;36m<module>\u001b[0;34m()\u001b[0m\n\u001b[1;32m      8\u001b[0m \u001b[0muser1\u001b[0m\u001b[0;34m=\u001b[0m\u001b[0mLiscense\u001b[0m\u001b[0;34m(\u001b[0m\u001b[0;34m\"user1\"\u001b[0m\u001b[0;34m)\u001b[0m\u001b[0;34m\u001b[0m\u001b[0m\n\u001b[1;32m      9\u001b[0m \u001b[0muser2\u001b[0m\u001b[0;34m=\u001b[0m\u001b[0mLiscense\u001b[0m\u001b[0;34m(\u001b[0m\u001b[0;34m\"user2\"\u001b[0m\u001b[0;34m)\u001b[0m\u001b[0;34m\u001b[0m\u001b[0m\n\u001b[0;32m---> 10\u001b[0;31m \u001b[0mprint\u001b[0m\u001b[0;34m(\u001b[0m\u001b[0muser1\u001b[0m\u001b[0;34m.\u001b[0m\u001b[0muser\u001b[0m\u001b[0;34m)\u001b[0m\u001b[0;34m\u001b[0m\u001b[0m\n\u001b[0m\u001b[1;32m     11\u001b[0m \u001b[0mprint\u001b[0m\u001b[0;34m(\u001b[0m\u001b[0muser2\u001b[0m\u001b[0;34m.\u001b[0m\u001b[0muser\u001b[0m\u001b[0;34m)\u001b[0m\u001b[0;34m\u001b[0m\u001b[0m\n",
      "\u001b[0;31mAttributeError\u001b[0m: 'NoneType' object has no attribute 'user'"
     ]
    }
   ],
   "source": [
    "class Liscense(object):\n",
    "    def __new__(self,*args):\n",
    "        print(\"this is new method\")\n",
    "        return None\n",
    "    def __init__(self,user):\n",
    "        print(\"this is constructor\")\n",
    "        self.user=user\n",
    "user1=Liscense(\"user1\")\n",
    "# it will calls the __new__ method it will take the return value of new method consider that it is r1:\n",
    "# after tyhis r1.__init__(*args)\n",
    "user2=Liscense(\"user2\")\n",
    "print(user1.user)\n",
    "print(user2.user)"
   ]
  },
  {
   "cell_type": "code",
   "execution_count": 46,
   "metadata": {},
   "outputs": [
    {
     "name": "stdout",
     "output_type": "stream",
     "text": [
      "this is new method\n",
      "this is constructor\n",
      "this is new method\n",
      "this is constructor\n",
      "user1\n",
      "user2\n"
     ]
    }
   ],
   "source": [
    "class Liscense(object):\n",
    "    def __new__(cls,*args):\n",
    "        print(\"this is new method\")\n",
    "        obj=object.__new__(cls)\n",
    "        return obj\n",
    "    def __init__(self,user):\n",
    "        print(\"this is constructor\")\n",
    "        self.user=user\n",
    "user1=Liscense(\"user1\")\n",
    "# it will calls the __new__ method it will take the return value of new method consider that it is r1:\n",
    "# after tyhis r1.__init__(*args)\n",
    "user2=Liscense(\"user2\")\n",
    "print(user1.user)\n",
    "print(user2.user)"
   ]
  },
  {
   "cell_type": "code",
   "execution_count": 47,
   "metadata": {},
   "outputs": [
    {
     "name": "stdout",
     "output_type": "stream",
     "text": [
      "this is constructor\n",
      "this is constructor\n",
      "1\n",
      "2\n"
     ]
    }
   ],
   "source": [
    "class Liscense(object):\n",
    "    count=0\n",
    "    def __new__(cls,*args):\n",
    "        obj=object.__new__(cls)\n",
    "        cls.count=cls.count+1\n",
    "        return obj\n",
    "    def __init__(self,user):\n",
    "        print(\"this is constructor\")\n",
    "        self.user=user\n",
    "        self.obj_count=self.count\n",
    "user1=Liscense(\"user1\")\n",
    "# it will calls the __new__ method it will take the return value of new method consider that it is r1:\n",
    "# after tyhis r1.__init__(*args)\n",
    "user2=Liscense(\"user2\")\n",
    "print(user1.obj_count)\n",
    "print(user2.obj_count)"
   ]
  },
  {
   "cell_type": "code",
   "execution_count": 48,
   "metadata": {},
   "outputs": [
    {
     "name": "stdout",
     "output_type": "stream",
     "text": [
      "this is constructor\n"
     ]
    },
    {
     "ename": "Exception",
     "evalue": "Could not create morethan one object",
     "output_type": "error",
     "traceback": [
      "\u001b[0;31m---------------------------------------------------------------------------\u001b[0m",
      "\u001b[0;31mException\u001b[0m                                 Traceback (most recent call last)",
      "\u001b[0;32m<ipython-input-48-1c37e8ee2633>\u001b[0m in \u001b[0;36m<module>\u001b[0;34m()\u001b[0m\n\u001b[1;32m     15\u001b[0m \u001b[0;31m# it will calls the __new__ method it will take the return value of new method consider that it is r1:\u001b[0m\u001b[0;34m\u001b[0m\u001b[0;34m\u001b[0m\u001b[0m\n\u001b[1;32m     16\u001b[0m \u001b[0;31m# after tyhis r1.__init__(*args)\u001b[0m\u001b[0;34m\u001b[0m\u001b[0;34m\u001b[0m\u001b[0m\n\u001b[0;32m---> 17\u001b[0;31m \u001b[0muser2\u001b[0m\u001b[0;34m=\u001b[0m\u001b[0mLiscense\u001b[0m\u001b[0;34m(\u001b[0m\u001b[0;34m\"user2\"\u001b[0m\u001b[0;34m)\u001b[0m\u001b[0;34m\u001b[0m\u001b[0m\n\u001b[0m\u001b[1;32m     18\u001b[0m \u001b[0mprint\u001b[0m\u001b[0;34m(\u001b[0m\u001b[0muser1\u001b[0m\u001b[0;34m.\u001b[0m\u001b[0mobj_count\u001b[0m\u001b[0;34m)\u001b[0m\u001b[0;34m\u001b[0m\u001b[0m\n\u001b[1;32m     19\u001b[0m \u001b[0mprint\u001b[0m\u001b[0;34m(\u001b[0m\u001b[0muser2\u001b[0m\u001b[0;34m.\u001b[0m\u001b[0mobj_count\u001b[0m\u001b[0;34m)\u001b[0m\u001b[0;34m\u001b[0m\u001b[0m\n",
      "\u001b[0;32m<ipython-input-48-1c37e8ee2633>\u001b[0m in \u001b[0;36m__new__\u001b[0;34m(cls, *args)\u001b[0m\n\u001b[1;32m      7\u001b[0m             \u001b[0;32mreturn\u001b[0m \u001b[0mobj\u001b[0m\u001b[0;34m\u001b[0m\u001b[0m\n\u001b[1;32m      8\u001b[0m         \u001b[0;32melse\u001b[0m\u001b[0;34m:\u001b[0m\u001b[0;34m\u001b[0m\u001b[0m\n\u001b[0;32m----> 9\u001b[0;31m             \u001b[0;32mraise\u001b[0m \u001b[0mException\u001b[0m\u001b[0;34m(\u001b[0m\u001b[0;34m\"Could not create morethan one object\"\u001b[0m\u001b[0;34m)\u001b[0m\u001b[0;34m\u001b[0m\u001b[0m\n\u001b[0m\u001b[1;32m     10\u001b[0m     \u001b[0;32mdef\u001b[0m \u001b[0m__init__\u001b[0m\u001b[0;34m(\u001b[0m\u001b[0mself\u001b[0m\u001b[0;34m,\u001b[0m\u001b[0muser\u001b[0m\u001b[0;34m)\u001b[0m\u001b[0;34m:\u001b[0m\u001b[0;34m\u001b[0m\u001b[0m\n\u001b[1;32m     11\u001b[0m         \u001b[0mprint\u001b[0m\u001b[0;34m(\u001b[0m\u001b[0;34m\"this is constructor\"\u001b[0m\u001b[0;34m)\u001b[0m\u001b[0;34m\u001b[0m\u001b[0m\n",
      "\u001b[0;31mException\u001b[0m: Could not create morethan one object"
     ]
    }
   ],
   "source": [
    "#singleton\n",
    "class Liscense(object):\n",
    "    count=0\n",
    "    def __new__(cls,*args):\n",
    "        if cls.count==0:\n",
    "            obj=object.__new__(cls)\n",
    "            cls.count=cls.count+1\n",
    "            return obj\n",
    "        else:\n",
    "            raise Exception(\"Could not create morethan one object\")\n",
    "    def __init__(self,user):\n",
    "        print(\"this is constructor\")\n",
    "        self.user=user\n",
    "        self.obj_count=self.count\n",
    "user1=Liscense(\"user1\")\n",
    "# it will calls the __new__ method it will take the return value of new method consider that it is r1:\n",
    "# after tyhis r1.__init__(*args)\n",
    "user2=Liscense(\"user2\")\n",
    "print(user1.obj_count)\n",
    "print(user2.obj_count)"
   ]
  },
  {
   "cell_type": "code",
   "execution_count": 49,
   "metadata": {},
   "outputs": [
    {
     "name": "stdout",
     "output_type": "stream",
     "text": [
      "this is constructor\n"
     ]
    },
    {
     "ename": "SingletonException",
     "evalue": "Could not create morethan one object",
     "output_type": "error",
     "traceback": [
      "\u001b[0;31m---------------------------------------------------------------------------\u001b[0m",
      "\u001b[0;31mSingletonException\u001b[0m                        Traceback (most recent call last)",
      "\u001b[0;32m<ipython-input-49-29705b7dca00>\u001b[0m in \u001b[0;36m<module>\u001b[0;34m()\u001b[0m\n\u001b[1;32m     18\u001b[0m \u001b[0;31m# it will calls the __new__ method it will take the return value of new method consider that it is r1:\u001b[0m\u001b[0;34m\u001b[0m\u001b[0;34m\u001b[0m\u001b[0m\n\u001b[1;32m     19\u001b[0m \u001b[0;31m# after tyhis r1.__init__(*args)\u001b[0m\u001b[0;34m\u001b[0m\u001b[0;34m\u001b[0m\u001b[0m\n\u001b[0;32m---> 20\u001b[0;31m \u001b[0muser2\u001b[0m\u001b[0;34m=\u001b[0m\u001b[0mLiscense\u001b[0m\u001b[0;34m(\u001b[0m\u001b[0;34m\"user2\"\u001b[0m\u001b[0;34m)\u001b[0m\u001b[0;34m\u001b[0m\u001b[0m\n\u001b[0m\u001b[1;32m     21\u001b[0m \u001b[0mprint\u001b[0m\u001b[0;34m(\u001b[0m\u001b[0muser1\u001b[0m\u001b[0;34m.\u001b[0m\u001b[0mobj_count\u001b[0m\u001b[0;34m)\u001b[0m\u001b[0;34m\u001b[0m\u001b[0m\n\u001b[1;32m     22\u001b[0m \u001b[0mprint\u001b[0m\u001b[0;34m(\u001b[0m\u001b[0muser2\u001b[0m\u001b[0;34m.\u001b[0m\u001b[0mobj_count\u001b[0m\u001b[0;34m)\u001b[0m\u001b[0;34m\u001b[0m\u001b[0m\n",
      "\u001b[0;32m<ipython-input-49-29705b7dca00>\u001b[0m in \u001b[0;36m__new__\u001b[0;34m(cls, *args)\u001b[0m\n\u001b[1;32m     10\u001b[0m             \u001b[0;32mreturn\u001b[0m \u001b[0mobj\u001b[0m\u001b[0;34m\u001b[0m\u001b[0m\n\u001b[1;32m     11\u001b[0m         \u001b[0;32melse\u001b[0m\u001b[0;34m:\u001b[0m\u001b[0;34m\u001b[0m\u001b[0m\n\u001b[0;32m---> 12\u001b[0;31m             \u001b[0;32mraise\u001b[0m \u001b[0mSingletonException\u001b[0m\u001b[0;34m(\u001b[0m\u001b[0;34m\"Could not create morethan one object\"\u001b[0m\u001b[0;34m)\u001b[0m\u001b[0;34m\u001b[0m\u001b[0m\n\u001b[0m\u001b[1;32m     13\u001b[0m     \u001b[0;32mdef\u001b[0m \u001b[0m__init__\u001b[0m\u001b[0;34m(\u001b[0m\u001b[0mself\u001b[0m\u001b[0;34m,\u001b[0m\u001b[0muser\u001b[0m\u001b[0;34m)\u001b[0m\u001b[0;34m:\u001b[0m\u001b[0;34m\u001b[0m\u001b[0m\n\u001b[1;32m     14\u001b[0m         \u001b[0mprint\u001b[0m\u001b[0;34m(\u001b[0m\u001b[0;34m\"this is constructor\"\u001b[0m\u001b[0;34m)\u001b[0m\u001b[0;34m\u001b[0m\u001b[0m\n",
      "\u001b[0;31mSingletonException\u001b[0m: Could not create morethan one object"
     ]
    }
   ],
   "source": [
    "class SingletonException(Exception):\n",
    "    pass\n",
    "#singleton\n",
    "class Liscense(object):\n",
    "    count=0\n",
    "    def __new__(cls,*args):\n",
    "        if cls.count==0:\n",
    "            obj=object.__new__(cls)\n",
    "            cls.count=cls.count+1\n",
    "            return obj\n",
    "        else:\n",
    "            raise SingletonException(\"Could not create morethan one object\")\n",
    "    def __init__(self,user):\n",
    "        print(\"this is constructor\")\n",
    "        self.user=user\n",
    "        self.obj_count=self.count\n",
    "user1=Liscense(\"user1\")\n",
    "# it will calls the __new__ method it will take the return value of new method consider that it is r1:\n",
    "# after tyhis r1.__init__(*args)\n",
    "user2=Liscense(\"user2\")\n",
    "print(user1.obj_count)\n",
    "print(user2.obj_count)"
   ]
  },
  {
   "cell_type": "code",
   "execution_count": 50,
   "metadata": {},
   "outputs": [
    {
     "name": "stdout",
     "output_type": "stream",
     "text": [
      "this is constructor\n",
      "Could not create morethan one object\n"
     ]
    }
   ],
   "source": [
    "class SingletonException(Exception):\n",
    "    pass\n",
    "#singleton\n",
    "class Liscense(object):\n",
    "    count=0\n",
    "    def __new__(cls,*args):\n",
    "        if cls.count==0:\n",
    "            obj=object.__new__(cls)\n",
    "            cls.count=cls.count+1\n",
    "            return obj\n",
    "        else:\n",
    "            raise SingletonException(\"Could not create morethan one object\")\n",
    "    def __init__(self,user):\n",
    "        print(\"this is constructor\")\n",
    "        self.user=user\n",
    "        self.obj_count=self.count\n",
    "try:\n",
    "    user1=Liscense(\"user1\")\n",
    "    # it will calls the __new__ method it will take the return value of new method consider that it is r1:\n",
    "    # after tyhis r1.__init__(*args)\n",
    "    user2=Liscense(\"user2\")\n",
    "    print(user1.obj_count)\n",
    "    print(user2.obj_count)\n",
    "except Exception as err:\n",
    "    print(err)"
   ]
  },
  {
   "cell_type": "code",
   "execution_count": 51,
   "metadata": {},
   "outputs": [
    {
     "name": "stdout",
     "output_type": "stream",
     "text": [
      "home loan implemented\n"
     ]
    },
    {
     "ename": "NotImplemented",
     "evalue": "Rd not implemented",
     "output_type": "error",
     "traceback": [
      "\u001b[0;31m---------------------------------------------------------------------------\u001b[0m",
      "\u001b[0;31mNotImplemented\u001b[0m                            Traceback (most recent call last)",
      "\u001b[0;32m<ipython-input-51-da9db5acac21>\u001b[0m in \u001b[0;36m<module>\u001b[0;34m()\u001b[0m\n\u001b[1;32m     24\u001b[0m \u001b[0msreenagar\u001b[0m \u001b[0;34m=\u001b[0m \u001b[0mICICI\u001b[0m\u001b[0;34m(\u001b[0m\u001b[0;34m)\u001b[0m\u001b[0;34m\u001b[0m\u001b[0m\n\u001b[1;32m     25\u001b[0m \u001b[0msreenagar\u001b[0m\u001b[0;34m.\u001b[0m\u001b[0mHL\u001b[0m\u001b[0;34m(\u001b[0m\u001b[0;34m)\u001b[0m\u001b[0;34m\u001b[0m\u001b[0m\n\u001b[0;32m---> 26\u001b[0;31m \u001b[0msreenagar\u001b[0m\u001b[0;34m.\u001b[0m\u001b[0mRD\u001b[0m\u001b[0;34m(\u001b[0m\u001b[0;34m)\u001b[0m\u001b[0;34m\u001b[0m\u001b[0m\n\u001b[0m",
      "\u001b[0;32m<ipython-input-51-da9db5acac21>\u001b[0m in \u001b[0;36mRD\u001b[0;34m(self)\u001b[0m\n\u001b[1;32m      5\u001b[0m     \u001b[0;34m@\u001b[0m\u001b[0mabstractmethod\u001b[0m\u001b[0;34m\u001b[0m\u001b[0m\n\u001b[1;32m      6\u001b[0m     \u001b[0;32mdef\u001b[0m \u001b[0mRD\u001b[0m\u001b[0;34m(\u001b[0m\u001b[0mself\u001b[0m\u001b[0;34m)\u001b[0m\u001b[0;34m:\u001b[0m\u001b[0;34m\u001b[0m\u001b[0m\n\u001b[0;32m----> 7\u001b[0;31m         \u001b[0;32mraise\u001b[0m \u001b[0mNotImplemented\u001b[0m\u001b[0;34m(\u001b[0m\u001b[0;34m\"Rd not implemented\"\u001b[0m\u001b[0;34m)\u001b[0m\u001b[0;34m\u001b[0m\u001b[0m\n\u001b[0m\u001b[1;32m      8\u001b[0m     \u001b[0;34m@\u001b[0m\u001b[0mabstractmethod\u001b[0m\u001b[0;34m\u001b[0m\u001b[0m\n\u001b[1;32m      9\u001b[0m     \u001b[0;32mdef\u001b[0m \u001b[0mHL\u001b[0m\u001b[0;34m(\u001b[0m\u001b[0mself\u001b[0m\u001b[0;34m)\u001b[0m\u001b[0;34m:\u001b[0m\u001b[0;34m\u001b[0m\u001b[0m\n",
      "\u001b[0;31mNotImplemented\u001b[0m: Rd not implemented"
     ]
    }
   ],
   "source": [
    "from abc import abstractmethod\n",
    "class NotImplemented(Exception):\n",
    "    pass\n",
    "class Bank:\n",
    "    @abstractmethod\n",
    "    def RD(self):\n",
    "        raise NotImplemented(\"Rd not implemented\")\n",
    "    @abstractmethod\n",
    "    def HL(self):\n",
    "        raise NotImplemented(\"Rd not implemented\")\n",
    "    @abstractmethod\n",
    "    def PL(self):\n",
    "        raise NotImplemented(\"Rd not implemented\")\n",
    "class ICICI(Bank):\n",
    "    def HL(self):\n",
    "        print(\"home loan implemented\")\n",
    "    def PL(self):\n",
    "        print(\"personal loan implemented\")\n",
    "class HDFC(Bank):\n",
    "    def RD(self):\n",
    "        print(\"iplemented recurring deposits\")\n",
    "    def HL(self):\n",
    "        print(\"implemented home loans\")\n",
    "sreenagar = ICICI()\n",
    "sreenagar.HL()\n",
    "sreenagar.RD()"
   ]
  },
  {
   "cell_type": "code",
   "execution_count": 52,
   "metadata": {},
   "outputs": [
    {
     "ename": "TypeError",
     "evalue": "Can't instantiate abstract class ICICI with abstract methods RD",
     "output_type": "error",
     "traceback": [
      "\u001b[0;31m---------------------------------------------------------------------------\u001b[0m",
      "\u001b[0;31mTypeError\u001b[0m                                 Traceback (most recent call last)",
      "\u001b[0;32m<ipython-input-52-caff81bf849d>\u001b[0m in \u001b[0;36m<module>\u001b[0;34m()\u001b[0m\n\u001b[1;32m     22\u001b[0m     \u001b[0;32mdef\u001b[0m \u001b[0mHL\u001b[0m\u001b[0;34m(\u001b[0m\u001b[0mself\u001b[0m\u001b[0;34m)\u001b[0m\u001b[0;34m:\u001b[0m\u001b[0;34m\u001b[0m\u001b[0m\n\u001b[1;32m     23\u001b[0m         \u001b[0mprint\u001b[0m\u001b[0;34m(\u001b[0m\u001b[0;34m\"implemented home loans\"\u001b[0m\u001b[0;34m)\u001b[0m\u001b[0;34m\u001b[0m\u001b[0m\n\u001b[0;32m---> 24\u001b[0;31m \u001b[0msreenagar\u001b[0m \u001b[0;34m=\u001b[0m \u001b[0mICICI\u001b[0m\u001b[0;34m(\u001b[0m\u001b[0;34m)\u001b[0m\u001b[0;34m\u001b[0m\u001b[0m\n\u001b[0m\u001b[1;32m     25\u001b[0m \u001b[0msreenagar\u001b[0m\u001b[0;34m.\u001b[0m\u001b[0mHL\u001b[0m\u001b[0;34m(\u001b[0m\u001b[0;34m)\u001b[0m\u001b[0;34m\u001b[0m\u001b[0m\n\u001b[1;32m     26\u001b[0m \u001b[0msreenagar\u001b[0m\u001b[0;34m.\u001b[0m\u001b[0mRD\u001b[0m\u001b[0;34m(\u001b[0m\u001b[0;34m)\u001b[0m\u001b[0;34m\u001b[0m\u001b[0m\n",
      "\u001b[0;31mTypeError\u001b[0m: Can't instantiate abstract class ICICI with abstract methods RD"
     ]
    }
   ],
   "source": [
    "from abc import ABC,abstractmethod\n",
    "class NotImplemented(Exception):\n",
    "    pass\n",
    "class Bank(ABC):\n",
    "    @abstractmethod\n",
    "    def RD(self):\n",
    "        raise NotImplemented(\"Rd not implemented\")\n",
    "    @abstractmethod\n",
    "    def HL(self):\n",
    "        raise NotImplemented(\"Rd not implemented\")\n",
    "    @abstractmethod\n",
    "    def PL(self):\n",
    "        raise NotImplemented(\"Rd not implemented\")\n",
    "class ICICI(Bank):\n",
    "    def HL(self):\n",
    "        print(\"home loan implemented\")\n",
    "    def PL(self):\n",
    "        print(\"personal loan implemented\")\n",
    "class HDFC(Bank):\n",
    "    def RD(self):\n",
    "        print(\"iplemented recurring deposits\")\n",
    "    def HL(self):\n",
    "        print(\"implemented home loans\")\n",
    "sreenagar = ICICI()\n",
    "sreenagar.HL()\n",
    "sreenagar.RD()"
   ]
  },
  {
   "cell_type": "code",
   "execution_count": 54,
   "metadata": {},
   "outputs": [
    {
     "ename": "TypeError",
     "evalue": "Can't instantiate abstract class ICICI with abstract methods RD",
     "output_type": "error",
     "traceback": [
      "\u001b[0;31m---------------------------------------------------------------------------\u001b[0m",
      "\u001b[0;31mTypeError\u001b[0m                                 Traceback (most recent call last)",
      "\u001b[0;32m<ipython-input-54-1e90bba70eaf>\u001b[0m in \u001b[0;36m<module>\u001b[0;34m()\u001b[0m\n\u001b[1;32m     26\u001b[0m     \u001b[0;32mdef\u001b[0m \u001b[0mHL\u001b[0m\u001b[0;34m(\u001b[0m\u001b[0mself\u001b[0m\u001b[0;34m)\u001b[0m\u001b[0;34m:\u001b[0m\u001b[0;34m\u001b[0m\u001b[0m\n\u001b[1;32m     27\u001b[0m         \u001b[0mprint\u001b[0m\u001b[0;34m(\u001b[0m\u001b[0;34m\"implemented home loans\"\u001b[0m\u001b[0;34m)\u001b[0m\u001b[0;34m\u001b[0m\u001b[0m\n\u001b[0;32m---> 28\u001b[0;31m \u001b[0msreenagar\u001b[0m \u001b[0;34m=\u001b[0m \u001b[0mICICI\u001b[0m\u001b[0;34m(\u001b[0m\u001b[0;34m)\u001b[0m\u001b[0;34m\u001b[0m\u001b[0m\n\u001b[0m\u001b[1;32m     29\u001b[0m \u001b[0msreenagar\u001b[0m\u001b[0;34m.\u001b[0m\u001b[0mHL\u001b[0m\u001b[0;34m(\u001b[0m\u001b[0;34m)\u001b[0m\u001b[0;34m\u001b[0m\u001b[0m\n\u001b[1;32m     30\u001b[0m \u001b[0msreenagar\u001b[0m\u001b[0;34m.\u001b[0m\u001b[0mRD\u001b[0m\u001b[0;34m(\u001b[0m\u001b[0;34m)\u001b[0m\u001b[0;34m\u001b[0m\u001b[0m\n",
      "\u001b[0;31mTypeError\u001b[0m: Can't instantiate abstract class ICICI with abstract methods RD"
     ]
    }
   ],
   "source": [
    "from abc import ABC,abstractmethod\n",
    "class NotImplemented(Exception):\n",
    "    pass\n",
    "class Bank(ABC):\n",
    "    def __init__(self):\n",
    "        pass\n",
    "    @abstractmethod\n",
    "    def RD(self):\n",
    "        raise NotImplemented(\"Rd not implemented\")\n",
    "    @abstractmethod\n",
    "    def HL(self):\n",
    "        raise NotImplemented(\"Rd not implemented\")\n",
    "    @abstractmethod\n",
    "    def PL(self):\n",
    "        raise NotImplemented(\"Rd not implemented\")\n",
    "class ICICI(Bank):\n",
    "    def __init__(self):\n",
    "        pass\n",
    "    def HL(self):\n",
    "        print(\"home loan implemented\")\n",
    "    def PL(self):\n",
    "        print(\"personal loan implemented\")\n",
    "class HDFC(Bank):\n",
    "    def RD(self):\n",
    "        print(\"iplemented recurring deposits\")\n",
    "    def HL(self):\n",
    "        print(\"implemented home loans\")\n",
    "sreenagar = ICICI()\n",
    "sreenagar.HL()\n",
    "sreenagar.RD()"
   ]
  },
  {
   "cell_type": "code",
   "execution_count": 55,
   "metadata": {},
   "outputs": [
    {
     "name": "stdout",
     "output_type": "stream",
     "text": [
      "anil\n",
      "23\n"
     ]
    }
   ],
   "source": [
    "d={\"name\":\"anil\",\"age\":23}\n",
    "print(d.get(\"name\"))\n",
    "print(d.get(\"age\"))"
   ]
  },
  {
   "cell_type": "code",
   "execution_count": 56,
   "metadata": {},
   "outputs": [
    {
     "name": "stdout",
     "output_type": "stream",
     "text": [
      "anil\n",
      "23\n"
     ]
    }
   ],
   "source": [
    "d={\"name\":\"anil\",\"age\":23}\n",
    "_=d.get\n",
    "print(_(\"name\"))\n",
    "print(_(\"age\"))"
   ]
  },
  {
   "cell_type": "code",
   "execution_count": null,
   "metadata": {},
   "outputs": [],
   "source": [
    "#pep8\n",
    "#pylint"
   ]
  }
 ],
 "metadata": {
  "kernelspec": {
   "display_name": "Python 3",
   "language": "python",
   "name": "python3"
  },
  "language_info": {
   "codemirror_mode": {
    "name": "ipython",
    "version": 3
   },
   "file_extension": ".py",
   "mimetype": "text/x-python",
   "name": "python",
   "nbconvert_exporter": "python",
   "pygments_lexer": "ipython3",
   "version": "3.7.0"
  }
 },
 "nbformat": 4,
 "nbformat_minor": 2
}
